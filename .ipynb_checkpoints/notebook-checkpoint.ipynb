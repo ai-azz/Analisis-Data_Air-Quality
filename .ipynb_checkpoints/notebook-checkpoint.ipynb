{
 "cells": [
  {
   "cell_type": "markdown",
   "metadata": {
    "id": "H9wADwK78DCz"
   },
   "source": [
    "# Proyek Analisis Data: Air Quality\n",
    "- **Nama:** Aini Azzah\n",
    "- **Email:** ainiazzah22@gmail.com\n",
    "- **ID Dicoding:** Aini Azzah"
   ]
  },
  {
   "cell_type": "markdown",
   "metadata": {
    "id": "eE0raob58DC0"
   },
   "source": [
    "## Menentukan Pertanyaan Bisnis"
   ]
  },
  {
   "cell_type": "markdown",
   "metadata": {
    "id": "GmQeQ5YF8DC0"
   },
   "source": [
    "- Bagaimana pola temporal dan spasial polutan udara (PM2.5, PM10, SO2, NO2, CO, O3) di berbagai stasiun pemantauan?\n",
    "- Apakah terdapat perbedaan signifikan dalam tingkat polusi udara antara weekdays (hari kerja) dan weekends (akhir pekan) atau antar musim?\n",
    "- Bagaimana pengaruh arah dan kecepatan angin terhadap penyebaran polutan udara?\n",
    "- Apa hubungan antara faktor meteorologi (TEMP, PRES, DEWP, RAIN, wd, WSPM) dengan konsentrasi polutan udara?\n",
    "- Dapatkah kita mengelompokkan hari-hari berdasarkan tingkat kualitas udara, dan apa karakteristik dari setiap kelompok tersebut?"
   ]
  },
  {
   "cell_type": "markdown",
   "metadata": {
    "id": "H-z4QGlO8DC1"
   },
   "source": [
    "## Import Semua Packages/Library yang Digunakan"
   ]
  },
  {
   "cell_type": "code",
   "execution_count": 1,
   "metadata": {
    "id": "FVYwaObI8DC1"
   },
   "outputs": [],
   "source": [
    "import numpy as np\n",
    "import pandas as pd\n",
    "import matplotlib.pyplot as plt\n",
    "import seaborn as sns"
   ]
  },
  {
   "cell_type": "markdown",
   "metadata": {
    "id": "h_Sh51Xy8DC1"
   },
   "source": [
    "## Data Wrangling"
   ]
  },
  {
   "cell_type": "markdown",
   "metadata": {
    "id": "sXU2GBYu8DC1",
    "jp-MarkdownHeadingCollapsed": true
   },
   "source": [
    "### Gathering Data"
   ]
  },
  {
   "cell_type": "code",
   "execution_count": 2,
   "metadata": {
    "id": "zjCBk1BI8DC1"
   },
   "outputs": [
    {
     "name": "stdout",
     "output_type": "stream",
     "text": [
      "Aotizhongxin Station Data\n",
      "   No  year  month  day  hour  PM2.5  PM10   SO2   NO2     CO    O3  TEMP  \\\n",
      "0   1  2013      3    1     0    4.0   4.0   4.0   7.0  300.0  77.0  -0.7   \n",
      "1   2  2013      3    1     1    8.0   8.0   4.0   7.0  300.0  77.0  -1.1   \n",
      "2   3  2013      3    1     2    7.0   7.0   5.0  10.0  300.0  73.0  -1.1   \n",
      "3   4  2013      3    1     3    6.0   6.0  11.0  11.0  300.0  72.0  -1.4   \n",
      "4   5  2013      3    1     4    3.0   3.0  12.0  12.0  300.0  72.0  -2.0   \n",
      "\n",
      "     PRES  DEWP  RAIN   wd  WSPM       station  \n",
      "0  1023.0 -18.8   0.0  NNW   4.4  Aotizhongxin  \n",
      "1  1023.2 -18.2   0.0    N   4.7  Aotizhongxin  \n",
      "2  1023.5 -18.2   0.0  NNW   5.6  Aotizhongxin  \n",
      "3  1024.5 -19.4   0.0   NW   3.1  Aotizhongxin  \n",
      "4  1025.2 -19.5   0.0    N   2.0  Aotizhongxin  \n"
     ]
    }
   ],
   "source": [
    "Aotizhongxin_df = pd.read_csv('data-airQuality/Data_Aotizhongxin.csv')\n",
    "print(\"Aotizhongxin Station Data\")\n",
    "print(Aotizhongxin_df.head())"
   ]
  },
  {
   "cell_type": "code",
   "execution_count": 3,
   "metadata": {},
   "outputs": [
    {
     "name": "stdout",
     "output_type": "stream",
     "text": [
      "Changping Station Data\n",
      "   No  year  month  day  hour  PM2.5  PM10   SO2   NO2     CO    O3  TEMP  \\\n",
      "0   1  2013      3    1     0    3.0   6.0  13.0   7.0  300.0  85.0  -2.3   \n",
      "1   2  2013      3    1     1    3.0   3.0   6.0   6.0  300.0  85.0  -2.5   \n",
      "2   3  2013      3    1     2    3.0   3.0  22.0  13.0  400.0  74.0  -3.0   \n",
      "3   4  2013      3    1     3    3.0   6.0  12.0   8.0  300.0  81.0  -3.6   \n",
      "4   5  2013      3    1     4    3.0   3.0  14.0   8.0  300.0  81.0  -3.5   \n",
      "\n",
      "     PRES  DEWP  RAIN   wd  WSPM    station  \n",
      "0  1020.8 -19.7   0.0    E   0.5  Changping  \n",
      "1  1021.3 -19.0   0.0  ENE   0.7  Changping  \n",
      "2  1021.3 -19.9   0.0  ENE   0.2  Changping  \n",
      "3  1021.8 -19.1   0.0  NNE   1.0  Changping  \n",
      "4  1022.3 -19.4   0.0    N   2.1  Changping  \n"
     ]
    }
   ],
   "source": [
    "Changping_df = pd.read_csv('data-airQuality/Data_Changping.csv')\n",
    "print(\"Changping Station Data\")\n",
    "print(Changping_df.head())"
   ]
  },
  {
   "cell_type": "code",
   "execution_count": 4,
   "metadata": {},
   "outputs": [
    {
     "name": "stdout",
     "output_type": "stream",
     "text": [
      "Dingling Station Data\n",
      "   No  year  month  day  hour  PM2.5  PM10  SO2  NO2     CO    O3  TEMP  \\\n",
      "0   1  2013      3    1     0    4.0   4.0  3.0  NaN  200.0  82.0  -2.3   \n",
      "1   2  2013      3    1     1    7.0   7.0  3.0  NaN  200.0  80.0  -2.5   \n",
      "2   3  2013      3    1     2    5.0   5.0  3.0  2.0  200.0  79.0  -3.0   \n",
      "3   4  2013      3    1     3    6.0   6.0  3.0  NaN  200.0  79.0  -3.6   \n",
      "4   5  2013      3    1     4    5.0   5.0  3.0  NaN  200.0  81.0  -3.5   \n",
      "\n",
      "     PRES  DEWP  RAIN   wd  WSPM   station  \n",
      "0  1020.8 -19.7   0.0    E   0.5  Dingling  \n",
      "1  1021.3 -19.0   0.0  ENE   0.7  Dingling  \n",
      "2  1021.3 -19.9   0.0  ENE   0.2  Dingling  \n",
      "3  1021.8 -19.1   0.0  NNE   1.0  Dingling  \n",
      "4  1022.3 -19.4   0.0    N   2.1  Dingling  \n"
     ]
    }
   ],
   "source": [
    "Dingling_df = pd.read_csv('data-airQuality/Data_Dingling.csv')\n",
    "print(\"Dingling Station Data\")\n",
    "print(Dingling_df.head())"
   ]
  },
  {
   "cell_type": "code",
   "execution_count": 5,
   "metadata": {},
   "outputs": [
    {
     "name": "stdout",
     "output_type": "stream",
     "text": [
      "Dongsi Station Data\n",
      "   No  year  month  day  hour  PM2.5  PM10  SO2   NO2     CO    O3  TEMP  \\\n",
      "0   1  2013      3    1     0    9.0   9.0  3.0  17.0  300.0  89.0  -0.5   \n",
      "1   2  2013      3    1     1    4.0   4.0  3.0  16.0  300.0  88.0  -0.7   \n",
      "2   3  2013      3    1     2    7.0   7.0  NaN  17.0  300.0  60.0  -1.2   \n",
      "3   4  2013      3    1     3    3.0   3.0  5.0  18.0    NaN   NaN  -1.4   \n",
      "4   5  2013      3    1     4    3.0   3.0  7.0   NaN  200.0  84.0  -1.9   \n",
      "\n",
      "     PRES  DEWP  RAIN   wd  WSPM station  \n",
      "0  1024.5 -21.4   0.0  NNW   5.7  Dongsi  \n",
      "1  1025.1 -22.1   0.0   NW   3.9  Dongsi  \n",
      "2  1025.3 -24.6   0.0  NNW   5.3  Dongsi  \n",
      "3  1026.2 -25.5   0.0    N   4.9  Dongsi  \n",
      "4  1027.1 -24.5   0.0  NNW   3.2  Dongsi  \n"
     ]
    }
   ],
   "source": [
    "Dongsi_df = pd.read_csv('data-airQuality/Data_Dongsi.csv')\n",
    "print(\"Dongsi Station Data\")\n",
    "print(Dongsi_df.head())"
   ]
  },
  {
   "cell_type": "code",
   "execution_count": 6,
   "metadata": {},
   "outputs": [
    {
     "name": "stdout",
     "output_type": "stream",
     "text": [
      "Guanyuan Station Data\n",
      "   No  year  month  day  hour  PM2.5  PM10   SO2   NO2     CO    O3  TEMP  \\\n",
      "0   1  2013      3    1     0    4.0   4.0  14.0  20.0  300.0  69.0  -0.7   \n",
      "1   2  2013      3    1     1    4.0   4.0  13.0  17.0  300.0  72.0  -1.1   \n",
      "2   3  2013      3    1     2    3.0   3.0  10.0  19.0  300.0  69.0  -1.1   \n",
      "3   4  2013      3    1     3    3.0   6.0   7.0  24.0  400.0  62.0  -1.4   \n",
      "4   5  2013      3    1     4    3.0   6.0   5.0  14.0  400.0  71.0  -2.0   \n",
      "\n",
      "     PRES  DEWP  RAIN   wd  WSPM   station  \n",
      "0  1023.0 -18.8   0.0  NNW   4.4  Guanyuan  \n",
      "1  1023.2 -18.2   0.0    N   4.7  Guanyuan  \n",
      "2  1023.5 -18.2   0.0  NNW   5.6  Guanyuan  \n",
      "3  1024.5 -19.4   0.0   NW   3.1  Guanyuan  \n",
      "4  1025.2 -19.5   0.0    N   2.0  Guanyuan  \n"
     ]
    }
   ],
   "source": [
    "Guanyuan_df = pd.read_csv('data-airQuality/Data_Guanyuan.csv')\n",
    "print(\"Guanyuan Station Data\")\n",
    "print(Guanyuan_df.head())"
   ]
  },
  {
   "cell_type": "code",
   "execution_count": 7,
   "metadata": {},
   "outputs": [
    {
     "name": "stdout",
     "output_type": "stream",
     "text": [
      "Gucheng Station Data\n",
      "   No  year  month  day  hour  PM2.5  PM10  SO2  NO2     CO    O3  TEMP  \\\n",
      "0   1  2013      3    1     0    6.0  18.0  5.0  NaN  800.0  88.0   0.1   \n",
      "1   2  2013      3    1     1    6.0  15.0  5.0  NaN  800.0  88.0  -0.3   \n",
      "2   3  2013      3    1     2    5.0  18.0  NaN  NaN  700.0  52.0  -0.7   \n",
      "3   4  2013      3    1     3    6.0  20.0  6.0  NaN    NaN   NaN  -1.0   \n",
      "4   5  2013      3    1     4    5.0  17.0  5.0  NaN  600.0  73.0  -1.3   \n",
      "\n",
      "     PRES  DEWP  RAIN   wd  WSPM  station  \n",
      "0  1021.1 -18.6   0.0   NW   4.4  Gucheng  \n",
      "1  1021.5 -19.0   0.0   NW   4.0  Gucheng  \n",
      "2  1021.5 -19.8   0.0  WNW   4.6  Gucheng  \n",
      "3  1022.7 -21.2   0.0    W   2.8  Gucheng  \n",
      "4  1023.0 -21.4   0.0  WNW   3.6  Gucheng  \n"
     ]
    }
   ],
   "source": [
    "Gucheng_df = pd.read_csv('data-airQuality/Data_Gucheng.csv')\n",
    "print(\"Gucheng Station Data\")\n",
    "print(Gucheng_df.head())"
   ]
  },
  {
   "cell_type": "code",
   "execution_count": 8,
   "metadata": {},
   "outputs": [
    {
     "name": "stdout",
     "output_type": "stream",
     "text": [
      "Huairou Station Data\n",
      "   No  year  month  day  hour  PM2.5  PM10  SO2  NO2     CO    O3  TEMP  \\\n",
      "0   1  2013      3    1     0    7.0   7.0  3.0  2.0  100.0  91.0  -2.3   \n",
      "1   2  2013      3    1     1    4.0   4.0  3.0  NaN  100.0  92.0  -2.7   \n",
      "2   3  2013      3    1     2    4.0   4.0  NaN  NaN  100.0  91.0  -3.2   \n",
      "3   4  2013      3    1     3    3.0   3.0  3.0  2.0    NaN   NaN  -3.3   \n",
      "4   5  2013      3    1     4    3.0   3.0  7.0  NaN  300.0  86.0  -4.1   \n",
      "\n",
      "     PRES  DEWP  RAIN   wd  WSPM  station  \n",
      "0  1020.3 -20.7   0.0  WNW   3.1  Huairou  \n",
      "1  1020.8 -20.5   0.0  NNW   1.5  Huairou  \n",
      "2  1020.6 -21.4   0.0   NW   1.8  Huairou  \n",
      "3  1021.3 -23.7   0.0  NNW   2.4  Huairou  \n",
      "4  1022.1 -22.7   0.0  NNW   2.2  Huairou  \n"
     ]
    }
   ],
   "source": [
    "Huairou_df = pd.read_csv('data-airQuality/Data_Huairou.csv')\n",
    "print(\"Huairou Station Data\")\n",
    "print(Huairou_df.head())"
   ]
  },
  {
   "cell_type": "code",
   "execution_count": 9,
   "metadata": {},
   "outputs": [
    {
     "name": "stdout",
     "output_type": "stream",
     "text": [
      "Nongzhanguan Station Data\n",
      "   No  year  month  day  hour  PM2.5  PM10  SO2  NO2     CO    O3  TEMP  \\\n",
      "0   1  2013      3    1     0    7.0   7.0  3.0  2.0  100.0  91.0  -2.3   \n",
      "1   2  2013      3    1     1    4.0   4.0  3.0  NaN  100.0  92.0  -2.7   \n",
      "2   3  2013      3    1     2    4.0   4.0  NaN  NaN  100.0  91.0  -3.2   \n",
      "3   4  2013      3    1     3    3.0   3.0  3.0  2.0    NaN   NaN  -3.3   \n",
      "4   5  2013      3    1     4    3.0   3.0  7.0  NaN  300.0  86.0  -4.1   \n",
      "\n",
      "     PRES  DEWP  RAIN   wd  WSPM  station  \n",
      "0  1020.3 -20.7   0.0  WNW   3.1  Huairou  \n",
      "1  1020.8 -20.5   0.0  NNW   1.5  Huairou  \n",
      "2  1020.6 -21.4   0.0   NW   1.8  Huairou  \n",
      "3  1021.3 -23.7   0.0  NNW   2.4  Huairou  \n",
      "4  1022.1 -22.7   0.0  NNW   2.2  Huairou  \n"
     ]
    }
   ],
   "source": [
    "Nongzhanguan_df = pd.read_csv('data-airQuality/Data_Huairou.csv')\n",
    "print(\"Nongzhanguan Station Data\")\n",
    "print(Nongzhanguan_df.head())"
   ]
  },
  {
   "cell_type": "code",
   "execution_count": 10,
   "metadata": {},
   "outputs": [
    {
     "name": "stdout",
     "output_type": "stream",
     "text": [
      "Shunyi Station Data\n",
      "   No  year  month  day  hour  PM2.5  PM10  SO2  NO2     CO    O3  TEMP  \\\n",
      "0   1  2013      3    1     0    3.0   6.0  3.0  8.0  300.0  44.0  -0.9   \n",
      "1   2  2013      3    1     1   12.0  12.0  3.0  7.0  300.0  47.0  -1.1   \n",
      "2   3  2013      3    1     2   14.0  14.0  NaN  7.0  200.0  22.0  -1.7   \n",
      "3   4  2013      3    1     3   12.0  12.0  3.0  5.0    NaN   NaN  -2.1   \n",
      "4   5  2013      3    1     4   12.0  12.0  3.0  NaN  200.0  11.0  -2.4   \n",
      "\n",
      "     PRES  DEWP  RAIN  wd  WSPM station  \n",
      "0  1025.8 -20.5   0.0  NW   9.3  Shunyi  \n",
      "1  1026.1 -21.3   0.0  NW   9.4  Shunyi  \n",
      "2  1026.2 -23.0   0.0  NW   8.6  Shunyi  \n",
      "3  1027.3 -23.3   0.0  NW   6.6  Shunyi  \n",
      "4  1027.7 -22.9   0.0  NW   4.5  Shunyi  \n"
     ]
    }
   ],
   "source": [
    "Shunyi_df = pd.read_csv('data-airQuality/Data_Shunyi.csv')\n",
    "print(\"Shunyi Station Data\")\n",
    "print(Shunyi_df.head())"
   ]
  },
  {
   "cell_type": "code",
   "execution_count": 11,
   "metadata": {},
   "outputs": [
    {
     "name": "stdout",
     "output_type": "stream",
     "text": [
      "Tiantan Station Data\n",
      "   No  year  month  day  hour  PM2.5  PM10  SO2   NO2     CO    O3  TEMP  \\\n",
      "0   1  2013      3    1     0    6.0   6.0  4.0   8.0  300.0  81.0  -0.5   \n",
      "1   2  2013      3    1     1    6.0  29.0  5.0   9.0  300.0  80.0  -0.7   \n",
      "2   3  2013      3    1     2    6.0   6.0  4.0  12.0  300.0  75.0  -1.2   \n",
      "3   4  2013      3    1     3    6.0   6.0  4.0  12.0  300.0  74.0  -1.4   \n",
      "4   5  2013      3    1     4    5.0   5.0  7.0  15.0  400.0  70.0  -1.9   \n",
      "\n",
      "     PRES  DEWP  RAIN   wd  WSPM  station  \n",
      "0  1024.5 -21.4   0.0  NNW   5.7  Tiantan  \n",
      "1  1025.1 -22.1   0.0   NW   3.9  Tiantan  \n",
      "2  1025.3 -24.6   0.0  NNW   5.3  Tiantan  \n",
      "3  1026.2 -25.5   0.0    N   4.9  Tiantan  \n",
      "4  1027.1 -24.5   0.0  NNW   3.2  Tiantan  \n"
     ]
    }
   ],
   "source": [
    "Tiantan_df = pd.read_csv('data-airQuality/Data_Tiantan.csv')\n",
    "print(\"Tiantan Station Data\")\n",
    "print(Tiantan_df.head())"
   ]
  },
  {
   "cell_type": "code",
   "execution_count": 12,
   "metadata": {},
   "outputs": [
    {
     "name": "stdout",
     "output_type": "stream",
     "text": [
      "Wanliu Station Data\n",
      "   No  year  month  day  hour  PM2.5  PM10  SO2   NO2     CO    O3  TEMP  \\\n",
      "0   1  2013      3    1     0    8.0   8.0  6.0  28.0  400.0  52.0  -0.7   \n",
      "1   2  2013      3    1     1    9.0   9.0  6.0  28.0  400.0  50.0  -1.1   \n",
      "2   3  2013      3    1     2    3.0   6.0  NaN  19.0  400.0  55.0  -1.1   \n",
      "3   4  2013      3    1     3   11.0  30.0  8.0  14.0    NaN   NaN  -1.4   \n",
      "4   5  2013      3    1     4    3.0  13.0  9.0   NaN  300.0  54.0  -2.0   \n",
      "\n",
      "     PRES  DEWP  RAIN   wd  WSPM station  \n",
      "0  1023.0 -18.8   0.0  NNW   4.4  Wanliu  \n",
      "1  1023.2 -18.2   0.0    N   4.7  Wanliu  \n",
      "2  1023.5 -18.2   0.0  NNW   5.6  Wanliu  \n",
      "3  1024.5 -19.4   0.0   NW   3.1  Wanliu  \n",
      "4  1025.2 -19.5   0.0    N   2.0  Wanliu  \n"
     ]
    }
   ],
   "source": [
    "Wanliu_df = pd.read_csv('data-airQuality/Data_Wanliu.csv')\n",
    "print(\"Wanliu Station Data\")\n",
    "print(Wanliu_df.head())"
   ]
  },
  {
   "cell_type": "code",
   "execution_count": 13,
   "metadata": {},
   "outputs": [
    {
     "name": "stdout",
     "output_type": "stream",
     "text": [
      "Wanshouxigong Station Data\n",
      "   No  year  month  day  hour  PM2.5  PM10  SO2   NO2     CO    O3  TEMP  \\\n",
      "0   1  2013      3    1     0    9.0   9.0  6.0  17.0  200.0  62.0   0.3   \n",
      "1   2  2013      3    1     1   11.0  11.0  7.0  14.0  200.0  66.0  -0.1   \n",
      "2   3  2013      3    1     2    8.0   8.0  NaN  16.0  200.0  59.0  -0.6   \n",
      "3   4  2013      3    1     3    8.0   8.0  3.0  16.0    NaN   NaN  -0.7   \n",
      "4   5  2013      3    1     4    8.0   8.0  3.0   NaN  300.0  36.0  -0.9   \n",
      "\n",
      "     PRES  DEWP  RAIN   wd  WSPM        station  \n",
      "0  1021.9 -19.0   0.0  WNW   2.0  Wanshouxigong  \n",
      "1  1022.4 -19.3   0.0  WNW   4.4  Wanshouxigong  \n",
      "2  1022.6 -19.7   0.0  WNW   4.7  Wanshouxigong  \n",
      "3  1023.5 -20.9   0.0   NW   2.6  Wanshouxigong  \n",
      "4  1024.1 -21.7   0.0  WNW   2.5  Wanshouxigong  \n"
     ]
    }
   ],
   "source": [
    "Wanshouxigong_df = pd.read_csv('data-airQuality/Data_Wanshouxigong.csv')\n",
    "print(\"Wanshouxigong Station Data\")\n",
    "print(Wanshouxigong_df.head())"
   ]
  },
  {
   "cell_type": "markdown",
   "metadata": {
    "id": "MMi6xGaDkbCi"
   },
   "source": [
    "**Insight Gathering Data :**\n",
    "\n",
    "*Tujuan*\n",
    "- Mengimpor file `.csv` dari setiap stasiun pemantauan udara.\n",
    "- Memastikan setiap data yang diimpor sesuai dengan struktur dan format yang diharapkan.\n",
    "- Mengamati beberapa baris awal setiap dataset untuk inspeksi awal.\n",
    "\n",
    "*Tahapan*\n",
    "- Data dari berbagai stasiun dikumpulkan menggunakan fungsi `pd.read_csv()` dari library Pandas.\n",
    "- Proses ini memastikan data dapat diakses untuk tahapan-tahapan selanjutnya, data cleaning, merging, atau exploratory analysis.\n",
    "- Menampilkan 5 baris awal data dengan `head()` untuk memberikan gambaran awal tentang struktur data, seperti apakah ada missing values, atau apakah semua kolom tersedia.\n",
    "\n",
    "*Insight tahap gathering data*\n",
    "- Dari hasil data yang telah ditampilkan, bisa dilihat dan diperhatikan mengenai apakah missing values pada data.\n",
    "- Menentukan apakah format waktu (tahun, bulan, hari, jam) sudah teratur dan apakah kolom kualitas udara (PM.25, PM10, SO2, dll.) memiliki data yang masuk akal atau tidak."
   ]
  },
  {
   "cell_type": "markdown",
   "metadata": {
    "id": "FHSiqaZp8DC1",
    "jp-MarkdownHeadingCollapsed": true
   },
   "source": [
    "### Assessing Data"
   ]
  },
  {
   "cell_type": "markdown",
   "metadata": {
    "id": "ax-3tEjc9Cj1",
    "jp-MarkdownHeadingCollapsed": true
   },
   "source": [
    "#### Menilai Data Aotizhongxin_df"
   ]
  },
  {
   "cell_type": "code",
   "execution_count": 14,
   "metadata": {},
   "outputs": [
    {
     "name": "stdout",
     "output_type": "stream",
     "text": [
      "<class 'pandas.core.frame.DataFrame'>\n",
      "RangeIndex: 35064 entries, 0 to 35063\n",
      "Data columns (total 18 columns):\n",
      " #   Column   Non-Null Count  Dtype  \n",
      "---  ------   --------------  -----  \n",
      " 0   No       35064 non-null  int64  \n",
      " 1   year     35064 non-null  int64  \n",
      " 2   month    35064 non-null  int64  \n",
      " 3   day      35064 non-null  int64  \n",
      " 4   hour     35064 non-null  int64  \n",
      " 5   PM2.5    34139 non-null  float64\n",
      " 6   PM10     34346 non-null  float64\n",
      " 7   SO2      34129 non-null  float64\n",
      " 8   NO2      34041 non-null  float64\n",
      " 9   CO       33288 non-null  float64\n",
      " 10  O3       33345 non-null  float64\n",
      " 11  TEMP     35044 non-null  float64\n",
      " 12  PRES     35044 non-null  float64\n",
      " 13  DEWP     35044 non-null  float64\n",
      " 14  RAIN     35044 non-null  float64\n",
      " 15  wd       34983 non-null  object \n",
      " 16  WSPM     35050 non-null  float64\n",
      " 17  station  35064 non-null  object \n",
      "dtypes: float64(11), int64(5), object(2)\n",
      "memory usage: 4.8+ MB\n"
     ]
    }
   ],
   "source": [
    "Aotizhongxin_df.info()"
   ]
  },
  {
   "cell_type": "markdown",
   "metadata": {},
   "source": [
    "*temporary insight*\n",
    "- **Tipe data sudah sesuai untuk setiap kolom**\n",
    "\n",
    "  Kolom `int64` (year, month, day, hour, No) berisi nilai numerik sesuai untuk representasi tahun, bulan, hari, dan jam.\n",
    "\n",
    "  Kolom `float64` (PM2.5, PM10, SO2, NO2, CO, O3, TEMP, PRES, DEWP, RAIN, WSPM) tepat untuk berisi nilai numerik yang mungkin mengandung nilai decimal yang cocok dengan nilai polutan dan faktor meteorologi.\n",
    "\n",
    "\n",
    "  Kolom `object` (wd) arah angin merupakan tipe data yang cocok untuk tipe object karena biasanya berisi nilai kategoris seperti \"N\", \"S\", \"E\", \"W\", atau kombinasi dan (station) berisi nama stasiun yang logis untuk tipe data object atau string.\n",
    "\n",
    "- **Terdapat Missing Values**, pada beberapa kolom terutama kolom polutan seperti PM2.5, PM10, SO2, NO2, CO, O3, yang perlu diperbaiki atau diatasi sebelum melanjutkan ke analisis lebih lanjut. Untuk memastikan hal ini bisa menjalankan kode berikut `Aotizhongxin_df.isna().sum()`"
   ]
  },
  {
   "cell_type": "code",
   "execution_count": 15,
   "metadata": {},
   "outputs": [
    {
     "data": {
      "text/plain": [
       "No            0\n",
       "year          0\n",
       "month         0\n",
       "day           0\n",
       "hour          0\n",
       "PM2.5       925\n",
       "PM10        718\n",
       "SO2         935\n",
       "NO2        1023\n",
       "CO         1776\n",
       "O3         1719\n",
       "TEMP         20\n",
       "PRES         20\n",
       "DEWP         20\n",
       "RAIN         20\n",
       "wd           81\n",
       "WSPM         14\n",
       "station       0\n",
       "dtype: int64"
      ]
     },
     "execution_count": 15,
     "metadata": {},
     "output_type": "execute_result"
    }
   ],
   "source": [
    "Aotizhongxin_df.isna().sum()"
   ]
  },
  {
   "cell_type": "markdown",
   "metadata": {},
   "source": [
    "*temporary insight*\n",
    "\n",
    "Berdasarkan output yang diberikan, terdapat beberapa kolom yang memiliki jumlah data non-null yang berbeda, menunjukkan adanya missing values. Kolom yang bermasalah adalah:\n",
    "\n",
    "- PM2.5: Terdapat 34139 non-null dari 35064, berarti ada 925 missing values.\n",
    "- PM10: Terdapat 34346 non-null dari 35064, berarti ada 718 missing values.\n",
    "- SO2: Terdapat 34129 non-null dari 35064, berarti ada 935 missing values.\n",
    "- NO2: Terdapat 34041 non-null dari 35064, berarti ada 1023 missing values.\n",
    "- CO: Terdapat 33288 non-null dari 35064, berarti ada 1776 missing values.\n",
    "- O3: Terdapat 33345 non-null dari 35064, berarti ada 1719 missing values.\n",
    "- TEMP, PRES, DEWP, RAIN: Hampir semua lengkap, dengan hanya 20 missing values per kolom.\n",
    "- wd (wind direction): Terdapat 34983 non-null dari 35064, berarti ada 81 missing values.\n",
    "- WSPM (wind speed): Terdapat 35050 non-null dari 35064, berarti ada 14 missing values."
   ]
  },
  {
   "cell_type": "code",
   "execution_count": 16,
   "metadata": {},
   "outputs": [
    {
     "name": "stdout",
     "output_type": "stream",
     "text": [
      "Jumlah duplikasi data Aotizhongxin_df :  0\n"
     ]
    }
   ],
   "source": [
    "print(\"Jumlah duplikasi data Aotizhongxin_df : \", Aotizhongxin_df.duplicated().sum())"
   ]
  },
  {
   "cell_type": "markdown",
   "metadata": {},
   "source": [
    "*temporary insight*\n",
    "\n",
    "Dari kode pengecekan duplikasi data di atas, **tidak ditemukan** adanya **duplikasi data** pada data Aotizhongxin_df tersebut."
   ]
  },
  {
   "cell_type": "code",
   "execution_count": 17,
   "metadata": {},
   "outputs": [
    {
     "data": {
      "text/html": [
       "<div>\n",
       "<style scoped>\n",
       "    .dataframe tbody tr th:only-of-type {\n",
       "        vertical-align: middle;\n",
       "    }\n",
       "\n",
       "    .dataframe tbody tr th {\n",
       "        vertical-align: top;\n",
       "    }\n",
       "\n",
       "    .dataframe thead th {\n",
       "        text-align: right;\n",
       "    }\n",
       "</style>\n",
       "<table border=\"1\" class=\"dataframe\">\n",
       "  <thead>\n",
       "    <tr style=\"text-align: right;\">\n",
       "      <th></th>\n",
       "      <th>No</th>\n",
       "      <th>year</th>\n",
       "      <th>month</th>\n",
       "      <th>day</th>\n",
       "      <th>hour</th>\n",
       "      <th>PM2.5</th>\n",
       "      <th>PM10</th>\n",
       "      <th>SO2</th>\n",
       "      <th>NO2</th>\n",
       "      <th>CO</th>\n",
       "      <th>O3</th>\n",
       "      <th>TEMP</th>\n",
       "      <th>PRES</th>\n",
       "      <th>DEWP</th>\n",
       "      <th>RAIN</th>\n",
       "      <th>WSPM</th>\n",
       "    </tr>\n",
       "  </thead>\n",
       "  <tbody>\n",
       "    <tr>\n",
       "      <th>count</th>\n",
       "      <td>35064.000000</td>\n",
       "      <td>35064.000000</td>\n",
       "      <td>35064.000000</td>\n",
       "      <td>35064.000000</td>\n",
       "      <td>35064.000000</td>\n",
       "      <td>34139.000000</td>\n",
       "      <td>34346.000000</td>\n",
       "      <td>34129.000000</td>\n",
       "      <td>34041.000000</td>\n",
       "      <td>33288.000000</td>\n",
       "      <td>33345.000000</td>\n",
       "      <td>35044.000000</td>\n",
       "      <td>35044.000000</td>\n",
       "      <td>35044.000000</td>\n",
       "      <td>35044.000000</td>\n",
       "      <td>35050.000000</td>\n",
       "    </tr>\n",
       "    <tr>\n",
       "      <th>mean</th>\n",
       "      <td>17532.500000</td>\n",
       "      <td>2014.662560</td>\n",
       "      <td>6.522930</td>\n",
       "      <td>15.729637</td>\n",
       "      <td>11.500000</td>\n",
       "      <td>82.773611</td>\n",
       "      <td>110.060391</td>\n",
       "      <td>17.375901</td>\n",
       "      <td>59.305833</td>\n",
       "      <td>1262.945145</td>\n",
       "      <td>56.353358</td>\n",
       "      <td>13.584607</td>\n",
       "      <td>1011.846920</td>\n",
       "      <td>3.123062</td>\n",
       "      <td>0.067421</td>\n",
       "      <td>1.708496</td>\n",
       "    </tr>\n",
       "    <tr>\n",
       "      <th>std</th>\n",
       "      <td>10122.249256</td>\n",
       "      <td>1.177213</td>\n",
       "      <td>3.448752</td>\n",
       "      <td>8.800218</td>\n",
       "      <td>6.922285</td>\n",
       "      <td>82.135694</td>\n",
       "      <td>95.223005</td>\n",
       "      <td>22.823017</td>\n",
       "      <td>37.116200</td>\n",
       "      <td>1221.436236</td>\n",
       "      <td>57.916327</td>\n",
       "      <td>11.399097</td>\n",
       "      <td>10.404047</td>\n",
       "      <td>13.688896</td>\n",
       "      <td>0.910056</td>\n",
       "      <td>1.204071</td>\n",
       "    </tr>\n",
       "    <tr>\n",
       "      <th>min</th>\n",
       "      <td>1.000000</td>\n",
       "      <td>2013.000000</td>\n",
       "      <td>1.000000</td>\n",
       "      <td>1.000000</td>\n",
       "      <td>0.000000</td>\n",
       "      <td>3.000000</td>\n",
       "      <td>2.000000</td>\n",
       "      <td>0.285600</td>\n",
       "      <td>2.000000</td>\n",
       "      <td>100.000000</td>\n",
       "      <td>0.214200</td>\n",
       "      <td>-16.800000</td>\n",
       "      <td>985.900000</td>\n",
       "      <td>-35.300000</td>\n",
       "      <td>0.000000</td>\n",
       "      <td>0.000000</td>\n",
       "    </tr>\n",
       "    <tr>\n",
       "      <th>25%</th>\n",
       "      <td>8766.750000</td>\n",
       "      <td>2014.000000</td>\n",
       "      <td>4.000000</td>\n",
       "      <td>8.000000</td>\n",
       "      <td>5.750000</td>\n",
       "      <td>22.000000</td>\n",
       "      <td>38.000000</td>\n",
       "      <td>3.000000</td>\n",
       "      <td>30.000000</td>\n",
       "      <td>500.000000</td>\n",
       "      <td>8.000000</td>\n",
       "      <td>3.100000</td>\n",
       "      <td>1003.300000</td>\n",
       "      <td>-8.100000</td>\n",
       "      <td>0.000000</td>\n",
       "      <td>0.900000</td>\n",
       "    </tr>\n",
       "    <tr>\n",
       "      <th>50%</th>\n",
       "      <td>17532.500000</td>\n",
       "      <td>2015.000000</td>\n",
       "      <td>7.000000</td>\n",
       "      <td>16.000000</td>\n",
       "      <td>11.500000</td>\n",
       "      <td>58.000000</td>\n",
       "      <td>87.000000</td>\n",
       "      <td>9.000000</td>\n",
       "      <td>53.000000</td>\n",
       "      <td>900.000000</td>\n",
       "      <td>42.000000</td>\n",
       "      <td>14.500000</td>\n",
       "      <td>1011.400000</td>\n",
       "      <td>3.800000</td>\n",
       "      <td>0.000000</td>\n",
       "      <td>1.400000</td>\n",
       "    </tr>\n",
       "    <tr>\n",
       "      <th>75%</th>\n",
       "      <td>26298.250000</td>\n",
       "      <td>2016.000000</td>\n",
       "      <td>10.000000</td>\n",
       "      <td>23.000000</td>\n",
       "      <td>17.250000</td>\n",
       "      <td>114.000000</td>\n",
       "      <td>155.000000</td>\n",
       "      <td>21.000000</td>\n",
       "      <td>82.000000</td>\n",
       "      <td>1500.000000</td>\n",
       "      <td>82.000000</td>\n",
       "      <td>23.300000</td>\n",
       "      <td>1020.100000</td>\n",
       "      <td>15.600000</td>\n",
       "      <td>0.000000</td>\n",
       "      <td>2.200000</td>\n",
       "    </tr>\n",
       "    <tr>\n",
       "      <th>max</th>\n",
       "      <td>35064.000000</td>\n",
       "      <td>2017.000000</td>\n",
       "      <td>12.000000</td>\n",
       "      <td>31.000000</td>\n",
       "      <td>23.000000</td>\n",
       "      <td>898.000000</td>\n",
       "      <td>984.000000</td>\n",
       "      <td>341.000000</td>\n",
       "      <td>290.000000</td>\n",
       "      <td>10000.000000</td>\n",
       "      <td>423.000000</td>\n",
       "      <td>40.500000</td>\n",
       "      <td>1042.000000</td>\n",
       "      <td>28.500000</td>\n",
       "      <td>72.500000</td>\n",
       "      <td>11.200000</td>\n",
       "    </tr>\n",
       "  </tbody>\n",
       "</table>\n",
       "</div>"
      ],
      "text/plain": [
       "                 No          year         month           day          hour  \\\n",
       "count  35064.000000  35064.000000  35064.000000  35064.000000  35064.000000   \n",
       "mean   17532.500000   2014.662560      6.522930     15.729637     11.500000   \n",
       "std    10122.249256      1.177213      3.448752      8.800218      6.922285   \n",
       "min        1.000000   2013.000000      1.000000      1.000000      0.000000   \n",
       "25%     8766.750000   2014.000000      4.000000      8.000000      5.750000   \n",
       "50%    17532.500000   2015.000000      7.000000     16.000000     11.500000   \n",
       "75%    26298.250000   2016.000000     10.000000     23.000000     17.250000   \n",
       "max    35064.000000   2017.000000     12.000000     31.000000     23.000000   \n",
       "\n",
       "              PM2.5          PM10           SO2           NO2            CO  \\\n",
       "count  34139.000000  34346.000000  34129.000000  34041.000000  33288.000000   \n",
       "mean      82.773611    110.060391     17.375901     59.305833   1262.945145   \n",
       "std       82.135694     95.223005     22.823017     37.116200   1221.436236   \n",
       "min        3.000000      2.000000      0.285600      2.000000    100.000000   \n",
       "25%       22.000000     38.000000      3.000000     30.000000    500.000000   \n",
       "50%       58.000000     87.000000      9.000000     53.000000    900.000000   \n",
       "75%      114.000000    155.000000     21.000000     82.000000   1500.000000   \n",
       "max      898.000000    984.000000    341.000000    290.000000  10000.000000   \n",
       "\n",
       "                 O3          TEMP          PRES          DEWP          RAIN  \\\n",
       "count  33345.000000  35044.000000  35044.000000  35044.000000  35044.000000   \n",
       "mean      56.353358     13.584607   1011.846920      3.123062      0.067421   \n",
       "std       57.916327     11.399097     10.404047     13.688896      0.910056   \n",
       "min        0.214200    -16.800000    985.900000    -35.300000      0.000000   \n",
       "25%        8.000000      3.100000   1003.300000     -8.100000      0.000000   \n",
       "50%       42.000000     14.500000   1011.400000      3.800000      0.000000   \n",
       "75%       82.000000     23.300000   1020.100000     15.600000      0.000000   \n",
       "max      423.000000     40.500000   1042.000000     28.500000     72.500000   \n",
       "\n",
       "               WSPM  \n",
       "count  35050.000000  \n",
       "mean       1.708496  \n",
       "std        1.204071  \n",
       "min        0.000000  \n",
       "25%        0.900000  \n",
       "50%        1.400000  \n",
       "75%        2.200000  \n",
       "max       11.200000  "
      ]
     },
     "execution_count": 17,
     "metadata": {},
     "output_type": "execute_result"
    }
   ],
   "source": [
    "Aotizhongxin_df.describe()"
   ]
  },
  {
   "cell_type": "markdown",
   "metadata": {},
   "source": [
    "*temporary insight*\n",
    "\n",
    "Dari informasi yang ditampilkan, ditemukan beberapa anomali atau inaccurate values yang mungkin perlu penanganan lebih lanjut di tahapan cleaning data:\n",
    "- PM2.5 dan PM10: Ada nilai maksimum yang sangat tinggi, yang mungkin merupakan outlier dan perlu penanganan.\n",
    "\n",
    "  Yang mana Max (898.000000): Nilai ini sangat tinggi, mengingat konsentrasi PM2.5 yang dianggap berbahaya umumnya di atas 250 µg/m³. Nilai ini tidak sepenuhnya tidak mungkin, tetapi perlu dievaluasi lebih lanjut untuk melihat apakah ada outlier yang ekstrem.\n",
    "\n",
    "  Dan pada PM10 dengan Max (984.000000): Ini adalah nilai yang sangat tinggi, bahkan untuk polusi berat. PM10 di atas 500 µg/m³ sudah jarang ditemui, sehingga angka ini bisa menjadi anomali atau outlier.\n",
    "\n",
    "  \n",
    "- SO2, NO2, O3: Nilai maksimum cukup tinggi tetapi masih dalam batas yang mungkin. Namun, mereka perlu diperiksa untuk outlier.\n",
    "\n",
    "  Max (341.000000) pada SO2 merupakan nilai yang sangat tinggi untuk sulfur dioksida (SO2), mengingat nilai SO2 di atas 200 µg/m³ sudah termasuk sangat tinggi. Namun, masih dalam batas yang mungkin terjadi dalam situasi polusi ekstrem.\n",
    "\n",
    "  Untuk NO2 dengan Max (290.000000), angka ini bisa dibilang cukup tinggi, tetapi masih dalam batas yang bisa diterima pada kasus polusi berat. Di beberapa daerah, NO2 memang dapat mencapai angka seperti ini.\n",
    "\n",
    "    Nilai Max O3 (Ozon) adalah (423.000000), ini adalah nilai yang tinggi untuk ozon, tetapi masih mungkin untuk kondisi polusi berat.\n",
    "\n",
    "\n",
    "- CO (Karbon Monoksida): Nilai maksimum dan minimum tampak sangat tidak masuk akal dan harus diperiksa lebih lanjut. Ini mungkin kesalahan data.\n",
    "\n",
    "  Max (10000.000000): Nilai ini sangat aneh dan mungkin merupakan inaccurate value. Konsentrasi karbon monoksida (CO) biasanya diukur dalam satuan mg/m³ dan nilai maksimal yang realistis adalah sekitar 50 mg/m³ di udara yang sangat tercemar. Nilai ini tampaknya salah dan memerlukan pengecekan lebih lanjut.\n",
    "\n",
    "  Min (100.000000): Ini juga tampaknya merupakan kesalahan pengukuran karena nilai minimal yang masuk akal untuk CO biasanya berada di bawah 10 mg/m³."
   ]
  },
  {
   "cell_type": "markdown",
   "metadata": {
    "jp-MarkdownHeadingCollapsed": true
   },
   "source": [
    "#### Menilai Data Changping_df"
   ]
  },
  {
   "cell_type": "code",
   "execution_count": 18,
   "metadata": {},
   "outputs": [
    {
     "name": "stdout",
     "output_type": "stream",
     "text": [
      "<class 'pandas.core.frame.DataFrame'>\n",
      "RangeIndex: 35064 entries, 0 to 35063\n",
      "Data columns (total 18 columns):\n",
      " #   Column   Non-Null Count  Dtype  \n",
      "---  ------   --------------  -----  \n",
      " 0   No       35064 non-null  int64  \n",
      " 1   year     35064 non-null  int64  \n",
      " 2   month    35064 non-null  int64  \n",
      " 3   day      35064 non-null  int64  \n",
      " 4   hour     35064 non-null  int64  \n",
      " 5   PM2.5    34290 non-null  float64\n",
      " 6   PM10     34482 non-null  float64\n",
      " 7   SO2      34436 non-null  float64\n",
      " 8   NO2      34397 non-null  float64\n",
      " 9   CO       33543 non-null  float64\n",
      " 10  O3       34460 non-null  float64\n",
      " 11  TEMP     35011 non-null  float64\n",
      " 12  PRES     35014 non-null  float64\n",
      " 13  DEWP     35011 non-null  float64\n",
      " 14  RAIN     35013 non-null  float64\n",
      " 15  wd       34924 non-null  object \n",
      " 16  WSPM     35021 non-null  float64\n",
      " 17  station  35064 non-null  object \n",
      "dtypes: float64(11), int64(5), object(2)\n",
      "memory usage: 4.8+ MB\n"
     ]
    }
   ],
   "source": [
    "Changping_df.info()"
   ]
  },
  {
   "cell_type": "markdown",
   "metadata": {},
   "source": [
    "*temporary insight*\n",
    "- **Tipe data sudah sesuai untuk setiap kolom**\n",
    "\n",
    "  Tipe data sudah sesuai dengan jenis kolom masing-masing. Tidak ada kolom yang tampaknya memiliki tipe data yang tidak tepat.\n",
    "\n",
    "- **Terdapat Missing Values**\n",
    "\n",
    "  Pada beberapa kolom Kolom polutan udara menunjukkan adanya missing values yang signifikan, terutama pada kolom CO yang memiliki lebih dari 1,500 missing values.\n",
    "\n",
    "  Kolom meteorologi seperti TEMP, PRES, DEWP, dan RAIN juga memiliki missing values, tetapi jumlahnya relatif kecil (di bawah 100 data yang hilang).\n",
    "\n",
    "  Untuk memastikan hal ini bisa menjalankan kode berikut `Changping_df.isna().sum()`"
   ]
  },
  {
   "cell_type": "code",
   "execution_count": 19,
   "metadata": {},
   "outputs": [
    {
     "data": {
      "text/plain": [
       "No            0\n",
       "year          0\n",
       "month         0\n",
       "day           0\n",
       "hour          0\n",
       "PM2.5       774\n",
       "PM10        582\n",
       "SO2         628\n",
       "NO2         667\n",
       "CO         1521\n",
       "O3          604\n",
       "TEMP         53\n",
       "PRES         50\n",
       "DEWP         53\n",
       "RAIN         51\n",
       "wd          140\n",
       "WSPM         43\n",
       "station       0\n",
       "dtype: int64"
      ]
     },
     "execution_count": 19,
     "metadata": {},
     "output_type": "execute_result"
    }
   ],
   "source": [
    "Changping_df.isna().sum()"
   ]
  },
  {
   "cell_type": "markdown",
   "metadata": {},
   "source": [
    "*temporary insight*\n",
    "\n",
    "Beberapa kolom menunjukkan bahwa mereka memiliki jumlah data yang berbeda-beda, yang berarti terdapat missing values di beberapa kolom. Berikut analisisnya:\n",
    "\n",
    "- Kolom Polutan Udara:\n",
    "  - PM2.5: Terdapat 34,290 data yang tidak null dari total 35,064, yang berarti ada 774 missing values.\n",
    "  - PM10: Terdapat 34,482 data yang tidak null dari total 35,064, yang berarti ada 582 missing values.\n",
    "  - SO2: Terdapat 34,436 data yang tidak null dari total 35,064, yang berarti ada 628 missing values.\n",
    "  - NO2: Terdapat 34,397 data yang tidak null dari total 35,064, yang berarti ada 667 missing values.\n",
    "  - CO: Terdapat 33,543 data yang tidak null dari total 35,064, yang berarti ada 1,521 missing values. Kolom ini memiliki lebih banyak missing values dibandingkan kolom lainnya.\n",
    "  - O3: Terdapat 34,460 data yang tidak null dari total 35,064, yang berarti ada 604 missing values.\n",
    "\n",
    "\n",
    "- Kolom Faktor Meteorologi:\n",
    "\n",
    "  - TEMP: Terdapat 35,011 data yang tidak null dari total 35,064, yang berarti ada 53 missing values.\n",
    "  - PRES: Terdapat 35,014 data yang tidak null dari total 35,064, yang berarti ada 50 missing values.\n",
    "  - DEWP: Terdapat 35,011 data yang tidak null dari total 35,064, yang berarti ada 53 missing values.\n",
    "  - RAIN: Terdapat 35,013 data yang tidak null dari total 35,064, yang berarti ada 51 missing values.\n",
    "  - WSPM: Terdapat 35,021 data yang tidak null dari total 35,064, yang berarti ada 43 missing values.\n",
    "\n",
    "\n",
    "- Kolom wd (Wind Direction): Terdapat 34,924 data yang tidak null dari total 35,064, yang berarti ada 140 missing values."
   ]
  },
  {
   "cell_type": "code",
   "execution_count": 20,
   "metadata": {},
   "outputs": [
    {
     "name": "stdout",
     "output_type": "stream",
     "text": [
      "Jumlah duplikasi data Aotizhongxin_df :  0\n"
     ]
    }
   ],
   "source": [
    "print(\"Jumlah duplikasi data Aotizhongxin_df : \", Changping_df.duplicated().sum())"
   ]
  },
  {
   "cell_type": "markdown",
   "metadata": {},
   "source": [
    "*temporary insight*\n",
    "\n",
    "Dari kode pengecekan duplikasi data di atas, **tidak ditemukan** adanya **duplikasi data** pada data Changping_df tersebut."
   ]
  },
  {
   "cell_type": "code",
   "execution_count": 21,
   "metadata": {},
   "outputs": [
    {
     "data": {
      "text/html": [
       "<div>\n",
       "<style scoped>\n",
       "    .dataframe tbody tr th:only-of-type {\n",
       "        vertical-align: middle;\n",
       "    }\n",
       "\n",
       "    .dataframe tbody tr th {\n",
       "        vertical-align: top;\n",
       "    }\n",
       "\n",
       "    .dataframe thead th {\n",
       "        text-align: right;\n",
       "    }\n",
       "</style>\n",
       "<table border=\"1\" class=\"dataframe\">\n",
       "  <thead>\n",
       "    <tr style=\"text-align: right;\">\n",
       "      <th></th>\n",
       "      <th>No</th>\n",
       "      <th>year</th>\n",
       "      <th>month</th>\n",
       "      <th>day</th>\n",
       "      <th>hour</th>\n",
       "      <th>PM2.5</th>\n",
       "      <th>PM10</th>\n",
       "      <th>SO2</th>\n",
       "      <th>NO2</th>\n",
       "      <th>CO</th>\n",
       "      <th>O3</th>\n",
       "      <th>TEMP</th>\n",
       "      <th>PRES</th>\n",
       "      <th>DEWP</th>\n",
       "      <th>RAIN</th>\n",
       "      <th>WSPM</th>\n",
       "    </tr>\n",
       "  </thead>\n",
       "  <tbody>\n",
       "    <tr>\n",
       "      <th>count</th>\n",
       "      <td>35064.000000</td>\n",
       "      <td>35064.000000</td>\n",
       "      <td>35064.000000</td>\n",
       "      <td>35064.000000</td>\n",
       "      <td>35064.000000</td>\n",
       "      <td>34290.000000</td>\n",
       "      <td>34482.000000</td>\n",
       "      <td>34436.000000</td>\n",
       "      <td>34397.000000</td>\n",
       "      <td>33543.000000</td>\n",
       "      <td>34460.000000</td>\n",
       "      <td>35011.000000</td>\n",
       "      <td>35014.000000</td>\n",
       "      <td>35011.000000</td>\n",
       "      <td>35013.000000</td>\n",
       "      <td>35021.000000</td>\n",
       "    </tr>\n",
       "    <tr>\n",
       "      <th>mean</th>\n",
       "      <td>17532.500000</td>\n",
       "      <td>2014.662560</td>\n",
       "      <td>6.522930</td>\n",
       "      <td>15.729637</td>\n",
       "      <td>11.500000</td>\n",
       "      <td>71.099743</td>\n",
       "      <td>94.657871</td>\n",
       "      <td>14.958906</td>\n",
       "      <td>44.182086</td>\n",
       "      <td>1152.301345</td>\n",
       "      <td>57.940003</td>\n",
       "      <td>13.686111</td>\n",
       "      <td>1007.760278</td>\n",
       "      <td>1.505495</td>\n",
       "      <td>0.060366</td>\n",
       "      <td>1.853836</td>\n",
       "    </tr>\n",
       "    <tr>\n",
       "      <th>std</th>\n",
       "      <td>10122.249256</td>\n",
       "      <td>1.177213</td>\n",
       "      <td>3.448752</td>\n",
       "      <td>8.800218</td>\n",
       "      <td>6.922285</td>\n",
       "      <td>72.326926</td>\n",
       "      <td>83.441738</td>\n",
       "      <td>20.975331</td>\n",
       "      <td>29.519796</td>\n",
       "      <td>1103.056282</td>\n",
       "      <td>54.316674</td>\n",
       "      <td>11.365313</td>\n",
       "      <td>10.225664</td>\n",
       "      <td>13.822099</td>\n",
       "      <td>0.752899</td>\n",
       "      <td>1.309808</td>\n",
       "    </tr>\n",
       "    <tr>\n",
       "      <th>min</th>\n",
       "      <td>1.000000</td>\n",
       "      <td>2013.000000</td>\n",
       "      <td>1.000000</td>\n",
       "      <td>1.000000</td>\n",
       "      <td>0.000000</td>\n",
       "      <td>2.000000</td>\n",
       "      <td>2.000000</td>\n",
       "      <td>0.285600</td>\n",
       "      <td>1.847700</td>\n",
       "      <td>100.000000</td>\n",
       "      <td>0.214200</td>\n",
       "      <td>-16.600000</td>\n",
       "      <td>982.400000</td>\n",
       "      <td>-35.100000</td>\n",
       "      <td>0.000000</td>\n",
       "      <td>0.000000</td>\n",
       "    </tr>\n",
       "    <tr>\n",
       "      <th>25%</th>\n",
       "      <td>8766.750000</td>\n",
       "      <td>2014.000000</td>\n",
       "      <td>4.000000</td>\n",
       "      <td>8.000000</td>\n",
       "      <td>5.750000</td>\n",
       "      <td>18.000000</td>\n",
       "      <td>34.000000</td>\n",
       "      <td>2.000000</td>\n",
       "      <td>22.000000</td>\n",
       "      <td>500.000000</td>\n",
       "      <td>15.636600</td>\n",
       "      <td>3.400000</td>\n",
       "      <td>999.300000</td>\n",
       "      <td>-10.200000</td>\n",
       "      <td>0.000000</td>\n",
       "      <td>1.000000</td>\n",
       "    </tr>\n",
       "    <tr>\n",
       "      <th>50%</th>\n",
       "      <td>17532.500000</td>\n",
       "      <td>2015.000000</td>\n",
       "      <td>7.000000</td>\n",
       "      <td>16.000000</td>\n",
       "      <td>11.500000</td>\n",
       "      <td>46.000000</td>\n",
       "      <td>72.000000</td>\n",
       "      <td>7.000000</td>\n",
       "      <td>36.000000</td>\n",
       "      <td>800.000000</td>\n",
       "      <td>46.000000</td>\n",
       "      <td>14.700000</td>\n",
       "      <td>1007.400000</td>\n",
       "      <td>1.800000</td>\n",
       "      <td>0.000000</td>\n",
       "      <td>1.500000</td>\n",
       "    </tr>\n",
       "    <tr>\n",
       "      <th>75%</th>\n",
       "      <td>26298.250000</td>\n",
       "      <td>2016.000000</td>\n",
       "      <td>10.000000</td>\n",
       "      <td>23.000000</td>\n",
       "      <td>17.250000</td>\n",
       "      <td>100.000000</td>\n",
       "      <td>131.000000</td>\n",
       "      <td>18.000000</td>\n",
       "      <td>60.358200</td>\n",
       "      <td>1400.000000</td>\n",
       "      <td>80.000000</td>\n",
       "      <td>23.300000</td>\n",
       "      <td>1016.000000</td>\n",
       "      <td>14.200000</td>\n",
       "      <td>0.000000</td>\n",
       "      <td>2.300000</td>\n",
       "    </tr>\n",
       "    <tr>\n",
       "      <th>max</th>\n",
       "      <td>35064.000000</td>\n",
       "      <td>2017.000000</td>\n",
       "      <td>12.000000</td>\n",
       "      <td>31.000000</td>\n",
       "      <td>23.000000</td>\n",
       "      <td>882.000000</td>\n",
       "      <td>999.000000</td>\n",
       "      <td>310.000000</td>\n",
       "      <td>226.000000</td>\n",
       "      <td>10000.000000</td>\n",
       "      <td>429.000000</td>\n",
       "      <td>41.400000</td>\n",
       "      <td>1036.500000</td>\n",
       "      <td>27.200000</td>\n",
       "      <td>52.100000</td>\n",
       "      <td>10.000000</td>\n",
       "    </tr>\n",
       "  </tbody>\n",
       "</table>\n",
       "</div>"
      ],
      "text/plain": [
       "                 No          year         month           day          hour  \\\n",
       "count  35064.000000  35064.000000  35064.000000  35064.000000  35064.000000   \n",
       "mean   17532.500000   2014.662560      6.522930     15.729637     11.500000   \n",
       "std    10122.249256      1.177213      3.448752      8.800218      6.922285   \n",
       "min        1.000000   2013.000000      1.000000      1.000000      0.000000   \n",
       "25%     8766.750000   2014.000000      4.000000      8.000000      5.750000   \n",
       "50%    17532.500000   2015.000000      7.000000     16.000000     11.500000   \n",
       "75%    26298.250000   2016.000000     10.000000     23.000000     17.250000   \n",
       "max    35064.000000   2017.000000     12.000000     31.000000     23.000000   \n",
       "\n",
       "              PM2.5          PM10           SO2           NO2            CO  \\\n",
       "count  34290.000000  34482.000000  34436.000000  34397.000000  33543.000000   \n",
       "mean      71.099743     94.657871     14.958906     44.182086   1152.301345   \n",
       "std       72.326926     83.441738     20.975331     29.519796   1103.056282   \n",
       "min        2.000000      2.000000      0.285600      1.847700    100.000000   \n",
       "25%       18.000000     34.000000      2.000000     22.000000    500.000000   \n",
       "50%       46.000000     72.000000      7.000000     36.000000    800.000000   \n",
       "75%      100.000000    131.000000     18.000000     60.358200   1400.000000   \n",
       "max      882.000000    999.000000    310.000000    226.000000  10000.000000   \n",
       "\n",
       "                 O3          TEMP          PRES          DEWP          RAIN  \\\n",
       "count  34460.000000  35011.000000  35014.000000  35011.000000  35013.000000   \n",
       "mean      57.940003     13.686111   1007.760278      1.505495      0.060366   \n",
       "std       54.316674     11.365313     10.225664     13.822099      0.752899   \n",
       "min        0.214200    -16.600000    982.400000    -35.100000      0.000000   \n",
       "25%       15.636600      3.400000    999.300000    -10.200000      0.000000   \n",
       "50%       46.000000     14.700000   1007.400000      1.800000      0.000000   \n",
       "75%       80.000000     23.300000   1016.000000     14.200000      0.000000   \n",
       "max      429.000000     41.400000   1036.500000     27.200000     52.100000   \n",
       "\n",
       "               WSPM  \n",
       "count  35021.000000  \n",
       "mean       1.853836  \n",
       "std        1.309808  \n",
       "min        0.000000  \n",
       "25%        1.000000  \n",
       "50%        1.500000  \n",
       "75%        2.300000  \n",
       "max       10.000000  "
      ]
     },
     "execution_count": 21,
     "metadata": {},
     "output_type": "execute_result"
    }
   ],
   "source": [
    "Changping_df.describe()"
   ]
  },
  {
   "cell_type": "markdown",
   "metadata": {},
   "source": [
    "*temporary insight*\n",
    "\n",
    "Berdasarkan output tersebut, ada beberapa hal yang perlu diperhatikan terkait kemungkinan nilai outlier atau incacurate values yang perlu diperiksa lebih lanjut pada tahap data cleaning.\n",
    "\n",
    "- Kolom CO (Karbon Monoksida) memiliki nilai maksimum 10,000, yang sangat tidak realistis dan kemungkinan merupakan hasil kesalahan pengukuran atau kesalahan input data. Serta nilai minimum CO adalah 100, yang juga tampaknya terlalu tinggi untuk minimum CO. Biasanya nilai CO bisa lebih rendah dari ini, sehingga hal ini perlu diperiksa lebih lanjut.\n",
    "\n",
    "- Kolom PM2.5 dan PM10 menunjukkan nilai maksimum yang tinggi, yaitu 882 untuk PM2.5 dan 999 untuk PM10. Meskipun polusi udara bisa mencapai tingkat berbahaya, nilai ini tampak sangat ekstrem dan mungkin perlu diperiksa apakah valid atau merupakan outlier.\n",
    "\n",
    "- Beberapa kolom gas polutan lainnya (SO2, NO2, O3) menunjukkan nilai maksimum yang cukup tinggi, tetapi masih mungkin masuk akal tergantung pada kondisi pencemaran udara di lokasi dan waktu pengukuran. Namun, tetap perlu dilakukan pemeriksaan tambahan untuk memvalidasi data ini.\n",
    "\n",
    "- Kolom DEWP minimum dengan nilai -35.1°C patut diperiksa karena mungkin ini adalah hasil dari kondisi cuaca yang ekstrem, tetapi juga bisa merupakan kesalahan pengukuran."
   ]
  },
  {
   "cell_type": "markdown",
   "metadata": {
    "jp-MarkdownHeadingCollapsed": true
   },
   "source": [
    "#### Menilai Data Dingling_df"
   ]
  },
  {
   "cell_type": "code",
   "execution_count": 22,
   "metadata": {},
   "outputs": [
    {
     "name": "stdout",
     "output_type": "stream",
     "text": [
      "<class 'pandas.core.frame.DataFrame'>\n",
      "RangeIndex: 35064 entries, 0 to 35063\n",
      "Data columns (total 18 columns):\n",
      " #   Column   Non-Null Count  Dtype  \n",
      "---  ------   --------------  -----  \n",
      " 0   No       35064 non-null  int64  \n",
      " 1   year     35064 non-null  int64  \n",
      " 2   month    35064 non-null  int64  \n",
      " 3   day      35064 non-null  int64  \n",
      " 4   hour     35064 non-null  int64  \n",
      " 5   PM2.5    34285 non-null  float64\n",
      " 6   PM10     34408 non-null  float64\n",
      " 7   SO2      34334 non-null  float64\n",
      " 8   NO2      33830 non-null  float64\n",
      " 9   CO       33052 non-null  float64\n",
      " 10  O3       33850 non-null  float64\n",
      " 11  TEMP     35011 non-null  float64\n",
      " 12  PRES     35014 non-null  float64\n",
      " 13  DEWP     35011 non-null  float64\n",
      " 14  RAIN     35013 non-null  float64\n",
      " 15  wd       34924 non-null  object \n",
      " 16  WSPM     35021 non-null  float64\n",
      " 17  station  35064 non-null  object \n",
      "dtypes: float64(11), int64(5), object(2)\n",
      "memory usage: 4.8+ MB\n"
     ]
    }
   ],
   "source": [
    "Dingling_df.info()"
   ]
  },
  {
   "cell_type": "markdown",
   "metadata": {},
   "source": [
    "*temporary insight*\n",
    "- **Tipe data sudah sesuai untuk setiap kolom**\n",
    "\n",
    "  Tidak dijumpai ketikan sesuaian tipe data berdasarkan informasi yang ditampilkan dari data Dingling_df.\n",
    "\n",
    "- **Terdapat Missing Values**\n",
    "\n",
    "  Missing values terbesar ada pada kolom CO, NO2, dan O3. CO memiliki 2,012 missing values, yaitu sekitar 5.74% dari total data. NO2 dan O3 juga memiliki lebih dari 1,000 missing values, yaitu sekitar 3-4%. Jumlah missing values yang relatif besar ini bisa mengindikasikan adanya masalah pada alat pengukur polutan atau kondisi cuaca tertentu yang membuat data tidak dapat terekam.\n",
    "\n",
    "  Kolom PM2.5, PM10, dan SO2 memiliki ratusan missing values, yang masih perlu dipertimbangkan penanganannya, tetapi persentase missing dari total data masih dalam batas yang bisa diatasi tanpa kehilangan terlalu banyak informasi.\n",
    "\n",
    "  Kolom meteorologi (TEMP, PRES, DEWP, RAIN, WSPM. Missing values pada kolom ini tidak terlalu signifikan (hanya puluhan baris), sehingga bisa diatasi dengan imputasi sederhana (seperti menggunakan nilai rata-rata atau median) tanpa mengganggu kualitas data secara keseluruhan. Untuk memastikan hal ini bisa menjalankan kode berikut `Dingling_df.isna().sum()`"
   ]
  },
  {
   "cell_type": "code",
   "execution_count": 23,
   "metadata": {},
   "outputs": [
    {
     "data": {
      "text/plain": [
       "No            0\n",
       "year          0\n",
       "month         0\n",
       "day           0\n",
       "hour          0\n",
       "PM2.5       779\n",
       "PM10        656\n",
       "SO2         730\n",
       "NO2        1234\n",
       "CO         2012\n",
       "O3         1214\n",
       "TEMP         53\n",
       "PRES         50\n",
       "DEWP         53\n",
       "RAIN         51\n",
       "wd          140\n",
       "WSPM         43\n",
       "station       0\n",
       "dtype: int64"
      ]
     },
     "execution_count": 23,
     "metadata": {},
     "output_type": "execute_result"
    }
   ],
   "source": [
    "Dingling_df.isna().sum()"
   ]
  },
  {
   "cell_type": "markdown",
   "metadata": {},
   "source": [
    "*temporary insight*\n",
    "\n",
    "Beberapa kolom di dataset ini menunjukkan jumlah non-null values yang kurang dari total 35,064 baris, yang mengindikasikan adanya missing values. Berikut rinciannya:\n",
    "\n",
    "- PM2.5: 34,285 non-null values → terdapat 779 missing values.\n",
    "- PM10: 34,408 non-null values → terdapat 656 missing values.\n",
    "- SO2: 34,334 non-null values → terdapat 730 missing values.\n",
    "- NO2: 33,830 non-null values → terdapat 1,234 missing values.\n",
    "- CO: 33,052 non-null values → terdapat 2,012 missing values.\n",
    "- O3: 33,850 non-null values → terdapat 1,214 missing values.\n",
    "- TEMP: 35,011 non-null values → terdapat 53 missing values.\n",
    "- PRES: 35,014 non-null values → terdapat 50 missing values.\n",
    "- DEWP: 35,011 non-null values → terdapat 53 missing values.\n",
    "- RAIN: 35,013 non-null values → terdapat 51 missing values.\n",
    "- wd: 34,924 non-null values → terdapat 140 missing values.\n",
    "- WSPM: 35,021 non-null values → terdapat 43 missing values."
   ]
  },
  {
   "cell_type": "code",
   "execution_count": 24,
   "metadata": {},
   "outputs": [
    {
     "name": "stdout",
     "output_type": "stream",
     "text": [
      "Jumlah duplikasi data Dingling_df :  0\n"
     ]
    }
   ],
   "source": [
    "print(\"Jumlah duplikasi data Dingling_df : \", Dingling_df.duplicated().sum())"
   ]
  },
  {
   "cell_type": "markdown",
   "metadata": {},
   "source": [
    "*temporary insight*\n",
    "\n",
    "Dari kode pengecekan duplikasi data di atas, **tidak ditemukan** adanya **duplikasi data** pada data Dingling_df tersebut."
   ]
  },
  {
   "cell_type": "code",
   "execution_count": 25,
   "metadata": {},
   "outputs": [
    {
     "data": {
      "text/html": [
       "<div>\n",
       "<style scoped>\n",
       "    .dataframe tbody tr th:only-of-type {\n",
       "        vertical-align: middle;\n",
       "    }\n",
       "\n",
       "    .dataframe tbody tr th {\n",
       "        vertical-align: top;\n",
       "    }\n",
       "\n",
       "    .dataframe thead th {\n",
       "        text-align: right;\n",
       "    }\n",
       "</style>\n",
       "<table border=\"1\" class=\"dataframe\">\n",
       "  <thead>\n",
       "    <tr style=\"text-align: right;\">\n",
       "      <th></th>\n",
       "      <th>No</th>\n",
       "      <th>year</th>\n",
       "      <th>month</th>\n",
       "      <th>day</th>\n",
       "      <th>hour</th>\n",
       "      <th>PM2.5</th>\n",
       "      <th>PM10</th>\n",
       "      <th>SO2</th>\n",
       "      <th>NO2</th>\n",
       "      <th>CO</th>\n",
       "      <th>O3</th>\n",
       "      <th>TEMP</th>\n",
       "      <th>PRES</th>\n",
       "      <th>DEWP</th>\n",
       "      <th>RAIN</th>\n",
       "      <th>WSPM</th>\n",
       "    </tr>\n",
       "  </thead>\n",
       "  <tbody>\n",
       "    <tr>\n",
       "      <th>count</th>\n",
       "      <td>35064.000000</td>\n",
       "      <td>35064.000000</td>\n",
       "      <td>35064.000000</td>\n",
       "      <td>35064.000000</td>\n",
       "      <td>35064.000000</td>\n",
       "      <td>34285.000000</td>\n",
       "      <td>34408.000000</td>\n",
       "      <td>34334.000000</td>\n",
       "      <td>33830.000000</td>\n",
       "      <td>33052.000000</td>\n",
       "      <td>33850.000000</td>\n",
       "      <td>35011.000000</td>\n",
       "      <td>35014.000000</td>\n",
       "      <td>35011.000000</td>\n",
       "      <td>35013.000000</td>\n",
       "      <td>35021.000000</td>\n",
       "    </tr>\n",
       "    <tr>\n",
       "      <th>mean</th>\n",
       "      <td>17532.500000</td>\n",
       "      <td>2014.662560</td>\n",
       "      <td>6.522930</td>\n",
       "      <td>15.729637</td>\n",
       "      <td>11.500000</td>\n",
       "      <td>65.989497</td>\n",
       "      <td>83.739723</td>\n",
       "      <td>11.749650</td>\n",
       "      <td>27.585467</td>\n",
       "      <td>904.896073</td>\n",
       "      <td>68.548371</td>\n",
       "      <td>13.686111</td>\n",
       "      <td>1007.760278</td>\n",
       "      <td>1.505495</td>\n",
       "      <td>0.060366</td>\n",
       "      <td>1.853836</td>\n",
       "    </tr>\n",
       "    <tr>\n",
       "      <th>std</th>\n",
       "      <td>10122.249256</td>\n",
       "      <td>1.177213</td>\n",
       "      <td>3.448752</td>\n",
       "      <td>8.800218</td>\n",
       "      <td>6.922285</td>\n",
       "      <td>72.267723</td>\n",
       "      <td>79.541685</td>\n",
       "      <td>15.519259</td>\n",
       "      <td>26.383882</td>\n",
       "      <td>903.306220</td>\n",
       "      <td>53.764424</td>\n",
       "      <td>11.365313</td>\n",
       "      <td>10.225664</td>\n",
       "      <td>13.822099</td>\n",
       "      <td>0.752899</td>\n",
       "      <td>1.309808</td>\n",
       "    </tr>\n",
       "    <tr>\n",
       "      <th>min</th>\n",
       "      <td>1.000000</td>\n",
       "      <td>2013.000000</td>\n",
       "      <td>1.000000</td>\n",
       "      <td>1.000000</td>\n",
       "      <td>0.000000</td>\n",
       "      <td>3.000000</td>\n",
       "      <td>2.000000</td>\n",
       "      <td>0.285600</td>\n",
       "      <td>1.026500</td>\n",
       "      <td>100.000000</td>\n",
       "      <td>0.214200</td>\n",
       "      <td>-16.600000</td>\n",
       "      <td>982.400000</td>\n",
       "      <td>-35.100000</td>\n",
       "      <td>0.000000</td>\n",
       "      <td>0.000000</td>\n",
       "    </tr>\n",
       "    <tr>\n",
       "      <th>25%</th>\n",
       "      <td>8766.750000</td>\n",
       "      <td>2014.000000</td>\n",
       "      <td>4.000000</td>\n",
       "      <td>8.000000</td>\n",
       "      <td>5.750000</td>\n",
       "      <td>14.000000</td>\n",
       "      <td>26.000000</td>\n",
       "      <td>2.000000</td>\n",
       "      <td>9.000000</td>\n",
       "      <td>300.000000</td>\n",
       "      <td>31.000000</td>\n",
       "      <td>3.400000</td>\n",
       "      <td>999.300000</td>\n",
       "      <td>-10.200000</td>\n",
       "      <td>0.000000</td>\n",
       "      <td>1.000000</td>\n",
       "    </tr>\n",
       "    <tr>\n",
       "      <th>50%</th>\n",
       "      <td>17532.500000</td>\n",
       "      <td>2015.000000</td>\n",
       "      <td>7.000000</td>\n",
       "      <td>16.000000</td>\n",
       "      <td>11.500000</td>\n",
       "      <td>41.000000</td>\n",
       "      <td>60.000000</td>\n",
       "      <td>5.000000</td>\n",
       "      <td>19.000000</td>\n",
       "      <td>600.000000</td>\n",
       "      <td>61.000000</td>\n",
       "      <td>14.700000</td>\n",
       "      <td>1007.400000</td>\n",
       "      <td>1.800000</td>\n",
       "      <td>0.000000</td>\n",
       "      <td>1.500000</td>\n",
       "    </tr>\n",
       "    <tr>\n",
       "      <th>75%</th>\n",
       "      <td>26298.250000</td>\n",
       "      <td>2016.000000</td>\n",
       "      <td>10.000000</td>\n",
       "      <td>23.000000</td>\n",
       "      <td>17.250000</td>\n",
       "      <td>93.000000</td>\n",
       "      <td>117.000000</td>\n",
       "      <td>15.000000</td>\n",
       "      <td>38.000000</td>\n",
       "      <td>1200.000000</td>\n",
       "      <td>90.000000</td>\n",
       "      <td>23.300000</td>\n",
       "      <td>1016.000000</td>\n",
       "      <td>14.200000</td>\n",
       "      <td>0.000000</td>\n",
       "      <td>2.300000</td>\n",
       "    </tr>\n",
       "    <tr>\n",
       "      <th>max</th>\n",
       "      <td>35064.000000</td>\n",
       "      <td>2017.000000</td>\n",
       "      <td>12.000000</td>\n",
       "      <td>31.000000</td>\n",
       "      <td>23.000000</td>\n",
       "      <td>881.000000</td>\n",
       "      <td>905.000000</td>\n",
       "      <td>156.000000</td>\n",
       "      <td>205.000000</td>\n",
       "      <td>10000.000000</td>\n",
       "      <td>500.000000</td>\n",
       "      <td>41.400000</td>\n",
       "      <td>1036.500000</td>\n",
       "      <td>27.200000</td>\n",
       "      <td>52.100000</td>\n",
       "      <td>10.000000</td>\n",
       "    </tr>\n",
       "  </tbody>\n",
       "</table>\n",
       "</div>"
      ],
      "text/plain": [
       "                 No          year         month           day          hour  \\\n",
       "count  35064.000000  35064.000000  35064.000000  35064.000000  35064.000000   \n",
       "mean   17532.500000   2014.662560      6.522930     15.729637     11.500000   \n",
       "std    10122.249256      1.177213      3.448752      8.800218      6.922285   \n",
       "min        1.000000   2013.000000      1.000000      1.000000      0.000000   \n",
       "25%     8766.750000   2014.000000      4.000000      8.000000      5.750000   \n",
       "50%    17532.500000   2015.000000      7.000000     16.000000     11.500000   \n",
       "75%    26298.250000   2016.000000     10.000000     23.000000     17.250000   \n",
       "max    35064.000000   2017.000000     12.000000     31.000000     23.000000   \n",
       "\n",
       "              PM2.5          PM10           SO2           NO2            CO  \\\n",
       "count  34285.000000  34408.000000  34334.000000  33830.000000  33052.000000   \n",
       "mean      65.989497     83.739723     11.749650     27.585467    904.896073   \n",
       "std       72.267723     79.541685     15.519259     26.383882    903.306220   \n",
       "min        3.000000      2.000000      0.285600      1.026500    100.000000   \n",
       "25%       14.000000     26.000000      2.000000      9.000000    300.000000   \n",
       "50%       41.000000     60.000000      5.000000     19.000000    600.000000   \n",
       "75%       93.000000    117.000000     15.000000     38.000000   1200.000000   \n",
       "max      881.000000    905.000000    156.000000    205.000000  10000.000000   \n",
       "\n",
       "                 O3          TEMP          PRES          DEWP          RAIN  \\\n",
       "count  33850.000000  35011.000000  35014.000000  35011.000000  35013.000000   \n",
       "mean      68.548371     13.686111   1007.760278      1.505495      0.060366   \n",
       "std       53.764424     11.365313     10.225664     13.822099      0.752899   \n",
       "min        0.214200    -16.600000    982.400000    -35.100000      0.000000   \n",
       "25%       31.000000      3.400000    999.300000    -10.200000      0.000000   \n",
       "50%       61.000000     14.700000   1007.400000      1.800000      0.000000   \n",
       "75%       90.000000     23.300000   1016.000000     14.200000      0.000000   \n",
       "max      500.000000     41.400000   1036.500000     27.200000     52.100000   \n",
       "\n",
       "               WSPM  \n",
       "count  35021.000000  \n",
       "mean       1.853836  \n",
       "std        1.309808  \n",
       "min        0.000000  \n",
       "25%        1.000000  \n",
       "50%        1.500000  \n",
       "75%        2.300000  \n",
       "max       10.000000  "
      ]
     },
     "execution_count": 25,
     "metadata": {},
     "output_type": "execute_result"
    }
   ],
   "source": [
    "Dingling_df.describe()"
   ]
  },
  {
   "cell_type": "markdown",
   "metadata": {},
   "source": [
    "*temporary insight*\n",
    "\n",
    "- Nilai maksimum 10,000 ppm pada kolom CO adalah tidak wajar dan merupakan outlier yang jelas. Ini perlu diselidiki lebih lanjut atau dibersihkan dari dataset.Serta dengan nilai minimum 100 ppm adalah nilai yang terlalu tinggi untuk dianggap sebagai nilai minimum untuk karbon monoksida, kemungkinan ada masalah pengukuran.\n",
    "\n",
    "- Nilai maksimum 500 mungkin terlalu tinggi untuk polutan ozon (O3) di permukaan bumi, perlu dipastikan apakah ini kesalahan pengukuran."
   ]
  },
  {
   "cell_type": "markdown",
   "metadata": {
    "jp-MarkdownHeadingCollapsed": true
   },
   "source": [
    "#### Menilai Data Dongsi_df"
   ]
  },
  {
   "cell_type": "code",
   "execution_count": 26,
   "metadata": {},
   "outputs": [
    {
     "name": "stdout",
     "output_type": "stream",
     "text": [
      "<class 'pandas.core.frame.DataFrame'>\n",
      "RangeIndex: 35064 entries, 0 to 35063\n",
      "Data columns (total 18 columns):\n",
      " #   Column   Non-Null Count  Dtype  \n",
      "---  ------   --------------  -----  \n",
      " 0   No       35064 non-null  int64  \n",
      " 1   year     35064 non-null  int64  \n",
      " 2   month    35064 non-null  int64  \n",
      " 3   day      35064 non-null  int64  \n",
      " 4   hour     35064 non-null  int64  \n",
      " 5   PM2.5    34314 non-null  float64\n",
      " 6   PM10     34511 non-null  float64\n",
      " 7   SO2      34401 non-null  float64\n",
      " 8   NO2      33463 non-null  float64\n",
      " 9   CO       31867 non-null  float64\n",
      " 10  O3       34400 non-null  float64\n",
      " 11  TEMP     35044 non-null  float64\n",
      " 12  PRES     35044 non-null  float64\n",
      " 13  DEWP     35044 non-null  float64\n",
      " 14  RAIN     35044 non-null  float64\n",
      " 15  wd       34986 non-null  object \n",
      " 16  WSPM     35050 non-null  float64\n",
      " 17  station  35064 non-null  object \n",
      "dtypes: float64(11), int64(5), object(2)\n",
      "memory usage: 4.8+ MB\n"
     ]
    }
   ],
   "source": [
    "Dongsi_df.info()"
   ]
  },
  {
   "cell_type": "markdown",
   "metadata": {},
   "source": [
    "*temporary insight*\n",
    "- **Tipe data sudah sesuai untuk setiap kolom**\n",
    "\n",
    "  Tidak dijumpai ketikan sesuaian tipe data berdasarkan informasi yang ditampilkan dari data Dongsi_df.\n",
    "\n",
    "- **Terdapat Missing Values**\n",
    "\n",
    "  Ditemukan missing values, terutama pada beberapa kolom seperti CO dan NO2 memiliki jumlah data yang hilang cukup signifikan. Untuk memastikan hal ini bisa menjalankan kode berikut `Dongsi_df.isna().sum()`"
   ]
  },
  {
   "cell_type": "code",
   "execution_count": 27,
   "metadata": {},
   "outputs": [
    {
     "data": {
      "text/plain": [
       "No            0\n",
       "year          0\n",
       "month         0\n",
       "day           0\n",
       "hour          0\n",
       "PM2.5       750\n",
       "PM10        553\n",
       "SO2         663\n",
       "NO2        1601\n",
       "CO         3197\n",
       "O3          664\n",
       "TEMP         20\n",
       "PRES         20\n",
       "DEWP         20\n",
       "RAIN         20\n",
       "wd           78\n",
       "WSPM         14\n",
       "station       0\n",
       "dtype: int64"
      ]
     },
     "execution_count": 27,
     "metadata": {},
     "output_type": "execute_result"
    }
   ],
   "source": [
    "Dongsi_df.isna().sum()"
   ]
  },
  {
   "cell_type": "markdown",
   "metadata": {},
   "source": [
    "*temporary insight*\n",
    "\n",
    "Dari Non-Null Count, bisa melihat adanya beberapa kolom yang memiliki nilai yang hilang (missing values):\n",
    "\n",
    "- Kolom PM2.5:\n",
    "\n",
    "  Jumlah non-null: 34,314 dari 35,064 data.\n",
    "\n",
    "  Missing values: 750 data yang hilang.\n",
    "- Kolom PM10:\n",
    "\n",
    "  Jumlah non-null: 34,511 dari 35,064 data.\n",
    "\n",
    "  Missing values: 553 data yang hilang.\n",
    "- Kolom SO2:\n",
    "\n",
    "  Jumlah non-null: 34,401 dari 35,064 data.\n",
    "\n",
    "  Missing values: 663 data yang hilang.\n",
    "- Kolom NO2:\n",
    "\n",
    "  Jumlah non-null: 33,463 dari 35,064 data.\n",
    "\n",
    "  Missing values: 1,601 data yang hilang.\n",
    "- Kolom CO:\n",
    "\n",
    "  Jumlah non-null: 31,867 dari 35,064 data.\n",
    "\n",
    "  Missing values: 3,197 data yang hilang.\n",
    "\n",
    "  Kolom ini memiliki jumlah missing values yang cukup signifikan.\n",
    "- Kolom O3:\n",
    "\n",
    "  Jumlah non-null: 34,400 dari 35,064 data.\n",
    "\n",
    "  Missing values: 664 data yang hilang.\n",
    "- Kolom wd:\n",
    "\n",
    "  Jumlah non-null: 34,986 dari 35,064 data.\n",
    "\n",
    "  Missing values: 78 data yang hilang.\n",
    "\n",
    "  Jumlah ini cukup kecil sehingga masih bisa ditangani.\n",
    "- Kolom TEMP, PRES, DEWP, RAIN, dan WSPM:\n",
    "\n",
    "  Hampir semua data tersedia, dengan hanya beberapa yang hilang:\n",
    "  - TEMP: 20 data hilang.\n",
    "  - PRES: 20 data hilang.\n",
    "  - DEWP: 20 data hilang.\n",
    "  - RAIN: 20 data hilang.\n",
    "  - WSPM: 14 data hilang.\n",
    "  \n",
    "  Kolom-kolom ini hampir lengkap, dengan jumlah missing values yang kecil.\n",
    "- Kolom station:\n",
    "\n",
    "  Tidak ada data yang hilang."
   ]
  },
  {
   "cell_type": "code",
   "execution_count": 28,
   "metadata": {},
   "outputs": [
    {
     "name": "stdout",
     "output_type": "stream",
     "text": [
      "Jumlah duplikasi data Dongsi_df:  0\n"
     ]
    }
   ],
   "source": [
    "print(\"Jumlah duplikasi data Dongsi_df: \", Dongsi_df.duplicated().sum())"
   ]
  },
  {
   "cell_type": "markdown",
   "metadata": {},
   "source": [
    "*temporary insight*\n",
    "\n",
    "Dari kode pengecekan duplikasi data di atas, **tidak ditemukan** adanya **duplikasi data** pada data Dongsi_df tersebut."
   ]
  },
  {
   "cell_type": "code",
   "execution_count": 29,
   "metadata": {},
   "outputs": [
    {
     "data": {
      "text/html": [
       "<div>\n",
       "<style scoped>\n",
       "    .dataframe tbody tr th:only-of-type {\n",
       "        vertical-align: middle;\n",
       "    }\n",
       "\n",
       "    .dataframe tbody tr th {\n",
       "        vertical-align: top;\n",
       "    }\n",
       "\n",
       "    .dataframe thead th {\n",
       "        text-align: right;\n",
       "    }\n",
       "</style>\n",
       "<table border=\"1\" class=\"dataframe\">\n",
       "  <thead>\n",
       "    <tr style=\"text-align: right;\">\n",
       "      <th></th>\n",
       "      <th>No</th>\n",
       "      <th>year</th>\n",
       "      <th>month</th>\n",
       "      <th>day</th>\n",
       "      <th>hour</th>\n",
       "      <th>PM2.5</th>\n",
       "      <th>PM10</th>\n",
       "      <th>SO2</th>\n",
       "      <th>NO2</th>\n",
       "      <th>CO</th>\n",
       "      <th>O3</th>\n",
       "      <th>TEMP</th>\n",
       "      <th>PRES</th>\n",
       "      <th>DEWP</th>\n",
       "      <th>RAIN</th>\n",
       "      <th>WSPM</th>\n",
       "    </tr>\n",
       "  </thead>\n",
       "  <tbody>\n",
       "    <tr>\n",
       "      <th>count</th>\n",
       "      <td>35064.000000</td>\n",
       "      <td>35064.000000</td>\n",
       "      <td>35064.000000</td>\n",
       "      <td>35064.000000</td>\n",
       "      <td>35064.000000</td>\n",
       "      <td>34314.000000</td>\n",
       "      <td>34511.000000</td>\n",
       "      <td>34401.000000</td>\n",
       "      <td>33463.000000</td>\n",
       "      <td>31867.000000</td>\n",
       "      <td>34400.000000</td>\n",
       "      <td>35044.000000</td>\n",
       "      <td>35044.000000</td>\n",
       "      <td>35044.000000</td>\n",
       "      <td>35044.000000</td>\n",
       "      <td>35050.000000</td>\n",
       "    </tr>\n",
       "    <tr>\n",
       "      <th>mean</th>\n",
       "      <td>17532.500000</td>\n",
       "      <td>2014.662560</td>\n",
       "      <td>6.522930</td>\n",
       "      <td>15.729637</td>\n",
       "      <td>11.500000</td>\n",
       "      <td>86.194297</td>\n",
       "      <td>110.336742</td>\n",
       "      <td>18.531107</td>\n",
       "      <td>53.699443</td>\n",
       "      <td>1330.069131</td>\n",
       "      <td>57.210637</td>\n",
       "      <td>13.671490</td>\n",
       "      <td>1012.547419</td>\n",
       "      <td>2.447535</td>\n",
       "      <td>0.064020</td>\n",
       "      <td>1.860785</td>\n",
       "    </tr>\n",
       "    <tr>\n",
       "      <th>std</th>\n",
       "      <td>10122.249256</td>\n",
       "      <td>1.177213</td>\n",
       "      <td>3.448752</td>\n",
       "      <td>8.800218</td>\n",
       "      <td>6.922285</td>\n",
       "      <td>86.575127</td>\n",
       "      <td>98.219860</td>\n",
       "      <td>22.905655</td>\n",
       "      <td>33.959230</td>\n",
       "      <td>1191.305887</td>\n",
       "      <td>58.033275</td>\n",
       "      <td>11.458418</td>\n",
       "      <td>10.266059</td>\n",
       "      <td>13.810696</td>\n",
       "      <td>0.786282</td>\n",
       "      <td>1.280368</td>\n",
       "    </tr>\n",
       "    <tr>\n",
       "      <th>min</th>\n",
       "      <td>1.000000</td>\n",
       "      <td>2013.000000</td>\n",
       "      <td>1.000000</td>\n",
       "      <td>1.000000</td>\n",
       "      <td>0.000000</td>\n",
       "      <td>3.000000</td>\n",
       "      <td>2.000000</td>\n",
       "      <td>0.285600</td>\n",
       "      <td>2.000000</td>\n",
       "      <td>100.000000</td>\n",
       "      <td>0.642600</td>\n",
       "      <td>-16.800000</td>\n",
       "      <td>987.100000</td>\n",
       "      <td>-35.300000</td>\n",
       "      <td>0.000000</td>\n",
       "      <td>0.000000</td>\n",
       "    </tr>\n",
       "    <tr>\n",
       "      <th>25%</th>\n",
       "      <td>8766.750000</td>\n",
       "      <td>2014.000000</td>\n",
       "      <td>4.000000</td>\n",
       "      <td>8.000000</td>\n",
       "      <td>5.750000</td>\n",
       "      <td>22.000000</td>\n",
       "      <td>38.000000</td>\n",
       "      <td>4.000000</td>\n",
       "      <td>27.000000</td>\n",
       "      <td>600.000000</td>\n",
       "      <td>12.000000</td>\n",
       "      <td>3.100000</td>\n",
       "      <td>1004.000000</td>\n",
       "      <td>-8.800000</td>\n",
       "      <td>0.000000</td>\n",
       "      <td>1.000000</td>\n",
       "    </tr>\n",
       "    <tr>\n",
       "      <th>50%</th>\n",
       "      <td>17532.500000</td>\n",
       "      <td>2015.000000</td>\n",
       "      <td>7.000000</td>\n",
       "      <td>16.000000</td>\n",
       "      <td>11.500000</td>\n",
       "      <td>61.000000</td>\n",
       "      <td>86.000000</td>\n",
       "      <td>10.000000</td>\n",
       "      <td>47.000000</td>\n",
       "      <td>1000.000000</td>\n",
       "      <td>44.125200</td>\n",
       "      <td>14.600000</td>\n",
       "      <td>1012.200000</td>\n",
       "      <td>3.000000</td>\n",
       "      <td>0.000000</td>\n",
       "      <td>1.500000</td>\n",
       "    </tr>\n",
       "    <tr>\n",
       "      <th>75%</th>\n",
       "      <td>26298.250000</td>\n",
       "      <td>2016.000000</td>\n",
       "      <td>10.000000</td>\n",
       "      <td>23.000000</td>\n",
       "      <td>17.250000</td>\n",
       "      <td>119.000000</td>\n",
       "      <td>151.000000</td>\n",
       "      <td>24.000000</td>\n",
       "      <td>73.000000</td>\n",
       "      <td>1700.000000</td>\n",
       "      <td>81.000000</td>\n",
       "      <td>23.500000</td>\n",
       "      <td>1020.900000</td>\n",
       "      <td>15.000000</td>\n",
       "      <td>0.000000</td>\n",
       "      <td>2.400000</td>\n",
       "    </tr>\n",
       "    <tr>\n",
       "      <th>max</th>\n",
       "      <td>35064.000000</td>\n",
       "      <td>2017.000000</td>\n",
       "      <td>12.000000</td>\n",
       "      <td>31.000000</td>\n",
       "      <td>23.000000</td>\n",
       "      <td>737.000000</td>\n",
       "      <td>955.000000</td>\n",
       "      <td>300.000000</td>\n",
       "      <td>258.000000</td>\n",
       "      <td>10000.000000</td>\n",
       "      <td>1071.000000</td>\n",
       "      <td>41.100000</td>\n",
       "      <td>1042.000000</td>\n",
       "      <td>28.800000</td>\n",
       "      <td>46.400000</td>\n",
       "      <td>10.500000</td>\n",
       "    </tr>\n",
       "  </tbody>\n",
       "</table>\n",
       "</div>"
      ],
      "text/plain": [
       "                 No          year         month           day          hour  \\\n",
       "count  35064.000000  35064.000000  35064.000000  35064.000000  35064.000000   \n",
       "mean   17532.500000   2014.662560      6.522930     15.729637     11.500000   \n",
       "std    10122.249256      1.177213      3.448752      8.800218      6.922285   \n",
       "min        1.000000   2013.000000      1.000000      1.000000      0.000000   \n",
       "25%     8766.750000   2014.000000      4.000000      8.000000      5.750000   \n",
       "50%    17532.500000   2015.000000      7.000000     16.000000     11.500000   \n",
       "75%    26298.250000   2016.000000     10.000000     23.000000     17.250000   \n",
       "max    35064.000000   2017.000000     12.000000     31.000000     23.000000   \n",
       "\n",
       "              PM2.5          PM10           SO2           NO2            CO  \\\n",
       "count  34314.000000  34511.000000  34401.000000  33463.000000  31867.000000   \n",
       "mean      86.194297    110.336742     18.531107     53.699443   1330.069131   \n",
       "std       86.575127     98.219860     22.905655     33.959230   1191.305887   \n",
       "min        3.000000      2.000000      0.285600      2.000000    100.000000   \n",
       "25%       22.000000     38.000000      4.000000     27.000000    600.000000   \n",
       "50%       61.000000     86.000000     10.000000     47.000000   1000.000000   \n",
       "75%      119.000000    151.000000     24.000000     73.000000   1700.000000   \n",
       "max      737.000000    955.000000    300.000000    258.000000  10000.000000   \n",
       "\n",
       "                 O3          TEMP          PRES          DEWP          RAIN  \\\n",
       "count  34400.000000  35044.000000  35044.000000  35044.000000  35044.000000   \n",
       "mean      57.210637     13.671490   1012.547419      2.447535      0.064020   \n",
       "std       58.033275     11.458418     10.266059     13.810696      0.786282   \n",
       "min        0.642600    -16.800000    987.100000    -35.300000      0.000000   \n",
       "25%       12.000000      3.100000   1004.000000     -8.800000      0.000000   \n",
       "50%       44.125200     14.600000   1012.200000      3.000000      0.000000   \n",
       "75%       81.000000     23.500000   1020.900000     15.000000      0.000000   \n",
       "max     1071.000000     41.100000   1042.000000     28.800000     46.400000   \n",
       "\n",
       "               WSPM  \n",
       "count  35050.000000  \n",
       "mean       1.860785  \n",
       "std        1.280368  \n",
       "min        0.000000  \n",
       "25%        1.000000  \n",
       "50%        1.500000  \n",
       "75%        2.400000  \n",
       "max       10.500000  "
      ]
     },
     "execution_count": 29,
     "metadata": {},
     "output_type": "execute_result"
    }
   ],
   "source": [
    "Dongsi_df.describe()"
   ]
  },
  {
   "cell_type": "markdown",
   "metadata": {},
   "source": [
    "*temporary insight*\n",
    "\n",
    "Kolom seperti PM2.5, PM10, CO, O3, dan NO2 memiliki nilai maksimum yang tampaknya terlalu tinggi dan berpotensi sebagai outlier."
   ]
  },
  {
   "cell_type": "markdown",
   "metadata": {
    "jp-MarkdownHeadingCollapsed": true
   },
   "source": [
    "#### Menilai Data Guanyuan_df"
   ]
  },
  {
   "cell_type": "code",
   "execution_count": 30,
   "metadata": {},
   "outputs": [
    {
     "name": "stdout",
     "output_type": "stream",
     "text": [
      "<class 'pandas.core.frame.DataFrame'>\n",
      "RangeIndex: 35064 entries, 0 to 35063\n",
      "Data columns (total 18 columns):\n",
      " #   Column   Non-Null Count  Dtype  \n",
      "---  ------   --------------  -----  \n",
      " 0   No       35064 non-null  int64  \n",
      " 1   year     35064 non-null  int64  \n",
      " 2   month    35064 non-null  int64  \n",
      " 3   day      35064 non-null  int64  \n",
      " 4   hour     35064 non-null  int64  \n",
      " 5   PM2.5    34448 non-null  float64\n",
      " 6   PM10     34635 non-null  float64\n",
      " 7   SO2      34590 non-null  float64\n",
      " 8   NO2      34405 non-null  float64\n",
      " 9   CO       33311 non-null  float64\n",
      " 10  O3       33891 non-null  float64\n",
      " 11  TEMP     35044 non-null  float64\n",
      " 12  PRES     35044 non-null  float64\n",
      " 13  DEWP     35044 non-null  float64\n",
      " 14  RAIN     35044 non-null  float64\n",
      " 15  wd       34983 non-null  object \n",
      " 16  WSPM     35050 non-null  float64\n",
      " 17  station  35064 non-null  object \n",
      "dtypes: float64(11), int64(5), object(2)\n",
      "memory usage: 4.8+ MB\n"
     ]
    }
   ],
   "source": [
    "Guanyuan_df.info()"
   ]
  },
  {
   "cell_type": "markdown",
   "metadata": {},
   "source": [
    "*temporary insight*\n",
    "\n",
    "Dari informasi yang diatas, ditemukannya masalah Missing Values. Ada sejumlah kolom yang memiliki missing values, yang dapat mempengaruhi analisis data. Kolom CO memiliki jumlah missing values yang paling signifikan (1,753), yang mungkin berpengaruh besar pada analisis kualitas udara."
   ]
  },
  {
   "cell_type": "code",
   "execution_count": 31,
   "metadata": {},
   "outputs": [
    {
     "data": {
      "text/plain": [
       "No            0\n",
       "year          0\n",
       "month         0\n",
       "day           0\n",
       "hour          0\n",
       "PM2.5       616\n",
       "PM10        429\n",
       "SO2         474\n",
       "NO2         659\n",
       "CO         1753\n",
       "O3         1173\n",
       "TEMP         20\n",
       "PRES         20\n",
       "DEWP         20\n",
       "RAIN         20\n",
       "wd           81\n",
       "WSPM         14\n",
       "station       0\n",
       "dtype: int64"
      ]
     },
     "execution_count": 31,
     "metadata": {},
     "output_type": "execute_result"
    }
   ],
   "source": [
    "Guanyuan_df.isna().sum()"
   ]
  },
  {
   "cell_type": "markdown",
   "metadata": {},
   "source": [
    "*temporary insight*\n",
    "\n",
    "Dari output yang diberikan, dapat dilihat adanya perbedaan jumlah data pada beberapa kolom, yang menunjukkan adanya missing values:\n",
    "\n",
    "- PM2.5: 34,448 non-null dari 35,064 total. Missing values: 616\n",
    "- PM10: 34,635 non-null dari 35,064 total. Missing values: 429\n",
    "- SO2: 34,590 non-null dari 35,064 total. Missing values: 474\n",
    "- NO2: 34,405 non-null dari 35,064 total. Missing values: 659\n",
    "- CO: 33,311 non-null dari 35,064 total. Missing values: 1,753\n",
    "- O3: 33,891 non-null dari 35,064 total. Missing values: 1,173\n",
    "- TEMP, PRES, DEWP, dan RAIN: 35,044 non-null dari 35,064 total. Missing values: 20\n",
    "- wd: 34,983 non-null dari 35,064 total. Missing values: 81\n",
    "- WSPM: 35,050 non-null dari 35,064 total. Missing values: 14"
   ]
  },
  {
   "cell_type": "code",
   "execution_count": 32,
   "metadata": {},
   "outputs": [
    {
     "name": "stdout",
     "output_type": "stream",
     "text": [
      "Jumlah duplikasi data Guanyuan_df:  0\n"
     ]
    }
   ],
   "source": [
    "print(\"Jumlah duplikasi data Guanyuan_df: \", Guanyuan_df.duplicated().sum())"
   ]
  },
  {
   "cell_type": "markdown",
   "metadata": {},
   "source": [
    "*temporary insight*\n",
    "\n",
    "Dari kode pengecekan duplikasi data di atas, **tidak ditemukan** adanya **duplikasi data** pada data Dongsi_df tersebut."
   ]
  },
  {
   "cell_type": "code",
   "execution_count": 33,
   "metadata": {},
   "outputs": [
    {
     "data": {
      "text/html": [
       "<div>\n",
       "<style scoped>\n",
       "    .dataframe tbody tr th:only-of-type {\n",
       "        vertical-align: middle;\n",
       "    }\n",
       "\n",
       "    .dataframe tbody tr th {\n",
       "        vertical-align: top;\n",
       "    }\n",
       "\n",
       "    .dataframe thead th {\n",
       "        text-align: right;\n",
       "    }\n",
       "</style>\n",
       "<table border=\"1\" class=\"dataframe\">\n",
       "  <thead>\n",
       "    <tr style=\"text-align: right;\">\n",
       "      <th></th>\n",
       "      <th>No</th>\n",
       "      <th>year</th>\n",
       "      <th>month</th>\n",
       "      <th>day</th>\n",
       "      <th>hour</th>\n",
       "      <th>PM2.5</th>\n",
       "      <th>PM10</th>\n",
       "      <th>SO2</th>\n",
       "      <th>NO2</th>\n",
       "      <th>CO</th>\n",
       "      <th>O3</th>\n",
       "      <th>TEMP</th>\n",
       "      <th>PRES</th>\n",
       "      <th>DEWP</th>\n",
       "      <th>RAIN</th>\n",
       "      <th>WSPM</th>\n",
       "    </tr>\n",
       "  </thead>\n",
       "  <tbody>\n",
       "    <tr>\n",
       "      <th>count</th>\n",
       "      <td>35064.000000</td>\n",
       "      <td>35064.000000</td>\n",
       "      <td>35064.000000</td>\n",
       "      <td>35064.000000</td>\n",
       "      <td>35064.000000</td>\n",
       "      <td>34448.000000</td>\n",
       "      <td>34635.000000</td>\n",
       "      <td>34590.000000</td>\n",
       "      <td>34405.000000</td>\n",
       "      <td>33311.000000</td>\n",
       "      <td>33891.000000</td>\n",
       "      <td>35044.000000</td>\n",
       "      <td>35044.000000</td>\n",
       "      <td>35044.000000</td>\n",
       "      <td>35044.000000</td>\n",
       "      <td>35050.000000</td>\n",
       "    </tr>\n",
       "    <tr>\n",
       "      <th>mean</th>\n",
       "      <td>17532.500000</td>\n",
       "      <td>2014.662560</td>\n",
       "      <td>6.522930</td>\n",
       "      <td>15.729637</td>\n",
       "      <td>11.500000</td>\n",
       "      <td>82.933372</td>\n",
       "      <td>109.023303</td>\n",
       "      <td>17.590941</td>\n",
       "      <td>57.901643</td>\n",
       "      <td>1271.294377</td>\n",
       "      <td>55.795044</td>\n",
       "      <td>13.584607</td>\n",
       "      <td>1011.846920</td>\n",
       "      <td>3.123062</td>\n",
       "      <td>0.067421</td>\n",
       "      <td>1.708496</td>\n",
       "    </tr>\n",
       "    <tr>\n",
       "      <th>std</th>\n",
       "      <td>10122.249256</td>\n",
       "      <td>1.177213</td>\n",
       "      <td>3.448752</td>\n",
       "      <td>8.800218</td>\n",
       "      <td>6.922285</td>\n",
       "      <td>80.933497</td>\n",
       "      <td>91.573709</td>\n",
       "      <td>23.600367</td>\n",
       "      <td>35.150857</td>\n",
       "      <td>1164.854945</td>\n",
       "      <td>57.436983</td>\n",
       "      <td>11.399097</td>\n",
       "      <td>10.404047</td>\n",
       "      <td>13.688896</td>\n",
       "      <td>0.910056</td>\n",
       "      <td>1.204071</td>\n",
       "    </tr>\n",
       "    <tr>\n",
       "      <th>min</th>\n",
       "      <td>1.000000</td>\n",
       "      <td>2013.000000</td>\n",
       "      <td>1.000000</td>\n",
       "      <td>1.000000</td>\n",
       "      <td>0.000000</td>\n",
       "      <td>2.000000</td>\n",
       "      <td>2.000000</td>\n",
       "      <td>1.000000</td>\n",
       "      <td>2.000000</td>\n",
       "      <td>100.000000</td>\n",
       "      <td>0.214200</td>\n",
       "      <td>-16.800000</td>\n",
       "      <td>985.900000</td>\n",
       "      <td>-35.300000</td>\n",
       "      <td>0.000000</td>\n",
       "      <td>0.000000</td>\n",
       "    </tr>\n",
       "    <tr>\n",
       "      <th>25%</th>\n",
       "      <td>8766.750000</td>\n",
       "      <td>2014.000000</td>\n",
       "      <td>4.000000</td>\n",
       "      <td>8.000000</td>\n",
       "      <td>5.750000</td>\n",
       "      <td>23.000000</td>\n",
       "      <td>40.000000</td>\n",
       "      <td>3.000000</td>\n",
       "      <td>31.000000</td>\n",
       "      <td>500.000000</td>\n",
       "      <td>7.000000</td>\n",
       "      <td>3.100000</td>\n",
       "      <td>1003.300000</td>\n",
       "      <td>-8.100000</td>\n",
       "      <td>0.000000</td>\n",
       "      <td>0.900000</td>\n",
       "    </tr>\n",
       "    <tr>\n",
       "      <th>50%</th>\n",
       "      <td>17532.500000</td>\n",
       "      <td>2015.000000</td>\n",
       "      <td>7.000000</td>\n",
       "      <td>16.000000</td>\n",
       "      <td>11.500000</td>\n",
       "      <td>59.000000</td>\n",
       "      <td>89.000000</td>\n",
       "      <td>8.000000</td>\n",
       "      <td>51.000000</td>\n",
       "      <td>900.000000</td>\n",
       "      <td>41.000000</td>\n",
       "      <td>14.500000</td>\n",
       "      <td>1011.400000</td>\n",
       "      <td>3.800000</td>\n",
       "      <td>0.000000</td>\n",
       "      <td>1.400000</td>\n",
       "    </tr>\n",
       "    <tr>\n",
       "      <th>75%</th>\n",
       "      <td>26298.250000</td>\n",
       "      <td>2016.000000</td>\n",
       "      <td>10.000000</td>\n",
       "      <td>23.000000</td>\n",
       "      <td>17.250000</td>\n",
       "      <td>115.000000</td>\n",
       "      <td>149.000000</td>\n",
       "      <td>22.000000</td>\n",
       "      <td>78.000000</td>\n",
       "      <td>1600.000000</td>\n",
       "      <td>81.000000</td>\n",
       "      <td>23.300000</td>\n",
       "      <td>1020.100000</td>\n",
       "      <td>15.600000</td>\n",
       "      <td>0.000000</td>\n",
       "      <td>2.200000</td>\n",
       "    </tr>\n",
       "    <tr>\n",
       "      <th>max</th>\n",
       "      <td>35064.000000</td>\n",
       "      <td>2017.000000</td>\n",
       "      <td>12.000000</td>\n",
       "      <td>31.000000</td>\n",
       "      <td>23.000000</td>\n",
       "      <td>680.000000</td>\n",
       "      <td>999.000000</td>\n",
       "      <td>293.000000</td>\n",
       "      <td>270.000000</td>\n",
       "      <td>10000.000000</td>\n",
       "      <td>415.000000</td>\n",
       "      <td>40.500000</td>\n",
       "      <td>1042.000000</td>\n",
       "      <td>28.500000</td>\n",
       "      <td>72.500000</td>\n",
       "      <td>11.200000</td>\n",
       "    </tr>\n",
       "  </tbody>\n",
       "</table>\n",
       "</div>"
      ],
      "text/plain": [
       "                 No          year         month           day          hour  \\\n",
       "count  35064.000000  35064.000000  35064.000000  35064.000000  35064.000000   \n",
       "mean   17532.500000   2014.662560      6.522930     15.729637     11.500000   \n",
       "std    10122.249256      1.177213      3.448752      8.800218      6.922285   \n",
       "min        1.000000   2013.000000      1.000000      1.000000      0.000000   \n",
       "25%     8766.750000   2014.000000      4.000000      8.000000      5.750000   \n",
       "50%    17532.500000   2015.000000      7.000000     16.000000     11.500000   \n",
       "75%    26298.250000   2016.000000     10.000000     23.000000     17.250000   \n",
       "max    35064.000000   2017.000000     12.000000     31.000000     23.000000   \n",
       "\n",
       "              PM2.5          PM10           SO2           NO2            CO  \\\n",
       "count  34448.000000  34635.000000  34590.000000  34405.000000  33311.000000   \n",
       "mean      82.933372    109.023303     17.590941     57.901643   1271.294377   \n",
       "std       80.933497     91.573709     23.600367     35.150857   1164.854945   \n",
       "min        2.000000      2.000000      1.000000      2.000000    100.000000   \n",
       "25%       23.000000     40.000000      3.000000     31.000000    500.000000   \n",
       "50%       59.000000     89.000000      8.000000     51.000000    900.000000   \n",
       "75%      115.000000    149.000000     22.000000     78.000000   1600.000000   \n",
       "max      680.000000    999.000000    293.000000    270.000000  10000.000000   \n",
       "\n",
       "                 O3          TEMP          PRES          DEWP          RAIN  \\\n",
       "count  33891.000000  35044.000000  35044.000000  35044.000000  35044.000000   \n",
       "mean      55.795044     13.584607   1011.846920      3.123062      0.067421   \n",
       "std       57.436983     11.399097     10.404047     13.688896      0.910056   \n",
       "min        0.214200    -16.800000    985.900000    -35.300000      0.000000   \n",
       "25%        7.000000      3.100000   1003.300000     -8.100000      0.000000   \n",
       "50%       41.000000     14.500000   1011.400000      3.800000      0.000000   \n",
       "75%       81.000000     23.300000   1020.100000     15.600000      0.000000   \n",
       "max      415.000000     40.500000   1042.000000     28.500000     72.500000   \n",
       "\n",
       "               WSPM  \n",
       "count  35050.000000  \n",
       "mean       1.708496  \n",
       "std        1.204071  \n",
       "min        0.000000  \n",
       "25%        0.900000  \n",
       "50%        1.400000  \n",
       "75%        2.200000  \n",
       "max       11.200000  "
      ]
     },
     "execution_count": 33,
     "metadata": {},
     "output_type": "execute_result"
    }
   ],
   "source": [
    "Guanyuan_df.describe()"
   ]
  },
  {
   "cell_type": "markdown",
   "metadata": {},
   "source": [
    "*temporary insight*\n",
    "\n",
    "Ditemukan beberapa keanehan pada kolom data:\n",
    "- PM2.5 MAX, nilai maksimum 680 untuk PM2.5 tampaknya cukup tinggi dibandingkan dengan standar kualitas udara yang umumnya menyarankan batas atas untuk PM2.5 di sekitar 300 µg/m³ untuk kondisi darurat. Ini bisa menunjukkan adanya kesalahan dalam pengukuran atau pencatatan data.\n",
    "- PM10 MAX, Sama halnya, nilai maksimum 999 untuk PM10 juga sangat tinggi. Sebagian besar nilai PM10 yang tinggi berpotensi mengindikasikan kesalahan data.\n",
    "- CO MAX, dengan nilai maksimum 10,000 untuk CO adalah sangat mencurigakan dan kemungkinan besar merupakan kesalahan. Biasanya, nilai CO yang terukur dalam µg/m³ atau ppm jauh lebih rendah.\n"
   ]
  },
  {
   "cell_type": "markdown",
   "metadata": {
    "jp-MarkdownHeadingCollapsed": true
   },
   "source": [
    "#### Menilai Data Gucheng_df"
   ]
  },
  {
   "cell_type": "code",
   "execution_count": 34,
   "metadata": {},
   "outputs": [
    {
     "name": "stdout",
     "output_type": "stream",
     "text": [
      "<class 'pandas.core.frame.DataFrame'>\n",
      "RangeIndex: 35064 entries, 0 to 35063\n",
      "Data columns (total 18 columns):\n",
      " #   Column   Non-Null Count  Dtype  \n",
      "---  ------   --------------  -----  \n",
      " 0   No       35064 non-null  int64  \n",
      " 1   year     35064 non-null  int64  \n",
      " 2   month    35064 non-null  int64  \n",
      " 3   day      35064 non-null  int64  \n",
      " 4   hour     35064 non-null  int64  \n",
      " 5   PM2.5    34418 non-null  float64\n",
      " 6   PM10     34683 non-null  float64\n",
      " 7   SO2      34557 non-null  float64\n",
      " 8   NO2      34396 non-null  float64\n",
      " 9   CO       33663 non-null  float64\n",
      " 10  O3       34335 non-null  float64\n",
      " 11  TEMP     35013 non-null  float64\n",
      " 12  PRES     35014 non-null  float64\n",
      " 13  DEWP     35013 non-null  float64\n",
      " 14  RAIN     35021 non-null  float64\n",
      " 15  wd       34905 non-null  object \n",
      " 16  WSPM     35022 non-null  float64\n",
      " 17  station  35064 non-null  object \n",
      "dtypes: float64(11), int64(5), object(2)\n",
      "memory usage: 4.8+ MB\n"
     ]
    }
   ],
   "source": [
    "Gucheng_df.info()"
   ]
  },
  {
   "cell_type": "markdown",
   "metadata": {},
   "source": [
    "*temporary insight*\n",
    "\n",
    "Berdasarkan output tersebut, bisa dilihat **adanya missing values** yang tersebar di beberapa kolom. Kolom-kolom yang memiliki missing values terutama pada parameter polusi udara seperti PM2.5, PM10, SO2, NO2, CO, dan O3 cukup signifikan, dan lainnya. Untuk melanjutkan analisis, perlu dilakukan data cleaning seperti menghapus baris yang mengandung missing values, atau menggunakan teknik imputasi.\n"
   ]
  },
  {
   "cell_type": "code",
   "execution_count": 35,
   "metadata": {},
   "outputs": [
    {
     "data": {
      "text/plain": [
       "No            0\n",
       "year          0\n",
       "month         0\n",
       "day           0\n",
       "hour          0\n",
       "PM2.5       646\n",
       "PM10        381\n",
       "SO2         507\n",
       "NO2         668\n",
       "CO         1401\n",
       "O3          729\n",
       "TEMP         51\n",
       "PRES         50\n",
       "DEWP         51\n",
       "RAIN         43\n",
       "wd          159\n",
       "WSPM         42\n",
       "station       0\n",
       "dtype: int64"
      ]
     },
     "execution_count": 35,
     "metadata": {},
     "output_type": "execute_result"
    }
   ],
   "source": [
    "Gucheng_df.isna().sum()"
   ]
  },
  {
   "cell_type": "markdown",
   "metadata": {},
   "source": [
    "*temporary insight*\n",
    "\n",
    "Berikut beberapa kolom yang memiliki missing values:\n",
    "Kolom PM2.5: Hanya ada 34.418 data dari 35.064 baris, berarti ada 646 missing values.\n",
    "- Kolom PM10: Ada 34.683 data, sehingga ada 381 missing values.\n",
    "- Kolom SO2: Ada 34.557 data, terdapat 507 missing values.\n",
    "- Kolom NO2: Ada 34.396 data, terdapat 668 missing values.\n",
    "- Kolom CO: Ada 33.663 data, terdapat 1.401 missing values.\n",
    "- Kolom O3: Ada 34.335 data, terdapat 729 missing values.\n",
    "- Kolom TEMP, PRES, DEWP, RAIN, WSPM: Ada sedikit missing values (sekitar 50 baris yang hilang).\n",
    "- Kolom wd: Ada 34.905 data, sehingga ada 159 missing values di kolom ini."
   ]
  },
  {
   "cell_type": "code",
   "execution_count": 36,
   "metadata": {},
   "outputs": [
    {
     "name": "stdout",
     "output_type": "stream",
     "text": [
      "jumlah duplikasi data Gucheng_df:  0\n"
     ]
    }
   ],
   "source": [
    "print(\"jumlah duplikasi data Gucheng_df: \", Gucheng_df.duplicated().sum())"
   ]
  },
  {
   "cell_type": "markdown",
   "metadata": {},
   "source": [
    "*temporary insight*\n",
    "\n",
    "Dari kode pengecekan duplikasi data di atas, **tidak ditemukan** adanya **duplikasi data** pada data Gucheng_df tersebut."
   ]
  },
  {
   "cell_type": "code",
   "execution_count": 37,
   "metadata": {},
   "outputs": [
    {
     "data": {
      "text/html": [
       "<div>\n",
       "<style scoped>\n",
       "    .dataframe tbody tr th:only-of-type {\n",
       "        vertical-align: middle;\n",
       "    }\n",
       "\n",
       "    .dataframe tbody tr th {\n",
       "        vertical-align: top;\n",
       "    }\n",
       "\n",
       "    .dataframe thead th {\n",
       "        text-align: right;\n",
       "    }\n",
       "</style>\n",
       "<table border=\"1\" class=\"dataframe\">\n",
       "  <thead>\n",
       "    <tr style=\"text-align: right;\">\n",
       "      <th></th>\n",
       "      <th>No</th>\n",
       "      <th>year</th>\n",
       "      <th>month</th>\n",
       "      <th>day</th>\n",
       "      <th>hour</th>\n",
       "      <th>PM2.5</th>\n",
       "      <th>PM10</th>\n",
       "      <th>SO2</th>\n",
       "      <th>NO2</th>\n",
       "      <th>CO</th>\n",
       "      <th>O3</th>\n",
       "      <th>TEMP</th>\n",
       "      <th>PRES</th>\n",
       "      <th>DEWP</th>\n",
       "      <th>RAIN</th>\n",
       "      <th>WSPM</th>\n",
       "    </tr>\n",
       "  </thead>\n",
       "  <tbody>\n",
       "    <tr>\n",
       "      <th>count</th>\n",
       "      <td>35064.000000</td>\n",
       "      <td>35064.000000</td>\n",
       "      <td>35064.000000</td>\n",
       "      <td>35064.000000</td>\n",
       "      <td>35064.000000</td>\n",
       "      <td>34418.000000</td>\n",
       "      <td>34683.000000</td>\n",
       "      <td>34557.000000</td>\n",
       "      <td>34396.000000</td>\n",
       "      <td>33663.000000</td>\n",
       "      <td>34335.000000</td>\n",
       "      <td>35013.000000</td>\n",
       "      <td>35014.000000</td>\n",
       "      <td>35013.000000</td>\n",
       "      <td>35021.000000</td>\n",
       "      <td>35022.000000</td>\n",
       "    </tr>\n",
       "    <tr>\n",
       "      <th>mean</th>\n",
       "      <td>17532.500000</td>\n",
       "      <td>2014.662560</td>\n",
       "      <td>6.522930</td>\n",
       "      <td>15.729637</td>\n",
       "      <td>11.500000</td>\n",
       "      <td>83.852089</td>\n",
       "      <td>118.861978</td>\n",
       "      <td>15.366162</td>\n",
       "      <td>55.871075</td>\n",
       "      <td>1323.974423</td>\n",
       "      <td>57.694879</td>\n",
       "      <td>13.864524</td>\n",
       "      <td>1008.829592</td>\n",
       "      <td>2.610442</td>\n",
       "      <td>0.064453</td>\n",
       "      <td>1.343310</td>\n",
       "    </tr>\n",
       "    <tr>\n",
       "      <th>std</th>\n",
       "      <td>10122.249256</td>\n",
       "      <td>1.177213</td>\n",
       "      <td>3.448752</td>\n",
       "      <td>8.800218</td>\n",
       "      <td>6.922285</td>\n",
       "      <td>82.796445</td>\n",
       "      <td>96.742626</td>\n",
       "      <td>21.204526</td>\n",
       "      <td>36.473860</td>\n",
       "      <td>1208.957772</td>\n",
       "      <td>57.019587</td>\n",
       "      <td>11.292857</td>\n",
       "      <td>10.103256</td>\n",
       "      <td>13.782991</td>\n",
       "      <td>0.838654</td>\n",
       "      <td>1.151064</td>\n",
       "    </tr>\n",
       "    <tr>\n",
       "      <th>min</th>\n",
       "      <td>1.000000</td>\n",
       "      <td>2013.000000</td>\n",
       "      <td>1.000000</td>\n",
       "      <td>1.000000</td>\n",
       "      <td>0.000000</td>\n",
       "      <td>2.000000</td>\n",
       "      <td>2.000000</td>\n",
       "      <td>0.285600</td>\n",
       "      <td>2.000000</td>\n",
       "      <td>100.000000</td>\n",
       "      <td>0.214200</td>\n",
       "      <td>-15.600000</td>\n",
       "      <td>984.000000</td>\n",
       "      <td>-34.600000</td>\n",
       "      <td>0.000000</td>\n",
       "      <td>0.000000</td>\n",
       "    </tr>\n",
       "    <tr>\n",
       "      <th>25%</th>\n",
       "      <td>8766.750000</td>\n",
       "      <td>2014.000000</td>\n",
       "      <td>4.000000</td>\n",
       "      <td>8.000000</td>\n",
       "      <td>5.750000</td>\n",
       "      <td>24.000000</td>\n",
       "      <td>45.000000</td>\n",
       "      <td>2.000000</td>\n",
       "      <td>26.000000</td>\n",
       "      <td>600.000000</td>\n",
       "      <td>10.000000</td>\n",
       "      <td>3.600000</td>\n",
       "      <td>1000.500000</td>\n",
       "      <td>-8.900000</td>\n",
       "      <td>0.000000</td>\n",
       "      <td>0.600000</td>\n",
       "    </tr>\n",
       "    <tr>\n",
       "      <th>50%</th>\n",
       "      <td>17532.500000</td>\n",
       "      <td>2015.000000</td>\n",
       "      <td>7.000000</td>\n",
       "      <td>16.000000</td>\n",
       "      <td>11.500000</td>\n",
       "      <td>60.000000</td>\n",
       "      <td>99.000000</td>\n",
       "      <td>7.000000</td>\n",
       "      <td>50.000000</td>\n",
       "      <td>900.000000</td>\n",
       "      <td>45.000000</td>\n",
       "      <td>14.800000</td>\n",
       "      <td>1008.500000</td>\n",
       "      <td>3.000000</td>\n",
       "      <td>0.000000</td>\n",
       "      <td>1.000000</td>\n",
       "    </tr>\n",
       "    <tr>\n",
       "      <th>75%</th>\n",
       "      <td>26298.250000</td>\n",
       "      <td>2016.000000</td>\n",
       "      <td>10.000000</td>\n",
       "      <td>23.000000</td>\n",
       "      <td>17.250000</td>\n",
       "      <td>115.750000</td>\n",
       "      <td>167.000000</td>\n",
       "      <td>20.000000</td>\n",
       "      <td>79.000000</td>\n",
       "      <td>1600.000000</td>\n",
       "      <td>83.000000</td>\n",
       "      <td>23.500000</td>\n",
       "      <td>1017.000000</td>\n",
       "      <td>15.300000</td>\n",
       "      <td>0.000000</td>\n",
       "      <td>1.800000</td>\n",
       "    </tr>\n",
       "    <tr>\n",
       "      <th>max</th>\n",
       "      <td>35064.000000</td>\n",
       "      <td>2017.000000</td>\n",
       "      <td>12.000000</td>\n",
       "      <td>31.000000</td>\n",
       "      <td>23.000000</td>\n",
       "      <td>770.000000</td>\n",
       "      <td>994.000000</td>\n",
       "      <td>500.000000</td>\n",
       "      <td>276.000000</td>\n",
       "      <td>10000.000000</td>\n",
       "      <td>450.000000</td>\n",
       "      <td>41.600000</td>\n",
       "      <td>1038.100000</td>\n",
       "      <td>27.400000</td>\n",
       "      <td>41.900000</td>\n",
       "      <td>12.000000</td>\n",
       "    </tr>\n",
       "  </tbody>\n",
       "</table>\n",
       "</div>"
      ],
      "text/plain": [
       "                 No          year         month           day          hour  \\\n",
       "count  35064.000000  35064.000000  35064.000000  35064.000000  35064.000000   \n",
       "mean   17532.500000   2014.662560      6.522930     15.729637     11.500000   \n",
       "std    10122.249256      1.177213      3.448752      8.800218      6.922285   \n",
       "min        1.000000   2013.000000      1.000000      1.000000      0.000000   \n",
       "25%     8766.750000   2014.000000      4.000000      8.000000      5.750000   \n",
       "50%    17532.500000   2015.000000      7.000000     16.000000     11.500000   \n",
       "75%    26298.250000   2016.000000     10.000000     23.000000     17.250000   \n",
       "max    35064.000000   2017.000000     12.000000     31.000000     23.000000   \n",
       "\n",
       "              PM2.5          PM10           SO2           NO2            CO  \\\n",
       "count  34418.000000  34683.000000  34557.000000  34396.000000  33663.000000   \n",
       "mean      83.852089    118.861978     15.366162     55.871075   1323.974423   \n",
       "std       82.796445     96.742626     21.204526     36.473860   1208.957772   \n",
       "min        2.000000      2.000000      0.285600      2.000000    100.000000   \n",
       "25%       24.000000     45.000000      2.000000     26.000000    600.000000   \n",
       "50%       60.000000     99.000000      7.000000     50.000000    900.000000   \n",
       "75%      115.750000    167.000000     20.000000     79.000000   1600.000000   \n",
       "max      770.000000    994.000000    500.000000    276.000000  10000.000000   \n",
       "\n",
       "                 O3          TEMP          PRES          DEWP          RAIN  \\\n",
       "count  34335.000000  35013.000000  35014.000000  35013.000000  35021.000000   \n",
       "mean      57.694879     13.864524   1008.829592      2.610442      0.064453   \n",
       "std       57.019587     11.292857     10.103256     13.782991      0.838654   \n",
       "min        0.214200    -15.600000    984.000000    -34.600000      0.000000   \n",
       "25%       10.000000      3.600000   1000.500000     -8.900000      0.000000   \n",
       "50%       45.000000     14.800000   1008.500000      3.000000      0.000000   \n",
       "75%       83.000000     23.500000   1017.000000     15.300000      0.000000   \n",
       "max      450.000000     41.600000   1038.100000     27.400000     41.900000   \n",
       "\n",
       "               WSPM  \n",
       "count  35022.000000  \n",
       "mean       1.343310  \n",
       "std        1.151064  \n",
       "min        0.000000  \n",
       "25%        0.600000  \n",
       "50%        1.000000  \n",
       "75%        1.800000  \n",
       "max       12.000000  "
      ]
     },
     "execution_count": 37,
     "metadata": {},
     "output_type": "execute_result"
    }
   ],
   "source": [
    "Gucheng_df.describe()"
   ]
  },
  {
   "cell_type": "markdown",
   "metadata": {},
   "source": [
    "*temporary insight*\n",
    "\n",
    "Berdasarkan data desripsi data Gucheng_df ditemukan beberapa keanehan atau nilai yang sepertinya tidak akurat. Seperti Kolom-kolom dengan nilai Maksimum (Max) atau minimum (Min) yang tidak wajar.\n",
    "\n",
    "Nilai maksimum untuk PM2.5, PM10, SO2, NO2, CO, dan O3 menunjukkan kemungkinan adanya outlier atau data yang tidak realistis, terutama pada kolom CO (dengan nilai maksimum 10.000 ppm). Biasanya, level polutan ini berkisar di rentang yang lebih rendah. Oleh karena itu, perlu dilakukan deteksi outlier atau handling outliers.\n",
    "\n",
    "Kolom Meteorologi: Beberapa nilai seperti suhu minimum -15.6°C dan titik embun -34.6°C mungkin terlalu rendah dan perlu diteliti lebih lanjut. Ini mungkin terjadi karena kesalahan pengukuran atau format data yang salah. Sehingga perlu dilakukan koreksi lebih lanjut"
   ]
  },
  {
   "cell_type": "markdown",
   "metadata": {
    "jp-MarkdownHeadingCollapsed": true
   },
   "source": [
    "#### Menilai Data Huairou_df"
   ]
  },
  {
   "cell_type": "code",
   "execution_count": 38,
   "metadata": {},
   "outputs": [
    {
     "name": "stdout",
     "output_type": "stream",
     "text": [
      "<class 'pandas.core.frame.DataFrame'>\n",
      "RangeIndex: 35064 entries, 0 to 35063\n",
      "Data columns (total 18 columns):\n",
      " #   Column   Non-Null Count  Dtype  \n",
      "---  ------   --------------  -----  \n",
      " 0   No       35064 non-null  int64  \n",
      " 1   year     35064 non-null  int64  \n",
      " 2   month    35064 non-null  int64  \n",
      " 3   day      35064 non-null  int64  \n",
      " 4   hour     35064 non-null  int64  \n",
      " 5   PM2.5    34111 non-null  float64\n",
      " 6   PM10     34287 non-null  float64\n",
      " 7   SO2      34084 non-null  float64\n",
      " 8   NO2      33425 non-null  float64\n",
      " 9   CO       33642 non-null  float64\n",
      " 10  O3       33913 non-null  float64\n",
      " 11  TEMP     35013 non-null  float64\n",
      " 12  PRES     35011 non-null  float64\n",
      " 13  DEWP     35011 non-null  float64\n",
      " 14  RAIN     35009 non-null  float64\n",
      " 15  wd       34762 non-null  object \n",
      " 16  WSPM     35015 non-null  float64\n",
      " 17  station  35064 non-null  object \n",
      "dtypes: float64(11), int64(5), object(2)\n",
      "memory usage: 4.8+ MB\n"
     ]
    }
   ],
   "source": [
    "Huairou_df.info()"
   ]
  },
  {
   "cell_type": "markdown",
   "metadata": {},
   "source": [
    "*temporary insight*\n",
    "\n",
    "Dari informasi yang ditampilkan di atas berdasarkan data Huairou_df, ditemukannya masalah **missing values** pada beberapa kolom. Termasuk pada kolom polutan (PM2.5, PM10, SO2, NO2, CO, O3).Terdapat perbedaan jumlah data yang cukup signifikan pada kolom-kolom ini, yang menunjukkan adanya ketidaksesuaian dalam pencatatan data di stasiun pemantauan. Dan juga pada kolom meteorologi  (TEMP, PRES, DEWP, RAIN, WSPM). Jumlah missing values pada kolom meteorologi jauh lebih sedikit dibandingkan dengan kolom polutan. Hal ini mungkin menunjukkan bahwa alat pengukur kondisi meteorologi lebih andal atau lebih sering diperiksa dan diperbaiki. Serta pada kolom wd (arah angin), ada sekitar 302 missing values di kolom ini, yang mungkin disebabkan oleh ketidakmampuan stasiun untuk mengukur arah angin pada saat-saat tertentu. Untuk melihat detail missing values pada tiap-tiap kolomnya dapat ditampilkan pada cell code berikut `Huairou_df.isna().sum()`"
   ]
  },
  {
   "cell_type": "code",
   "execution_count": 39,
   "metadata": {},
   "outputs": [
    {
     "data": {
      "text/plain": [
       "No            0\n",
       "year          0\n",
       "month         0\n",
       "day           0\n",
       "hour          0\n",
       "PM2.5       953\n",
       "PM10        777\n",
       "SO2         980\n",
       "NO2        1639\n",
       "CO         1422\n",
       "O3         1151\n",
       "TEMP         51\n",
       "PRES         53\n",
       "DEWP         53\n",
       "RAIN         55\n",
       "wd          302\n",
       "WSPM         49\n",
       "station       0\n",
       "dtype: int64"
      ]
     },
     "execution_count": 39,
     "metadata": {},
     "output_type": "execute_result"
    }
   ],
   "source": [
    "Huairou_df.isna().sum()"
   ]
  },
  {
   "cell_type": "markdown",
   "metadata": {},
   "source": [
    "*temporary insight*\n",
    "\n",
    "Berikut detail missing values yang ditemukan berdasarkan informasi di atas:\n",
    "\n",
    "- Kolom Polutan:\n",
    "  - PM2.5: Memiliki 34.111 data non-null, jadi terdapat 953 missing values dari total 35.064 data.\n",
    "  - PM10: Memiliki 34.287 data non-null, terdapat 777 missing values.\n",
    "  - SO2: Memiliki 34.084 data non-null, terdapat 980 missing values.\n",
    "  - NO2: Memiliki 33.425 data non-null, terdapat 1.639 missing values.\n",
    "  - CO: Memiliki 33.642 data non-null, terdapat 1.422 missing values.\n",
    "  - O3: Memiliki 33.913 data non-null, terdapat 1.151 missing values.\n",
    "\n",
    "\n",
    "\n",
    "- Kolom Meteorologi:\n",
    "  - TEMP: Memiliki 35.013 data non-null, sehingga terdapat 51 missing values.\n",
    "  - PRES: Memiliki 35.011 data non-null, terdapat 53 missing values.\n",
    "  - DEWP: Memiliki 35.011 data non-null, terdapat 53 missing values.\n",
    "  - RAIN: Memiliki 35.009 data non-null, terdapat 55 missing values.\n",
    "  - WSPM: Memiliki 35.015 data non-null, terdapat 49 missing values.\n",
    "\n",
    "\n",
    "\n",
    "- Kolom wd (Arah Angin):\n",
    "  - Memiliki 34.762 data non-null, sehingga terdapat 302 missing values."
   ]
  },
  {
   "cell_type": "code",
   "execution_count": 40,
   "metadata": {},
   "outputs": [
    {
     "name": "stdout",
     "output_type": "stream",
     "text": [
      "Jumlah duplikasi data Huairou_df:  0\n"
     ]
    }
   ],
   "source": [
    "print(\"Jumlah duplikasi data Huairou_df: \", Huairou_df.duplicated().sum())"
   ]
  },
  {
   "cell_type": "markdown",
   "metadata": {},
   "source": [
    "*temporary insight*\n",
    "\n",
    "Dari kode pengecekan duplikasi data di atas, **tidak ditemukan** adanya **duplikasi data** pada data Huairou_df tersebut."
   ]
  },
  {
   "cell_type": "code",
   "execution_count": 41,
   "metadata": {},
   "outputs": [
    {
     "data": {
      "text/html": [
       "<div>\n",
       "<style scoped>\n",
       "    .dataframe tbody tr th:only-of-type {\n",
       "        vertical-align: middle;\n",
       "    }\n",
       "\n",
       "    .dataframe tbody tr th {\n",
       "        vertical-align: top;\n",
       "    }\n",
       "\n",
       "    .dataframe thead th {\n",
       "        text-align: right;\n",
       "    }\n",
       "</style>\n",
       "<table border=\"1\" class=\"dataframe\">\n",
       "  <thead>\n",
       "    <tr style=\"text-align: right;\">\n",
       "      <th></th>\n",
       "      <th>No</th>\n",
       "      <th>year</th>\n",
       "      <th>month</th>\n",
       "      <th>day</th>\n",
       "      <th>hour</th>\n",
       "      <th>PM2.5</th>\n",
       "      <th>PM10</th>\n",
       "      <th>SO2</th>\n",
       "      <th>NO2</th>\n",
       "      <th>CO</th>\n",
       "      <th>O3</th>\n",
       "      <th>TEMP</th>\n",
       "      <th>PRES</th>\n",
       "      <th>DEWP</th>\n",
       "      <th>RAIN</th>\n",
       "      <th>WSPM</th>\n",
       "    </tr>\n",
       "  </thead>\n",
       "  <tbody>\n",
       "    <tr>\n",
       "      <th>count</th>\n",
       "      <td>35064.000000</td>\n",
       "      <td>35064.000000</td>\n",
       "      <td>35064.000000</td>\n",
       "      <td>35064.000000</td>\n",
       "      <td>35064.000000</td>\n",
       "      <td>34111.000000</td>\n",
       "      <td>34287.000000</td>\n",
       "      <td>34084.000000</td>\n",
       "      <td>33425.000000</td>\n",
       "      <td>33642.000000</td>\n",
       "      <td>33913.000000</td>\n",
       "      <td>35013.000000</td>\n",
       "      <td>35011.000000</td>\n",
       "      <td>35011.000000</td>\n",
       "      <td>35009.000000</td>\n",
       "      <td>35015.000000</td>\n",
       "    </tr>\n",
       "    <tr>\n",
       "      <th>mean</th>\n",
       "      <td>17532.500000</td>\n",
       "      <td>2014.662560</td>\n",
       "      <td>6.522930</td>\n",
       "      <td>15.729637</td>\n",
       "      <td>11.500000</td>\n",
       "      <td>69.626367</td>\n",
       "      <td>91.482690</td>\n",
       "      <td>12.121553</td>\n",
       "      <td>32.497250</td>\n",
       "      <td>1022.554545</td>\n",
       "      <td>59.824713</td>\n",
       "      <td>12.445426</td>\n",
       "      <td>1007.598568</td>\n",
       "      <td>2.238619</td>\n",
       "      <td>0.067940</td>\n",
       "      <td>1.652021</td>\n",
       "    </tr>\n",
       "    <tr>\n",
       "      <th>std</th>\n",
       "      <td>10122.249256</td>\n",
       "      <td>1.177213</td>\n",
       "      <td>3.448752</td>\n",
       "      <td>8.800218</td>\n",
       "      <td>6.922285</td>\n",
       "      <td>71.224916</td>\n",
       "      <td>83.289578</td>\n",
       "      <td>18.896912</td>\n",
       "      <td>26.489531</td>\n",
       "      <td>898.738241</td>\n",
       "      <td>54.605746</td>\n",
       "      <td>11.751103</td>\n",
       "      <td>10.022101</td>\n",
       "      <td>14.052541</td>\n",
       "      <td>0.849046</td>\n",
       "      <td>1.199143</td>\n",
       "    </tr>\n",
       "    <tr>\n",
       "      <th>min</th>\n",
       "      <td>1.000000</td>\n",
       "      <td>2013.000000</td>\n",
       "      <td>1.000000</td>\n",
       "      <td>1.000000</td>\n",
       "      <td>0.000000</td>\n",
       "      <td>2.000000</td>\n",
       "      <td>2.000000</td>\n",
       "      <td>0.285600</td>\n",
       "      <td>1.026500</td>\n",
       "      <td>100.000000</td>\n",
       "      <td>0.214200</td>\n",
       "      <td>-19.900000</td>\n",
       "      <td>982.800000</td>\n",
       "      <td>-43.400000</td>\n",
       "      <td>0.000000</td>\n",
       "      <td>0.000000</td>\n",
       "    </tr>\n",
       "    <tr>\n",
       "      <th>25%</th>\n",
       "      <td>8766.750000</td>\n",
       "      <td>2014.000000</td>\n",
       "      <td>4.000000</td>\n",
       "      <td>8.000000</td>\n",
       "      <td>5.750000</td>\n",
       "      <td>17.000000</td>\n",
       "      <td>28.000000</td>\n",
       "      <td>2.000000</td>\n",
       "      <td>12.000000</td>\n",
       "      <td>400.000000</td>\n",
       "      <td>18.000000</td>\n",
       "      <td>2.100000</td>\n",
       "      <td>999.300000</td>\n",
       "      <td>-9.600000</td>\n",
       "      <td>0.000000</td>\n",
       "      <td>0.900000</td>\n",
       "    </tr>\n",
       "    <tr>\n",
       "      <th>50%</th>\n",
       "      <td>17532.500000</td>\n",
       "      <td>2015.000000</td>\n",
       "      <td>7.000000</td>\n",
       "      <td>16.000000</td>\n",
       "      <td>11.500000</td>\n",
       "      <td>47.000000</td>\n",
       "      <td>69.000000</td>\n",
       "      <td>4.000000</td>\n",
       "      <td>25.000000</td>\n",
       "      <td>800.000000</td>\n",
       "      <td>49.000000</td>\n",
       "      <td>13.600000</td>\n",
       "      <td>1007.300000</td>\n",
       "      <td>2.700000</td>\n",
       "      <td>0.000000</td>\n",
       "      <td>1.300000</td>\n",
       "    </tr>\n",
       "    <tr>\n",
       "      <th>75%</th>\n",
       "      <td>26298.250000</td>\n",
       "      <td>2016.000000</td>\n",
       "      <td>10.000000</td>\n",
       "      <td>23.000000</td>\n",
       "      <td>17.250000</td>\n",
       "      <td>98.000000</td>\n",
       "      <td>131.000000</td>\n",
       "      <td>14.000000</td>\n",
       "      <td>46.000000</td>\n",
       "      <td>1300.000000</td>\n",
       "      <td>83.000000</td>\n",
       "      <td>22.300000</td>\n",
       "      <td>1015.500000</td>\n",
       "      <td>15.300000</td>\n",
       "      <td>0.000000</td>\n",
       "      <td>2.000000</td>\n",
       "    </tr>\n",
       "    <tr>\n",
       "      <th>max</th>\n",
       "      <td>35064.000000</td>\n",
       "      <td>2017.000000</td>\n",
       "      <td>12.000000</td>\n",
       "      <td>31.000000</td>\n",
       "      <td>23.000000</td>\n",
       "      <td>762.000000</td>\n",
       "      <td>993.000000</td>\n",
       "      <td>315.000000</td>\n",
       "      <td>231.000000</td>\n",
       "      <td>10000.000000</td>\n",
       "      <td>444.000000</td>\n",
       "      <td>40.300000</td>\n",
       "      <td>1036.500000</td>\n",
       "      <td>29.100000</td>\n",
       "      <td>45.900000</td>\n",
       "      <td>12.900000</td>\n",
       "    </tr>\n",
       "  </tbody>\n",
       "</table>\n",
       "</div>"
      ],
      "text/plain": [
       "                 No          year         month           day          hour  \\\n",
       "count  35064.000000  35064.000000  35064.000000  35064.000000  35064.000000   \n",
       "mean   17532.500000   2014.662560      6.522930     15.729637     11.500000   \n",
       "std    10122.249256      1.177213      3.448752      8.800218      6.922285   \n",
       "min        1.000000   2013.000000      1.000000      1.000000      0.000000   \n",
       "25%     8766.750000   2014.000000      4.000000      8.000000      5.750000   \n",
       "50%    17532.500000   2015.000000      7.000000     16.000000     11.500000   \n",
       "75%    26298.250000   2016.000000     10.000000     23.000000     17.250000   \n",
       "max    35064.000000   2017.000000     12.000000     31.000000     23.000000   \n",
       "\n",
       "              PM2.5          PM10           SO2           NO2            CO  \\\n",
       "count  34111.000000  34287.000000  34084.000000  33425.000000  33642.000000   \n",
       "mean      69.626367     91.482690     12.121553     32.497250   1022.554545   \n",
       "std       71.224916     83.289578     18.896912     26.489531    898.738241   \n",
       "min        2.000000      2.000000      0.285600      1.026500    100.000000   \n",
       "25%       17.000000     28.000000      2.000000     12.000000    400.000000   \n",
       "50%       47.000000     69.000000      4.000000     25.000000    800.000000   \n",
       "75%       98.000000    131.000000     14.000000     46.000000   1300.000000   \n",
       "max      762.000000    993.000000    315.000000    231.000000  10000.000000   \n",
       "\n",
       "                 O3          TEMP          PRES          DEWP          RAIN  \\\n",
       "count  33913.000000  35013.000000  35011.000000  35011.000000  35009.000000   \n",
       "mean      59.824713     12.445426   1007.598568      2.238619      0.067940   \n",
       "std       54.605746     11.751103     10.022101     14.052541      0.849046   \n",
       "min        0.214200    -19.900000    982.800000    -43.400000      0.000000   \n",
       "25%       18.000000      2.100000    999.300000     -9.600000      0.000000   \n",
       "50%       49.000000     13.600000   1007.300000      2.700000      0.000000   \n",
       "75%       83.000000     22.300000   1015.500000     15.300000      0.000000   \n",
       "max      444.000000     40.300000   1036.500000     29.100000     45.900000   \n",
       "\n",
       "               WSPM  \n",
       "count  35015.000000  \n",
       "mean       1.652021  \n",
       "std        1.199143  \n",
       "min        0.000000  \n",
       "25%        0.900000  \n",
       "50%        1.300000  \n",
       "75%        2.000000  \n",
       "max       12.900000  "
      ]
     },
     "execution_count": 41,
     "metadata": {},
     "output_type": "execute_result"
    }
   ],
   "source": [
    "Huairou_df.describe()"
   ]
  },
  {
   "cell_type": "markdown",
   "metadata": {},
   "source": [
    "*temporary insight*\n",
    "\n",
    "Dari informasi yang ditampilkan mengenai data Hairou_df di atas dijumpai beberapa keanehan atau kemungkinan nilai yang tidak akurat pada beberapa kolom yang mungkin memerlukan tahpaan data cleaning.\n",
    "\n",
    "Kolom polutan seperti PM2.5, PM10, SO2, NO2, CO memiliki nilai maksimum yang cukup tinggi, terutama CO yang mencapai 10,000. Ini bisa jadi outlier atau kesalahan pengukuran, yang perlu dianalisis lebih lanjut.\n",
    "\n",
    "Kemudian pada kolom Meteorologi, kolom DEWP memiliki nilai minimum -43.4°C, yang tampaknya ekstrem dan mungkin tidak masuk akal dalam konteks iklim normal. Ini perlu dicek sebagai potensi outlier atau kesalahan data."
   ]
  },
  {
   "cell_type": "markdown",
   "metadata": {
    "jp-MarkdownHeadingCollapsed": true
   },
   "source": [
    "#### Menilai Data Nongzhanguan_df"
   ]
  },
  {
   "cell_type": "code",
   "execution_count": 42,
   "metadata": {},
   "outputs": [
    {
     "name": "stdout",
     "output_type": "stream",
     "text": [
      "<class 'pandas.core.frame.DataFrame'>\n",
      "RangeIndex: 35064 entries, 0 to 35063\n",
      "Data columns (total 18 columns):\n",
      " #   Column   Non-Null Count  Dtype  \n",
      "---  ------   --------------  -----  \n",
      " 0   No       35064 non-null  int64  \n",
      " 1   year     35064 non-null  int64  \n",
      " 2   month    35064 non-null  int64  \n",
      " 3   day      35064 non-null  int64  \n",
      " 4   hour     35064 non-null  int64  \n",
      " 5   PM2.5    34111 non-null  float64\n",
      " 6   PM10     34287 non-null  float64\n",
      " 7   SO2      34084 non-null  float64\n",
      " 8   NO2      33425 non-null  float64\n",
      " 9   CO       33642 non-null  float64\n",
      " 10  O3       33913 non-null  float64\n",
      " 11  TEMP     35013 non-null  float64\n",
      " 12  PRES     35011 non-null  float64\n",
      " 13  DEWP     35011 non-null  float64\n",
      " 14  RAIN     35009 non-null  float64\n",
      " 15  wd       34762 non-null  object \n",
      " 16  WSPM     35015 non-null  float64\n",
      " 17  station  35064 non-null  object \n",
      "dtypes: float64(11), int64(5), object(2)\n",
      "memory usage: 4.8+ MB\n"
     ]
    }
   ],
   "source": [
    "Nongzhanguan_df.info()"
   ]
  },
  {
   "cell_type": "markdown",
   "metadata": {},
   "source": [
    "*temporary insight*\n",
    "\n",
    "Berdasarkan informasi yang ditampilkan, ditemukan bahwa hampir semua kolom terkait polutan dan variabel meteorologi memiliki missing values dalam jumlah yang bervariasi. Kolom NO2 dan CO memiliki missing values paling banyak (lebih dari 1,000 entri yang hilang). Sebagian besar kolom terkait kualitas udara dan variabel meteorologi memiliki data yang hilang. Ini perlu ditangani, mungkin dengan metode imputasi atau penghapusan baris tergantung pada jumlah data yang hilang dan pentingnya kolom tersebut untuk analisis. Untuk melihat detail missing values dari tiap-tiap kolom bisa dilakukan pengecekan dengan code berikut `Nongzhanguan_df.isna().sum()`"
   ]
  },
  {
   "cell_type": "code",
   "execution_count": 43,
   "metadata": {},
   "outputs": [
    {
     "data": {
      "text/plain": [
       "No            0\n",
       "year          0\n",
       "month         0\n",
       "day           0\n",
       "hour          0\n",
       "PM2.5       953\n",
       "PM10        777\n",
       "SO2         980\n",
       "NO2        1639\n",
       "CO         1422\n",
       "O3         1151\n",
       "TEMP         51\n",
       "PRES         53\n",
       "DEWP         53\n",
       "RAIN         55\n",
       "wd          302\n",
       "WSPM         49\n",
       "station       0\n",
       "dtype: int64"
      ]
     },
     "execution_count": 43,
     "metadata": {},
     "output_type": "execute_result"
    }
   ],
   "source": [
    "Nongzhanguan_df.isna().sum()"
   ]
  },
  {
   "cell_type": "markdown",
   "metadata": {},
   "source": [
    "*temporary insight*\n",
    "\n",
    "Beberapa kolom memiliki jumlah data yang lebih sedikit dari 35,064, yang berarti ada missing values. Kolom yang terpengaruh dan jumlah data non-null-nya adalah:\n",
    "\n",
    "- PM2.5: 34,111 non-null (kehilangan 953 data)\n",
    "- PM10: 34,287 non-null (kehilangan 777 data)\n",
    "- SO2: 34,084 non-null (kehilangan 980 data)\n",
    "- NO2: 33,425 non-null (kehilangan 1,639 data)\n",
    "- CO: 33,642 non-null (kehilangan 1,422 data)\n",
    "- O3: 33,913 non-null (kehilangan 1,151 data)\n",
    "- TEMP: 35,013 non-null (kehilangan 51 data)\n",
    "- PRES: 35,011 non-null (kehilangan 53 data)\n",
    "- DEWP: 35,011 non-null (kehilangan 53 data)\n",
    "- RAIN: 35,009 non-null (kehilangan 55 data)\n",
    "- wd: 34,762 non-null (kehilangan 302 data)\n",
    "- WSPM: 35,015 non-null (kehilangan 49 data)"
   ]
  },
  {
   "cell_type": "code",
   "execution_count": 44,
   "metadata": {},
   "outputs": [
    {
     "name": "stdout",
     "output_type": "stream",
     "text": [
      "Jumlah duplikasi data Nongzhanguan_df:  0\n"
     ]
    }
   ],
   "source": [
    "print(\"Jumlah duplikasi data Nongzhanguan_df: \", Nongzhanguan_df.duplicated().sum())"
   ]
  },
  {
   "cell_type": "markdown",
   "metadata": {},
   "source": [
    "*temporary insight*\n",
    "\n",
    "Dari kode pengecekan duplikasi data di atas, **tidak ditemukan** adanya **duplikasi data** pada data Nongzhanguan_df tersebut."
   ]
  },
  {
   "cell_type": "code",
   "execution_count": 45,
   "metadata": {},
   "outputs": [
    {
     "data": {
      "text/html": [
       "<div>\n",
       "<style scoped>\n",
       "    .dataframe tbody tr th:only-of-type {\n",
       "        vertical-align: middle;\n",
       "    }\n",
       "\n",
       "    .dataframe tbody tr th {\n",
       "        vertical-align: top;\n",
       "    }\n",
       "\n",
       "    .dataframe thead th {\n",
       "        text-align: right;\n",
       "    }\n",
       "</style>\n",
       "<table border=\"1\" class=\"dataframe\">\n",
       "  <thead>\n",
       "    <tr style=\"text-align: right;\">\n",
       "      <th></th>\n",
       "      <th>No</th>\n",
       "      <th>year</th>\n",
       "      <th>month</th>\n",
       "      <th>day</th>\n",
       "      <th>hour</th>\n",
       "      <th>PM2.5</th>\n",
       "      <th>PM10</th>\n",
       "      <th>SO2</th>\n",
       "      <th>NO2</th>\n",
       "      <th>CO</th>\n",
       "      <th>O3</th>\n",
       "      <th>TEMP</th>\n",
       "      <th>PRES</th>\n",
       "      <th>DEWP</th>\n",
       "      <th>RAIN</th>\n",
       "      <th>WSPM</th>\n",
       "    </tr>\n",
       "  </thead>\n",
       "  <tbody>\n",
       "    <tr>\n",
       "      <th>count</th>\n",
       "      <td>35064.000000</td>\n",
       "      <td>35064.000000</td>\n",
       "      <td>35064.000000</td>\n",
       "      <td>35064.000000</td>\n",
       "      <td>35064.000000</td>\n",
       "      <td>34111.000000</td>\n",
       "      <td>34287.000000</td>\n",
       "      <td>34084.000000</td>\n",
       "      <td>33425.000000</td>\n",
       "      <td>33642.000000</td>\n",
       "      <td>33913.000000</td>\n",
       "      <td>35013.000000</td>\n",
       "      <td>35011.000000</td>\n",
       "      <td>35011.000000</td>\n",
       "      <td>35009.000000</td>\n",
       "      <td>35015.000000</td>\n",
       "    </tr>\n",
       "    <tr>\n",
       "      <th>mean</th>\n",
       "      <td>17532.500000</td>\n",
       "      <td>2014.662560</td>\n",
       "      <td>6.522930</td>\n",
       "      <td>15.729637</td>\n",
       "      <td>11.500000</td>\n",
       "      <td>69.626367</td>\n",
       "      <td>91.482690</td>\n",
       "      <td>12.121553</td>\n",
       "      <td>32.497250</td>\n",
       "      <td>1022.554545</td>\n",
       "      <td>59.824713</td>\n",
       "      <td>12.445426</td>\n",
       "      <td>1007.598568</td>\n",
       "      <td>2.238619</td>\n",
       "      <td>0.067940</td>\n",
       "      <td>1.652021</td>\n",
       "    </tr>\n",
       "    <tr>\n",
       "      <th>std</th>\n",
       "      <td>10122.249256</td>\n",
       "      <td>1.177213</td>\n",
       "      <td>3.448752</td>\n",
       "      <td>8.800218</td>\n",
       "      <td>6.922285</td>\n",
       "      <td>71.224916</td>\n",
       "      <td>83.289578</td>\n",
       "      <td>18.896912</td>\n",
       "      <td>26.489531</td>\n",
       "      <td>898.738241</td>\n",
       "      <td>54.605746</td>\n",
       "      <td>11.751103</td>\n",
       "      <td>10.022101</td>\n",
       "      <td>14.052541</td>\n",
       "      <td>0.849046</td>\n",
       "      <td>1.199143</td>\n",
       "    </tr>\n",
       "    <tr>\n",
       "      <th>min</th>\n",
       "      <td>1.000000</td>\n",
       "      <td>2013.000000</td>\n",
       "      <td>1.000000</td>\n",
       "      <td>1.000000</td>\n",
       "      <td>0.000000</td>\n",
       "      <td>2.000000</td>\n",
       "      <td>2.000000</td>\n",
       "      <td>0.285600</td>\n",
       "      <td>1.026500</td>\n",
       "      <td>100.000000</td>\n",
       "      <td>0.214200</td>\n",
       "      <td>-19.900000</td>\n",
       "      <td>982.800000</td>\n",
       "      <td>-43.400000</td>\n",
       "      <td>0.000000</td>\n",
       "      <td>0.000000</td>\n",
       "    </tr>\n",
       "    <tr>\n",
       "      <th>25%</th>\n",
       "      <td>8766.750000</td>\n",
       "      <td>2014.000000</td>\n",
       "      <td>4.000000</td>\n",
       "      <td>8.000000</td>\n",
       "      <td>5.750000</td>\n",
       "      <td>17.000000</td>\n",
       "      <td>28.000000</td>\n",
       "      <td>2.000000</td>\n",
       "      <td>12.000000</td>\n",
       "      <td>400.000000</td>\n",
       "      <td>18.000000</td>\n",
       "      <td>2.100000</td>\n",
       "      <td>999.300000</td>\n",
       "      <td>-9.600000</td>\n",
       "      <td>0.000000</td>\n",
       "      <td>0.900000</td>\n",
       "    </tr>\n",
       "    <tr>\n",
       "      <th>50%</th>\n",
       "      <td>17532.500000</td>\n",
       "      <td>2015.000000</td>\n",
       "      <td>7.000000</td>\n",
       "      <td>16.000000</td>\n",
       "      <td>11.500000</td>\n",
       "      <td>47.000000</td>\n",
       "      <td>69.000000</td>\n",
       "      <td>4.000000</td>\n",
       "      <td>25.000000</td>\n",
       "      <td>800.000000</td>\n",
       "      <td>49.000000</td>\n",
       "      <td>13.600000</td>\n",
       "      <td>1007.300000</td>\n",
       "      <td>2.700000</td>\n",
       "      <td>0.000000</td>\n",
       "      <td>1.300000</td>\n",
       "    </tr>\n",
       "    <tr>\n",
       "      <th>75%</th>\n",
       "      <td>26298.250000</td>\n",
       "      <td>2016.000000</td>\n",
       "      <td>10.000000</td>\n",
       "      <td>23.000000</td>\n",
       "      <td>17.250000</td>\n",
       "      <td>98.000000</td>\n",
       "      <td>131.000000</td>\n",
       "      <td>14.000000</td>\n",
       "      <td>46.000000</td>\n",
       "      <td>1300.000000</td>\n",
       "      <td>83.000000</td>\n",
       "      <td>22.300000</td>\n",
       "      <td>1015.500000</td>\n",
       "      <td>15.300000</td>\n",
       "      <td>0.000000</td>\n",
       "      <td>2.000000</td>\n",
       "    </tr>\n",
       "    <tr>\n",
       "      <th>max</th>\n",
       "      <td>35064.000000</td>\n",
       "      <td>2017.000000</td>\n",
       "      <td>12.000000</td>\n",
       "      <td>31.000000</td>\n",
       "      <td>23.000000</td>\n",
       "      <td>762.000000</td>\n",
       "      <td>993.000000</td>\n",
       "      <td>315.000000</td>\n",
       "      <td>231.000000</td>\n",
       "      <td>10000.000000</td>\n",
       "      <td>444.000000</td>\n",
       "      <td>40.300000</td>\n",
       "      <td>1036.500000</td>\n",
       "      <td>29.100000</td>\n",
       "      <td>45.900000</td>\n",
       "      <td>12.900000</td>\n",
       "    </tr>\n",
       "  </tbody>\n",
       "</table>\n",
       "</div>"
      ],
      "text/plain": [
       "                 No          year         month           day          hour  \\\n",
       "count  35064.000000  35064.000000  35064.000000  35064.000000  35064.000000   \n",
       "mean   17532.500000   2014.662560      6.522930     15.729637     11.500000   \n",
       "std    10122.249256      1.177213      3.448752      8.800218      6.922285   \n",
       "min        1.000000   2013.000000      1.000000      1.000000      0.000000   \n",
       "25%     8766.750000   2014.000000      4.000000      8.000000      5.750000   \n",
       "50%    17532.500000   2015.000000      7.000000     16.000000     11.500000   \n",
       "75%    26298.250000   2016.000000     10.000000     23.000000     17.250000   \n",
       "max    35064.000000   2017.000000     12.000000     31.000000     23.000000   \n",
       "\n",
       "              PM2.5          PM10           SO2           NO2            CO  \\\n",
       "count  34111.000000  34287.000000  34084.000000  33425.000000  33642.000000   \n",
       "mean      69.626367     91.482690     12.121553     32.497250   1022.554545   \n",
       "std       71.224916     83.289578     18.896912     26.489531    898.738241   \n",
       "min        2.000000      2.000000      0.285600      1.026500    100.000000   \n",
       "25%       17.000000     28.000000      2.000000     12.000000    400.000000   \n",
       "50%       47.000000     69.000000      4.000000     25.000000    800.000000   \n",
       "75%       98.000000    131.000000     14.000000     46.000000   1300.000000   \n",
       "max      762.000000    993.000000    315.000000    231.000000  10000.000000   \n",
       "\n",
       "                 O3          TEMP          PRES          DEWP          RAIN  \\\n",
       "count  33913.000000  35013.000000  35011.000000  35011.000000  35009.000000   \n",
       "mean      59.824713     12.445426   1007.598568      2.238619      0.067940   \n",
       "std       54.605746     11.751103     10.022101     14.052541      0.849046   \n",
       "min        0.214200    -19.900000    982.800000    -43.400000      0.000000   \n",
       "25%       18.000000      2.100000    999.300000     -9.600000      0.000000   \n",
       "50%       49.000000     13.600000   1007.300000      2.700000      0.000000   \n",
       "75%       83.000000     22.300000   1015.500000     15.300000      0.000000   \n",
       "max      444.000000     40.300000   1036.500000     29.100000     45.900000   \n",
       "\n",
       "               WSPM  \n",
       "count  35015.000000  \n",
       "mean       1.652021  \n",
       "std        1.199143  \n",
       "min        0.000000  \n",
       "25%        0.900000  \n",
       "50%        1.300000  \n",
       "75%        2.000000  \n",
       "max       12.900000  "
      ]
     },
     "execution_count": 45,
     "metadata": {},
     "output_type": "execute_result"
    }
   ],
   "source": [
    "Nongzhanguan_df.describe()"
   ]
  },
  {
   "cell_type": "markdown",
   "metadata": {},
   "source": [
    "*temporary insight*\n",
    "\n",
    "Pada data Nongzhanguan_df, nilai maksimum 10,000 ppm untuk CO terlihat tidak realistis. Data ini harus ditinjau lebih lanjut, dan jika terbukti outlier atau hasil kesalahan pengukuran, perlu dihapus atau diperbaiki. Kemudian, nilai minimum -43.4°C pada DEWP mungkin tidak valid. Jika tidak ada bukti kuat bahwa nilai ini benar, ini bisa dianggap sebagai kesalahan data dan dibersihkan."
   ]
  },
  {
   "cell_type": "markdown",
   "metadata": {
    "jp-MarkdownHeadingCollapsed": true
   },
   "source": [
    "#### Menilai Data Shunyi_df"
   ]
  },
  {
   "cell_type": "code",
   "execution_count": 46,
   "metadata": {},
   "outputs": [
    {
     "name": "stdout",
     "output_type": "stream",
     "text": [
      "<class 'pandas.core.frame.DataFrame'>\n",
      "RangeIndex: 35064 entries, 0 to 35063\n",
      "Data columns (total 18 columns):\n",
      " #   Column   Non-Null Count  Dtype  \n",
      "---  ------   --------------  -----  \n",
      " 0   No       35064 non-null  int64  \n",
      " 1   year     35064 non-null  int64  \n",
      " 2   month    35064 non-null  int64  \n",
      " 3   day      35064 non-null  int64  \n",
      " 4   hour     35064 non-null  int64  \n",
      " 5   PM2.5    34151 non-null  float64\n",
      " 6   PM10     34516 non-null  float64\n",
      " 7   SO2      33768 non-null  float64\n",
      " 8   NO2      33699 non-null  float64\n",
      " 9   CO       32886 non-null  float64\n",
      " 10  O3       33575 non-null  float64\n",
      " 11  TEMP     35013 non-null  float64\n",
      " 12  PRES     35013 non-null  float64\n",
      " 13  DEWP     35010 non-null  float64\n",
      " 14  RAIN     35013 non-null  float64\n",
      " 15  wd       34581 non-null  object \n",
      " 16  WSPM     35020 non-null  float64\n",
      " 17  station  35064 non-null  object \n",
      "dtypes: float64(11), int64(5), object(2)\n",
      "memory usage: 4.8+ MB\n"
     ]
    }
   ],
   "source": [
    "Shunyi_df.info()"
   ]
  },
  {
   "cell_type": "markdown",
   "metadata": {},
   "source": [
    "*temporary insight*\n",
    "\n",
    "Dari informasi tersebut di dapatkan kesimpulan berikut :\n",
    "- Kolom CO memiliki jumlah missing values yang paling banyak (2178), sekitar 6.2% dari total data. Ini menunjukkan bahwa cukup banyak pengukuran CO yang hilang, dan ini perlu diperhatikan dalam tahap pembersihan data. Mungkin Anda perlu mempertimbangkan bagaimana menangani missing values ini, misalnya dengan imputasi, atau jika proporsi data yang hilang terlalu besar, mungkin perlu dihapus.\n",
    "\n",
    "- Kolom polutan lain seperti PM2.5, PM10, SO2, NO2, dan O3 juga memiliki missing values yang jumlahnya bervariasi antara 548 hingga 1489 data yang hilang. Proporsi missing values ini masih dapat ditangani dengan metode imputasi atau strategi lain.\n",
    "\n",
    "- Kolom meteorologi seperti TEMP, PRES, DEWP, RAIN, dan WSPM memiliki sedikit missing values (kurang dari 100). Ini bisa dengan mudah diimputasi dengan nilai rata-rata atau interpolasi tanpa banyak kehilangan informasi.\n",
    "\n",
    "- Kolom wd (arah angin) memiliki 483 missing values. Sebagai data kategori, missing values ini bisa diisi dengan kategori yang paling umum (modus) atau menggunakan metode lain yang lebih sesuai.\n",
    "\n",
    "\n",
    "Untuk detail dari missing values dari tiap-tiap kolom tersebut dapat diperhatikan kode selanjutnya di bawah ini."
   ]
  },
  {
   "cell_type": "code",
   "execution_count": 47,
   "metadata": {},
   "outputs": [
    {
     "data": {
      "text/plain": [
       "No            0\n",
       "year          0\n",
       "month         0\n",
       "day           0\n",
       "hour          0\n",
       "PM2.5       913\n",
       "PM10        548\n",
       "SO2        1296\n",
       "NO2        1365\n",
       "CO         2178\n",
       "O3         1489\n",
       "TEMP         51\n",
       "PRES         51\n",
       "DEWP         54\n",
       "RAIN         51\n",
       "wd          483\n",
       "WSPM         44\n",
       "station       0\n",
       "dtype: int64"
      ]
     },
     "execution_count": 47,
     "metadata": {},
     "output_type": "execute_result"
    }
   ],
   "source": [
    "Shunyi_df.isna().sum()"
   ]
  },
  {
   "cell_type": "markdown",
   "metadata": {},
   "source": [
    "*temporary insight*\n",
    "\n",
    "Terdapat beberapa kolom yang memiliki jumlah data non-null yang berbeda, menunjukkan adanya missing values di beberapa kolom :\n",
    "\n",
    "- Kolom PM2.5: 34151 non-null dari 35064, berarti terdapat 913 missing values.\n",
    "- Kolom PM10: 34516 non-null dari 35064, terdapat 548 missing values.\n",
    "- Kolom SO2: 33768 non-null, terdapat 1296 missing values.\n",
    "- Kolom NO2: 33699 non-null, terdapat 1365 missing values.\n",
    "- Kolom CO: 32886 non-null, terdapat 2178 missing values, yang merupakan salah satu kolom dengan jumlah missing values paling banyak.\n",
    "- Kolom O3: 33575 non-null, terdapat 1489 missing values.\n",
    "- Kolom TEMP: 35013 non-null, terdapat 51 missing values.\n",
    "- Kolom PRES: 35013 non-null, terdapat 51 missing values.\n",
    "- Kolom DEWP: 35010 non-null, terdapat 54 missing values.\n",
    "- Kolom RAIN: 35013 non-null, terdapat 51 missing values.\n",
    "- Kolom wd: 34581 non-null, terdapat 483 missing values.\n",
    "- Kolom WSPM: 35020 non-null, terdapat 44 missing values."
   ]
  },
  {
   "cell_type": "code",
   "execution_count": 48,
   "metadata": {},
   "outputs": [
    {
     "name": "stdout",
     "output_type": "stream",
     "text": [
      "Jumlah duplikasi data Shunyi_df:  0\n"
     ]
    }
   ],
   "source": [
    "print(\"Jumlah duplikasi data Shunyi_df: \", Shunyi_df.duplicated().sum())"
   ]
  },
  {
   "cell_type": "markdown",
   "metadata": {},
   "source": [
    "*temporary insight*\n",
    "\n",
    "Dari kode pengecekan duplikasi data di atas, **tidak ditemukan** adanya **duplikasi data** pada data Shunyi_df tersebut."
   ]
  },
  {
   "cell_type": "code",
   "execution_count": 49,
   "metadata": {},
   "outputs": [
    {
     "data": {
      "text/html": [
       "<div>\n",
       "<style scoped>\n",
       "    .dataframe tbody tr th:only-of-type {\n",
       "        vertical-align: middle;\n",
       "    }\n",
       "\n",
       "    .dataframe tbody tr th {\n",
       "        vertical-align: top;\n",
       "    }\n",
       "\n",
       "    .dataframe thead th {\n",
       "        text-align: right;\n",
       "    }\n",
       "</style>\n",
       "<table border=\"1\" class=\"dataframe\">\n",
       "  <thead>\n",
       "    <tr style=\"text-align: right;\">\n",
       "      <th></th>\n",
       "      <th>No</th>\n",
       "      <th>year</th>\n",
       "      <th>month</th>\n",
       "      <th>day</th>\n",
       "      <th>hour</th>\n",
       "      <th>PM2.5</th>\n",
       "      <th>PM10</th>\n",
       "      <th>SO2</th>\n",
       "      <th>NO2</th>\n",
       "      <th>CO</th>\n",
       "      <th>O3</th>\n",
       "      <th>TEMP</th>\n",
       "      <th>PRES</th>\n",
       "      <th>DEWP</th>\n",
       "      <th>RAIN</th>\n",
       "      <th>WSPM</th>\n",
       "    </tr>\n",
       "  </thead>\n",
       "  <tbody>\n",
       "    <tr>\n",
       "      <th>count</th>\n",
       "      <td>35064.000000</td>\n",
       "      <td>35064.000000</td>\n",
       "      <td>35064.000000</td>\n",
       "      <td>35064.000000</td>\n",
       "      <td>35064.000000</td>\n",
       "      <td>34151.000000</td>\n",
       "      <td>34516.000000</td>\n",
       "      <td>33768.000000</td>\n",
       "      <td>33699.000000</td>\n",
       "      <td>32886.000000</td>\n",
       "      <td>33575.000000</td>\n",
       "      <td>35013.000000</td>\n",
       "      <td>35013.000000</td>\n",
       "      <td>35010.000000</td>\n",
       "      <td>35013.000000</td>\n",
       "      <td>35020.000000</td>\n",
       "    </tr>\n",
       "    <tr>\n",
       "      <th>mean</th>\n",
       "      <td>17532.500000</td>\n",
       "      <td>2014.662560</td>\n",
       "      <td>6.522930</td>\n",
       "      <td>15.729637</td>\n",
       "      <td>11.500000</td>\n",
       "      <td>79.491602</td>\n",
       "      <td>98.737026</td>\n",
       "      <td>13.572039</td>\n",
       "      <td>43.908865</td>\n",
       "      <td>1187.063979</td>\n",
       "      <td>55.201321</td>\n",
       "      <td>13.387969</td>\n",
       "      <td>1013.061938</td>\n",
       "      <td>2.465036</td>\n",
       "      <td>0.061094</td>\n",
       "      <td>1.807533</td>\n",
       "    </tr>\n",
       "    <tr>\n",
       "      <th>std</th>\n",
       "      <td>10122.249256</td>\n",
       "      <td>1.177213</td>\n",
       "      <td>3.448752</td>\n",
       "      <td>8.800218</td>\n",
       "      <td>6.922285</td>\n",
       "      <td>81.231739</td>\n",
       "      <td>89.143718</td>\n",
       "      <td>19.572068</td>\n",
       "      <td>30.996828</td>\n",
       "      <td>1156.374102</td>\n",
       "      <td>54.873726</td>\n",
       "      <td>11.483588</td>\n",
       "      <td>10.177339</td>\n",
       "      <td>13.726622</td>\n",
       "      <td>0.761668</td>\n",
       "      <td>1.287817</td>\n",
       "    </tr>\n",
       "    <tr>\n",
       "      <th>min</th>\n",
       "      <td>1.000000</td>\n",
       "      <td>2013.000000</td>\n",
       "      <td>1.000000</td>\n",
       "      <td>1.000000</td>\n",
       "      <td>0.000000</td>\n",
       "      <td>2.000000</td>\n",
       "      <td>2.000000</td>\n",
       "      <td>0.285600</td>\n",
       "      <td>2.000000</td>\n",
       "      <td>100.000000</td>\n",
       "      <td>0.214200</td>\n",
       "      <td>-16.800000</td>\n",
       "      <td>988.000000</td>\n",
       "      <td>-36.000000</td>\n",
       "      <td>0.000000</td>\n",
       "      <td>0.000000</td>\n",
       "    </tr>\n",
       "    <tr>\n",
       "      <th>25%</th>\n",
       "      <td>8766.750000</td>\n",
       "      <td>2014.000000</td>\n",
       "      <td>4.000000</td>\n",
       "      <td>8.000000</td>\n",
       "      <td>5.750000</td>\n",
       "      <td>19.000000</td>\n",
       "      <td>31.000000</td>\n",
       "      <td>2.000000</td>\n",
       "      <td>19.000000</td>\n",
       "      <td>400.000000</td>\n",
       "      <td>10.000000</td>\n",
       "      <td>3.000000</td>\n",
       "      <td>1004.700000</td>\n",
       "      <td>-8.800000</td>\n",
       "      <td>0.000000</td>\n",
       "      <td>1.000000</td>\n",
       "    </tr>\n",
       "    <tr>\n",
       "      <th>50%</th>\n",
       "      <td>17532.500000</td>\n",
       "      <td>2015.000000</td>\n",
       "      <td>7.000000</td>\n",
       "      <td>16.000000</td>\n",
       "      <td>11.500000</td>\n",
       "      <td>55.000000</td>\n",
       "      <td>77.000000</td>\n",
       "      <td>5.000000</td>\n",
       "      <td>37.000000</td>\n",
       "      <td>800.000000</td>\n",
       "      <td>43.000000</td>\n",
       "      <td>14.400000</td>\n",
       "      <td>1012.700000</td>\n",
       "      <td>3.100000</td>\n",
       "      <td>0.000000</td>\n",
       "      <td>1.500000</td>\n",
       "    </tr>\n",
       "    <tr>\n",
       "      <th>75%</th>\n",
       "      <td>26298.250000</td>\n",
       "      <td>2016.000000</td>\n",
       "      <td>10.000000</td>\n",
       "      <td>23.000000</td>\n",
       "      <td>17.250000</td>\n",
       "      <td>112.000000</td>\n",
       "      <td>138.000000</td>\n",
       "      <td>17.000000</td>\n",
       "      <td>62.000000</td>\n",
       "      <td>1500.000000</td>\n",
       "      <td>77.000000</td>\n",
       "      <td>23.200000</td>\n",
       "      <td>1021.000000</td>\n",
       "      <td>15.100000</td>\n",
       "      <td>0.000000</td>\n",
       "      <td>2.300000</td>\n",
       "    </tr>\n",
       "    <tr>\n",
       "      <th>max</th>\n",
       "      <td>35064.000000</td>\n",
       "      <td>2017.000000</td>\n",
       "      <td>12.000000</td>\n",
       "      <td>31.000000</td>\n",
       "      <td>23.000000</td>\n",
       "      <td>941.000000</td>\n",
       "      <td>999.000000</td>\n",
       "      <td>239.000000</td>\n",
       "      <td>258.000000</td>\n",
       "      <td>10000.000000</td>\n",
       "      <td>351.716400</td>\n",
       "      <td>40.600000</td>\n",
       "      <td>1042.800000</td>\n",
       "      <td>27.500000</td>\n",
       "      <td>37.300000</td>\n",
       "      <td>12.800000</td>\n",
       "    </tr>\n",
       "  </tbody>\n",
       "</table>\n",
       "</div>"
      ],
      "text/plain": [
       "                 No          year         month           day          hour  \\\n",
       "count  35064.000000  35064.000000  35064.000000  35064.000000  35064.000000   \n",
       "mean   17532.500000   2014.662560      6.522930     15.729637     11.500000   \n",
       "std    10122.249256      1.177213      3.448752      8.800218      6.922285   \n",
       "min        1.000000   2013.000000      1.000000      1.000000      0.000000   \n",
       "25%     8766.750000   2014.000000      4.000000      8.000000      5.750000   \n",
       "50%    17532.500000   2015.000000      7.000000     16.000000     11.500000   \n",
       "75%    26298.250000   2016.000000     10.000000     23.000000     17.250000   \n",
       "max    35064.000000   2017.000000     12.000000     31.000000     23.000000   \n",
       "\n",
       "              PM2.5          PM10           SO2           NO2            CO  \\\n",
       "count  34151.000000  34516.000000  33768.000000  33699.000000  32886.000000   \n",
       "mean      79.491602     98.737026     13.572039     43.908865   1187.063979   \n",
       "std       81.231739     89.143718     19.572068     30.996828   1156.374102   \n",
       "min        2.000000      2.000000      0.285600      2.000000    100.000000   \n",
       "25%       19.000000     31.000000      2.000000     19.000000    400.000000   \n",
       "50%       55.000000     77.000000      5.000000     37.000000    800.000000   \n",
       "75%      112.000000    138.000000     17.000000     62.000000   1500.000000   \n",
       "max      941.000000    999.000000    239.000000    258.000000  10000.000000   \n",
       "\n",
       "                 O3          TEMP          PRES          DEWP          RAIN  \\\n",
       "count  33575.000000  35013.000000  35013.000000  35010.000000  35013.000000   \n",
       "mean      55.201321     13.387969   1013.061938      2.465036      0.061094   \n",
       "std       54.873726     11.483588     10.177339     13.726622      0.761668   \n",
       "min        0.214200    -16.800000    988.000000    -36.000000      0.000000   \n",
       "25%       10.000000      3.000000   1004.700000     -8.800000      0.000000   \n",
       "50%       43.000000     14.400000   1012.700000      3.100000      0.000000   \n",
       "75%       77.000000     23.200000   1021.000000     15.100000      0.000000   \n",
       "max      351.716400     40.600000   1042.800000     27.500000     37.300000   \n",
       "\n",
       "               WSPM  \n",
       "count  35020.000000  \n",
       "mean       1.807533  \n",
       "std        1.287817  \n",
       "min        0.000000  \n",
       "25%        1.000000  \n",
       "50%        1.500000  \n",
       "75%        2.300000  \n",
       "max       12.800000  "
      ]
     },
     "execution_count": 49,
     "metadata": {},
     "output_type": "execute_result"
    }
   ],
   "source": [
    "Shunyi_df.describe()"
   ]
  },
  {
   "cell_type": "markdown",
   "metadata": {},
   "source": [
    "*temporary insight*\n",
    "\n",
    "Nilai maksimum 10000 µg/m³ tampak terlalu tinggi dan tidak realistis untuk konsentrasi CO. Nilai ini kemungkinan adalah error, dan bisa diatasi dengan menghapus atau mengganti nilai dengan imputasi (misalnya, dengan median). Dan nilai -36°C pada kolom DEWP (titik embun) tampak tidak wajar karena terlalu rendah dibandingkan dengan suhu udara maksimum dan minimum. Nilai ini kemungkinan error atau outlier dan bisa ditinjau lebih lanjut."
   ]
  },
  {
   "cell_type": "markdown",
   "metadata": {
    "jp-MarkdownHeadingCollapsed": true
   },
   "source": [
    "#### Menilai Data Tiantan_df"
   ]
  },
  {
   "cell_type": "code",
   "execution_count": 50,
   "metadata": {},
   "outputs": [
    {
     "name": "stdout",
     "output_type": "stream",
     "text": [
      "<class 'pandas.core.frame.DataFrame'>\n",
      "RangeIndex: 35064 entries, 0 to 35063\n",
      "Data columns (total 18 columns):\n",
      " #   Column   Non-Null Count  Dtype  \n",
      "---  ------   --------------  -----  \n",
      " 0   No       35064 non-null  int64  \n",
      " 1   year     35064 non-null  int64  \n",
      " 2   month    35064 non-null  int64  \n",
      " 3   day      35064 non-null  int64  \n",
      " 4   hour     35064 non-null  int64  \n",
      " 5   PM2.5    34387 non-null  float64\n",
      " 6   PM10     34467 non-null  float64\n",
      " 7   SO2      33946 non-null  float64\n",
      " 8   NO2      34320 non-null  float64\n",
      " 9   CO       33938 non-null  float64\n",
      " 10  O3       34221 non-null  float64\n",
      " 11  TEMP     35044 non-null  float64\n",
      " 12  PRES     35044 non-null  float64\n",
      " 13  DEWP     35044 non-null  float64\n",
      " 14  RAIN     35044 non-null  float64\n",
      " 15  wd       34986 non-null  object \n",
      " 16  WSPM     35050 non-null  float64\n",
      " 17  station  35064 non-null  object \n",
      "dtypes: float64(11), int64(5), object(2)\n",
      "memory usage: 4.8+ MB\n"
     ]
    }
   ],
   "source": [
    "Tiantan_df.info()"
   ]
  },
  {
   "cell_type": "markdown",
   "metadata": {},
   "source": [
    "*temporary insight*\n",
    "\n",
    "- Tipe data: Tidak ada masalah pada tipe data, semua kolom telah menggunakan tipe data yang sesuai.\n",
    "\n",
    "\n",
    "- Missing values: Ada beberapa missing values, terutama pada kolom polutan dan cuaca. Missing values yang signifikan terjadi pada kolom polutan (seperti PM2.5, PM10, SO2, NO2, CO, O3), dan kolom cuaca (TEMP, PRES, DEWP, RAIN), meskipun jumlahnya relatif sedikit dibanding total data (sekitar 2%-3%). Dan kolom wd (wind direction) memiliki beberapa missing values (78 missing values). Untuk menangani missing values ini, dapat dilakukan imputasi dengan median, interpolasi, atau penghapusan data, tergantung pada sifat datanya dan seberapa kritis missing values tersebut dalam analisis lebih lanjut.\n",
    "\n",
    "\n",
    "Detail lebih lanjut mengenai missing values tiap-tiap kolom dapat diperhatikan di bawah ini:\n"
   ]
  },
  {
   "cell_type": "code",
   "execution_count": 51,
   "metadata": {},
   "outputs": [
    {
     "data": {
      "text/plain": [
       "No            0\n",
       "year          0\n",
       "month         0\n",
       "day           0\n",
       "hour          0\n",
       "PM2.5       677\n",
       "PM10        597\n",
       "SO2        1118\n",
       "NO2         744\n",
       "CO         1126\n",
       "O3          843\n",
       "TEMP         20\n",
       "PRES         20\n",
       "DEWP         20\n",
       "RAIN         20\n",
       "wd           78\n",
       "WSPM         14\n",
       "station       0\n",
       "dtype: int64"
      ]
     },
     "execution_count": 51,
     "metadata": {},
     "output_type": "execute_result"
    }
   ],
   "source": [
    "Tiantan_df.isna().sum()"
   ]
  },
  {
   "cell_type": "markdown",
   "metadata": {},
   "source": [
    "*temporary insight*\n",
    "\n",
    "Dari output di atas, beberapa kolom memiliki jumlah data yang berbeda, yang menunjukkan adanya missing values, berikut rinciannya:\n",
    "\n",
    "- Kolom PM2.5: Jumlah non-null: 34,387 dari 35,064, sehingga ada 677 missing values.\n",
    "- Kolom PM10: Jumlah non-null: 34,467 dari 35,064, ada 597 missing values.\n",
    "- Kolom SO2: Jumlah non-null: 33,946 dari 35,064, ada 1,118 missing values.\n",
    "- Kolom NO2: Jumlah non-null: 34,320 dari 35,064, ada 744 missing values.\n",
    "- Kolom CO: Jumlah non-null: 33,938 dari 35,064, ada 1,126 missing values.\n",
    "- Kolom O3: Jumlah non-null: 34,221 dari 35,064, ada 843 missing values.\n",
    "- Kolom TEMP: Jumlah non-null: 35,044, ada 20 missing values.\n",
    "- Kolom PRES: Jumlah non-null: 35,044, ada 20 missing values.\n",
    "- Kolom DEWP: Jumlah non-null: 35,044, ada 20 missing values.\n",
    "- Kolom RAIN: Jumlah non-null: 35,044, ada 20 missing values.\n",
    "- Kolom wd: Jumlah non-null: 34,986, ada 78 missing values.\n",
    "- Kolom WSPM: Jumlah non-null: 35,050, ada 14 missing values."
   ]
  },
  {
   "cell_type": "code",
   "execution_count": 52,
   "metadata": {},
   "outputs": [
    {
     "name": "stdout",
     "output_type": "stream",
     "text": [
      "Jumlah duplikasi data Tiantan_df:  0\n"
     ]
    }
   ],
   "source": [
    "print(\"Jumlah duplikasi data Tiantan_df: \", Tiantan_df.duplicated().sum())"
   ]
  },
  {
   "cell_type": "markdown",
   "metadata": {},
   "source": [
    "*temporary insight*\n",
    "\n",
    "Dari kode pengecekan duplikasi data di atas, **tidak ditemukan** adanya **duplikasi data** pada data Tiantan_df tersebut."
   ]
  },
  {
   "cell_type": "code",
   "execution_count": 53,
   "metadata": {},
   "outputs": [
    {
     "data": {
      "text/html": [
       "<div>\n",
       "<style scoped>\n",
       "    .dataframe tbody tr th:only-of-type {\n",
       "        vertical-align: middle;\n",
       "    }\n",
       "\n",
       "    .dataframe tbody tr th {\n",
       "        vertical-align: top;\n",
       "    }\n",
       "\n",
       "    .dataframe thead th {\n",
       "        text-align: right;\n",
       "    }\n",
       "</style>\n",
       "<table border=\"1\" class=\"dataframe\">\n",
       "  <thead>\n",
       "    <tr style=\"text-align: right;\">\n",
       "      <th></th>\n",
       "      <th>No</th>\n",
       "      <th>year</th>\n",
       "      <th>month</th>\n",
       "      <th>day</th>\n",
       "      <th>hour</th>\n",
       "      <th>PM2.5</th>\n",
       "      <th>PM10</th>\n",
       "      <th>SO2</th>\n",
       "      <th>NO2</th>\n",
       "      <th>CO</th>\n",
       "      <th>O3</th>\n",
       "      <th>TEMP</th>\n",
       "      <th>PRES</th>\n",
       "      <th>DEWP</th>\n",
       "      <th>RAIN</th>\n",
       "      <th>WSPM</th>\n",
       "    </tr>\n",
       "  </thead>\n",
       "  <tbody>\n",
       "    <tr>\n",
       "      <th>count</th>\n",
       "      <td>35064.000000</td>\n",
       "      <td>35064.000000</td>\n",
       "      <td>35064.000000</td>\n",
       "      <td>35064.000000</td>\n",
       "      <td>35064.000000</td>\n",
       "      <td>34387.000000</td>\n",
       "      <td>34467.000000</td>\n",
       "      <td>33946.000000</td>\n",
       "      <td>34320.000000</td>\n",
       "      <td>33938.000000</td>\n",
       "      <td>34221.000000</td>\n",
       "      <td>35044.000000</td>\n",
       "      <td>35044.000000</td>\n",
       "      <td>35044.000000</td>\n",
       "      <td>35044.000000</td>\n",
       "      <td>35050.000000</td>\n",
       "    </tr>\n",
       "    <tr>\n",
       "      <th>mean</th>\n",
       "      <td>17532.500000</td>\n",
       "      <td>2014.662560</td>\n",
       "      <td>6.522930</td>\n",
       "      <td>15.729637</td>\n",
       "      <td>11.500000</td>\n",
       "      <td>82.164911</td>\n",
       "      <td>106.363672</td>\n",
       "      <td>14.367615</td>\n",
       "      <td>53.162646</td>\n",
       "      <td>1298.303318</td>\n",
       "      <td>55.984297</td>\n",
       "      <td>13.671490</td>\n",
       "      <td>1012.547419</td>\n",
       "      <td>2.447535</td>\n",
       "      <td>0.064020</td>\n",
       "      <td>1.860785</td>\n",
       "    </tr>\n",
       "    <tr>\n",
       "      <th>std</th>\n",
       "      <td>10122.249256</td>\n",
       "      <td>1.177213</td>\n",
       "      <td>3.448752</td>\n",
       "      <td>8.800218</td>\n",
       "      <td>6.922285</td>\n",
       "      <td>80.921384</td>\n",
       "      <td>89.700157</td>\n",
       "      <td>20.144631</td>\n",
       "      <td>31.946224</td>\n",
       "      <td>1170.593297</td>\n",
       "      <td>59.081528</td>\n",
       "      <td>11.458418</td>\n",
       "      <td>10.266059</td>\n",
       "      <td>13.810696</td>\n",
       "      <td>0.786282</td>\n",
       "      <td>1.280368</td>\n",
       "    </tr>\n",
       "    <tr>\n",
       "      <th>min</th>\n",
       "      <td>1.000000</td>\n",
       "      <td>2013.000000</td>\n",
       "      <td>1.000000</td>\n",
       "      <td>1.000000</td>\n",
       "      <td>0.000000</td>\n",
       "      <td>3.000000</td>\n",
       "      <td>2.000000</td>\n",
       "      <td>0.571200</td>\n",
       "      <td>2.000000</td>\n",
       "      <td>100.000000</td>\n",
       "      <td>0.428400</td>\n",
       "      <td>-16.800000</td>\n",
       "      <td>987.100000</td>\n",
       "      <td>-35.300000</td>\n",
       "      <td>0.000000</td>\n",
       "      <td>0.000000</td>\n",
       "    </tr>\n",
       "    <tr>\n",
       "      <th>25%</th>\n",
       "      <td>8766.750000</td>\n",
       "      <td>2014.000000</td>\n",
       "      <td>4.000000</td>\n",
       "      <td>8.000000</td>\n",
       "      <td>5.750000</td>\n",
       "      <td>22.000000</td>\n",
       "      <td>41.000000</td>\n",
       "      <td>3.000000</td>\n",
       "      <td>28.000000</td>\n",
       "      <td>500.000000</td>\n",
       "      <td>8.000000</td>\n",
       "      <td>3.100000</td>\n",
       "      <td>1004.000000</td>\n",
       "      <td>-8.800000</td>\n",
       "      <td>0.000000</td>\n",
       "      <td>1.000000</td>\n",
       "    </tr>\n",
       "    <tr>\n",
       "      <th>50%</th>\n",
       "      <td>17532.500000</td>\n",
       "      <td>2015.000000</td>\n",
       "      <td>7.000000</td>\n",
       "      <td>16.000000</td>\n",
       "      <td>11.500000</td>\n",
       "      <td>59.000000</td>\n",
       "      <td>85.000000</td>\n",
       "      <td>7.000000</td>\n",
       "      <td>47.000000</td>\n",
       "      <td>900.000000</td>\n",
       "      <td>40.000000</td>\n",
       "      <td>14.600000</td>\n",
       "      <td>1012.200000</td>\n",
       "      <td>3.000000</td>\n",
       "      <td>0.000000</td>\n",
       "      <td>1.500000</td>\n",
       "    </tr>\n",
       "    <tr>\n",
       "      <th>75%</th>\n",
       "      <td>26298.250000</td>\n",
       "      <td>2016.000000</td>\n",
       "      <td>10.000000</td>\n",
       "      <td>23.000000</td>\n",
       "      <td>17.250000</td>\n",
       "      <td>113.000000</td>\n",
       "      <td>144.000000</td>\n",
       "      <td>17.000000</td>\n",
       "      <td>71.000000</td>\n",
       "      <td>1600.000000</td>\n",
       "      <td>81.000000</td>\n",
       "      <td>23.500000</td>\n",
       "      <td>1020.900000</td>\n",
       "      <td>15.000000</td>\n",
       "      <td>0.000000</td>\n",
       "      <td>2.400000</td>\n",
       "    </tr>\n",
       "    <tr>\n",
       "      <th>max</th>\n",
       "      <td>35064.000000</td>\n",
       "      <td>2017.000000</td>\n",
       "      <td>12.000000</td>\n",
       "      <td>31.000000</td>\n",
       "      <td>23.000000</td>\n",
       "      <td>821.000000</td>\n",
       "      <td>988.000000</td>\n",
       "      <td>273.000000</td>\n",
       "      <td>241.000000</td>\n",
       "      <td>10000.000000</td>\n",
       "      <td>674.000000</td>\n",
       "      <td>41.100000</td>\n",
       "      <td>1042.000000</td>\n",
       "      <td>28.800000</td>\n",
       "      <td>46.400000</td>\n",
       "      <td>10.500000</td>\n",
       "    </tr>\n",
       "  </tbody>\n",
       "</table>\n",
       "</div>"
      ],
      "text/plain": [
       "                 No          year         month           day          hour  \\\n",
       "count  35064.000000  35064.000000  35064.000000  35064.000000  35064.000000   \n",
       "mean   17532.500000   2014.662560      6.522930     15.729637     11.500000   \n",
       "std    10122.249256      1.177213      3.448752      8.800218      6.922285   \n",
       "min        1.000000   2013.000000      1.000000      1.000000      0.000000   \n",
       "25%     8766.750000   2014.000000      4.000000      8.000000      5.750000   \n",
       "50%    17532.500000   2015.000000      7.000000     16.000000     11.500000   \n",
       "75%    26298.250000   2016.000000     10.000000     23.000000     17.250000   \n",
       "max    35064.000000   2017.000000     12.000000     31.000000     23.000000   \n",
       "\n",
       "              PM2.5          PM10           SO2           NO2            CO  \\\n",
       "count  34387.000000  34467.000000  33946.000000  34320.000000  33938.000000   \n",
       "mean      82.164911    106.363672     14.367615     53.162646   1298.303318   \n",
       "std       80.921384     89.700157     20.144631     31.946224   1170.593297   \n",
       "min        3.000000      2.000000      0.571200      2.000000    100.000000   \n",
       "25%       22.000000     41.000000      3.000000     28.000000    500.000000   \n",
       "50%       59.000000     85.000000      7.000000     47.000000    900.000000   \n",
       "75%      113.000000    144.000000     17.000000     71.000000   1600.000000   \n",
       "max      821.000000    988.000000    273.000000    241.000000  10000.000000   \n",
       "\n",
       "                 O3          TEMP          PRES          DEWP          RAIN  \\\n",
       "count  34221.000000  35044.000000  35044.000000  35044.000000  35044.000000   \n",
       "mean      55.984297     13.671490   1012.547419      2.447535      0.064020   \n",
       "std       59.081528     11.458418     10.266059     13.810696      0.786282   \n",
       "min        0.428400    -16.800000    987.100000    -35.300000      0.000000   \n",
       "25%        8.000000      3.100000   1004.000000     -8.800000      0.000000   \n",
       "50%       40.000000     14.600000   1012.200000      3.000000      0.000000   \n",
       "75%       81.000000     23.500000   1020.900000     15.000000      0.000000   \n",
       "max      674.000000     41.100000   1042.000000     28.800000     46.400000   \n",
       "\n",
       "               WSPM  \n",
       "count  35050.000000  \n",
       "mean       1.860785  \n",
       "std        1.280368  \n",
       "min        0.000000  \n",
       "25%        1.000000  \n",
       "50%        1.500000  \n",
       "75%        2.400000  \n",
       "max       10.500000  "
      ]
     },
     "execution_count": 53,
     "metadata": {},
     "output_type": "execute_result"
    }
   ],
   "source": [
    "Tiantan_df.describe()"
   ]
  },
  {
   "cell_type": "markdown",
   "metadata": {},
   "source": [
    "*temporary insight*\n",
    "\n",
    "Kolom CO dengan nilai maksimum 10,000 dan O3 dengan nilai maksimum 674 bisa menjadi data error atau kesalahan pengukuran. Perlu dilakukan investigasi lebih lanjut dan jika terbukti error, data tersebut bisa dihapus atau diperbaiki. Kolom polutan seperti PM2.5, PM10, SO2, NO2, CO, dan O3 juga memiliki nilai-nilai yang sangat tinggi. Data ini perlu dianalisis lebih lanjut apakah valid atau perlu ditangani jika benar merupakan outlier."
   ]
  },
  {
   "cell_type": "markdown",
   "metadata": {
    "jp-MarkdownHeadingCollapsed": true
   },
   "source": [
    "#### Menilai Data Wanliu_df"
   ]
  },
  {
   "cell_type": "code",
   "execution_count": 54,
   "metadata": {},
   "outputs": [
    {
     "name": "stdout",
     "output_type": "stream",
     "text": [
      "<class 'pandas.core.frame.DataFrame'>\n",
      "RangeIndex: 35064 entries, 0 to 35063\n",
      "Data columns (total 18 columns):\n",
      " #   Column   Non-Null Count  Dtype  \n",
      "---  ------   --------------  -----  \n",
      " 0   No       35064 non-null  int64  \n",
      " 1   year     35064 non-null  int64  \n",
      " 2   month    35064 non-null  int64  \n",
      " 3   day      35064 non-null  int64  \n",
      " 4   hour     35064 non-null  int64  \n",
      " 5   PM2.5    34682 non-null  float64\n",
      " 6   PM10     34780 non-null  float64\n",
      " 7   SO2      34489 non-null  float64\n",
      " 8   NO2      33994 non-null  float64\n",
      " 9   CO       33252 non-null  float64\n",
      " 10  O3       32957 non-null  float64\n",
      " 11  TEMP     35044 non-null  float64\n",
      " 12  PRES     35044 non-null  float64\n",
      " 13  DEWP     35044 non-null  float64\n",
      " 14  RAIN     35044 non-null  float64\n",
      " 15  wd       34941 non-null  object \n",
      " 16  WSPM     35050 non-null  float64\n",
      " 17  station  35064 non-null  object \n",
      "dtypes: float64(11), int64(5), object(2)\n",
      "memory usage: 4.8+ MB\n"
     ]
    }
   ],
   "source": [
    "Wanliu_df.info()"
   ]
  },
  {
   "cell_type": "markdown",
   "metadata": {},
   "source": [
    "*temporary insight*\n",
    "\n",
    "- Tipe Data: Tidak ada masalah dengan tipe data kolom-kolom yang ada. \n",
    "\n",
    "\n",
    "- Missing Values: Banyaknya missing values di kolom polutan dan meteorologi menunjukkan perlunya tindakan penanganan. Seperti PM2.5, PM10, SO2, NO2, CO, dan O3 menunjukkan jumlah missing values yang cukup signifikan, yang bisa mempengaruhi analisis kualitas udara jika tidak ditangani. Kolom TEMP, PRES, DEWP, RAIN memiliki 20 missing values, menunjukkan bahwa data untuk suhu dan variabel meteorologi lainnya tidak lengkap. Meskipun tidak banyak, tetap perlu ditangani. Kolom wd juga memiliki missing values (123), yang dapat mempengaruhi analisis yang berkaitan dengan arah angin. Kolom WSPM memiliki 14 missing values, yang relatif sedikit tetapi tetap perlu dipertimbangkan. Beberapa pendekatan yang dapat digunakan untuk menangani missing values seperti imputasi dan drop values.\n",
    "\n",
    "\n",
    "\n",
    "Rincian dari missing values tiap-tiap kolom pada dataset Wainlu_df sebagai berikut :"
   ]
  },
  {
   "cell_type": "code",
   "execution_count": 55,
   "metadata": {},
   "outputs": [
    {
     "data": {
      "text/plain": [
       "No            0\n",
       "year          0\n",
       "month         0\n",
       "day           0\n",
       "hour          0\n",
       "PM2.5       382\n",
       "PM10        284\n",
       "SO2         575\n",
       "NO2        1070\n",
       "CO         1812\n",
       "O3         2107\n",
       "TEMP         20\n",
       "PRES         20\n",
       "DEWP         20\n",
       "RAIN         20\n",
       "wd          123\n",
       "WSPM         14\n",
       "station       0\n",
       "dtype: int64"
      ]
     },
     "execution_count": 55,
     "metadata": {},
     "output_type": "execute_result"
    }
   ],
   "source": [
    "Wanliu_df.isna().sum()"
   ]
  },
  {
   "cell_type": "markdown",
   "metadata": {},
   "source": [
    "*temporary insight*\n",
    "\n",
    "Berikut adalah jumlah nilai non-null dalam kolom yang menunjukkan adanya missing values:\n",
    "\n",
    "- PM2.5: 34.682 non-null (382 missing)\n",
    "- PM10: 34.780 non-null (284 missing)\n",
    "- SO2: 34.489 non-null (575 missing)\n",
    "- NO2: 33.994 non-null (1.070 missing)\n",
    "- CO: 33.252 non-null (812 missing)\n",
    "- O3: 32.957 non-null (1.107 missing)\n",
    "- TEMP: 35.044 non-null (20 missing)\n",
    "- PRES: 35.044 non-null (20 missing)\n",
    "- DEWP: 35.044 non-null (20 missing)\n",
    "- RAIN: 35.044 non-null (20 missing)\n",
    "- wd: 34.941 non-null (123 missing)\n",
    "- WSPM: 35.050 non-null (14 missing)"
   ]
  },
  {
   "cell_type": "code",
   "execution_count": 56,
   "metadata": {},
   "outputs": [
    {
     "name": "stdout",
     "output_type": "stream",
     "text": [
      "Jumlah duplikasi data Wanliu_df:  0\n"
     ]
    }
   ],
   "source": [
    "print(\"Jumlah duplikasi data Wanliu_df: \", Wanliu_df.duplicated().sum())"
   ]
  },
  {
   "cell_type": "markdown",
   "metadata": {},
   "source": [
    "*temporary insight*\n",
    "\n",
    "Dari kode pengecekan duplikasi data di atas, **tidak ditemukan** adanya **duplikasi data** pada data Tiantan_df tersebut."
   ]
  },
  {
   "cell_type": "code",
   "execution_count": 57,
   "metadata": {},
   "outputs": [
    {
     "data": {
      "text/html": [
       "<div>\n",
       "<style scoped>\n",
       "    .dataframe tbody tr th:only-of-type {\n",
       "        vertical-align: middle;\n",
       "    }\n",
       "\n",
       "    .dataframe tbody tr th {\n",
       "        vertical-align: top;\n",
       "    }\n",
       "\n",
       "    .dataframe thead th {\n",
       "        text-align: right;\n",
       "    }\n",
       "</style>\n",
       "<table border=\"1\" class=\"dataframe\">\n",
       "  <thead>\n",
       "    <tr style=\"text-align: right;\">\n",
       "      <th></th>\n",
       "      <th>No</th>\n",
       "      <th>year</th>\n",
       "      <th>month</th>\n",
       "      <th>day</th>\n",
       "      <th>hour</th>\n",
       "      <th>PM2.5</th>\n",
       "      <th>PM10</th>\n",
       "      <th>SO2</th>\n",
       "      <th>NO2</th>\n",
       "      <th>CO</th>\n",
       "      <th>O3</th>\n",
       "      <th>TEMP</th>\n",
       "      <th>PRES</th>\n",
       "      <th>DEWP</th>\n",
       "      <th>RAIN</th>\n",
       "      <th>WSPM</th>\n",
       "    </tr>\n",
       "  </thead>\n",
       "  <tbody>\n",
       "    <tr>\n",
       "      <th>count</th>\n",
       "      <td>35064.000000</td>\n",
       "      <td>35064.000000</td>\n",
       "      <td>35064.000000</td>\n",
       "      <td>35064.000000</td>\n",
       "      <td>35064.000000</td>\n",
       "      <td>34682.000000</td>\n",
       "      <td>34780.000000</td>\n",
       "      <td>34489.000000</td>\n",
       "      <td>33994.000000</td>\n",
       "      <td>33252.000000</td>\n",
       "      <td>32957.000000</td>\n",
       "      <td>35044.000000</td>\n",
       "      <td>35044.000000</td>\n",
       "      <td>35044.000000</td>\n",
       "      <td>35044.000000</td>\n",
       "      <td>35050.000000</td>\n",
       "    </tr>\n",
       "    <tr>\n",
       "      <th>mean</th>\n",
       "      <td>17532.500000</td>\n",
       "      <td>2014.662560</td>\n",
       "      <td>6.522930</td>\n",
       "      <td>15.729637</td>\n",
       "      <td>11.500000</td>\n",
       "      <td>83.374716</td>\n",
       "      <td>110.464618</td>\n",
       "      <td>18.376481</td>\n",
       "      <td>65.258789</td>\n",
       "      <td>1319.353513</td>\n",
       "      <td>48.873614</td>\n",
       "      <td>13.428865</td>\n",
       "      <td>1011.097536</td>\n",
       "      <td>3.266588</td>\n",
       "      <td>0.068263</td>\n",
       "      <td>1.501215</td>\n",
       "    </tr>\n",
       "    <tr>\n",
       "      <th>std</th>\n",
       "      <td>10122.249256</td>\n",
       "      <td>1.177213</td>\n",
       "      <td>3.448752</td>\n",
       "      <td>8.800218</td>\n",
       "      <td>6.922285</td>\n",
       "      <td>81.905568</td>\n",
       "      <td>92.795065</td>\n",
       "      <td>22.609648</td>\n",
       "      <td>37.996088</td>\n",
       "      <td>1268.114331</td>\n",
       "      <td>55.111740</td>\n",
       "      <td>11.346931</td>\n",
       "      <td>10.355247</td>\n",
       "      <td>13.678060</td>\n",
       "      <td>0.896726</td>\n",
       "      <td>1.104472</td>\n",
       "    </tr>\n",
       "    <tr>\n",
       "      <th>min</th>\n",
       "      <td>1.000000</td>\n",
       "      <td>2013.000000</td>\n",
       "      <td>1.000000</td>\n",
       "      <td>1.000000</td>\n",
       "      <td>0.000000</td>\n",
       "      <td>2.000000</td>\n",
       "      <td>2.000000</td>\n",
       "      <td>0.285600</td>\n",
       "      <td>1.642400</td>\n",
       "      <td>100.000000</td>\n",
       "      <td>0.214200</td>\n",
       "      <td>-15.800000</td>\n",
       "      <td>985.900000</td>\n",
       "      <td>-34.900000</td>\n",
       "      <td>0.000000</td>\n",
       "      <td>0.000000</td>\n",
       "    </tr>\n",
       "    <tr>\n",
       "      <th>25%</th>\n",
       "      <td>8766.750000</td>\n",
       "      <td>2014.000000</td>\n",
       "      <td>4.000000</td>\n",
       "      <td>8.000000</td>\n",
       "      <td>5.750000</td>\n",
       "      <td>23.000000</td>\n",
       "      <td>40.000000</td>\n",
       "      <td>4.000000</td>\n",
       "      <td>36.000000</td>\n",
       "      <td>500.000000</td>\n",
       "      <td>4.000000</td>\n",
       "      <td>3.200000</td>\n",
       "      <td>1002.500000</td>\n",
       "      <td>-8.100000</td>\n",
       "      <td>0.000000</td>\n",
       "      <td>0.800000</td>\n",
       "    </tr>\n",
       "    <tr>\n",
       "      <th>50%</th>\n",
       "      <td>17532.500000</td>\n",
       "      <td>2015.000000</td>\n",
       "      <td>7.000000</td>\n",
       "      <td>16.000000</td>\n",
       "      <td>11.500000</td>\n",
       "      <td>59.000000</td>\n",
       "      <td>88.000000</td>\n",
       "      <td>10.000000</td>\n",
       "      <td>60.000000</td>\n",
       "      <td>900.000000</td>\n",
       "      <td>32.000000</td>\n",
       "      <td>14.300000</td>\n",
       "      <td>1010.800000</td>\n",
       "      <td>4.000000</td>\n",
       "      <td>0.000000</td>\n",
       "      <td>1.200000</td>\n",
       "    </tr>\n",
       "    <tr>\n",
       "      <th>75%</th>\n",
       "      <td>26298.250000</td>\n",
       "      <td>2016.000000</td>\n",
       "      <td>10.000000</td>\n",
       "      <td>23.000000</td>\n",
       "      <td>17.250000</td>\n",
       "      <td>116.000000</td>\n",
       "      <td>153.000000</td>\n",
       "      <td>23.000000</td>\n",
       "      <td>88.000000</td>\n",
       "      <td>1600.000000</td>\n",
       "      <td>73.000000</td>\n",
       "      <td>22.900000</td>\n",
       "      <td>1019.400000</td>\n",
       "      <td>15.800000</td>\n",
       "      <td>0.000000</td>\n",
       "      <td>2.000000</td>\n",
       "    </tr>\n",
       "    <tr>\n",
       "      <th>max</th>\n",
       "      <td>35064.000000</td>\n",
       "      <td>2017.000000</td>\n",
       "      <td>12.000000</td>\n",
       "      <td>31.000000</td>\n",
       "      <td>23.000000</td>\n",
       "      <td>957.000000</td>\n",
       "      <td>951.000000</td>\n",
       "      <td>282.000000</td>\n",
       "      <td>264.000000</td>\n",
       "      <td>10000.000000</td>\n",
       "      <td>364.000000</td>\n",
       "      <td>40.500000</td>\n",
       "      <td>1040.300000</td>\n",
       "      <td>28.500000</td>\n",
       "      <td>72.500000</td>\n",
       "      <td>11.200000</td>\n",
       "    </tr>\n",
       "  </tbody>\n",
       "</table>\n",
       "</div>"
      ],
      "text/plain": [
       "                 No          year         month           day          hour  \\\n",
       "count  35064.000000  35064.000000  35064.000000  35064.000000  35064.000000   \n",
       "mean   17532.500000   2014.662560      6.522930     15.729637     11.500000   \n",
       "std    10122.249256      1.177213      3.448752      8.800218      6.922285   \n",
       "min        1.000000   2013.000000      1.000000      1.000000      0.000000   \n",
       "25%     8766.750000   2014.000000      4.000000      8.000000      5.750000   \n",
       "50%    17532.500000   2015.000000      7.000000     16.000000     11.500000   \n",
       "75%    26298.250000   2016.000000     10.000000     23.000000     17.250000   \n",
       "max    35064.000000   2017.000000     12.000000     31.000000     23.000000   \n",
       "\n",
       "              PM2.5          PM10           SO2           NO2            CO  \\\n",
       "count  34682.000000  34780.000000  34489.000000  33994.000000  33252.000000   \n",
       "mean      83.374716    110.464618     18.376481     65.258789   1319.353513   \n",
       "std       81.905568     92.795065     22.609648     37.996088   1268.114331   \n",
       "min        2.000000      2.000000      0.285600      1.642400    100.000000   \n",
       "25%       23.000000     40.000000      4.000000     36.000000    500.000000   \n",
       "50%       59.000000     88.000000     10.000000     60.000000    900.000000   \n",
       "75%      116.000000    153.000000     23.000000     88.000000   1600.000000   \n",
       "max      957.000000    951.000000    282.000000    264.000000  10000.000000   \n",
       "\n",
       "                 O3          TEMP          PRES          DEWP          RAIN  \\\n",
       "count  32957.000000  35044.000000  35044.000000  35044.000000  35044.000000   \n",
       "mean      48.873614     13.428865   1011.097536      3.266588      0.068263   \n",
       "std       55.111740     11.346931     10.355247     13.678060      0.896726   \n",
       "min        0.214200    -15.800000    985.900000    -34.900000      0.000000   \n",
       "25%        4.000000      3.200000   1002.500000     -8.100000      0.000000   \n",
       "50%       32.000000     14.300000   1010.800000      4.000000      0.000000   \n",
       "75%       73.000000     22.900000   1019.400000     15.800000      0.000000   \n",
       "max      364.000000     40.500000   1040.300000     28.500000     72.500000   \n",
       "\n",
       "               WSPM  \n",
       "count  35050.000000  \n",
       "mean       1.501215  \n",
       "std        1.104472  \n",
       "min        0.000000  \n",
       "25%        0.800000  \n",
       "50%        1.200000  \n",
       "75%        2.000000  \n",
       "max       11.200000  "
      ]
     },
     "execution_count": 57,
     "metadata": {},
     "output_type": "execute_result"
    }
   ],
   "source": [
    "Wanliu_df.describe()"
   ]
  },
  {
   "cell_type": "markdown",
   "metadata": {},
   "source": [
    "*temporary insight*\n",
    "\n",
    "Pengetahuan sementara yang didapat dari informasi output data Wanliu_df di atas yakni:\n",
    "- Nilai Max: 957.00 pada kolom PM2.5. Nilai ini sangat tinggi dan mungkin tidak realistis. Kualitas udara umumnya tidak menunjukkan nilai PM2.5 yang setinggi ini dalam pengukuran yang biasa. Rata-rata global PM2.5 berkisar antara 5-150 µg/m³,\n",
    "\n",
    "- Max: 951.00 pada kolom PM10. Sama seperti PM2.5, nilai ini juga sangat tinggi dan menunjukkan kemungkinan kesalahan dalam pengukuran.\n",
    "\n",
    "- Kolom CO, Max: 10.000. Ini adalah nilai yang sangat ekstrem. Sebagai perbandingan, konsentrasi CO yang aman biasanya jauh lebih rendah, dan konsentrasi normal di atmosfer berkisar di bawah 10 ppm.\n",
    "\n",
    "- Kolom O3, Max: 364.00. Ini juga nilai yang tinggi untuk konsentrasi O3. Rata-rata konsentrasi O3 di atmosfer berada pada kisaran 60-180 µg/m³, sehingga angka ini harus diteliti. "
   ]
  },
  {
   "cell_type": "markdown",
   "metadata": {
    "jp-MarkdownHeadingCollapsed": true
   },
   "source": [
    "#### Menilai Data Wanshouxigong_df"
   ]
  },
  {
   "cell_type": "code",
   "execution_count": 58,
   "metadata": {},
   "outputs": [
    {
     "name": "stdout",
     "output_type": "stream",
     "text": [
      "<class 'pandas.core.frame.DataFrame'>\n",
      "RangeIndex: 35064 entries, 0 to 35063\n",
      "Data columns (total 18 columns):\n",
      " #   Column   Non-Null Count  Dtype  \n",
      "---  ------   --------------  -----  \n",
      " 0   No       35064 non-null  int64  \n",
      " 1   year     35064 non-null  int64  \n",
      " 2   month    35064 non-null  int64  \n",
      " 3   day      35064 non-null  int64  \n",
      " 4   hour     35064 non-null  int64  \n",
      " 5   PM2.5    34368 non-null  float64\n",
      " 6   PM10     34580 non-null  float64\n",
      " 7   SO2      34395 non-null  float64\n",
      " 8   NO2      34310 non-null  float64\n",
      " 9   CO       33767 non-null  float64\n",
      " 10  O3       33986 non-null  float64\n",
      " 11  TEMP     35045 non-null  float64\n",
      " 12  PRES     35045 non-null  float64\n",
      " 13  DEWP     35045 non-null  float64\n",
      " 14  RAIN     35045 non-null  float64\n",
      " 15  wd       34985 non-null  object \n",
      " 16  WSPM     35051 non-null  float64\n",
      " 17  station  35064 non-null  object \n",
      "dtypes: float64(11), int64(5), object(2)\n",
      "memory usage: 4.8+ MB\n"
     ]
    }
   ],
   "source": [
    "Wanshouxigong_df.info()"
   ]
  },
  {
   "cell_type": "markdown",
   "metadata": {},
   "source": [
    "*temporary insight*\n",
    "\n",
    "Dari informasi tersebut, dapat disimpulkan bahwa meskipun dataset Wanshouxigong_df memiliki struktur yang baik dengan banyak kolom terisi, masalah utama terletak pada missing values di banyak kolom, khususnya pada kolom yang berkaitan dengan kualitas udara (PM2.5, PM10, SO2, dll.). Hal ini dapat memengaruhi analisis selanjutnya, terutama jika kita ingin melakukan analisis statistik. Dan untuk tipe data, secara umum tidak ada masalah signifikan dengan tipe data di seluruh kolom.\n",
    "\n",
    "\n",
    "Untuk melihat detail dari masalah missing values dapat dilihat rincian berikut:"
   ]
  },
  {
   "cell_type": "code",
   "execution_count": 59,
   "metadata": {},
   "outputs": [
    {
     "data": {
      "text/plain": [
       "No            0\n",
       "year          0\n",
       "month         0\n",
       "day           0\n",
       "hour          0\n",
       "PM2.5       696\n",
       "PM10        484\n",
       "SO2         669\n",
       "NO2         754\n",
       "CO         1297\n",
       "O3         1078\n",
       "TEMP         19\n",
       "PRES         19\n",
       "DEWP         19\n",
       "RAIN         19\n",
       "wd           79\n",
       "WSPM         13\n",
       "station       0\n",
       "dtype: int64"
      ]
     },
     "execution_count": 59,
     "metadata": {},
     "output_type": "execute_result"
    }
   ],
   "source": [
    "Wanshouxigong_df.isna().sum()"
   ]
  },
  {
   "cell_type": "markdown",
   "metadata": {},
   "source": [
    "*temporary insight*\n",
    "\n",
    "Berikut adalah ringkasan jumlah nilai yang hilang pada beberapa kolom:\n",
    "\n",
    "- PM2.5: 696 missing values\n",
    "- PM10: 484 missing values\n",
    "- SO2: 669 missing values\n",
    "- NO2: 754 missing values\n",
    "- CO: 1.297 missing values\n",
    "- O3: 1.078 missing values\n",
    "- TEMP, PRES, DEWP, RAIN: Masing-masing memiliki 19 missing values\n",
    "- wd: 79 missing values\n",
    "- WSPM: 13 missing values"
   ]
  },
  {
   "cell_type": "code",
   "execution_count": 60,
   "metadata": {},
   "outputs": [
    {
     "name": "stdout",
     "output_type": "stream",
     "text": [
      "Jumlah duplikasi data:  0\n"
     ]
    }
   ],
   "source": [
    "print(\"Jumlah duplikasi data: \", Wanshouxigong_df.duplicated().sum())"
   ]
  },
  {
   "cell_type": "markdown",
   "metadata": {},
   "source": [
    "*temporary insight*\n",
    "\n",
    "Dari kode pengecekan duplikasi data di atas, **tidak ditemukan** adanya **duplikasi data** pada data Tiantan_df tersebut."
   ]
  },
  {
   "cell_type": "code",
   "execution_count": 61,
   "metadata": {},
   "outputs": [
    {
     "data": {
      "text/html": [
       "<div>\n",
       "<style scoped>\n",
       "    .dataframe tbody tr th:only-of-type {\n",
       "        vertical-align: middle;\n",
       "    }\n",
       "\n",
       "    .dataframe tbody tr th {\n",
       "        vertical-align: top;\n",
       "    }\n",
       "\n",
       "    .dataframe thead th {\n",
       "        text-align: right;\n",
       "    }\n",
       "</style>\n",
       "<table border=\"1\" class=\"dataframe\">\n",
       "  <thead>\n",
       "    <tr style=\"text-align: right;\">\n",
       "      <th></th>\n",
       "      <th>No</th>\n",
       "      <th>year</th>\n",
       "      <th>month</th>\n",
       "      <th>day</th>\n",
       "      <th>hour</th>\n",
       "      <th>PM2.5</th>\n",
       "      <th>PM10</th>\n",
       "      <th>SO2</th>\n",
       "      <th>NO2</th>\n",
       "      <th>CO</th>\n",
       "      <th>O3</th>\n",
       "      <th>TEMP</th>\n",
       "      <th>PRES</th>\n",
       "      <th>DEWP</th>\n",
       "      <th>RAIN</th>\n",
       "      <th>WSPM</th>\n",
       "    </tr>\n",
       "  </thead>\n",
       "  <tbody>\n",
       "    <tr>\n",
       "      <th>count</th>\n",
       "      <td>35064.000000</td>\n",
       "      <td>35064.000000</td>\n",
       "      <td>35064.000000</td>\n",
       "      <td>35064.000000</td>\n",
       "      <td>35064.000000</td>\n",
       "      <td>34368.000000</td>\n",
       "      <td>34580.000000</td>\n",
       "      <td>34395.000000</td>\n",
       "      <td>34310.00000</td>\n",
       "      <td>33767.000000</td>\n",
       "      <td>33986.000000</td>\n",
       "      <td>35045.000000</td>\n",
       "      <td>35045.000000</td>\n",
       "      <td>35045.000000</td>\n",
       "      <td>35045.000000</td>\n",
       "      <td>35051.000000</td>\n",
       "    </tr>\n",
       "    <tr>\n",
       "      <th>mean</th>\n",
       "      <td>17532.500000</td>\n",
       "      <td>2014.662560</td>\n",
       "      <td>6.522930</td>\n",
       "      <td>15.729637</td>\n",
       "      <td>11.500000</td>\n",
       "      <td>85.024136</td>\n",
       "      <td>112.223459</td>\n",
       "      <td>17.148603</td>\n",
       "      <td>55.52956</td>\n",
       "      <td>1370.395031</td>\n",
       "      <td>56.229904</td>\n",
       "      <td>13.784477</td>\n",
       "      <td>1011.511804</td>\n",
       "      <td>2.707442</td>\n",
       "      <td>0.064320</td>\n",
       "      <td>1.745314</td>\n",
       "    </tr>\n",
       "    <tr>\n",
       "      <th>std</th>\n",
       "      <td>10122.249256</td>\n",
       "      <td>1.177213</td>\n",
       "      <td>3.448752</td>\n",
       "      <td>8.800218</td>\n",
       "      <td>6.922285</td>\n",
       "      <td>85.975981</td>\n",
       "      <td>97.593210</td>\n",
       "      <td>23.940834</td>\n",
       "      <td>35.80805</td>\n",
       "      <td>1223.139114</td>\n",
       "      <td>57.082710</td>\n",
       "      <td>11.385156</td>\n",
       "      <td>10.570928</td>\n",
       "      <td>13.704139</td>\n",
       "      <td>0.796981</td>\n",
       "      <td>1.206355</td>\n",
       "    </tr>\n",
       "    <tr>\n",
       "      <th>min</th>\n",
       "      <td>1.000000</td>\n",
       "      <td>2013.000000</td>\n",
       "      <td>1.000000</td>\n",
       "      <td>1.000000</td>\n",
       "      <td>0.000000</td>\n",
       "      <td>3.000000</td>\n",
       "      <td>2.000000</td>\n",
       "      <td>0.285600</td>\n",
       "      <td>2.00000</td>\n",
       "      <td>100.000000</td>\n",
       "      <td>0.214200</td>\n",
       "      <td>-16.800000</td>\n",
       "      <td>985.100000</td>\n",
       "      <td>-35.300000</td>\n",
       "      <td>0.000000</td>\n",
       "      <td>0.000000</td>\n",
       "    </tr>\n",
       "    <tr>\n",
       "      <th>25%</th>\n",
       "      <td>8766.750000</td>\n",
       "      <td>2014.000000</td>\n",
       "      <td>4.000000</td>\n",
       "      <td>8.000000</td>\n",
       "      <td>5.750000</td>\n",
       "      <td>23.000000</td>\n",
       "      <td>39.000000</td>\n",
       "      <td>3.000000</td>\n",
       "      <td>28.00000</td>\n",
       "      <td>600.000000</td>\n",
       "      <td>8.000000</td>\n",
       "      <td>3.400000</td>\n",
       "      <td>1002.800000</td>\n",
       "      <td>-8.500000</td>\n",
       "      <td>0.000000</td>\n",
       "      <td>0.900000</td>\n",
       "    </tr>\n",
       "    <tr>\n",
       "      <th>50%</th>\n",
       "      <td>17532.500000</td>\n",
       "      <td>2015.000000</td>\n",
       "      <td>7.000000</td>\n",
       "      <td>16.000000</td>\n",
       "      <td>11.500000</td>\n",
       "      <td>60.000000</td>\n",
       "      <td>91.000000</td>\n",
       "      <td>8.000000</td>\n",
       "      <td>49.00000</td>\n",
       "      <td>1000.000000</td>\n",
       "      <td>42.000000</td>\n",
       "      <td>14.800000</td>\n",
       "      <td>1011.000000</td>\n",
       "      <td>3.300000</td>\n",
       "      <td>0.000000</td>\n",
       "      <td>1.400000</td>\n",
       "    </tr>\n",
       "    <tr>\n",
       "      <th>75%</th>\n",
       "      <td>26298.250000</td>\n",
       "      <td>2016.000000</td>\n",
       "      <td>10.000000</td>\n",
       "      <td>23.000000</td>\n",
       "      <td>17.250000</td>\n",
       "      <td>116.000000</td>\n",
       "      <td>154.000000</td>\n",
       "      <td>21.000000</td>\n",
       "      <td>77.00000</td>\n",
       "      <td>1700.000000</td>\n",
       "      <td>82.000000</td>\n",
       "      <td>23.500000</td>\n",
       "      <td>1020.000000</td>\n",
       "      <td>15.200000</td>\n",
       "      <td>0.000000</td>\n",
       "      <td>2.300000</td>\n",
       "    </tr>\n",
       "    <tr>\n",
       "      <th>max</th>\n",
       "      <td>35064.000000</td>\n",
       "      <td>2017.000000</td>\n",
       "      <td>12.000000</td>\n",
       "      <td>31.000000</td>\n",
       "      <td>23.000000</td>\n",
       "      <td>999.000000</td>\n",
       "      <td>961.000000</td>\n",
       "      <td>411.000000</td>\n",
       "      <td>251.00000</td>\n",
       "      <td>9800.000000</td>\n",
       "      <td>358.000000</td>\n",
       "      <td>40.600000</td>\n",
       "      <td>1042.000000</td>\n",
       "      <td>28.500000</td>\n",
       "      <td>46.400000</td>\n",
       "      <td>13.200000</td>\n",
       "    </tr>\n",
       "  </tbody>\n",
       "</table>\n",
       "</div>"
      ],
      "text/plain": [
       "                 No          year         month           day          hour  \\\n",
       "count  35064.000000  35064.000000  35064.000000  35064.000000  35064.000000   \n",
       "mean   17532.500000   2014.662560      6.522930     15.729637     11.500000   \n",
       "std    10122.249256      1.177213      3.448752      8.800218      6.922285   \n",
       "min        1.000000   2013.000000      1.000000      1.000000      0.000000   \n",
       "25%     8766.750000   2014.000000      4.000000      8.000000      5.750000   \n",
       "50%    17532.500000   2015.000000      7.000000     16.000000     11.500000   \n",
       "75%    26298.250000   2016.000000     10.000000     23.000000     17.250000   \n",
       "max    35064.000000   2017.000000     12.000000     31.000000     23.000000   \n",
       "\n",
       "              PM2.5          PM10           SO2          NO2            CO  \\\n",
       "count  34368.000000  34580.000000  34395.000000  34310.00000  33767.000000   \n",
       "mean      85.024136    112.223459     17.148603     55.52956   1370.395031   \n",
       "std       85.975981     97.593210     23.940834     35.80805   1223.139114   \n",
       "min        3.000000      2.000000      0.285600      2.00000    100.000000   \n",
       "25%       23.000000     39.000000      3.000000     28.00000    600.000000   \n",
       "50%       60.000000     91.000000      8.000000     49.00000   1000.000000   \n",
       "75%      116.000000    154.000000     21.000000     77.00000   1700.000000   \n",
       "max      999.000000    961.000000    411.000000    251.00000   9800.000000   \n",
       "\n",
       "                 O3          TEMP          PRES          DEWP          RAIN  \\\n",
       "count  33986.000000  35045.000000  35045.000000  35045.000000  35045.000000   \n",
       "mean      56.229904     13.784477   1011.511804      2.707442      0.064320   \n",
       "std       57.082710     11.385156     10.570928     13.704139      0.796981   \n",
       "min        0.214200    -16.800000    985.100000    -35.300000      0.000000   \n",
       "25%        8.000000      3.400000   1002.800000     -8.500000      0.000000   \n",
       "50%       42.000000     14.800000   1011.000000      3.300000      0.000000   \n",
       "75%       82.000000     23.500000   1020.000000     15.200000      0.000000   \n",
       "max      358.000000     40.600000   1042.000000     28.500000     46.400000   \n",
       "\n",
       "               WSPM  \n",
       "count  35051.000000  \n",
       "mean       1.745314  \n",
       "std        1.206355  \n",
       "min        0.000000  \n",
       "25%        0.900000  \n",
       "50%        1.400000  \n",
       "75%        2.300000  \n",
       "max       13.200000  "
      ]
     },
     "execution_count": 61,
     "metadata": {},
     "output_type": "execute_result"
    }
   ],
   "source": [
    "Wanshouxigong_df.describe()"
   ]
  },
  {
   "cell_type": "markdown",
   "metadata": {},
   "source": [
    "*temporary insight*\n",
    "\n",
    "Berdasarkan output dari Wanshouxigong_df.describe(), berikut adalah beberapa keanehan dan potensi masalah yang perlu diperhatikan. Utamanya pada Nilai Maksimum dan Minimum:\n",
    "\n",
    "- PM2.5 memiliki nilai maksimum 999. Ini tampaknya tidak realistis karena nilai PM2.5 biasanya berada dalam rentang yang lebih rendah (umumnya di bawah 500 µg/m³ dalam pengukuran standar). Ini menunjukkan ada kemungkinan nilai yang tidak akurat.\n",
    "- PM10 memiliki nilai maksimum 961, yang juga terbilang tinggi dan mungkin perlu dianalisis lebih lanjut.\n",
    "- CO memiliki nilai maksimum 9800, yang jelas tidak wajar untuk konsentrasi karbon monoksida, menunjukkan adanya kesalahan data."
   ]
  },
  {
   "cell_type": "markdown",
   "metadata": {},
   "source": [
    "*temporary insight*\n",
    "\n",
    "\n",
    "**Summary of Assessing Data Step**\n",
    "\n",
    "\n",
    "1. Tipe Data\n",
    "\n",
    "\n",
    "   Tidak ditemukan ada masalah tipe data untuk kolom numerik, seperti PM2.5, PM10, TEMP, dan PRES, karena mereka sudah berada dalam tipe data numerik yang tepat (float64 atau int64). Lalu untuk kolom wd memiliki tipe data object, yang menunjukkan bahwa kolom ini berisi data string. Ini wajar karena arah angin biasanya dinyatakan dalam bentuk teks seperti \"N\", \"S\", \"E\", \"W\", atau kombinasi dari mereka (misalnya, \"NE\" untuk Northeast). Jadi tipe data object untuk kolom ini sudah sesuai. Kolom station juga bertipe object, dan ini sesuai karena stasiun monitoring biasanya dinyatakan dengan nama atau kode, yang merupakan string.\n",
    "\n",
    "\n",
    "3. Missing Values\n",
    "\n",
    "   Hampir semua dataset memiliki missing values pada kolom-kolom polutan seperti: PM2.5, PM10, SO2, NO2, CO, O3. Contoh jumlah missing values:\n",
    "\n",
    "   - Dataset Aotizhongxin.csv: missing values pada PM2.5 dan PM10 mencapai lebih dari 500 entri.\n",
    "   - Dataset Changping.csv: terdapat missing values yang signifikan pada PM2.5 dan CO.\n",
    "   - Kolom meteorologi seperti TEMP, PRES, RAIN, dan WSPM memiliki sedikit missing values di beberapa dataset, tapi jumlahnya tidak terlalu banyak dibandingkan kolom polutan.\n",
    "   - Kolom wd (wind direction) juga memiliki missing values di beberapa dataset.\n",
    "\n",
    "\n",
    "4. Duplicate Data\n",
    "\n",
    "   Tidak ditemukan data duplikat dalam semua dataset berdasarkan output info() dan describe().\n",
    "\n",
    "\n",
    "5. Inaccurate Values\n",
    "\n",
    "   Beberapa dataset memiliki inaccurate values atau outliers pada kolom polutan, terutama pada nilai maksimum yang sangat tinggi, misalnya:\n",
    "   - CO dengan nilai maksimum mencapai 9800, yang jauh dari rentang normal.\n",
    "   - PM2.5 dan PM10 pada beberapa dataset, seperti Wanshouxigong.csv, mencapai nilai 999 dan 961, yang tampak tidak realistis.\n",
    "   - Kolom TEMP menunjukkan nilai ekstrem minimum, seperti -34.9°C hingga -35.3°C, yang mungkin perlu diperiksa untuk validitasnya.\n",
    "   - Nilai RAIN juga menunjukkan angka yang mencurigakan pada beberapa dataset dengan nilai maksimum 72.5 mm di Wanliu.csv, yang perlu diselidiki lebih lanjut."
   ]
  },
  {
   "cell_type": "markdown",
   "metadata": {
    "id": "EhN5R4hr8DC1"
   },
   "source": [
    "### Cleaning Data"
   ]
  },
  {
   "cell_type": "markdown",
   "metadata": {
    "id": "jVnYpprE9Evz",
    "jp-MarkdownHeadingCollapsed": true
   },
   "source": [
    "#### Membersihkan Data Aotizhongxin_df"
   ]
  },
  {
   "cell_type": "markdown",
   "metadata": {
    "jp-MarkdownHeadingCollapsed": true
   },
   "source": [
    "##### Menangani Missing Values pada data Aotizhongxin_df"
   ]
  },
  {
   "cell_type": "markdown",
   "metadata": {
    "jp-MarkdownHeadingCollapsed": true
   },
   "source": [
    "###### Missing Values data Aotizhongxing_df kolom PM2.5"
   ]
  },
  {
   "cell_type": "code",
   "execution_count": 62,
   "metadata": {},
   "outputs": [
    {
     "data": {
      "text/html": [
       "<div>\n",
       "<style scoped>\n",
       "    .dataframe tbody tr th:only-of-type {\n",
       "        vertical-align: middle;\n",
       "    }\n",
       "\n",
       "    .dataframe tbody tr th {\n",
       "        vertical-align: top;\n",
       "    }\n",
       "\n",
       "    .dataframe thead th {\n",
       "        text-align: right;\n",
       "    }\n",
       "</style>\n",
       "<table border=\"1\" class=\"dataframe\">\n",
       "  <thead>\n",
       "    <tr style=\"text-align: right;\">\n",
       "      <th></th>\n",
       "      <th>No</th>\n",
       "      <th>year</th>\n",
       "      <th>month</th>\n",
       "      <th>day</th>\n",
       "      <th>hour</th>\n",
       "      <th>PM2.5</th>\n",
       "      <th>PM10</th>\n",
       "      <th>SO2</th>\n",
       "      <th>NO2</th>\n",
       "      <th>CO</th>\n",
       "      <th>O3</th>\n",
       "      <th>TEMP</th>\n",
       "      <th>PRES</th>\n",
       "      <th>DEWP</th>\n",
       "      <th>RAIN</th>\n",
       "      <th>wd</th>\n",
       "      <th>WSPM</th>\n",
       "      <th>station</th>\n",
       "    </tr>\n",
       "  </thead>\n",
       "  <tbody>\n",
       "    <tr>\n",
       "      <th>1509</th>\n",
       "      <td>1510</td>\n",
       "      <td>2013</td>\n",
       "      <td>5</td>\n",
       "      <td>2</td>\n",
       "      <td>21</td>\n",
       "      <td>NaN</td>\n",
       "      <td>183.0</td>\n",
       "      <td>63.0000</td>\n",
       "      <td>93.0000</td>\n",
       "      <td>1200.0</td>\n",
       "      <td>38.0000</td>\n",
       "      <td>18.5</td>\n",
       "      <td>1006.1</td>\n",
       "      <td>6.0</td>\n",
       "      <td>0.0</td>\n",
       "      <td>SE</td>\n",
       "      <td>2.8</td>\n",
       "      <td>Aotizhongxin</td>\n",
       "    </tr>\n",
       "    <tr>\n",
       "      <th>1837</th>\n",
       "      <td>1838</td>\n",
       "      <td>2013</td>\n",
       "      <td>5</td>\n",
       "      <td>16</td>\n",
       "      <td>13</td>\n",
       "      <td>NaN</td>\n",
       "      <td>98.0</td>\n",
       "      <td>46.0000</td>\n",
       "      <td>35.0000</td>\n",
       "      <td>600.0</td>\n",
       "      <td>166.0000</td>\n",
       "      <td>26.1</td>\n",
       "      <td>1009.9</td>\n",
       "      <td>10.7</td>\n",
       "      <td>0.0</td>\n",
       "      <td>SW</td>\n",
       "      <td>2.7</td>\n",
       "      <td>Aotizhongxin</td>\n",
       "    </tr>\n",
       "    <tr>\n",
       "      <th>2368</th>\n",
       "      <td>2369</td>\n",
       "      <td>2013</td>\n",
       "      <td>6</td>\n",
       "      <td>7</td>\n",
       "      <td>16</td>\n",
       "      <td>NaN</td>\n",
       "      <td>137.0</td>\n",
       "      <td>12.0000</td>\n",
       "      <td>74.0000</td>\n",
       "      <td>2500.0</td>\n",
       "      <td>8.0000</td>\n",
       "      <td>20.7</td>\n",
       "      <td>1002.4</td>\n",
       "      <td>19.4</td>\n",
       "      <td>0.0</td>\n",
       "      <td>NNE</td>\n",
       "      <td>0.8</td>\n",
       "      <td>Aotizhongxin</td>\n",
       "    </tr>\n",
       "    <tr>\n",
       "      <th>2785</th>\n",
       "      <td>2786</td>\n",
       "      <td>2013</td>\n",
       "      <td>6</td>\n",
       "      <td>25</td>\n",
       "      <td>1</td>\n",
       "      <td>NaN</td>\n",
       "      <td>35.0</td>\n",
       "      <td>3.1416</td>\n",
       "      <td>35.1063</td>\n",
       "      <td>NaN</td>\n",
       "      <td>60.6186</td>\n",
       "      <td>20.8</td>\n",
       "      <td>996.5</td>\n",
       "      <td>20.5</td>\n",
       "      <td>0.0</td>\n",
       "      <td>NE</td>\n",
       "      <td>0.2</td>\n",
       "      <td>Aotizhongxin</td>\n",
       "    </tr>\n",
       "    <tr>\n",
       "      <th>2808</th>\n",
       "      <td>2809</td>\n",
       "      <td>2013</td>\n",
       "      <td>6</td>\n",
       "      <td>26</td>\n",
       "      <td>0</td>\n",
       "      <td>NaN</td>\n",
       "      <td>183.0</td>\n",
       "      <td>64.2600</td>\n",
       "      <td>40.0335</td>\n",
       "      <td>NaN</td>\n",
       "      <td>NaN</td>\n",
       "      <td>21.7</td>\n",
       "      <td>993.0</td>\n",
       "      <td>21.2</td>\n",
       "      <td>0.0</td>\n",
       "      <td>NNW</td>\n",
       "      <td>0.4</td>\n",
       "      <td>Aotizhongxin</td>\n",
       "    </tr>\n",
       "    <tr>\n",
       "      <th>...</th>\n",
       "      <td>...</td>\n",
       "      <td>...</td>\n",
       "      <td>...</td>\n",
       "      <td>...</td>\n",
       "      <td>...</td>\n",
       "      <td>...</td>\n",
       "      <td>...</td>\n",
       "      <td>...</td>\n",
       "      <td>...</td>\n",
       "      <td>...</td>\n",
       "      <td>...</td>\n",
       "      <td>...</td>\n",
       "      <td>...</td>\n",
       "      <td>...</td>\n",
       "      <td>...</td>\n",
       "      <td>...</td>\n",
       "      <td>...</td>\n",
       "      <td>...</td>\n",
       "    </tr>\n",
       "    <tr>\n",
       "      <th>34880</th>\n",
       "      <td>34881</td>\n",
       "      <td>2017</td>\n",
       "      <td>2</td>\n",
       "      <td>21</td>\n",
       "      <td>8</td>\n",
       "      <td>NaN</td>\n",
       "      <td>NaN</td>\n",
       "      <td>NaN</td>\n",
       "      <td>NaN</td>\n",
       "      <td>NaN</td>\n",
       "      <td>NaN</td>\n",
       "      <td>-0.3</td>\n",
       "      <td>1028.8</td>\n",
       "      <td>-15.8</td>\n",
       "      <td>0.0</td>\n",
       "      <td>SSE</td>\n",
       "      <td>1.0</td>\n",
       "      <td>Aotizhongxin</td>\n",
       "    </tr>\n",
       "    <tr>\n",
       "      <th>34883</th>\n",
       "      <td>34884</td>\n",
       "      <td>2017</td>\n",
       "      <td>2</td>\n",
       "      <td>21</td>\n",
       "      <td>11</td>\n",
       "      <td>NaN</td>\n",
       "      <td>NaN</td>\n",
       "      <td>NaN</td>\n",
       "      <td>NaN</td>\n",
       "      <td>NaN</td>\n",
       "      <td>NaN</td>\n",
       "      <td>1.3</td>\n",
       "      <td>1028.0</td>\n",
       "      <td>-16.1</td>\n",
       "      <td>0.0</td>\n",
       "      <td>S</td>\n",
       "      <td>1.5</td>\n",
       "      <td>Aotizhongxin</td>\n",
       "    </tr>\n",
       "    <tr>\n",
       "      <th>34885</th>\n",
       "      <td>34886</td>\n",
       "      <td>2017</td>\n",
       "      <td>2</td>\n",
       "      <td>21</td>\n",
       "      <td>13</td>\n",
       "      <td>NaN</td>\n",
       "      <td>NaN</td>\n",
       "      <td>NaN</td>\n",
       "      <td>NaN</td>\n",
       "      <td>NaN</td>\n",
       "      <td>NaN</td>\n",
       "      <td>-2.1</td>\n",
       "      <td>1027.4</td>\n",
       "      <td>-4.1</td>\n",
       "      <td>0.7</td>\n",
       "      <td>WSW</td>\n",
       "      <td>3.2</td>\n",
       "      <td>Aotizhongxin</td>\n",
       "    </tr>\n",
       "    <tr>\n",
       "      <th>35028</th>\n",
       "      <td>35029</td>\n",
       "      <td>2017</td>\n",
       "      <td>2</td>\n",
       "      <td>27</td>\n",
       "      <td>12</td>\n",
       "      <td>NaN</td>\n",
       "      <td>NaN</td>\n",
       "      <td>NaN</td>\n",
       "      <td>NaN</td>\n",
       "      <td>NaN</td>\n",
       "      <td>NaN</td>\n",
       "      <td>12.1</td>\n",
       "      <td>1017.3</td>\n",
       "      <td>-5.4</td>\n",
       "      <td>0.0</td>\n",
       "      <td>SSW</td>\n",
       "      <td>1.2</td>\n",
       "      <td>Aotizhongxin</td>\n",
       "    </tr>\n",
       "    <tr>\n",
       "      <th>35029</th>\n",
       "      <td>35030</td>\n",
       "      <td>2017</td>\n",
       "      <td>2</td>\n",
       "      <td>27</td>\n",
       "      <td>13</td>\n",
       "      <td>NaN</td>\n",
       "      <td>NaN</td>\n",
       "      <td>NaN</td>\n",
       "      <td>NaN</td>\n",
       "      <td>NaN</td>\n",
       "      <td>NaN</td>\n",
       "      <td>14.0</td>\n",
       "      <td>1015.8</td>\n",
       "      <td>-5.2</td>\n",
       "      <td>0.0</td>\n",
       "      <td>SSE</td>\n",
       "      <td>1.8</td>\n",
       "      <td>Aotizhongxin</td>\n",
       "    </tr>\n",
       "  </tbody>\n",
       "</table>\n",
       "<p>925 rows × 18 columns</p>\n",
       "</div>"
      ],
      "text/plain": [
       "          No  year  month  day  hour  PM2.5   PM10      SO2      NO2      CO  \\\n",
       "1509    1510  2013      5    2    21    NaN  183.0  63.0000  93.0000  1200.0   \n",
       "1837    1838  2013      5   16    13    NaN   98.0  46.0000  35.0000   600.0   \n",
       "2368    2369  2013      6    7    16    NaN  137.0  12.0000  74.0000  2500.0   \n",
       "2785    2786  2013      6   25     1    NaN   35.0   3.1416  35.1063     NaN   \n",
       "2808    2809  2013      6   26     0    NaN  183.0  64.2600  40.0335     NaN   \n",
       "...      ...   ...    ...  ...   ...    ...    ...      ...      ...     ...   \n",
       "34880  34881  2017      2   21     8    NaN    NaN      NaN      NaN     NaN   \n",
       "34883  34884  2017      2   21    11    NaN    NaN      NaN      NaN     NaN   \n",
       "34885  34886  2017      2   21    13    NaN    NaN      NaN      NaN     NaN   \n",
       "35028  35029  2017      2   27    12    NaN    NaN      NaN      NaN     NaN   \n",
       "35029  35030  2017      2   27    13    NaN    NaN      NaN      NaN     NaN   \n",
       "\n",
       "             O3  TEMP    PRES  DEWP  RAIN   wd  WSPM       station  \n",
       "1509    38.0000  18.5  1006.1   6.0   0.0   SE   2.8  Aotizhongxin  \n",
       "1837   166.0000  26.1  1009.9  10.7   0.0   SW   2.7  Aotizhongxin  \n",
       "2368     8.0000  20.7  1002.4  19.4   0.0  NNE   0.8  Aotizhongxin  \n",
       "2785    60.6186  20.8   996.5  20.5   0.0   NE   0.2  Aotizhongxin  \n",
       "2808        NaN  21.7   993.0  21.2   0.0  NNW   0.4  Aotizhongxin  \n",
       "...         ...   ...     ...   ...   ...  ...   ...           ...  \n",
       "34880       NaN  -0.3  1028.8 -15.8   0.0  SSE   1.0  Aotizhongxin  \n",
       "34883       NaN   1.3  1028.0 -16.1   0.0    S   1.5  Aotizhongxin  \n",
       "34885       NaN  -2.1  1027.4  -4.1   0.7  WSW   3.2  Aotizhongxin  \n",
       "35028       NaN  12.1  1017.3  -5.4   0.0  SSW   1.2  Aotizhongxin  \n",
       "35029       NaN  14.0  1015.8  -5.2   0.0  SSE   1.8  Aotizhongxin  \n",
       "\n",
       "[925 rows x 18 columns]"
      ]
     },
     "execution_count": 62,
     "metadata": {},
     "output_type": "execute_result"
    }
   ],
   "source": [
    "Aotizhongxin_df[Aotizhongxin_df['PM2.5'].isna()]"
   ]
  },
  {
   "cell_type": "code",
   "execution_count": 63,
   "metadata": {},
   "outputs": [
    {
     "name": "stdout",
     "output_type": "stream",
     "text": [
      "(34139, 18)\n"
     ]
    }
   ],
   "source": [
    "# Menghapus baris yang mengandung missing values pada kolom PM2.5\n",
    "Aotizhongxin_df_cleaned = Aotizhongxin_df.dropna(subset=['PM2.5'])\n",
    "\n",
    "# Memeriksa jumlah baris setelah proses pembersihan\n",
    "print(Aotizhongxin_df_cleaned.shape)"
   ]
  },
  {
   "cell_type": "markdown",
   "metadata": {},
   "source": [
    "*temporary insight*\n",
    "\n",
    "- `dropna(subset=['PM2.5'])` untuk menghapus semua baris yang memiliki nilai NaN pada kolom PM2.5.\n",
    "- Melihat jumlah baris yang tersisa di dataset dengan menggunakan `.shape` untuk memastikan jumlahnya.\n",
    "\n",
    "\n",
    "Menangani missing values pada kolom PM2.5 dengan menggunakan metode dropping. Ini merupakan langkah praktis mengingat jumlah data yang besar (35 ribu rows). Menghapus 925 baris tidak akan memberikan dampak signifikan terhadap keseluruhan dataset. Langkah ini memastikan bahwa analisis selanjutnya akan dilakukan dengan data yang bersih, tanpa missing values pada kolom PM2.5, dan dataset tetap representatif."
   ]
  },
  {
   "cell_type": "markdown",
   "metadata": {
    "jp-MarkdownHeadingCollapsed": true
   },
   "source": [
    "###### Missing Values Data Aotizhongxin_df_cleaned kolom PM10"
   ]
  },
  {
   "cell_type": "code",
   "execution_count": 64,
   "metadata": {},
   "outputs": [
    {
     "data": {
      "text/plain": [
       "No            0\n",
       "year          0\n",
       "month         0\n",
       "day           0\n",
       "hour          0\n",
       "PM2.5         0\n",
       "PM10          9\n",
       "SO2         282\n",
       "NO2         363\n",
       "CO         1115\n",
       "O3         1067\n",
       "TEMP         20\n",
       "PRES         20\n",
       "DEWP         20\n",
       "RAIN         20\n",
       "wd           81\n",
       "WSPM         14\n",
       "station       0\n",
       "dtype: int64"
      ]
     },
     "execution_count": 64,
     "metadata": {},
     "output_type": "execute_result"
    }
   ],
   "source": [
    "Aotizhongxin_df_cleaned.isna().sum()"
   ]
  },
  {
   "cell_type": "code",
   "execution_count": 65,
   "metadata": {},
   "outputs": [
    {
     "data": {
      "text/html": [
       "<div>\n",
       "<style scoped>\n",
       "    .dataframe tbody tr th:only-of-type {\n",
       "        vertical-align: middle;\n",
       "    }\n",
       "\n",
       "    .dataframe tbody tr th {\n",
       "        vertical-align: top;\n",
       "    }\n",
       "\n",
       "    .dataframe thead th {\n",
       "        text-align: right;\n",
       "    }\n",
       "</style>\n",
       "<table border=\"1\" class=\"dataframe\">\n",
       "  <thead>\n",
       "    <tr style=\"text-align: right;\">\n",
       "      <th></th>\n",
       "      <th>No</th>\n",
       "      <th>year</th>\n",
       "      <th>month</th>\n",
       "      <th>day</th>\n",
       "      <th>hour</th>\n",
       "      <th>PM2.5</th>\n",
       "      <th>PM10</th>\n",
       "      <th>SO2</th>\n",
       "      <th>NO2</th>\n",
       "      <th>CO</th>\n",
       "      <th>O3</th>\n",
       "      <th>TEMP</th>\n",
       "      <th>PRES</th>\n",
       "      <th>DEWP</th>\n",
       "      <th>RAIN</th>\n",
       "      <th>wd</th>\n",
       "      <th>WSPM</th>\n",
       "      <th>station</th>\n",
       "    </tr>\n",
       "  </thead>\n",
       "  <tbody>\n",
       "    <tr>\n",
       "      <th>204</th>\n",
       "      <td>205</td>\n",
       "      <td>2013</td>\n",
       "      <td>3</td>\n",
       "      <td>9</td>\n",
       "      <td>12</td>\n",
       "      <td>78.0</td>\n",
       "      <td>NaN</td>\n",
       "      <td>10.0</td>\n",
       "      <td>10.0</td>\n",
       "      <td>300.0</td>\n",
       "      <td>68.0</td>\n",
       "      <td>12.4</td>\n",
       "      <td>1004.3</td>\n",
       "      <td>-14.4</td>\n",
       "      <td>0.0</td>\n",
       "      <td>NW</td>\n",
       "      <td>7.9</td>\n",
       "      <td>Aotizhongxin</td>\n",
       "    </tr>\n",
       "    <tr>\n",
       "      <th>2949</th>\n",
       "      <td>2950</td>\n",
       "      <td>2013</td>\n",
       "      <td>7</td>\n",
       "      <td>1</td>\n",
       "      <td>21</td>\n",
       "      <td>85.0</td>\n",
       "      <td>NaN</td>\n",
       "      <td>12.0</td>\n",
       "      <td>79.0</td>\n",
       "      <td>2100.0</td>\n",
       "      <td>4.0</td>\n",
       "      <td>24.0</td>\n",
       "      <td>990.3</td>\n",
       "      <td>23.3</td>\n",
       "      <td>5.7</td>\n",
       "      <td>N</td>\n",
       "      <td>0.6</td>\n",
       "      <td>Aotizhongxin</td>\n",
       "    </tr>\n",
       "    <tr>\n",
       "      <th>3133</th>\n",
       "      <td>3134</td>\n",
       "      <td>2013</td>\n",
       "      <td>7</td>\n",
       "      <td>9</td>\n",
       "      <td>13</td>\n",
       "      <td>52.0</td>\n",
       "      <td>NaN</td>\n",
       "      <td>6.0</td>\n",
       "      <td>50.0</td>\n",
       "      <td>700.0</td>\n",
       "      <td>48.0</td>\n",
       "      <td>23.7</td>\n",
       "      <td>997.9</td>\n",
       "      <td>22.9</td>\n",
       "      <td>2.2</td>\n",
       "      <td>NE</td>\n",
       "      <td>1.4</td>\n",
       "      <td>Aotizhongxin</td>\n",
       "    </tr>\n",
       "    <tr>\n",
       "      <th>4513</th>\n",
       "      <td>4514</td>\n",
       "      <td>2013</td>\n",
       "      <td>9</td>\n",
       "      <td>5</td>\n",
       "      <td>1</td>\n",
       "      <td>24.0</td>\n",
       "      <td>NaN</td>\n",
       "      <td>1.0</td>\n",
       "      <td>35.0</td>\n",
       "      <td>400.0</td>\n",
       "      <td>49.0</td>\n",
       "      <td>17.9</td>\n",
       "      <td>1009.6</td>\n",
       "      <td>17.6</td>\n",
       "      <td>1.1</td>\n",
       "      <td>NNE</td>\n",
       "      <td>1.0</td>\n",
       "      <td>Aotizhongxin</td>\n",
       "    </tr>\n",
       "    <tr>\n",
       "      <th>4706</th>\n",
       "      <td>4707</td>\n",
       "      <td>2013</td>\n",
       "      <td>9</td>\n",
       "      <td>13</td>\n",
       "      <td>2</td>\n",
       "      <td>61.0</td>\n",
       "      <td>NaN</td>\n",
       "      <td>2.0</td>\n",
       "      <td>35.0</td>\n",
       "      <td>500.0</td>\n",
       "      <td>54.0</td>\n",
       "      <td>18.9</td>\n",
       "      <td>1002.3</td>\n",
       "      <td>17.4</td>\n",
       "      <td>0.0</td>\n",
       "      <td>SSW</td>\n",
       "      <td>1.0</td>\n",
       "      <td>Aotizhongxin</td>\n",
       "    </tr>\n",
       "    <tr>\n",
       "      <th>18180</th>\n",
       "      <td>18181</td>\n",
       "      <td>2015</td>\n",
       "      <td>3</td>\n",
       "      <td>28</td>\n",
       "      <td>12</td>\n",
       "      <td>103.0</td>\n",
       "      <td>NaN</td>\n",
       "      <td>3.0</td>\n",
       "      <td>11.0</td>\n",
       "      <td>300.0</td>\n",
       "      <td>87.0</td>\n",
       "      <td>19.4</td>\n",
       "      <td>1008.5</td>\n",
       "      <td>-1.2</td>\n",
       "      <td>0.0</td>\n",
       "      <td>NW</td>\n",
       "      <td>7.0</td>\n",
       "      <td>Aotizhongxin</td>\n",
       "    </tr>\n",
       "    <tr>\n",
       "      <th>18181</th>\n",
       "      <td>18182</td>\n",
       "      <td>2015</td>\n",
       "      <td>3</td>\n",
       "      <td>28</td>\n",
       "      <td>13</td>\n",
       "      <td>96.0</td>\n",
       "      <td>NaN</td>\n",
       "      <td>2.0</td>\n",
       "      <td>12.0</td>\n",
       "      <td>300.0</td>\n",
       "      <td>89.0</td>\n",
       "      <td>20.4</td>\n",
       "      <td>1008.1</td>\n",
       "      <td>-0.9</td>\n",
       "      <td>0.0</td>\n",
       "      <td>WNW</td>\n",
       "      <td>6.6</td>\n",
       "      <td>Aotizhongxin</td>\n",
       "    </tr>\n",
       "    <tr>\n",
       "      <th>18619</th>\n",
       "      <td>18620</td>\n",
       "      <td>2015</td>\n",
       "      <td>4</td>\n",
       "      <td>15</td>\n",
       "      <td>19</td>\n",
       "      <td>243.0</td>\n",
       "      <td>NaN</td>\n",
       "      <td>2.0</td>\n",
       "      <td>16.0</td>\n",
       "      <td>NaN</td>\n",
       "      <td>90.0</td>\n",
       "      <td>20.6</td>\n",
       "      <td>996.0</td>\n",
       "      <td>0.4</td>\n",
       "      <td>0.0</td>\n",
       "      <td>NNW</td>\n",
       "      <td>6.0</td>\n",
       "      <td>Aotizhongxin</td>\n",
       "    </tr>\n",
       "    <tr>\n",
       "      <th>25778</th>\n",
       "      <td>25779</td>\n",
       "      <td>2016</td>\n",
       "      <td>2</td>\n",
       "      <td>8</td>\n",
       "      <td>2</td>\n",
       "      <td>898.0</td>\n",
       "      <td>NaN</td>\n",
       "      <td>341.0</td>\n",
       "      <td>92.0</td>\n",
       "      <td>1900.0</td>\n",
       "      <td>10.0</td>\n",
       "      <td>-1.6</td>\n",
       "      <td>1009.9</td>\n",
       "      <td>-15.1</td>\n",
       "      <td>0.0</td>\n",
       "      <td>SW</td>\n",
       "      <td>1.1</td>\n",
       "      <td>Aotizhongxin</td>\n",
       "    </tr>\n",
       "  </tbody>\n",
       "</table>\n",
       "</div>"
      ],
      "text/plain": [
       "          No  year  month  day  hour  PM2.5  PM10    SO2   NO2      CO    O3  \\\n",
       "204      205  2013      3    9    12   78.0   NaN   10.0  10.0   300.0  68.0   \n",
       "2949    2950  2013      7    1    21   85.0   NaN   12.0  79.0  2100.0   4.0   \n",
       "3133    3134  2013      7    9    13   52.0   NaN    6.0  50.0   700.0  48.0   \n",
       "4513    4514  2013      9    5     1   24.0   NaN    1.0  35.0   400.0  49.0   \n",
       "4706    4707  2013      9   13     2   61.0   NaN    2.0  35.0   500.0  54.0   \n",
       "18180  18181  2015      3   28    12  103.0   NaN    3.0  11.0   300.0  87.0   \n",
       "18181  18182  2015      3   28    13   96.0   NaN    2.0  12.0   300.0  89.0   \n",
       "18619  18620  2015      4   15    19  243.0   NaN    2.0  16.0     NaN  90.0   \n",
       "25778  25779  2016      2    8     2  898.0   NaN  341.0  92.0  1900.0  10.0   \n",
       "\n",
       "       TEMP    PRES  DEWP  RAIN   wd  WSPM       station  \n",
       "204    12.4  1004.3 -14.4   0.0   NW   7.9  Aotizhongxin  \n",
       "2949   24.0   990.3  23.3   5.7    N   0.6  Aotizhongxin  \n",
       "3133   23.7   997.9  22.9   2.2   NE   1.4  Aotizhongxin  \n",
       "4513   17.9  1009.6  17.6   1.1  NNE   1.0  Aotizhongxin  \n",
       "4706   18.9  1002.3  17.4   0.0  SSW   1.0  Aotizhongxin  \n",
       "18180  19.4  1008.5  -1.2   0.0   NW   7.0  Aotizhongxin  \n",
       "18181  20.4  1008.1  -0.9   0.0  WNW   6.6  Aotizhongxin  \n",
       "18619  20.6   996.0   0.4   0.0  NNW   6.0  Aotizhongxin  \n",
       "25778  -1.6  1009.9 -15.1   0.0   SW   1.1  Aotizhongxin  "
      ]
     },
     "execution_count": 65,
     "metadata": {},
     "output_type": "execute_result"
    }
   ],
   "source": [
    "Aotizhongxin_df_cleaned[Aotizhongxin_df_cleaned.PM10.isna()]"
   ]
  },
  {
   "cell_type": "code",
   "execution_count": 66,
   "metadata": {},
   "outputs": [
    {
     "name": "stdout",
     "output_type": "stream",
     "text": [
      "Jumlah Data Aotizhongxin_df_cleaned saat ini:  (34130, 18)\n",
      "No            0\n",
      "year          0\n",
      "month         0\n",
      "day           0\n",
      "hour          0\n",
      "PM2.5         0\n",
      "PM10          0\n",
      "SO2         282\n",
      "NO2         363\n",
      "CO         1114\n",
      "O3         1067\n",
      "TEMP         20\n",
      "PRES         20\n",
      "DEWP         20\n",
      "RAIN         20\n",
      "wd           81\n",
      "WSPM         14\n",
      "station       0\n",
      "dtype: int64\n"
     ]
    }
   ],
   "source": [
    "# Menghapus baris yang mengandung missing values pada kolom PM10\n",
    "Aotizhongxin_df_cleaned = Aotizhongxin_df_cleaned.dropna(subset=['PM10'])\n",
    "\n",
    "# Memeriksa jumlah baris dan kolom setelah proses pembersihan\n",
    "print(\"Jumlah Data Aotizhongxin_df_cleaned saat ini: \", Aotizhongxin_df_cleaned.shape)\n",
    "\n",
    "# Memeriksa kembali apakah missing values pada kolom PM10 sudah dihilangkan\n",
    "print(Aotizhongxin_df_cleaned.isna().sum())\n"
   ]
  },
  {
   "cell_type": "markdown",
   "metadata": {},
   "source": [
    "*temporary insight*\n",
    "\n",
    "\n",
    "Dilakukan juga metode dropping untuk menghilangkan missing values pada kolom PM10 data Aotizhongxin_df_cleaned. Metode dropping ini masih efektif karena hanya menghapus sedikit baris (9 baris) dari dataset yang besar, sehingga tidak berdampak signifikan pada analisis keseluruhan."
   ]
  },
  {
   "cell_type": "markdown",
   "metadata": {
    "jp-MarkdownHeadingCollapsed": true
   },
   "source": [
    "###### Missing Values Data Aotizhongxin_df_cleaned kolom SO2"
   ]
  },
  {
   "cell_type": "code",
   "execution_count": 67,
   "metadata": {},
   "outputs": [
    {
     "data": {
      "text/html": [
       "<div>\n",
       "<style scoped>\n",
       "    .dataframe tbody tr th:only-of-type {\n",
       "        vertical-align: middle;\n",
       "    }\n",
       "\n",
       "    .dataframe tbody tr th {\n",
       "        vertical-align: top;\n",
       "    }\n",
       "\n",
       "    .dataframe thead th {\n",
       "        text-align: right;\n",
       "    }\n",
       "</style>\n",
       "<table border=\"1\" class=\"dataframe\">\n",
       "  <thead>\n",
       "    <tr style=\"text-align: right;\">\n",
       "      <th></th>\n",
       "      <th>No</th>\n",
       "      <th>year</th>\n",
       "      <th>month</th>\n",
       "      <th>day</th>\n",
       "      <th>hour</th>\n",
       "      <th>PM2.5</th>\n",
       "      <th>PM10</th>\n",
       "      <th>SO2</th>\n",
       "      <th>NO2</th>\n",
       "      <th>CO</th>\n",
       "      <th>O3</th>\n",
       "      <th>TEMP</th>\n",
       "      <th>PRES</th>\n",
       "      <th>DEWP</th>\n",
       "      <th>RAIN</th>\n",
       "      <th>wd</th>\n",
       "      <th>WSPM</th>\n",
       "      <th>station</th>\n",
       "    </tr>\n",
       "  </thead>\n",
       "  <tbody>\n",
       "    <tr>\n",
       "      <th>74</th>\n",
       "      <td>75</td>\n",
       "      <td>2013</td>\n",
       "      <td>3</td>\n",
       "      <td>4</td>\n",
       "      <td>2</td>\n",
       "      <td>34.0</td>\n",
       "      <td>62.0</td>\n",
       "      <td>NaN</td>\n",
       "      <td>14.0</td>\n",
       "      <td>300.0</td>\n",
       "      <td>68.0</td>\n",
       "      <td>8.10</td>\n",
       "      <td>1016.7</td>\n",
       "      <td>-11.8</td>\n",
       "      <td>0.0</td>\n",
       "      <td>N</td>\n",
       "      <td>4.3</td>\n",
       "      <td>Aotizhongxin</td>\n",
       "    </tr>\n",
       "    <tr>\n",
       "      <th>170</th>\n",
       "      <td>171</td>\n",
       "      <td>2013</td>\n",
       "      <td>3</td>\n",
       "      <td>8</td>\n",
       "      <td>2</td>\n",
       "      <td>339.0</td>\n",
       "      <td>400.0</td>\n",
       "      <td>NaN</td>\n",
       "      <td>162.0</td>\n",
       "      <td>3899.0</td>\n",
       "      <td>84.0</td>\n",
       "      <td>2.50</td>\n",
       "      <td>998.2</td>\n",
       "      <td>-1.9</td>\n",
       "      <td>0.0</td>\n",
       "      <td>SW</td>\n",
       "      <td>0.8</td>\n",
       "      <td>Aotizhongxin</td>\n",
       "    </tr>\n",
       "    <tr>\n",
       "      <th>627</th>\n",
       "      <td>628</td>\n",
       "      <td>2013</td>\n",
       "      <td>3</td>\n",
       "      <td>27</td>\n",
       "      <td>3</td>\n",
       "      <td>129.0</td>\n",
       "      <td>163.0</td>\n",
       "      <td>NaN</td>\n",
       "      <td>54.0</td>\n",
       "      <td>NaN</td>\n",
       "      <td>NaN</td>\n",
       "      <td>4.30</td>\n",
       "      <td>1001.7</td>\n",
       "      <td>3.0</td>\n",
       "      <td>0.0</td>\n",
       "      <td>W</td>\n",
       "      <td>0.8</td>\n",
       "      <td>Aotizhongxin</td>\n",
       "    </tr>\n",
       "    <tr>\n",
       "      <th>628</th>\n",
       "      <td>629</td>\n",
       "      <td>2013</td>\n",
       "      <td>3</td>\n",
       "      <td>27</td>\n",
       "      <td>4</td>\n",
       "      <td>135.0</td>\n",
       "      <td>161.0</td>\n",
       "      <td>NaN</td>\n",
       "      <td>54.0</td>\n",
       "      <td>900.0</td>\n",
       "      <td>2.0</td>\n",
       "      <td>2.90</td>\n",
       "      <td>1001.5</td>\n",
       "      <td>1.9</td>\n",
       "      <td>0.0</td>\n",
       "      <td>W</td>\n",
       "      <td>0.9</td>\n",
       "      <td>Aotizhongxin</td>\n",
       "    </tr>\n",
       "    <tr>\n",
       "      <th>629</th>\n",
       "      <td>630</td>\n",
       "      <td>2013</td>\n",
       "      <td>3</td>\n",
       "      <td>27</td>\n",
       "      <td>5</td>\n",
       "      <td>135.0</td>\n",
       "      <td>153.0</td>\n",
       "      <td>NaN</td>\n",
       "      <td>64.0</td>\n",
       "      <td>1000.0</td>\n",
       "      <td>2.0</td>\n",
       "      <td>2.80</td>\n",
       "      <td>1001.4</td>\n",
       "      <td>2.2</td>\n",
       "      <td>0.0</td>\n",
       "      <td>SSW</td>\n",
       "      <td>0.5</td>\n",
       "      <td>Aotizhongxin</td>\n",
       "    </tr>\n",
       "    <tr>\n",
       "      <th>...</th>\n",
       "      <td>...</td>\n",
       "      <td>...</td>\n",
       "      <td>...</td>\n",
       "      <td>...</td>\n",
       "      <td>...</td>\n",
       "      <td>...</td>\n",
       "      <td>...</td>\n",
       "      <td>...</td>\n",
       "      <td>...</td>\n",
       "      <td>...</td>\n",
       "      <td>...</td>\n",
       "      <td>...</td>\n",
       "      <td>...</td>\n",
       "      <td>...</td>\n",
       "      <td>...</td>\n",
       "      <td>...</td>\n",
       "      <td>...</td>\n",
       "      <td>...</td>\n",
       "    </tr>\n",
       "    <tr>\n",
       "      <th>33547</th>\n",
       "      <td>33548</td>\n",
       "      <td>2016</td>\n",
       "      <td>12</td>\n",
       "      <td>27</td>\n",
       "      <td>19</td>\n",
       "      <td>49.0</td>\n",
       "      <td>104.0</td>\n",
       "      <td>NaN</td>\n",
       "      <td>NaN</td>\n",
       "      <td>NaN</td>\n",
       "      <td>NaN</td>\n",
       "      <td>0.60</td>\n",
       "      <td>1028.4</td>\n",
       "      <td>-9.7</td>\n",
       "      <td>0.0</td>\n",
       "      <td>SW</td>\n",
       "      <td>3.2</td>\n",
       "      <td>Aotizhongxin</td>\n",
       "    </tr>\n",
       "    <tr>\n",
       "      <th>33878</th>\n",
       "      <td>33879</td>\n",
       "      <td>2017</td>\n",
       "      <td>1</td>\n",
       "      <td>10</td>\n",
       "      <td>14</td>\n",
       "      <td>3.0</td>\n",
       "      <td>6.0</td>\n",
       "      <td>NaN</td>\n",
       "      <td>6.0</td>\n",
       "      <td>NaN</td>\n",
       "      <td>69.0</td>\n",
       "      <td>3.85</td>\n",
       "      <td>1024.5</td>\n",
       "      <td>-19.7</td>\n",
       "      <td>0.0</td>\n",
       "      <td>NW</td>\n",
       "      <td>4.3</td>\n",
       "      <td>Aotizhongxin</td>\n",
       "    </tr>\n",
       "    <tr>\n",
       "      <th>33879</th>\n",
       "      <td>33880</td>\n",
       "      <td>2017</td>\n",
       "      <td>1</td>\n",
       "      <td>10</td>\n",
       "      <td>15</td>\n",
       "      <td>3.0</td>\n",
       "      <td>6.0</td>\n",
       "      <td>NaN</td>\n",
       "      <td>NaN</td>\n",
       "      <td>300.0</td>\n",
       "      <td>70.0</td>\n",
       "      <td>4.48</td>\n",
       "      <td>1024.0</td>\n",
       "      <td>-20.7</td>\n",
       "      <td>0.0</td>\n",
       "      <td>W</td>\n",
       "      <td>2.0</td>\n",
       "      <td>Aotizhongxin</td>\n",
       "    </tr>\n",
       "    <tr>\n",
       "      <th>34912</th>\n",
       "      <td>34913</td>\n",
       "      <td>2017</td>\n",
       "      <td>2</td>\n",
       "      <td>22</td>\n",
       "      <td>16</td>\n",
       "      <td>131.0</td>\n",
       "      <td>131.0</td>\n",
       "      <td>NaN</td>\n",
       "      <td>95.0</td>\n",
       "      <td>NaN</td>\n",
       "      <td>47.0</td>\n",
       "      <td>6.00</td>\n",
       "      <td>1017.0</td>\n",
       "      <td>-4.2</td>\n",
       "      <td>0.0</td>\n",
       "      <td>WNW</td>\n",
       "      <td>1.2</td>\n",
       "      <td>Aotizhongxin</td>\n",
       "    </tr>\n",
       "    <tr>\n",
       "      <th>35027</th>\n",
       "      <td>35028</td>\n",
       "      <td>2017</td>\n",
       "      <td>2</td>\n",
       "      <td>27</td>\n",
       "      <td>11</td>\n",
       "      <td>122.0</td>\n",
       "      <td>122.0</td>\n",
       "      <td>NaN</td>\n",
       "      <td>NaN</td>\n",
       "      <td>NaN</td>\n",
       "      <td>42.0</td>\n",
       "      <td>10.00</td>\n",
       "      <td>1018.3</td>\n",
       "      <td>-5.6</td>\n",
       "      <td>0.0</td>\n",
       "      <td>ESE</td>\n",
       "      <td>1.4</td>\n",
       "      <td>Aotizhongxin</td>\n",
       "    </tr>\n",
       "  </tbody>\n",
       "</table>\n",
       "<p>282 rows × 18 columns</p>\n",
       "</div>"
      ],
      "text/plain": [
       "          No  year  month  day  hour  PM2.5   PM10  SO2    NO2      CO    O3  \\\n",
       "74        75  2013      3    4     2   34.0   62.0  NaN   14.0   300.0  68.0   \n",
       "170      171  2013      3    8     2  339.0  400.0  NaN  162.0  3899.0  84.0   \n",
       "627      628  2013      3   27     3  129.0  163.0  NaN   54.0     NaN   NaN   \n",
       "628      629  2013      3   27     4  135.0  161.0  NaN   54.0   900.0   2.0   \n",
       "629      630  2013      3   27     5  135.0  153.0  NaN   64.0  1000.0   2.0   \n",
       "...      ...   ...    ...  ...   ...    ...    ...  ...    ...     ...   ...   \n",
       "33547  33548  2016     12   27    19   49.0  104.0  NaN    NaN     NaN   NaN   \n",
       "33878  33879  2017      1   10    14    3.0    6.0  NaN    6.0     NaN  69.0   \n",
       "33879  33880  2017      1   10    15    3.0    6.0  NaN    NaN   300.0  70.0   \n",
       "34912  34913  2017      2   22    16  131.0  131.0  NaN   95.0     NaN  47.0   \n",
       "35027  35028  2017      2   27    11  122.0  122.0  NaN    NaN     NaN  42.0   \n",
       "\n",
       "        TEMP    PRES  DEWP  RAIN   wd  WSPM       station  \n",
       "74      8.10  1016.7 -11.8   0.0    N   4.3  Aotizhongxin  \n",
       "170     2.50   998.2  -1.9   0.0   SW   0.8  Aotizhongxin  \n",
       "627     4.30  1001.7   3.0   0.0    W   0.8  Aotizhongxin  \n",
       "628     2.90  1001.5   1.9   0.0    W   0.9  Aotizhongxin  \n",
       "629     2.80  1001.4   2.2   0.0  SSW   0.5  Aotizhongxin  \n",
       "...      ...     ...   ...   ...  ...   ...           ...  \n",
       "33547   0.60  1028.4  -9.7   0.0   SW   3.2  Aotizhongxin  \n",
       "33878   3.85  1024.5 -19.7   0.0   NW   4.3  Aotizhongxin  \n",
       "33879   4.48  1024.0 -20.7   0.0    W   2.0  Aotizhongxin  \n",
       "34912   6.00  1017.0  -4.2   0.0  WNW   1.2  Aotizhongxin  \n",
       "35027  10.00  1018.3  -5.6   0.0  ESE   1.4  Aotizhongxin  \n",
       "\n",
       "[282 rows x 18 columns]"
      ]
     },
     "execution_count": 67,
     "metadata": {},
     "output_type": "execute_result"
    }
   ],
   "source": [
    "Aotizhongxin_df_cleaned[Aotizhongxin_df_cleaned.SO2.isna()]"
   ]
  },
  {
   "cell_type": "code",
   "execution_count": 68,
   "metadata": {},
   "outputs": [
    {
     "name": "stdout",
     "output_type": "stream",
     "text": [
      "Jumlah Data Aotizhongxin_df_cleaned saat ini:  (33848, 18)\n",
      "No           0\n",
      "year         0\n",
      "month        0\n",
      "day          0\n",
      "hour         0\n",
      "PM2.5        0\n",
      "PM10         0\n",
      "SO2          0\n",
      "NO2        243\n",
      "CO         973\n",
      "O3         972\n",
      "TEMP        20\n",
      "PRES        20\n",
      "DEWP        20\n",
      "RAIN        20\n",
      "wd          81\n",
      "WSPM        14\n",
      "station      0\n",
      "dtype: int64\n"
     ]
    }
   ],
   "source": [
    "# Menghapus baris yang mengandung missing values pada kolom SO2\n",
    "Aotizhongxin_df_cleaned = Aotizhongxin_df_cleaned.dropna(subset=['SO2'])\n",
    "\n",
    "# Memeriksa jumlah baris dan kolom setelah proses pembersihan\n",
    "print(\"Jumlah Data Aotizhongxin_df_cleaned saat ini: \", Aotizhongxin_df_cleaned.shape)\n",
    "\n",
    "# Memeriksa kembali apakah missing values pada kolom SO2 sudah dihilangkan\n",
    "print(Aotizhongxin_df_cleaned.isna().sum())"
   ]
  },
  {
   "cell_type": "markdown",
   "metadata": {},
   "source": [
    "*temporary insight*\n",
    "\n",
    "\n",
    "Dilakukan juga metode dropping untuk menghilangkan missing values pada kolom SO2 data Aotizhongxin_df_cleaned. Metode dropping ini masih efektif karena hanya menghapus 282 baris dari dataset yang besar, sehingga tidak berdampak signifikan pada analisis keseluruhan."
   ]
  },
  {
   "cell_type": "markdown",
   "metadata": {
    "jp-MarkdownHeadingCollapsed": true
   },
   "source": [
    "###### Missing Values Data Aotizhongxin_df_cleaned kolom NO2"
   ]
  },
  {
   "cell_type": "code",
   "execution_count": 69,
   "metadata": {},
   "outputs": [
    {
     "data": {
      "text/html": [
       "<div>\n",
       "<style scoped>\n",
       "    .dataframe tbody tr th:only-of-type {\n",
       "        vertical-align: middle;\n",
       "    }\n",
       "\n",
       "    .dataframe tbody tr th {\n",
       "        vertical-align: top;\n",
       "    }\n",
       "\n",
       "    .dataframe thead th {\n",
       "        text-align: right;\n",
       "    }\n",
       "</style>\n",
       "<table border=\"1\" class=\"dataframe\">\n",
       "  <thead>\n",
       "    <tr style=\"text-align: right;\">\n",
       "      <th></th>\n",
       "      <th>No</th>\n",
       "      <th>year</th>\n",
       "      <th>month</th>\n",
       "      <th>day</th>\n",
       "      <th>hour</th>\n",
       "      <th>PM2.5</th>\n",
       "      <th>PM10</th>\n",
       "      <th>SO2</th>\n",
       "      <th>NO2</th>\n",
       "      <th>CO</th>\n",
       "      <th>O3</th>\n",
       "      <th>TEMP</th>\n",
       "      <th>PRES</th>\n",
       "      <th>DEWP</th>\n",
       "      <th>RAIN</th>\n",
       "      <th>wd</th>\n",
       "      <th>WSPM</th>\n",
       "      <th>station</th>\n",
       "    </tr>\n",
       "  </thead>\n",
       "  <tbody>\n",
       "    <tr>\n",
       "      <th>76</th>\n",
       "      <td>77</td>\n",
       "      <td>2013</td>\n",
       "      <td>3</td>\n",
       "      <td>4</td>\n",
       "      <td>4</td>\n",
       "      <td>7.0</td>\n",
       "      <td>18.0</td>\n",
       "      <td>14.0</td>\n",
       "      <td>NaN</td>\n",
       "      <td>400.0</td>\n",
       "      <td>42.0</td>\n",
       "      <td>6.000</td>\n",
       "      <td>1018.0</td>\n",
       "      <td>-11.6</td>\n",
       "      <td>0.0</td>\n",
       "      <td>NNW</td>\n",
       "      <td>1.0</td>\n",
       "      <td>Aotizhongxin</td>\n",
       "    </tr>\n",
       "    <tr>\n",
       "      <th>172</th>\n",
       "      <td>173</td>\n",
       "      <td>2013</td>\n",
       "      <td>3</td>\n",
       "      <td>8</td>\n",
       "      <td>4</td>\n",
       "      <td>322.0</td>\n",
       "      <td>345.0</td>\n",
       "      <td>62.0</td>\n",
       "      <td>NaN</td>\n",
       "      <td>3299.0</td>\n",
       "      <td>84.0</td>\n",
       "      <td>1.300</td>\n",
       "      <td>998.5</td>\n",
       "      <td>-1.8</td>\n",
       "      <td>0.0</td>\n",
       "      <td>W</td>\n",
       "      <td>1.0</td>\n",
       "      <td>Aotizhongxin</td>\n",
       "    </tr>\n",
       "    <tr>\n",
       "      <th>1109</th>\n",
       "      <td>1110</td>\n",
       "      <td>2013</td>\n",
       "      <td>4</td>\n",
       "      <td>16</td>\n",
       "      <td>5</td>\n",
       "      <td>50.0</td>\n",
       "      <td>156.0</td>\n",
       "      <td>46.0</td>\n",
       "      <td>NaN</td>\n",
       "      <td>1300.0</td>\n",
       "      <td>11.0</td>\n",
       "      <td>8.500</td>\n",
       "      <td>998.7</td>\n",
       "      <td>2.3</td>\n",
       "      <td>0.0</td>\n",
       "      <td>NE</td>\n",
       "      <td>1.1</td>\n",
       "      <td>Aotizhongxin</td>\n",
       "    </tr>\n",
       "    <tr>\n",
       "      <th>1110</th>\n",
       "      <td>1111</td>\n",
       "      <td>2013</td>\n",
       "      <td>4</td>\n",
       "      <td>16</td>\n",
       "      <td>6</td>\n",
       "      <td>58.0</td>\n",
       "      <td>185.0</td>\n",
       "      <td>35.0</td>\n",
       "      <td>NaN</td>\n",
       "      <td>1300.0</td>\n",
       "      <td>2.0</td>\n",
       "      <td>10.100</td>\n",
       "      <td>999.6</td>\n",
       "      <td>2.4</td>\n",
       "      <td>0.0</td>\n",
       "      <td>NE</td>\n",
       "      <td>1.9</td>\n",
       "      <td>Aotizhongxin</td>\n",
       "    </tr>\n",
       "    <tr>\n",
       "      <th>1111</th>\n",
       "      <td>1112</td>\n",
       "      <td>2013</td>\n",
       "      <td>4</td>\n",
       "      <td>16</td>\n",
       "      <td>7</td>\n",
       "      <td>57.0</td>\n",
       "      <td>185.0</td>\n",
       "      <td>35.0</td>\n",
       "      <td>NaN</td>\n",
       "      <td>1300.0</td>\n",
       "      <td>7.0</td>\n",
       "      <td>13.300</td>\n",
       "      <td>1000.5</td>\n",
       "      <td>3.1</td>\n",
       "      <td>0.0</td>\n",
       "      <td>NNW</td>\n",
       "      <td>1.8</td>\n",
       "      <td>Aotizhongxin</td>\n",
       "    </tr>\n",
       "    <tr>\n",
       "      <th>...</th>\n",
       "      <td>...</td>\n",
       "      <td>...</td>\n",
       "      <td>...</td>\n",
       "      <td>...</td>\n",
       "      <td>...</td>\n",
       "      <td>...</td>\n",
       "      <td>...</td>\n",
       "      <td>...</td>\n",
       "      <td>...</td>\n",
       "      <td>...</td>\n",
       "      <td>...</td>\n",
       "      <td>...</td>\n",
       "      <td>...</td>\n",
       "      <td>...</td>\n",
       "      <td>...</td>\n",
       "      <td>...</td>\n",
       "      <td>...</td>\n",
       "      <td>...</td>\n",
       "    </tr>\n",
       "    <tr>\n",
       "      <th>33122</th>\n",
       "      <td>33123</td>\n",
       "      <td>2016</td>\n",
       "      <td>12</td>\n",
       "      <td>10</td>\n",
       "      <td>2</td>\n",
       "      <td>69.0</td>\n",
       "      <td>96.0</td>\n",
       "      <td>25.0</td>\n",
       "      <td>NaN</td>\n",
       "      <td>2300.0</td>\n",
       "      <td>3.0</td>\n",
       "      <td>-4.300</td>\n",
       "      <td>1026.0</td>\n",
       "      <td>-9.3</td>\n",
       "      <td>0.0</td>\n",
       "      <td>ENE</td>\n",
       "      <td>1.2</td>\n",
       "      <td>Aotizhongxin</td>\n",
       "    </tr>\n",
       "    <tr>\n",
       "      <th>33170</th>\n",
       "      <td>33171</td>\n",
       "      <td>2016</td>\n",
       "      <td>12</td>\n",
       "      <td>12</td>\n",
       "      <td>2</td>\n",
       "      <td>219.0</td>\n",
       "      <td>221.0</td>\n",
       "      <td>47.0</td>\n",
       "      <td>NaN</td>\n",
       "      <td>3500.0</td>\n",
       "      <td>2.0</td>\n",
       "      <td>1.700</td>\n",
       "      <td>1018.2</td>\n",
       "      <td>-4.6</td>\n",
       "      <td>0.0</td>\n",
       "      <td>NE</td>\n",
       "      <td>1.2</td>\n",
       "      <td>Aotizhongxin</td>\n",
       "    </tr>\n",
       "    <tr>\n",
       "      <th>33218</th>\n",
       "      <td>33219</td>\n",
       "      <td>2016</td>\n",
       "      <td>12</td>\n",
       "      <td>14</td>\n",
       "      <td>2</td>\n",
       "      <td>9.0</td>\n",
       "      <td>14.0</td>\n",
       "      <td>3.0</td>\n",
       "      <td>NaN</td>\n",
       "      <td>300.0</td>\n",
       "      <td>46.0</td>\n",
       "      <td>-2.700</td>\n",
       "      <td>1031.7</td>\n",
       "      <td>-18.3</td>\n",
       "      <td>0.0</td>\n",
       "      <td>ENE</td>\n",
       "      <td>1.7</td>\n",
       "      <td>Aotizhongxin</td>\n",
       "    </tr>\n",
       "    <tr>\n",
       "      <th>33880</th>\n",
       "      <td>33881</td>\n",
       "      <td>2017</td>\n",
       "      <td>1</td>\n",
       "      <td>10</td>\n",
       "      <td>16</td>\n",
       "      <td>5.0</td>\n",
       "      <td>6.0</td>\n",
       "      <td>4.0</td>\n",
       "      <td>NaN</td>\n",
       "      <td>300.0</td>\n",
       "      <td>65.0</td>\n",
       "      <td>4.050</td>\n",
       "      <td>1024.0</td>\n",
       "      <td>-16.1</td>\n",
       "      <td>0.0</td>\n",
       "      <td>SW</td>\n",
       "      <td>3.4</td>\n",
       "      <td>Aotizhongxin</td>\n",
       "    </tr>\n",
       "    <tr>\n",
       "      <th>33899</th>\n",
       "      <td>33900</td>\n",
       "      <td>2017</td>\n",
       "      <td>1</td>\n",
       "      <td>11</td>\n",
       "      <td>11</td>\n",
       "      <td>3.0</td>\n",
       "      <td>6.0</td>\n",
       "      <td>19.0</td>\n",
       "      <td>NaN</td>\n",
       "      <td>2100.0</td>\n",
       "      <td>14.0</td>\n",
       "      <td>0.625</td>\n",
       "      <td>1023.0</td>\n",
       "      <td>-10.0</td>\n",
       "      <td>0.0</td>\n",
       "      <td>NW</td>\n",
       "      <td>1.1</td>\n",
       "      <td>Aotizhongxin</td>\n",
       "    </tr>\n",
       "  </tbody>\n",
       "</table>\n",
       "<p>243 rows × 18 columns</p>\n",
       "</div>"
      ],
      "text/plain": [
       "          No  year  month  day  hour  PM2.5   PM10   SO2  NO2      CO    O3  \\\n",
       "76        77  2013      3    4     4    7.0   18.0  14.0  NaN   400.0  42.0   \n",
       "172      173  2013      3    8     4  322.0  345.0  62.0  NaN  3299.0  84.0   \n",
       "1109    1110  2013      4   16     5   50.0  156.0  46.0  NaN  1300.0  11.0   \n",
       "1110    1111  2013      4   16     6   58.0  185.0  35.0  NaN  1300.0   2.0   \n",
       "1111    1112  2013      4   16     7   57.0  185.0  35.0  NaN  1300.0   7.0   \n",
       "...      ...   ...    ...  ...   ...    ...    ...   ...  ...     ...   ...   \n",
       "33122  33123  2016     12   10     2   69.0   96.0  25.0  NaN  2300.0   3.0   \n",
       "33170  33171  2016     12   12     2  219.0  221.0  47.0  NaN  3500.0   2.0   \n",
       "33218  33219  2016     12   14     2    9.0   14.0   3.0  NaN   300.0  46.0   \n",
       "33880  33881  2017      1   10    16    5.0    6.0   4.0  NaN   300.0  65.0   \n",
       "33899  33900  2017      1   11    11    3.0    6.0  19.0  NaN  2100.0  14.0   \n",
       "\n",
       "         TEMP    PRES  DEWP  RAIN   wd  WSPM       station  \n",
       "76      6.000  1018.0 -11.6   0.0  NNW   1.0  Aotizhongxin  \n",
       "172     1.300   998.5  -1.8   0.0    W   1.0  Aotizhongxin  \n",
       "1109    8.500   998.7   2.3   0.0   NE   1.1  Aotizhongxin  \n",
       "1110   10.100   999.6   2.4   0.0   NE   1.9  Aotizhongxin  \n",
       "1111   13.300  1000.5   3.1   0.0  NNW   1.8  Aotizhongxin  \n",
       "...       ...     ...   ...   ...  ...   ...           ...  \n",
       "33122  -4.300  1026.0  -9.3   0.0  ENE   1.2  Aotizhongxin  \n",
       "33170   1.700  1018.2  -4.6   0.0   NE   1.2  Aotizhongxin  \n",
       "33218  -2.700  1031.7 -18.3   0.0  ENE   1.7  Aotizhongxin  \n",
       "33880   4.050  1024.0 -16.1   0.0   SW   3.4  Aotizhongxin  \n",
       "33899   0.625  1023.0 -10.0   0.0   NW   1.1  Aotizhongxin  \n",
       "\n",
       "[243 rows x 18 columns]"
      ]
     },
     "execution_count": 69,
     "metadata": {},
     "output_type": "execute_result"
    }
   ],
   "source": [
    "Aotizhongxin_df_cleaned[Aotizhongxin_df_cleaned.NO2.isna()]"
   ]
  },
  {
   "cell_type": "code",
   "execution_count": 70,
   "metadata": {},
   "outputs": [
    {
     "name": "stdout",
     "output_type": "stream",
     "text": [
      "Jumlah Data Aotizhongxin_df_cleaned saat ini:  (33605, 18)\n",
      "No           0\n",
      "year         0\n",
      "month        0\n",
      "day          0\n",
      "hour         0\n",
      "PM2.5        0\n",
      "PM10         0\n",
      "SO2          0\n",
      "NO2          0\n",
      "CO         951\n",
      "O3         961\n",
      "TEMP        20\n",
      "PRES        20\n",
      "DEWP        20\n",
      "RAIN        20\n",
      "wd          81\n",
      "WSPM        14\n",
      "station      0\n",
      "dtype: int64\n"
     ]
    }
   ],
   "source": [
    "# Menghapus baris yang mengandung missing values pada kolom NO2\n",
    "Aotizhongxin_df_cleaned = Aotizhongxin_df_cleaned.dropna(subset=['NO2'])\n",
    "\n",
    "# Memeriksa jumlah baris dan kolom setelah proses pembersihan\n",
    "print(\"Jumlah Data Aotizhongxin_df_cleaned saat ini: \", Aotizhongxin_df_cleaned.shape)\n",
    "\n",
    "# Memeriksa kembali apakah missing values pada kolom NO2 sudah dihilangkan\n",
    "print(Aotizhongxin_df_cleaned.isna().sum())"
   ]
  },
  {
   "cell_type": "markdown",
   "metadata": {},
   "source": [
    "*temporary insight*\n",
    "\n",
    "\n",
    "Dilakukan juga metode dropping untuk menghilangkan missing values pada kolom NO2 data Aotizhongxin_df_cleaned. Metode dropping ini masih efektif karena hanya menghapus 243 baris dari dataset yang besar, sehingga tidak berdampak signifikan pada analisis keseluruhan."
   ]
  },
  {
   "cell_type": "markdown",
   "metadata": {
    "jp-MarkdownHeadingCollapsed": true
   },
   "source": [
    "###### Missing Values Data Aotizhongxin_df_cleaned kolom CO"
   ]
  },
  {
   "cell_type": "code",
   "execution_count": 71,
   "metadata": {},
   "outputs": [
    {
     "data": {
      "text/html": [
       "<div>\n",
       "<style scoped>\n",
       "    .dataframe tbody tr th:only-of-type {\n",
       "        vertical-align: middle;\n",
       "    }\n",
       "\n",
       "    .dataframe tbody tr th {\n",
       "        vertical-align: top;\n",
       "    }\n",
       "\n",
       "    .dataframe thead th {\n",
       "        text-align: right;\n",
       "    }\n",
       "</style>\n",
       "<table border=\"1\" class=\"dataframe\">\n",
       "  <thead>\n",
       "    <tr style=\"text-align: right;\">\n",
       "      <th></th>\n",
       "      <th>No</th>\n",
       "      <th>year</th>\n",
       "      <th>month</th>\n",
       "      <th>day</th>\n",
       "      <th>hour</th>\n",
       "      <th>PM2.5</th>\n",
       "      <th>PM10</th>\n",
       "      <th>SO2</th>\n",
       "      <th>NO2</th>\n",
       "      <th>CO</th>\n",
       "      <th>O3</th>\n",
       "      <th>TEMP</th>\n",
       "      <th>PRES</th>\n",
       "      <th>DEWP</th>\n",
       "      <th>RAIN</th>\n",
       "      <th>wd</th>\n",
       "      <th>WSPM</th>\n",
       "      <th>station</th>\n",
       "    </tr>\n",
       "  </thead>\n",
       "  <tbody>\n",
       "    <tr>\n",
       "      <th>75</th>\n",
       "      <td>76</td>\n",
       "      <td>2013</td>\n",
       "      <td>3</td>\n",
       "      <td>4</td>\n",
       "      <td>3</td>\n",
       "      <td>12.0</td>\n",
       "      <td>34.0</td>\n",
       "      <td>6.0000</td>\n",
       "      <td>12.0000</td>\n",
       "      <td>NaN</td>\n",
       "      <td>77.0</td>\n",
       "      <td>7.200000</td>\n",
       "      <td>1016.9</td>\n",
       "      <td>-11.6</td>\n",
       "      <td>0.0</td>\n",
       "      <td>N</td>\n",
       "      <td>2.8</td>\n",
       "      <td>Aotizhongxin</td>\n",
       "    </tr>\n",
       "    <tr>\n",
       "      <th>124</th>\n",
       "      <td>125</td>\n",
       "      <td>2013</td>\n",
       "      <td>3</td>\n",
       "      <td>6</td>\n",
       "      <td>4</td>\n",
       "      <td>192.0</td>\n",
       "      <td>203.0</td>\n",
       "      <td>83.6808</td>\n",
       "      <td>140.4252</td>\n",
       "      <td>NaN</td>\n",
       "      <td>22.0</td>\n",
       "      <td>3.900000</td>\n",
       "      <td>1007.3</td>\n",
       "      <td>-6.1</td>\n",
       "      <td>0.0</td>\n",
       "      <td>NE</td>\n",
       "      <td>1.4</td>\n",
       "      <td>Aotizhongxin</td>\n",
       "    </tr>\n",
       "    <tr>\n",
       "      <th>171</th>\n",
       "      <td>172</td>\n",
       "      <td>2013</td>\n",
       "      <td>3</td>\n",
       "      <td>8</td>\n",
       "      <td>3</td>\n",
       "      <td>324.0</td>\n",
       "      <td>373.0</td>\n",
       "      <td>71.0000</td>\n",
       "      <td>154.0000</td>\n",
       "      <td>NaN</td>\n",
       "      <td>84.0</td>\n",
       "      <td>1.800000</td>\n",
       "      <td>997.9</td>\n",
       "      <td>-1.8</td>\n",
       "      <td>0.0</td>\n",
       "      <td>N</td>\n",
       "      <td>0.0</td>\n",
       "      <td>Aotizhongxin</td>\n",
       "    </tr>\n",
       "    <tr>\n",
       "      <th>178</th>\n",
       "      <td>179</td>\n",
       "      <td>2013</td>\n",
       "      <td>3</td>\n",
       "      <td>8</td>\n",
       "      <td>10</td>\n",
       "      <td>326.0</td>\n",
       "      <td>844.0</td>\n",
       "      <td>125.9496</td>\n",
       "      <td>179.2269</td>\n",
       "      <td>NaN</td>\n",
       "      <td>84.0</td>\n",
       "      <td>19.100000</td>\n",
       "      <td>1000.9</td>\n",
       "      <td>-0.4</td>\n",
       "      <td>0.0</td>\n",
       "      <td>SSW</td>\n",
       "      <td>1.9</td>\n",
       "      <td>Aotizhongxin</td>\n",
       "    </tr>\n",
       "    <tr>\n",
       "      <th>267</th>\n",
       "      <td>268</td>\n",
       "      <td>2013</td>\n",
       "      <td>3</td>\n",
       "      <td>12</td>\n",
       "      <td>3</td>\n",
       "      <td>117.0</td>\n",
       "      <td>127.0</td>\n",
       "      <td>73.0000</td>\n",
       "      <td>81.0000</td>\n",
       "      <td>NaN</td>\n",
       "      <td>47.0</td>\n",
       "      <td>6.400000</td>\n",
       "      <td>1005.8</td>\n",
       "      <td>-1.0</td>\n",
       "      <td>0.1</td>\n",
       "      <td>N</td>\n",
       "      <td>2.2</td>\n",
       "      <td>Aotizhongxin</td>\n",
       "    </tr>\n",
       "    <tr>\n",
       "      <th>...</th>\n",
       "      <td>...</td>\n",
       "      <td>...</td>\n",
       "      <td>...</td>\n",
       "      <td>...</td>\n",
       "      <td>...</td>\n",
       "      <td>...</td>\n",
       "      <td>...</td>\n",
       "      <td>...</td>\n",
       "      <td>...</td>\n",
       "      <td>...</td>\n",
       "      <td>...</td>\n",
       "      <td>...</td>\n",
       "      <td>...</td>\n",
       "      <td>...</td>\n",
       "      <td>...</td>\n",
       "      <td>...</td>\n",
       "      <td>...</td>\n",
       "      <td>...</td>\n",
       "    </tr>\n",
       "    <tr>\n",
       "      <th>34064</th>\n",
       "      <td>34065</td>\n",
       "      <td>2017</td>\n",
       "      <td>1</td>\n",
       "      <td>18</td>\n",
       "      <td>8</td>\n",
       "      <td>25.0</td>\n",
       "      <td>30.0</td>\n",
       "      <td>14.0000</td>\n",
       "      <td>49.0000</td>\n",
       "      <td>NaN</td>\n",
       "      <td>35.0</td>\n",
       "      <td>-5.462500</td>\n",
       "      <td>1030.0</td>\n",
       "      <td>-15.8</td>\n",
       "      <td>0.0</td>\n",
       "      <td>NE</td>\n",
       "      <td>1.9</td>\n",
       "      <td>Aotizhongxin</td>\n",
       "    </tr>\n",
       "    <tr>\n",
       "      <th>34065</th>\n",
       "      <td>34066</td>\n",
       "      <td>2017</td>\n",
       "      <td>1</td>\n",
       "      <td>18</td>\n",
       "      <td>9</td>\n",
       "      <td>21.0</td>\n",
       "      <td>44.0</td>\n",
       "      <td>3.0000</td>\n",
       "      <td>2.0000</td>\n",
       "      <td>NaN</td>\n",
       "      <td>31.0</td>\n",
       "      <td>-4.900000</td>\n",
       "      <td>1031.0</td>\n",
       "      <td>-15.6</td>\n",
       "      <td>0.0</td>\n",
       "      <td>NE</td>\n",
       "      <td>3.2</td>\n",
       "      <td>Aotizhongxin</td>\n",
       "    </tr>\n",
       "    <tr>\n",
       "      <th>34066</th>\n",
       "      <td>34067</td>\n",
       "      <td>2017</td>\n",
       "      <td>1</td>\n",
       "      <td>18</td>\n",
       "      <td>10</td>\n",
       "      <td>22.0</td>\n",
       "      <td>37.0</td>\n",
       "      <td>5.0000</td>\n",
       "      <td>39.0000</td>\n",
       "      <td>NaN</td>\n",
       "      <td>54.0</td>\n",
       "      <td>-2.966667</td>\n",
       "      <td>1031.0</td>\n",
       "      <td>-16.1</td>\n",
       "      <td>0.0</td>\n",
       "      <td>NE</td>\n",
       "      <td>2.7</td>\n",
       "      <td>Aotizhongxin</td>\n",
       "    </tr>\n",
       "    <tr>\n",
       "      <th>34411</th>\n",
       "      <td>34412</td>\n",
       "      <td>2017</td>\n",
       "      <td>2</td>\n",
       "      <td>1</td>\n",
       "      <td>19</td>\n",
       "      <td>44.0</td>\n",
       "      <td>90.0</td>\n",
       "      <td>21.0000</td>\n",
       "      <td>46.0000</td>\n",
       "      <td>NaN</td>\n",
       "      <td>88.0</td>\n",
       "      <td>1.600000</td>\n",
       "      <td>1031.9</td>\n",
       "      <td>-20.2</td>\n",
       "      <td>0.0</td>\n",
       "      <td>WSW</td>\n",
       "      <td>2.2</td>\n",
       "      <td>Aotizhongxin</td>\n",
       "    </tr>\n",
       "    <tr>\n",
       "      <th>34602</th>\n",
       "      <td>34603</td>\n",
       "      <td>2017</td>\n",
       "      <td>2</td>\n",
       "      <td>9</td>\n",
       "      <td>18</td>\n",
       "      <td>3.0</td>\n",
       "      <td>23.0</td>\n",
       "      <td>3.0000</td>\n",
       "      <td>10.0000</td>\n",
       "      <td>NaN</td>\n",
       "      <td>88.0</td>\n",
       "      <td>0.200000</td>\n",
       "      <td>1023.0</td>\n",
       "      <td>-22.1</td>\n",
       "      <td>0.0</td>\n",
       "      <td>N</td>\n",
       "      <td>3.6</td>\n",
       "      <td>Aotizhongxin</td>\n",
       "    </tr>\n",
       "  </tbody>\n",
       "</table>\n",
       "<p>951 rows × 18 columns</p>\n",
       "</div>"
      ],
      "text/plain": [
       "          No  year  month  day  hour  PM2.5   PM10       SO2       NO2  CO  \\\n",
       "75        76  2013      3    4     3   12.0   34.0    6.0000   12.0000 NaN   \n",
       "124      125  2013      3    6     4  192.0  203.0   83.6808  140.4252 NaN   \n",
       "171      172  2013      3    8     3  324.0  373.0   71.0000  154.0000 NaN   \n",
       "178      179  2013      3    8    10  326.0  844.0  125.9496  179.2269 NaN   \n",
       "267      268  2013      3   12     3  117.0  127.0   73.0000   81.0000 NaN   \n",
       "...      ...   ...    ...  ...   ...    ...    ...       ...       ...  ..   \n",
       "34064  34065  2017      1   18     8   25.0   30.0   14.0000   49.0000 NaN   \n",
       "34065  34066  2017      1   18     9   21.0   44.0    3.0000    2.0000 NaN   \n",
       "34066  34067  2017      1   18    10   22.0   37.0    5.0000   39.0000 NaN   \n",
       "34411  34412  2017      2    1    19   44.0   90.0   21.0000   46.0000 NaN   \n",
       "34602  34603  2017      2    9    18    3.0   23.0    3.0000   10.0000 NaN   \n",
       "\n",
       "         O3       TEMP    PRES  DEWP  RAIN   wd  WSPM       station  \n",
       "75     77.0   7.200000  1016.9 -11.6   0.0    N   2.8  Aotizhongxin  \n",
       "124    22.0   3.900000  1007.3  -6.1   0.0   NE   1.4  Aotizhongxin  \n",
       "171    84.0   1.800000   997.9  -1.8   0.0    N   0.0  Aotizhongxin  \n",
       "178    84.0  19.100000  1000.9  -0.4   0.0  SSW   1.9  Aotizhongxin  \n",
       "267    47.0   6.400000  1005.8  -1.0   0.1    N   2.2  Aotizhongxin  \n",
       "...     ...        ...     ...   ...   ...  ...   ...           ...  \n",
       "34064  35.0  -5.462500  1030.0 -15.8   0.0   NE   1.9  Aotizhongxin  \n",
       "34065  31.0  -4.900000  1031.0 -15.6   0.0   NE   3.2  Aotizhongxin  \n",
       "34066  54.0  -2.966667  1031.0 -16.1   0.0   NE   2.7  Aotizhongxin  \n",
       "34411  88.0   1.600000  1031.9 -20.2   0.0  WSW   2.2  Aotizhongxin  \n",
       "34602  88.0   0.200000  1023.0 -22.1   0.0    N   3.6  Aotizhongxin  \n",
       "\n",
       "[951 rows x 18 columns]"
      ]
     },
     "execution_count": 71,
     "metadata": {},
     "output_type": "execute_result"
    }
   ],
   "source": [
    "Aotizhongxin_df_cleaned[Aotizhongxin_df_cleaned.CO.isna()]"
   ]
  },
  {
   "cell_type": "code",
   "execution_count": 72,
   "metadata": {},
   "outputs": [
    {
     "name": "stdout",
     "output_type": "stream",
     "text": [
      "Jumlah Data Aotizhongxin_df_cleaned saat ini:  (33605, 18)\n",
      "No           0\n",
      "year         0\n",
      "month        0\n",
      "day          0\n",
      "hour         0\n",
      "PM2.5        0\n",
      "PM10         0\n",
      "SO2          0\n",
      "NO2          0\n",
      "CO           0\n",
      "O3         961\n",
      "TEMP        20\n",
      "PRES        20\n",
      "DEWP        20\n",
      "RAIN        20\n",
      "wd          81\n",
      "WSPM        14\n",
      "station      0\n",
      "dtype: int64\n"
     ]
    }
   ],
   "source": [
    "# Mengisi missing values pada kolom CO dengan nilai rata-rata (mean)\n",
    "Aotizhongxin_df_cleaned['CO'] = Aotizhongxin_df_cleaned['CO'].fillna(Aotizhongxin_df_cleaned['CO'].mean())\n",
    "\n",
    "# Memeriksa jumlah baris dan kolom setelah proses pembersihan\n",
    "print(\"Jumlah Data Aotizhongxin_df_cleaned saat ini: \", Aotizhongxin_df_cleaned.shape)\n",
    "\n",
    "# Memeriksa apakah missing values pada kolom CO sudah dihilangkan\n",
    "print(Aotizhongxin_df_cleaned.isna().sum())\n"
   ]
  },
  {
   "cell_type": "markdown",
   "metadata": {},
   "source": [
    "*temporary insight*\n",
    "\n",
    "Melalukan langkah-langkah data cleaning dengan metode imputation untuk menangani missing values pada kolom CO. Dengan memilih imputation, diharapkan bisa mempertahankan sebagian besar data tanpa harus menghapus baris-baris penting, yang mungkin memiliki pengaruh signifikan dalam analisis mendatang. Hal ini dilakukan dengan mengganti nilai yang hilang (missing values) pada kolom CO dengan nilai yang masuk akal, dalam hal ini mengganti missing values tersebut dengan nilai rata-rata (mean) dari kolom CO."
   ]
  },
  {
   "cell_type": "markdown",
   "metadata": {
    "jp-MarkdownHeadingCollapsed": true
   },
   "source": [
    "###### Missing Values Data Aotizhongxin_df_cleaned kolom O3"
   ]
  },
  {
   "cell_type": "code",
   "execution_count": 73,
   "metadata": {},
   "outputs": [
    {
     "data": {
      "text/html": [
       "<div>\n",
       "<style scoped>\n",
       "    .dataframe tbody tr th:only-of-type {\n",
       "        vertical-align: middle;\n",
       "    }\n",
       "\n",
       "    .dataframe tbody tr th {\n",
       "        vertical-align: top;\n",
       "    }\n",
       "\n",
       "    .dataframe thead th {\n",
       "        text-align: right;\n",
       "    }\n",
       "</style>\n",
       "<table border=\"1\" class=\"dataframe\">\n",
       "  <thead>\n",
       "    <tr style=\"text-align: right;\">\n",
       "      <th></th>\n",
       "      <th>No</th>\n",
       "      <th>year</th>\n",
       "      <th>month</th>\n",
       "      <th>day</th>\n",
       "      <th>hour</th>\n",
       "      <th>PM2.5</th>\n",
       "      <th>PM10</th>\n",
       "      <th>SO2</th>\n",
       "      <th>NO2</th>\n",
       "      <th>CO</th>\n",
       "      <th>O3</th>\n",
       "      <th>TEMP</th>\n",
       "      <th>PRES</th>\n",
       "      <th>DEWP</th>\n",
       "      <th>RAIN</th>\n",
       "      <th>wd</th>\n",
       "      <th>WSPM</th>\n",
       "      <th>station</th>\n",
       "    </tr>\n",
       "  </thead>\n",
       "  <tbody>\n",
       "    <tr>\n",
       "      <th>435</th>\n",
       "      <td>436</td>\n",
       "      <td>2013</td>\n",
       "      <td>3</td>\n",
       "      <td>19</td>\n",
       "      <td>3</td>\n",
       "      <td>33.0</td>\n",
       "      <td>41.0</td>\n",
       "      <td>15.0</td>\n",
       "      <td>50.0</td>\n",
       "      <td>1263.922368</td>\n",
       "      <td>NaN</td>\n",
       "      <td>0.800</td>\n",
       "      <td>1005.80</td>\n",
       "      <td>-3.0</td>\n",
       "      <td>0.0</td>\n",
       "      <td>ENE</td>\n",
       "      <td>1.5</td>\n",
       "      <td>Aotizhongxin</td>\n",
       "    </tr>\n",
       "    <tr>\n",
       "      <th>436</th>\n",
       "      <td>437</td>\n",
       "      <td>2013</td>\n",
       "      <td>3</td>\n",
       "      <td>19</td>\n",
       "      <td>4</td>\n",
       "      <td>31.0</td>\n",
       "      <td>35.0</td>\n",
       "      <td>15.0</td>\n",
       "      <td>49.0</td>\n",
       "      <td>1263.922368</td>\n",
       "      <td>NaN</td>\n",
       "      <td>0.100</td>\n",
       "      <td>1005.40</td>\n",
       "      <td>-3.5</td>\n",
       "      <td>0.0</td>\n",
       "      <td>N</td>\n",
       "      <td>1.4</td>\n",
       "      <td>Aotizhongxin</td>\n",
       "    </tr>\n",
       "    <tr>\n",
       "      <th>531</th>\n",
       "      <td>532</td>\n",
       "      <td>2013</td>\n",
       "      <td>3</td>\n",
       "      <td>23</td>\n",
       "      <td>3</td>\n",
       "      <td>51.0</td>\n",
       "      <td>70.0</td>\n",
       "      <td>12.0</td>\n",
       "      <td>85.0</td>\n",
       "      <td>1263.922368</td>\n",
       "      <td>NaN</td>\n",
       "      <td>1.500</td>\n",
       "      <td>1008.50</td>\n",
       "      <td>-2.5</td>\n",
       "      <td>0.0</td>\n",
       "      <td>WNW</td>\n",
       "      <td>0.6</td>\n",
       "      <td>Aotizhongxin</td>\n",
       "    </tr>\n",
       "    <tr>\n",
       "      <th>578</th>\n",
       "      <td>579</td>\n",
       "      <td>2013</td>\n",
       "      <td>3</td>\n",
       "      <td>25</td>\n",
       "      <td>2</td>\n",
       "      <td>73.0</td>\n",
       "      <td>121.0</td>\n",
       "      <td>42.0</td>\n",
       "      <td>105.0</td>\n",
       "      <td>1263.922368</td>\n",
       "      <td>NaN</td>\n",
       "      <td>0.500</td>\n",
       "      <td>1017.00</td>\n",
       "      <td>-6.8</td>\n",
       "      <td>0.0</td>\n",
       "      <td>NNE</td>\n",
       "      <td>1.3</td>\n",
       "      <td>Aotizhongxin</td>\n",
       "    </tr>\n",
       "    <tr>\n",
       "      <th>579</th>\n",
       "      <td>580</td>\n",
       "      <td>2013</td>\n",
       "      <td>3</td>\n",
       "      <td>25</td>\n",
       "      <td>3</td>\n",
       "      <td>79.0</td>\n",
       "      <td>140.0</td>\n",
       "      <td>26.0</td>\n",
       "      <td>95.0</td>\n",
       "      <td>1263.922368</td>\n",
       "      <td>NaN</td>\n",
       "      <td>0.300</td>\n",
       "      <td>1017.40</td>\n",
       "      <td>-5.1</td>\n",
       "      <td>0.0</td>\n",
       "      <td>NE</td>\n",
       "      <td>1.2</td>\n",
       "      <td>Aotizhongxin</td>\n",
       "    </tr>\n",
       "    <tr>\n",
       "      <th>...</th>\n",
       "      <td>...</td>\n",
       "      <td>...</td>\n",
       "      <td>...</td>\n",
       "      <td>...</td>\n",
       "      <td>...</td>\n",
       "      <td>...</td>\n",
       "      <td>...</td>\n",
       "      <td>...</td>\n",
       "      <td>...</td>\n",
       "      <td>...</td>\n",
       "      <td>...</td>\n",
       "      <td>...</td>\n",
       "      <td>...</td>\n",
       "      <td>...</td>\n",
       "      <td>...</td>\n",
       "      <td>...</td>\n",
       "      <td>...</td>\n",
       "      <td>...</td>\n",
       "    </tr>\n",
       "    <tr>\n",
       "      <th>33881</th>\n",
       "      <td>33882</td>\n",
       "      <td>2017</td>\n",
       "      <td>1</td>\n",
       "      <td>10</td>\n",
       "      <td>17</td>\n",
       "      <td>7.0</td>\n",
       "      <td>9.0</td>\n",
       "      <td>4.0</td>\n",
       "      <td>19.0</td>\n",
       "      <td>400.000000</td>\n",
       "      <td>NaN</td>\n",
       "      <td>2.350</td>\n",
       "      <td>1025.00</td>\n",
       "      <td>-14.9</td>\n",
       "      <td>0.0</td>\n",
       "      <td>SW</td>\n",
       "      <td>2.7</td>\n",
       "      <td>Aotizhongxin</td>\n",
       "    </tr>\n",
       "    <tr>\n",
       "      <th>33892</th>\n",
       "      <td>33893</td>\n",
       "      <td>2017</td>\n",
       "      <td>1</td>\n",
       "      <td>11</td>\n",
       "      <td>4</td>\n",
       "      <td>98.0</td>\n",
       "      <td>128.0</td>\n",
       "      <td>29.0</td>\n",
       "      <td>106.0</td>\n",
       "      <td>3500.000000</td>\n",
       "      <td>NaN</td>\n",
       "      <td>-4.775</td>\n",
       "      <td>1024.25</td>\n",
       "      <td>-11.8</td>\n",
       "      <td>0.0</td>\n",
       "      <td>NaN</td>\n",
       "      <td>0.5</td>\n",
       "      <td>Aotizhongxin</td>\n",
       "    </tr>\n",
       "    <tr>\n",
       "      <th>34060</th>\n",
       "      <td>34061</td>\n",
       "      <td>2017</td>\n",
       "      <td>1</td>\n",
       "      <td>18</td>\n",
       "      <td>4</td>\n",
       "      <td>44.0</td>\n",
       "      <td>44.0</td>\n",
       "      <td>17.0</td>\n",
       "      <td>57.0</td>\n",
       "      <td>1263.922368</td>\n",
       "      <td>NaN</td>\n",
       "      <td>-5.325</td>\n",
       "      <td>1031.00</td>\n",
       "      <td>-12.0</td>\n",
       "      <td>0.0</td>\n",
       "      <td>NE</td>\n",
       "      <td>2.1</td>\n",
       "      <td>Aotizhongxin</td>\n",
       "    </tr>\n",
       "    <tr>\n",
       "      <th>34861</th>\n",
       "      <td>34862</td>\n",
       "      <td>2017</td>\n",
       "      <td>2</td>\n",
       "      <td>20</td>\n",
       "      <td>13</td>\n",
       "      <td>7.0</td>\n",
       "      <td>27.0</td>\n",
       "      <td>6.0</td>\n",
       "      <td>12.0</td>\n",
       "      <td>300.000000</td>\n",
       "      <td>NaN</td>\n",
       "      <td>1.900</td>\n",
       "      <td>1028.60</td>\n",
       "      <td>-22.9</td>\n",
       "      <td>0.0</td>\n",
       "      <td>N</td>\n",
       "      <td>2.7</td>\n",
       "      <td>Aotizhongxin</td>\n",
       "    </tr>\n",
       "    <tr>\n",
       "      <th>34913</th>\n",
       "      <td>34914</td>\n",
       "      <td>2017</td>\n",
       "      <td>2</td>\n",
       "      <td>22</td>\n",
       "      <td>17</td>\n",
       "      <td>28.0</td>\n",
       "      <td>28.0</td>\n",
       "      <td>11.0</td>\n",
       "      <td>17.0</td>\n",
       "      <td>500.000000</td>\n",
       "      <td>NaN</td>\n",
       "      <td>6.800</td>\n",
       "      <td>1017.60</td>\n",
       "      <td>-9.2</td>\n",
       "      <td>0.0</td>\n",
       "      <td>NNW</td>\n",
       "      <td>2.6</td>\n",
       "      <td>Aotizhongxin</td>\n",
       "    </tr>\n",
       "  </tbody>\n",
       "</table>\n",
       "<p>961 rows × 18 columns</p>\n",
       "</div>"
      ],
      "text/plain": [
       "          No  year  month  day  hour  PM2.5   PM10   SO2    NO2           CO  \\\n",
       "435      436  2013      3   19     3   33.0   41.0  15.0   50.0  1263.922368   \n",
       "436      437  2013      3   19     4   31.0   35.0  15.0   49.0  1263.922368   \n",
       "531      532  2013      3   23     3   51.0   70.0  12.0   85.0  1263.922368   \n",
       "578      579  2013      3   25     2   73.0  121.0  42.0  105.0  1263.922368   \n",
       "579      580  2013      3   25     3   79.0  140.0  26.0   95.0  1263.922368   \n",
       "...      ...   ...    ...  ...   ...    ...    ...   ...    ...          ...   \n",
       "33881  33882  2017      1   10    17    7.0    9.0   4.0   19.0   400.000000   \n",
       "33892  33893  2017      1   11     4   98.0  128.0  29.0  106.0  3500.000000   \n",
       "34060  34061  2017      1   18     4   44.0   44.0  17.0   57.0  1263.922368   \n",
       "34861  34862  2017      2   20    13    7.0   27.0   6.0   12.0   300.000000   \n",
       "34913  34914  2017      2   22    17   28.0   28.0  11.0   17.0   500.000000   \n",
       "\n",
       "       O3   TEMP     PRES  DEWP  RAIN   wd  WSPM       station  \n",
       "435   NaN  0.800  1005.80  -3.0   0.0  ENE   1.5  Aotizhongxin  \n",
       "436   NaN  0.100  1005.40  -3.5   0.0    N   1.4  Aotizhongxin  \n",
       "531   NaN  1.500  1008.50  -2.5   0.0  WNW   0.6  Aotizhongxin  \n",
       "578   NaN  0.500  1017.00  -6.8   0.0  NNE   1.3  Aotizhongxin  \n",
       "579   NaN  0.300  1017.40  -5.1   0.0   NE   1.2  Aotizhongxin  \n",
       "...    ..    ...      ...   ...   ...  ...   ...           ...  \n",
       "33881 NaN  2.350  1025.00 -14.9   0.0   SW   2.7  Aotizhongxin  \n",
       "33892 NaN -4.775  1024.25 -11.8   0.0  NaN   0.5  Aotizhongxin  \n",
       "34060 NaN -5.325  1031.00 -12.0   0.0   NE   2.1  Aotizhongxin  \n",
       "34861 NaN  1.900  1028.60 -22.9   0.0    N   2.7  Aotizhongxin  \n",
       "34913 NaN  6.800  1017.60  -9.2   0.0  NNW   2.6  Aotizhongxin  \n",
       "\n",
       "[961 rows x 18 columns]"
      ]
     },
     "execution_count": 73,
     "metadata": {},
     "output_type": "execute_result"
    }
   ],
   "source": [
    "Aotizhongxin_df_cleaned[Aotizhongxin_df_cleaned.O3.isna()]"
   ]
  },
  {
   "cell_type": "code",
   "execution_count": 74,
   "metadata": {},
   "outputs": [
    {
     "name": "stdout",
     "output_type": "stream",
     "text": [
      "Jumlah Data Aotizhongxin_df_cleaned saat ini:  (33605, 18)\n",
      "No          0\n",
      "year        0\n",
      "month       0\n",
      "day         0\n",
      "hour        0\n",
      "PM2.5       0\n",
      "PM10        0\n",
      "SO2         0\n",
      "NO2         0\n",
      "CO          0\n",
      "O3          0\n",
      "TEMP       20\n",
      "PRES       20\n",
      "DEWP       20\n",
      "RAIN       20\n",
      "wd         81\n",
      "WSPM       14\n",
      "station     0\n",
      "dtype: int64\n"
     ]
    }
   ],
   "source": [
    "# Mengisi missing values pada kolom O3 dengan nilai rata-rata (mean)\n",
    "Aotizhongxin_df_cleaned['O3'] = Aotizhongxin_df_cleaned['O3'].fillna(Aotizhongxin_df_cleaned['O3'].mean())\n",
    "\n",
    "# Memeriksa jumlah baris dan kolom setelah proses pembersihan\n",
    "print(\"Jumlah Data Aotizhongxin_df_cleaned saat ini: \", Aotizhongxin_df_cleaned.shape)\n",
    "\n",
    "# Memeriksa apakah missing values pada kolom O3 sudah dihilangkan\n",
    "print(Aotizhongxin_df_cleaned.isna().sum())"
   ]
  },
  {
   "cell_type": "markdown",
   "metadata": {},
   "source": [
    "*temporary insight*\n",
    "\n",
    "Melalukan langkah-langkah data cleaning dengan metode imputation untuk menangani missing values pada kolom O3. Dengan memilih imputation, diharapkan bisa mempertahankan sebagian besar data tanpa harus menghapus baris-baris penting, yang mungkin memiliki pengaruh signifikan dalam analisis mendatang. Hal ini dilakukan dengan mengganti nilai yang hilang (missing values) pada kolom O3 dengan nilai yang masuk akal, dalam hal ini mengganti missing values tersebut dengan nilai rata-rata (mean) dari kolom O3."
   ]
  },
  {
   "cell_type": "markdown",
   "metadata": {
    "jp-MarkdownHeadingCollapsed": true
   },
   "source": [
    "###### Missing Values Data Aotizhongxin_df_cleaned kolom TEMP, PRES, DEWP, RAIN, wd, dan WSPM"
   ]
  },
  {
   "cell_type": "code",
   "execution_count": 75,
   "metadata": {},
   "outputs": [
    {
     "name": "stdout",
     "output_type": "stream",
     "text": [
      "Jumlah Data Aotizhongxin_df_cleaned saat ini:  (33518, 18)\n",
      "No         0\n",
      "year       0\n",
      "month      0\n",
      "day        0\n",
      "hour       0\n",
      "PM2.5      0\n",
      "PM10       0\n",
      "SO2        0\n",
      "NO2        0\n",
      "CO         0\n",
      "O3         0\n",
      "TEMP       0\n",
      "PRES       0\n",
      "DEWP       0\n",
      "RAIN       0\n",
      "wd         0\n",
      "WSPM       0\n",
      "station    0\n",
      "dtype: int64\n"
     ]
    }
   ],
   "source": [
    "# Menghapus baris yang mengandung missing values pada kolom TEMP, PRES, DEWP, RAIN, wd, dan WSPM\n",
    "Aotizhongxin_df_cleaned = Aotizhongxin_df_cleaned.dropna(subset=['TEMP', 'PRES', 'DEWP', 'RAIN', 'wd', 'WSPM'])\n",
    "\n",
    "# Memeriksa jumlah baris dan kolom setelah proses pembersihan\n",
    "print(\"Jumlah Data Aotizhongxin_df_cleaned saat ini: \", Aotizhongxin_df_cleaned.shape)\n",
    "\n",
    "# Memeriksa apakah masih ada missing values yang tersisa\n",
    "print(Aotizhongxin_df_cleaned.isna().sum())"
   ]
  },
  {
   "cell_type": "markdown",
   "metadata": {},
   "source": [
    "*temporary insight*\n",
    "\n",
    "Melihat jumlah missing values yang ada di kolom TEMP, PRES, DEWP, RAIN, wd, dan WSPM, serta mempertimbangkan jumlah total data yang cukup besar (33605 baris), keputusan untuk menggunakan metode dropping tampaknya tepat. Menghapus data yang relatif sedikit tidak akan berdampak signifikan pada keseluruhan dataset.\n",
    "\n",
    "Sehingga saat ini dataset Aotizhongxin_df_cleaned telah bersih dari missing values."
   ]
  },
  {
   "cell_type": "markdown",
   "metadata": {
    "jp-MarkdownHeadingCollapsed": true
   },
   "source": [
    "##### Menangani inaccurate value pada Aotizhongxin_df_cleaned"
   ]
  },
  {
   "cell_type": "markdown",
   "metadata": {
    "jp-MarkdownHeadingCollapsed": true
   },
   "source": [
    "###### Inaccurate value pada Aotizhongxing_df_cleaned kolom PM2.5"
   ]
  },
  {
   "cell_type": "code",
   "execution_count": 76,
   "metadata": {},
   "outputs": [
    {
     "name": "stdout",
     "output_type": "stream",
     "text": [
      "          No  year  month  day  hour  PM2.5   PM10    SO2   NO2      CO  \\\n",
      "25779  25780  2016      2    8     3  713.0  884.0  229.0  91.0  2100.0   \n",
      "34301  34302  2017      1   28     5  713.0  858.0  164.0  95.0  3500.0   \n",
      "\n",
      "          O3   TEMP     PRES  DEWP  RAIN  wd  WSPM       station  \n",
      "25779   10.0 -2.600  1008.80 -14.4   0.0   W   0.6  Aotizhongxin  \n",
      "34301  125.0 -3.275  1018.75 -12.2   0.0  NE   2.0  Aotizhongxin  \n"
     ]
    }
   ],
   "source": [
    "# Mengambil baris data yang mengandung nilai maksimum pada kolom PM2.5\n",
    "max_pm25_row = Aotizhongxin_df_cleaned[Aotizhongxin_df_cleaned['PM2.5'] == Aotizhongxin_df_cleaned['PM2.5'].max()]\n",
    "print(max_pm25_row)"
   ]
  },
  {
   "cell_type": "code",
   "execution_count": 77,
   "metadata": {},
   "outputs": [
    {
     "name": "stdout",
     "output_type": "stream",
     "text": [
      "Jumlah baris yang dihapus pada Aotizhongxin_df_cleaned: 74\n",
      "Jumlah baris tersisa setelah penghapusan pada Aotizhongxin_df_cleaned: 33444\n"
     ]
    }
   ],
   "source": [
    "# Menentukan batas maksimum untuk PM2.5\n",
    "batas_maksimum_pm25 = 500\n",
    "\n",
    "# Menghitung jumlah baris yang akan dihapus\n",
    "jumlah_baris_hilang = Aotizhongxin_df_cleaned[Aotizhongxin_df_cleaned['PM2.5'] > batas_maksimum_pm25].shape[0]\n",
    "\n",
    "# Menghapus baris yang memiliki nilai PM2.5 lebih dari batas maksimum\n",
    "Aotizhongxin_df_cleaned = Aotizhongxin_df_cleaned[Aotizhongxin_df_cleaned['PM2.5'] <= batas_maksimum_pm25]\n",
    "\n",
    "# Memeriksa jumlah baris dan kolom setelah proses pembersihan\n",
    "jumlah_baris_tersisa = Aotizhongxin_df_cleaned.shape[0]\n",
    "\n",
    "# Menampilkan informasi\n",
    "print(f\"Jumlah baris yang dihapus pada Aotizhongxin_df_cleaned: {jumlah_baris_hilang}\")\n",
    "print(f\"Jumlah baris tersisa setelah penghapusan pada Aotizhongxin_df_cleaned: {jumlah_baris_tersisa}\")\n"
   ]
  },
  {
   "cell_type": "markdown",
   "metadata": {},
   "source": [
    "*temporary insight*\n",
    "\n",
    "Dilakukan penetapan batas maksimum untuk PM2.5, dengan nilai 500. Atas dasar karena dalam banyak studi, nilai PM2.5 yang lebih dari 500 bisa dianggap tidak wajar. kemudian menghitung jumlah baris data yang akan dihapus pada Aotizhongxin_df_cleaned. Dengan menggunakan kondisi untuk menghitung jumlah baris yang memiliki nilai PM2.5 lebih dari batas maksimum. Lalu menghapus baris dan memeriksa ukuran dataset saat ini. Dalam hal ini dapat dilihat, bahwa jumlah baris data yang dihapus atau memiliki nilai PM2.5 lebih dari 500 sebanyak 74 baris data. Dan setelah dilakukan dropping values, tersisa 33444 baris data pada Aotizhongxin_df_cleaned."
   ]
  },
  {
   "cell_type": "markdown",
   "metadata": {
    "jp-MarkdownHeadingCollapsed": true
   },
   "source": [
    "###### Inaccurate value pada Aotizhongxing_df_cleaned kolom PM10"
   ]
  },
  {
   "cell_type": "code",
   "execution_count": 78,
   "metadata": {},
   "outputs": [
    {
     "name": "stdout",
     "output_type": "stream",
     "text": [
      "          No  year  month  day  hour  PM2.5   PM10   SO2   NO2           CO  \\\n",
      "18618  18619  2015      4   15    18  168.0  984.0  19.0  82.0  1263.922368   \n",
      "\n",
      "          O3  TEMP   PRES  DEWP  RAIN   wd  WSPM       station  \n",
      "18618  100.0  23.5  993.6   2.9   0.0  NNW   4.8  Aotizhongxin  \n"
     ]
    }
   ],
   "source": [
    "# Mengambil baris data yang mengandung nilai maksimum pada kolom PM10\n",
    "max_pm25_row = Aotizhongxin_df_cleaned[Aotizhongxin_df_cleaned['PM10'] == Aotizhongxin_df_cleaned['PM10'].max()]\n",
    "print(max_pm25_row)"
   ]
  },
  {
   "cell_type": "code",
   "execution_count": 79,
   "metadata": {},
   "outputs": [
    {
     "name": "stdout",
     "output_type": "stream",
     "text": [
      "Jumlah baris yang dihapus dari PM10: 1428\n"
     ]
    }
   ],
   "source": [
    "# Menentukan batas maksimum untuk PM10\n",
    "batas_maksimum_pm10 = 300.0 \n",
    "\n",
    "# Menghitung jumlah baris yang akan dihapus\n",
    "jumlah_baris_hilang_pm10 = Aotizhongxin_df_cleaned[Aotizhongxin_df_cleaned['PM10'] > batas_maksimum_pm10].shape[0]\n",
    "print(f\"Jumlah baris yang dihapus dari PM10: {jumlah_baris_hilang_pm10}\")"
   ]
  },
  {
   "cell_type": "code",
   "execution_count": 80,
   "metadata": {},
   "outputs": [
    {
     "name": "stdout",
     "output_type": "stream",
     "text": [
      "Jumlah baris tersisa setelah penghapusan PM10: 32016\n"
     ]
    }
   ],
   "source": [
    "# Menghapus baris yang memiliki nilai PM10 lebih dari batas maksimum\n",
    "Aotizhongxin_df_cleaned = Aotizhongxin_df_cleaned[Aotizhongxin_df_cleaned['PM10'] <= batas_maksimum_pm10]\n",
    "\n",
    "# Memeriksa jumlah baris dan kolom setelah proses pembersihan\n",
    "jumlah_baris_tersisa_pm10 = Aotizhongxin_df_cleaned.shape[0]\n",
    "\n",
    "print(f\"Jumlah baris tersisa setelah penghapusan PM10: {jumlah_baris_tersisa_pm10}\")"
   ]
  },
  {
   "cell_type": "markdown",
   "metadata": {},
   "source": [
    "*temporary value*\n",
    "\n",
    "Dilakukan pembersihan inaccurate value pada data Aotizhongxin_df_cleaned dengan melakukan dropping. atau menghapus (drop) data pada kolom PM10 yang melebihi ambang batas yang telah ditentukan. Yakni nilai yang ditentukan tidak wajar, denagn pemilihan batas maksimum 300.0 adalah berdasarkan pemahaman tentang kualitas udara dan standar yang umum digunakan. Nilai ini didasarkan pada standar kualitas udara, di mana nilai PM10 di atas 300.0 bisa dianggap sebagai tidak wajar dan mungkin menunjukkan kesalahan pengukuran atau data yang tidak konsisten. Karena berdasarkan analisah yang telah dilakuan, batas maksimum yang wajar untuk PM10 bisa disarankan antara 150.0 hingga 300.0 untuk kualitas udara yang baik, dan nilai di atas 300.0 bisa dianggap sebagai data tidak wajar dalam konteks tertentu. Setelah penghapusan, diberikan informasi yang jelas tentang berapa banyak data yang hilang dan berapa banyak data yang tersisa, memastikan bahwa analisis selanjutnya didasarkan pada data yang valid."
   ]
  },
  {
   "cell_type": "markdown",
   "metadata": {
    "jp-MarkdownHeadingCollapsed": true
   },
   "source": [
    "###### Inaccurate value pada Aotizhongxing_df_cleaned kolom CO"
   ]
  },
  {
   "cell_type": "code",
   "execution_count": 81,
   "metadata": {},
   "outputs": [
    {
     "name": "stdout",
     "output_type": "stream",
     "text": [
      "          No  year  month  day  hour  PM2.5  PM10   SO2   NO2     CO    O3  \\\n",
      "0          1  2013      3    1     0    4.0   4.0   4.0   7.0  300.0  77.0   \n",
      "1          2  2013      3    1     1    8.0   8.0   4.0   7.0  300.0  77.0   \n",
      "2          3  2013      3    1     2    7.0   7.0   5.0  10.0  300.0  73.0   \n",
      "3          4  2013      3    1     3    6.0   6.0  11.0  11.0  300.0  72.0   \n",
      "4          5  2013      3    1     4    3.0   3.0  12.0  12.0  300.0  72.0   \n",
      "...      ...   ...    ...  ...   ...    ...   ...   ...   ...    ...   ...   \n",
      "35059  35060  2017      2   28    19   12.0  29.0   5.0  35.0  400.0  95.0   \n",
      "35060  35061  2017      2   28    20   13.0  37.0   7.0  45.0  500.0  81.0   \n",
      "35061  35062  2017      2   28    21   16.0  37.0  10.0  66.0  700.0  58.0   \n",
      "35062  35063  2017      2   28    22   21.0  44.0  12.0  87.0  700.0  35.0   \n",
      "35063  35064  2017      2   28    23   19.0  31.0  10.0  79.0  600.0  42.0   \n",
      "\n",
      "       TEMP    PRES  DEWP  RAIN   wd  WSPM       station  \n",
      "0      -0.7  1023.0 -18.8   0.0  NNW   4.4  Aotizhongxin  \n",
      "1      -1.1  1023.2 -18.2   0.0    N   4.7  Aotizhongxin  \n",
      "2      -1.1  1023.5 -18.2   0.0  NNW   5.6  Aotizhongxin  \n",
      "3      -1.4  1024.5 -19.4   0.0   NW   3.1  Aotizhongxin  \n",
      "4      -2.0  1025.2 -19.5   0.0    N   2.0  Aotizhongxin  \n",
      "...     ...     ...   ...   ...  ...   ...           ...  \n",
      "35059  12.5  1013.5 -16.2   0.0   NW   2.4  Aotizhongxin  \n",
      "35060  11.6  1013.6 -15.1   0.0  WNW   0.9  Aotizhongxin  \n",
      "35061  10.8  1014.2 -13.3   0.0   NW   1.1  Aotizhongxin  \n",
      "35062  10.5  1014.4 -12.9   0.0  NNW   1.2  Aotizhongxin  \n",
      "35063   8.6  1014.1 -15.9   0.0  NNE   1.3  Aotizhongxin  \n",
      "\n",
      "[32016 rows x 18 columns]\n"
     ]
    }
   ],
   "source": [
    "# Identifikasi nilai CO yang tidak realistis (di atas 50 mg/m³ dan di bawah 0 mg/m³)\n",
    "unrealistic_co = Aotizhongxin_df_cleaned[(Aotizhongxin_df_cleaned['CO'] > 50) | (Aotizhongxin_df_cleaned['CO'] < 0)]\n",
    "print(unrealistic_co)"
   ]
  },
  {
   "cell_type": "code",
   "execution_count": 82,
   "metadata": {},
   "outputs": [],
   "source": [
    "# Mengonversi nilai CO dari ratusan ke puluhan (mg/m³)\n",
    "Aotizhongxin_df_cleaned['CO'] = Aotizhongxin_df_cleaned['CO'] / 10"
   ]
  },
  {
   "cell_type": "code",
   "execution_count": 83,
   "metadata": {},
   "outputs": [
    {
     "data": {
      "text/plain": [
       "count    32016.000000\n",
       "mean       114.781232\n",
       "std         98.294315\n",
       "min         10.000000\n",
       "25%         50.000000\n",
       "50%         80.000000\n",
       "75%        140.000000\n",
       "max        900.000000\n",
       "Name: CO, dtype: float64"
      ]
     },
     "execution_count": 83,
     "metadata": {},
     "output_type": "execute_result"
    }
   ],
   "source": [
    "# Memvalidasi hasil konversi\n",
    "Aotizhongxin_df_cleaned['CO'].describe()"
   ]
  },
  {
   "cell_type": "code",
   "execution_count": 84,
   "metadata": {},
   "outputs": [
    {
     "name": "stdout",
     "output_type": "stream",
     "text": [
      "          No  year  month  day  hour  PM2.5   PM10   SO2    NO2     CO    O3  \\\n",
      "20        21  2013      3    1    20   11.0   17.0  13.0   33.0   60.0  55.0   \n",
      "22        23  2013      3    1    22   15.0   19.0  21.0   57.0   70.0  32.0   \n",
      "23        24  2013      3    1    23   24.0   24.0  26.0   54.0   60.0  36.0   \n",
      "33        34  2013      3    2     9   10.0   14.0  47.0   62.0   70.0  29.0   \n",
      "34        35  2013      3    2    10   11.0   19.0  36.0   60.0   60.0  34.0   \n",
      "...      ...   ...    ...  ...   ...    ...    ...   ...    ...    ...   ...   \n",
      "35039  35040  2017      2   27    23   70.0  107.0  28.0  131.0  170.0  19.0   \n",
      "35040  35041  2017      2   28     0   56.0   56.0  22.0  119.0  140.0  18.0   \n",
      "35061  35062  2017      2   28    21   16.0   37.0  10.0   66.0   70.0  58.0   \n",
      "35062  35063  2017      2   28    22   21.0   44.0  12.0   87.0   70.0  35.0   \n",
      "35063  35064  2017      2   28    23   19.0   31.0  10.0   79.0   60.0  42.0   \n",
      "\n",
      "       TEMP    PRES  DEWP  RAIN   wd  WSPM       station  \n",
      "20      1.7  1029.1 -17.3   0.0    N   2.1  Aotizhongxin  \n",
      "22      0.9  1030.5 -17.4   0.0  ENE   1.8  Aotizhongxin  \n",
      "23     -0.2  1030.5 -17.4   0.0  ENE   1.4  Aotizhongxin  \n",
      "33      0.6  1029.7 -16.7   0.0   NE   1.7  Aotizhongxin  \n",
      "34      1.7  1028.9 -16.3   0.0    W   1.6  Aotizhongxin  \n",
      "...     ...     ...   ...   ...  ...   ...           ...  \n",
      "35039  10.9  1015.6  -7.4   0.0  NNW   1.4  Aotizhongxin  \n",
      "35040   9.9  1015.6  -8.3   0.0  NNE   1.5  Aotizhongxin  \n",
      "35061  10.8  1014.2 -13.3   0.0   NW   1.1  Aotizhongxin  \n",
      "35062  10.5  1014.4 -12.9   0.0  NNW   1.2  Aotizhongxin  \n",
      "35063   8.6  1014.1 -15.9   0.0  NNE   1.3  Aotizhongxin  \n",
      "\n",
      "[22627 rows x 18 columns]\n"
     ]
    }
   ],
   "source": [
    "# Cek data CO yang masih tidak realistis (lebih dari 50 mg/m³ atau kurang dari 0 mg/m³).\n",
    "unrealistic_co_after_conversion = Aotizhongxin_df_cleaned[(Aotizhongxin_df_cleaned['CO'] > 50) | (Aotizhongxin_df_cleaned['CO'] < 0)]\n",
    "print(unrealistic_co_after_conversion)"
   ]
  },
  {
   "cell_type": "code",
   "execution_count": 85,
   "metadata": {},
   "outputs": [],
   "source": [
    "# Imputasi nilai CO yang masih tidak realistis dengan nilai median\n",
    "median_co_after_conversion = Aotizhongxin_df_cleaned[(Aotizhongxin_df_cleaned['CO'] >= 0) & (Aotizhongxin_df_cleaned['CO'] <= 50)]['CO'].median()\n",
    "Aotizhongxin_df_cleaned['CO'] = Aotizhongxin_df_cleaned['CO'].apply(lambda x: median_co_after_conversion if x > 50 or x < 0 else x)"
   ]
  },
  {
   "cell_type": "code",
   "execution_count": 86,
   "metadata": {},
   "outputs": [
    {
     "name": "stdout",
     "output_type": "stream",
     "text": [
      "                 No          year         month           day          hour  \\\n",
      "count  32016.000000  32016.000000  32016.000000  32016.000000  32016.000000   \n",
      "mean   17476.957521   2014.662075      6.459333     15.532328     11.511494   \n",
      "std    10196.928392      1.184456      3.375612      8.758242      6.891284   \n",
      "min        1.000000   2013.000000      1.000000      1.000000      0.000000   \n",
      "25%     8516.750000   2014.000000      4.000000      8.000000      6.000000   \n",
      "50%    17681.500000   2015.000000      7.000000     15.000000     11.000000   \n",
      "75%    26322.250000   2016.000000      9.000000     23.000000     17.000000   \n",
      "max    35064.000000   2017.000000     12.000000     31.000000     23.000000   \n",
      "\n",
      "              PM2.5          PM10           SO2           NO2            CO  \\\n",
      "count  32016.000000  32016.000000  32016.000000  32016.000000  32016.000000   \n",
      "mean      72.430872     96.840742     16.198248     56.418443     39.084833   \n",
      "std       62.893043     71.574400     20.728177     33.541815      6.046273   \n",
      "min        3.000000      2.000000      0.285600      2.000000     10.000000   \n",
      "25%       21.000000     36.000000      3.000000     30.000000     40.000000   \n",
      "50%       55.000000     82.000000      8.000000     52.000000     40.000000   \n",
      "75%      105.000000    143.000000     20.000000     78.000000     40.000000   \n",
      "max      402.000000    300.000000    186.000000    243.000000     50.000000   \n",
      "\n",
      "                 O3         TEMP          PRES          DEWP          RAIN  \\\n",
      "count  32016.000000  32016.00000  32016.000000  32016.000000  32016.000000   \n",
      "mean      57.813851     14.01743   1011.626816      3.426549      0.071592   \n",
      "std       57.494607     11.38188     10.461851     13.813399      0.943115   \n",
      "min        0.214200    -16.80000    985.900000    -35.300000      0.000000   \n",
      "25%       10.000000      3.80000   1003.000000     -8.100000      0.000000   \n",
      "50%       46.000000     15.20000   1011.000000      4.500000      0.000000   \n",
      "75%       82.000000     23.60000   1020.000000     16.100000      0.000000   \n",
      "max      423.000000     40.50000   1042.000000     28.500000     72.500000   \n",
      "\n",
      "               WSPM  \n",
      "count  32016.000000  \n",
      "mean       1.722745  \n",
      "std        1.199608  \n",
      "min        0.000000  \n",
      "25%        0.900000  \n",
      "50%        1.400000  \n",
      "75%        2.300000  \n",
      "max       11.200000  \n"
     ]
    }
   ],
   "source": [
    "# Cek deskripsi dataset yang sudah dilakukan proses konversi dan imputasi\n",
    "print(Aotizhongxin_df_cleaned.describe())"
   ]
  },
  {
   "cell_type": "markdown",
   "metadata": {},
   "source": [
    "*temporary insight*\n",
    "\n",
    "Proses ini mengonversi nilai CO menjadi lebih realistis dengan membaginya dengan 10, sesuai asumsi bahwa alat pengukuran mungkin salah mendeteksi dalam kelipatan tersebut. Karena nilai CO yang realistis (nilai CO antara 0 hingga 50 mg/m³). Setelah konversi, dilakukan validasi lebih lanjut untuk memastikan bahwa semua nilai CO berada dalam rentang yang wajar. Jika ada nilai yang masih tidak realistis, digunakan metode imputasi dengan nilai median CO yang sudah bersih. Hal ini dilakukan karena kurangnya informasi dari dataset tesebut mengenai satuan ukur apa yang digunakan pada tiap-tiap kolomnya, sehingga dibuat asusmsi berdasarkan nilai satuan yang umum digunakan di publik, berdasarkan riset yang telah dilakukan. Dengan cara ini, dataset Aotizhongxin_df_cleaned sudah lebih akurat untuk analisis selanjutnya."
   ]
  },
  {
   "cell_type": "markdown",
   "metadata": {},
   "source": [
    "*temporary insight*\n",
    "\n",
    "*Summary Cleaning data Aotizhongxin_df_cleaned*\n",
    "1. Missing Values:\n",
    "   Nilai hilang pada kolom seperti PM2.5, CO, dan O3 telah ditangani. Metode yang digunakan untuk menangani missing values bervariasi, seperti dropping untuk kolom dengan sedikit missing values dan imputasi untuk kolom dengan missing values yang cukup besar.\n",
    "\n",
    "\n",
    "2. Inaccurate Values:\n",
    "\n",
    "   Nilai-nilai yang tidak realistis pada kolom PM2.5 dan PM10 yang melebihi ambang batas telah dihapus menggunakan metode dropping.\n",
    "\n",
    "   Melakukan identifikasi terhadap nilai CO yang tidak realistis (di atas 50 mg/m³ dan di bawah 0 mg/m³). Menggunakan metode konversi dengan membagi nilai CO dengan 10, sesuai asumsi kesalahan alat ukur. Melakukan imputasi pada nilai yang masih tidak realistis setelah konversi dengan menggunakan nilai median dari CO yang sudah realistis.\n",
    "\n",
    "\n",
    "3. Data Kualitas Udara:\n",
    "\n",
    "   Data kualitas udara yang terdiri dari berbagai polutan seperti PM2.5, PM10, SO2, NO2, dan CO telah dibersihkan dari outlier dan missing values, memastikan kualitas data untuk analisis lebih lanjut."
   ]
  },
  {
   "cell_type": "markdown",
   "metadata": {
    "jp-MarkdownHeadingCollapsed": true
   },
   "source": [
    "#### Membersihkan Data Changping_df"
   ]
  },
  {
   "cell_type": "markdown",
   "metadata": {
    "jp-MarkdownHeadingCollapsed": true
   },
   "source": [
    "##### Menangani Missing Value pada data Changping_df"
   ]
  },
  {
   "cell_type": "markdown",
   "metadata": {
    "jp-MarkdownHeadingCollapsed": true
   },
   "source": [
    "###### Missing values pada data Changping_df kolom CO"
   ]
  },
  {
   "cell_type": "code",
   "execution_count": 87,
   "metadata": {},
   "outputs": [
    {
     "name": "stdout",
     "output_type": "stream",
     "text": [
      "No            0\n",
      "year          0\n",
      "month         0\n",
      "day           0\n",
      "hour          0\n",
      "PM2.5       774\n",
      "PM10        582\n",
      "SO2         628\n",
      "NO2         667\n",
      "CO         1521\n",
      "O3          604\n",
      "TEMP         53\n",
      "PRES         50\n",
      "DEWP         53\n",
      "RAIN         51\n",
      "wd          140\n",
      "WSPM         43\n",
      "station       0\n",
      "dtype: int64\n",
      "Persentase missing values di kolom CO: 4.3377823408624225%\n"
     ]
    }
   ],
   "source": [
    "# Mengecek jumlah missing values di setiap kolom\n",
    "missing_values = Changping_df.isnull().sum()\n",
    "print(missing_values)\n",
    "\n",
    "# Mengecek persentase missing values di kolom CO\n",
    "co_missing_percentage = Changping_df['CO'].isnull().mean() * 100\n",
    "print(f\"Persentase missing values di kolom CO: {co_missing_percentage}%\")"
   ]
  },
  {
   "cell_type": "code",
   "execution_count": 88,
   "metadata": {},
   "outputs": [
    {
     "name": "stdout",
     "output_type": "stream",
     "text": [
      "Median CO: 800.0\n",
      "No           0\n",
      "year         0\n",
      "month        0\n",
      "day          0\n",
      "hour         0\n",
      "PM2.5      774\n",
      "PM10       582\n",
      "SO2        628\n",
      "NO2        667\n",
      "CO           0\n",
      "O3         604\n",
      "TEMP        53\n",
      "PRES        50\n",
      "DEWP        53\n",
      "RAIN        51\n",
      "wd         140\n",
      "WSPM        43\n",
      "station      0\n",
      "dtype: int64\n"
     ]
    }
   ],
   "source": [
    "# Menggunakan nilai median dari kolom CO untuk mengisikan missing value colom CO\n",
    "co_median = Changping_df['CO'].median()\n",
    "print(f\"Median CO: {co_median}\")\n",
    "\n",
    "# Melakukan imputasi nilai median pada kolom CO yang mengandung missing value\n",
    "Changping_df_cleaned = Changping_df.copy()  \n",
    "Changping_df_cleaned['CO'] = Changping_df_cleaned['CO'].fillna(co_median)\n",
    "\n",
    "# Cek apakah missing values saat ini pada data Changping_df_cleaned\n",
    "print(Changping_df_cleaned.isna().sum())"
   ]
  },
  {
   "cell_type": "markdown",
   "metadata": {},
   "source": [
    "*temporary insight*\n",
    "\n",
    "Dipilih kolom CO terlebih dahulu yang dilakukan penanganan missing values, karena kolom CO memiliki jumlah missing values paling banyak diantara kolom yang lainnya, sehingga diharapkan meminimalisir penggunaan metode dropping values dalam cleaning data Changping_df ini. Pertana, dilakukan identifikasi missing values pada kolom CO untuk mengetahui besaran masalah. Selanjutnya, memilih memutuskan menggunakan nilai median untuk mengisi missing values karena lebik cocok jika terdapat outlier. Kemudian menyimpan dataset yang telah diberikan pada variabel Changping_df_cleaned dan menampilkan jumlah missing values pada data tersebut saat ini. Dapat dilihat jumlah missing values paling banyak saat ini adalah pada kolom PM2.5 sehingga selanjutnya yakni menangani missing values pada kolom tersebut."
   ]
  },
  {
   "cell_type": "markdown",
   "metadata": {
    "jp-MarkdownHeadingCollapsed": true
   },
   "source": [
    "###### Missing values pada data Changping_df_cleaned kolom PM2.5"
   ]
  },
  {
   "cell_type": "code",
   "execution_count": 89,
   "metadata": {},
   "outputs": [
    {
     "name": "stdout",
     "output_type": "stream",
     "text": [
      "Persentase missing values di kolom PM2.5: 2.2073921971252566%\n"
     ]
    }
   ],
   "source": [
    "# Mengecek persentase missing values di kolom PM2.5\n",
    "pm25_missing_percentage = Changping_df_cleaned['PM2.5'].isnull().mean() * 100\n",
    "print(f\"Persentase missing values di kolom PM2.5: {pm25_missing_percentage}%\")"
   ]
  },
  {
   "cell_type": "code",
   "execution_count": 90,
   "metadata": {},
   "outputs": [
    {
     "name": "stdout",
     "output_type": "stream",
     "text": [
      "Median PM2.5: 46.0\n",
      "No           0\n",
      "year         0\n",
      "month        0\n",
      "day          0\n",
      "hour         0\n",
      "PM2.5        0\n",
      "PM10       582\n",
      "SO2        628\n",
      "NO2        667\n",
      "CO           0\n",
      "O3         604\n",
      "TEMP        53\n",
      "PRES        50\n",
      "DEWP        53\n",
      "RAIN        51\n",
      "wd         140\n",
      "WSPM        43\n",
      "station      0\n",
      "dtype: int64\n"
     ]
    }
   ],
   "source": [
    "# Menggunakan nilai median dari kolom PM2.5 untuk mengisikan missing value colom PM2.5\n",
    "pm25_median = Changping_df_cleaned['PM2.5'].median()\n",
    "print(f\"Median PM2.5: {pm25_median}\")\n",
    "\n",
    "# Melakukan imputasi nilai median pada kolom CO yang mengandung missing value\n",
    "Changping_df_cleaned['PM2.5'] = Changping_df_cleaned['PM2.5'].fillna(pm25_median)\n",
    "\n",
    "# Cek apakah missing values saat ini pada data Changping_df_cleaned\n",
    "print(Changping_df_cleaned.isna().sum())"
   ]
  },
  {
   "cell_type": "markdown",
   "metadata": {},
   "source": [
    "*temporary insight*\n",
    "\n",
    "Sama seperti penanganan missing values pada kolom CO. Dilakukan juga identifikasi missing values pada kolom PM2.5 ini untuk mengetahui besaran masalah. Selanjutnya, memilih memutuskan menggunakan nilai median untuk mengisi missing values karena lebik cocok jika terdapat outlier. Kemudian menyimpan dataset yang telah diberikan pada variabel Changping_df_cleaned dan menampilkan jumlah missing values pada data tersebut saat ini. Dapat dilihat jumlah missing values paling banyak saat ini adalah pada kolom NO2 sehingga selanjutnya yakni menangani missing values pada kolom tersebut."
   ]
  },
  {
   "cell_type": "markdown",
   "metadata": {
    "jp-MarkdownHeadingCollapsed": true
   },
   "source": [
    "###### Missing values pada data Changping_df_cleaned kolom NO2"
   ]
  },
  {
   "cell_type": "code",
   "execution_count": 91,
   "metadata": {},
   "outputs": [
    {
     "name": "stdout",
     "output_type": "stream",
     "text": [
      "Persentase missing values di kolom NO2: 1.9022359114761578%\n"
     ]
    }
   ],
   "source": [
    "# Mengecek persentase missing values di kolom NO2\n",
    "NO2_missing_percentage = Changping_df_cleaned['NO2'].isnull().mean() * 100\n",
    "print(f\"Persentase missing values di kolom NO2: {NO2_missing_percentage}%\")"
   ]
  },
  {
   "cell_type": "code",
   "execution_count": 92,
   "metadata": {},
   "outputs": [
    {
     "name": "stdout",
     "output_type": "stream",
     "text": [
      "Median NO2: 36.0\n",
      "No           0\n",
      "year         0\n",
      "month        0\n",
      "day          0\n",
      "hour         0\n",
      "PM2.5        0\n",
      "PM10       582\n",
      "SO2        628\n",
      "NO2          0\n",
      "CO           0\n",
      "O3         604\n",
      "TEMP        53\n",
      "PRES        50\n",
      "DEWP        53\n",
      "RAIN        51\n",
      "wd         140\n",
      "WSPM        43\n",
      "station      0\n",
      "dtype: int64\n"
     ]
    }
   ],
   "source": [
    "# Menggunakan nilai median dari kolom NO2 untuk mengisikan missing value kolom NO2\n",
    "NO2_median = Changping_df_cleaned['NO2'].median()\n",
    "print(f\"Median NO2: {NO2_median}\")\n",
    "\n",
    "# Melakukan imputasi nilai median pada kolom NO2 yang mengandung missing value\n",
    "Changping_df_cleaned['NO2'] = Changping_df_cleaned['NO2'].fillna(NO2_median)\n",
    "\n",
    "# Cek apakah missing values saat ini pada data Changping_df_cleaned\n",
    "print(Changping_df_cleaned.isna().sum())"
   ]
  },
  {
   "cell_type": "markdown",
   "metadata": {},
   "source": [
    "*temporary insight*\n",
    "\n",
    "Melakukan penanganan missing values pada kolom NO2 ini sama seperti kolom-kolom sebelumnya pada dataset Changping_df_cleaned ini. Dengan melakukan metode imputasi nilai median dari kolom NO2. Setelah dilakukan penanganan missing values pada kolom ini, didapatkan kolom selanjutnya yang masih memiliki jumlah missing values yang banyak yakni kolom SO2. Sehingga selanjutnya yakni menangani missing values pada kolom tersebut."
   ]
  },
  {
   "cell_type": "markdown",
   "metadata": {
    "jp-MarkdownHeadingCollapsed": true
   },
   "source": [
    "###### Missing values data Changping_df_cleaned kolom SO2"
   ]
  },
  {
   "cell_type": "code",
   "execution_count": 93,
   "metadata": {},
   "outputs": [
    {
     "name": "stdout",
     "output_type": "stream",
     "text": [
      "Persentase missing values di kolom SO2: 1.791010723248916%\n"
     ]
    }
   ],
   "source": [
    "# Mengecek persentase missing values di kolom SO2\n",
    "SO2_missing_percentage = Changping_df_cleaned['SO2'].isnull().mean() * 100\n",
    "print(f\"Persentase missing values di kolom SO2: {SO2_missing_percentage}%\")"
   ]
  },
  {
   "cell_type": "code",
   "execution_count": 94,
   "metadata": {},
   "outputs": [
    {
     "name": "stdout",
     "output_type": "stream",
     "text": [
      "Median SO2: 7.0\n",
      "No           0\n",
      "year         0\n",
      "month        0\n",
      "day          0\n",
      "hour         0\n",
      "PM2.5        0\n",
      "PM10       582\n",
      "SO2          0\n",
      "NO2          0\n",
      "CO           0\n",
      "O3         604\n",
      "TEMP        53\n",
      "PRES        50\n",
      "DEWP        53\n",
      "RAIN        51\n",
      "wd         140\n",
      "WSPM        43\n",
      "station      0\n",
      "dtype: int64\n"
     ]
    }
   ],
   "source": [
    "# Menggunakan nilai median dari kolom SO2 untuk mengisikan missing value kolom SO2\n",
    "SO2_median = Changping_df_cleaned['SO2'].median()\n",
    "print(f\"Median SO2: {SO2_median}\")\n",
    "\n",
    "# Melakukan imputasi nilai median pada kolom SO2 yang mengandung missing value\n",
    "Changping_df_cleaned['SO2'] = Changping_df_cleaned['SO2'].fillna(SO2_median)\n",
    "\n",
    "# Cek apakah missing values saat ini pada data Changping_df_cleaned\n",
    "print(Changping_df_cleaned.isna().sum())"
   ]
  },
  {
   "cell_type": "markdown",
   "metadata": {},
   "source": [
    "*temporary insight*\n",
    "\n",
    "Masih menggunakan metode yang sama dalam menangani missing values pada kolom SO2. Yakni dengan mealakukan imputasi nilai median kolom CO2 yang terdapat missing value. Kemudian ditampilkan data missing value saat ini, yang menunjukkan bahwa kolom O3 yang saat ini memiliki missing values paling banyak. Sehingga selanjutnya akan menangani missing value pada kolom tersebut."
   ]
  },
  {
   "cell_type": "markdown",
   "metadata": {
    "jp-MarkdownHeadingCollapsed": true
   },
   "source": [
    "###### Missing values data Changping_df_cleaned kolom O3"
   ]
  },
  {
   "cell_type": "code",
   "execution_count": 95,
   "metadata": {},
   "outputs": [
    {
     "name": "stdout",
     "output_type": "stream",
     "text": [
      "Persentase missing values di kolom O3: 1.7225644535706137%\n"
     ]
    }
   ],
   "source": [
    "# Mengecek persentase missing values di kolom O3\n",
    "O3_missing_percentage = Changping_df_cleaned['O3'].isnull().mean() * 100\n",
    "print(f\"Persentase missing values di kolom O3: {O3_missing_percentage}%\")"
   ]
  },
  {
   "cell_type": "code",
   "execution_count": 96,
   "metadata": {},
   "outputs": [
    {
     "name": "stdout",
     "output_type": "stream",
     "text": [
      "Median O3: 46.0\n",
      "No           0\n",
      "year         0\n",
      "month        0\n",
      "day          0\n",
      "hour         0\n",
      "PM2.5        0\n",
      "PM10       582\n",
      "SO2          0\n",
      "NO2          0\n",
      "CO           0\n",
      "O3           0\n",
      "TEMP        53\n",
      "PRES        50\n",
      "DEWP        53\n",
      "RAIN        51\n",
      "wd         140\n",
      "WSPM        43\n",
      "station      0\n",
      "dtype: int64\n"
     ]
    }
   ],
   "source": [
    "# Menggunakan nilai median dari kolom O3 untuk mengisikan missing value kolom O3\n",
    "O3_median = Changping_df_cleaned['O3'].median()\n",
    "print(f\"Median O3: {O3_median}\")\n",
    "\n",
    "# Melakukan imputasi nilai median pada kolom O3 yang mengandung missing value\n",
    "Changping_df_cleaned['O3'] = Changping_df_cleaned['O3'].fillna(O3_median)\n",
    "\n",
    "# Cek apakah missing values saat ini pada data Changping_df_cleaned\n",
    "print(Changping_df_cleaned.isna().sum())"
   ]
  },
  {
   "cell_type": "markdown",
   "metadata": {},
   "source": [
    "*temporary insight*\n",
    "\n",
    "Dilakukan hal yang sama juga pada kolom O3 dalam meanangai missing values. Dengan melakukan imputasi nilai median pada kolom tersebut. Setelah dilakukan imputasi tersebut, ditampilkan bahwa kolom PM10 masih memiliki jumlah missing value yang lumayan banyak. Sehingga penanganan selanjutnya yakni missing values pada kolom PM10"
   ]
  },
  {
   "cell_type": "markdown",
   "metadata": {
    "jp-MarkdownHeadingCollapsed": true
   },
   "source": [
    "###### Missing values pada data Changping_df_cleaned kolom PM10"
   ]
  },
  {
   "cell_type": "code",
   "execution_count": 97,
   "metadata": {},
   "outputs": [
    {
     "name": "stdout",
     "output_type": "stream",
     "text": [
      "Persentase missing values di kolom PM10: 1.6598220396988363%\n"
     ]
    }
   ],
   "source": [
    "# Mengecek persentase missing values di kolom PM10\n",
    "PM10_missing_percentage = Changping_df_cleaned['PM10'].isnull().mean() * 100\n",
    "print(f\"Persentase missing values di kolom PM10: {PM10_missing_percentage}%\")"
   ]
  },
  {
   "cell_type": "code",
   "execution_count": 98,
   "metadata": {},
   "outputs": [
    {
     "name": "stdout",
     "output_type": "stream",
     "text": [
      "Median PM10: 72.0\n",
      "No           0\n",
      "year         0\n",
      "month        0\n",
      "day          0\n",
      "hour         0\n",
      "PM2.5        0\n",
      "PM10         0\n",
      "SO2          0\n",
      "NO2          0\n",
      "CO           0\n",
      "O3           0\n",
      "TEMP        53\n",
      "PRES        50\n",
      "DEWP        53\n",
      "RAIN        51\n",
      "wd         140\n",
      "WSPM        43\n",
      "station      0\n",
      "dtype: int64\n"
     ]
    }
   ],
   "source": [
    "# Menggunakan nilai median dari kolom PM10 untuk mengisikan missing value kolom PM10\n",
    "PM10_median = Changping_df_cleaned['PM10'].median()\n",
    "print(f\"Median PM10: {PM10_median}\")\n",
    "\n",
    "# Melakukan imputasi nilai median pada kolom PM10 yang mengandung missing value\n",
    "Changping_df_cleaned['PM10'] = Changping_df_cleaned['PM10'].fillna(PM10_median)\n",
    "\n",
    "# Cek apakah missing values saat ini pada data Changping_df_cleaned\n",
    "print(Changping_df_cleaned.isna().sum())"
   ]
  },
  {
   "cell_type": "markdown",
   "metadata": {},
   "source": [
    "*temporary insight*\n",
    "\n",
    "Telah dilakukan penanganan missing values pada kolom PM10. Dengan melakukan metode imputasi nilai median pada setiap baris kolom tersebut yang terdapat missing values. Dari informasi yang telah ditampilkan saat ini hanya beberapa kolom saja yang memiliki missing values dengan jumlah yang tidak begitu banyak juga. Sehingga akan ditangani selanjutnya."
   ]
  },
  {
   "cell_type": "markdown",
   "metadata": {
    "jp-MarkdownHeadingCollapsed": true
   },
   "source": [
    "###### Missing values pada data Changping_df_cleaned kolom TEMP, PRES, DEWP, RAIN, wd, dan WSPM"
   ]
  },
  {
   "cell_type": "code",
   "execution_count": 99,
   "metadata": {},
   "outputs": [
    {
     "name": "stdout",
     "output_type": "stream",
     "text": [
      "Jumlah missing values saat ini:\n",
      "No           0\n",
      "year         0\n",
      "month        0\n",
      "day          0\n",
      "hour         0\n",
      "PM2.5        0\n",
      "PM10         0\n",
      "SO2          0\n",
      "NO2          0\n",
      "CO           0\n",
      "O3           0\n",
      "TEMP        53\n",
      "PRES        50\n",
      "DEWP        53\n",
      "RAIN        51\n",
      "wd         140\n",
      "WSPM        43\n",
      "station      0\n",
      "dtype: int64\n"
     ]
    }
   ],
   "source": [
    "# Menampilkan jumlah missing values saat ini pada data Changping_df_cleaned\n",
    "print(\"Jumlah missing values saat ini:\")\n",
    "print(Changping_df_cleaned.isna().sum())"
   ]
  },
  {
   "cell_type": "code",
   "execution_count": 100,
   "metadata": {},
   "outputs": [
    {
     "name": "stdout",
     "output_type": "stream",
     "text": [
      "Jumlah missing values sekarang:\n",
      "No         0\n",
      "year       0\n",
      "month      0\n",
      "day        0\n",
      "hour       0\n",
      "PM2.5      0\n",
      "PM10       0\n",
      "SO2        0\n",
      "NO2        0\n",
      "CO         0\n",
      "O3         0\n",
      "TEMP       0\n",
      "PRES       0\n",
      "DEWP       0\n",
      "RAIN       0\n",
      "wd         0\n",
      "WSPM       0\n",
      "station    0\n",
      "dtype: int64\n"
     ]
    }
   ],
   "source": [
    "# Menghapus baris yang memiliki missing values pada kolom TEMP, PRES, DEWP, RAIN, wd, dan WSPM\n",
    "Changping_df_cleaned.dropna(subset=['TEMP', 'PRES', 'DEWP', 'RAIN', 'wd', 'WSPM'], inplace=True)\n",
    "\n",
    "# Verifikasi penghapusan missing values\n",
    "print(\"Jumlah missing values sekarang:\")\n",
    "print(Changping_df_cleaned.isna().sum())"
   ]
  },
  {
   "cell_type": "markdown",
   "metadata": {},
   "source": [
    "*temporary insight*\n",
    "\n",
    "Dilakukan periksa ulang jumlah missing values setelah imputasi pada kolom yang tersisa. Kemudian melakukan dropping missing values dengan menggunakan metode `dropna()` untuk menghapus baris yang memiliki missing values pada kolom-kolom tersebut. Dan juga telah dilakukan verifikasi hasil dropping missing values sudah dihilangkan dengan memeriksa ulang dataset. Sehingga saat ini data Changping_df_cleaned sudah bersih dari missing values"
   ]
  },
  {
   "cell_type": "markdown",
   "metadata": {
    "jp-MarkdownHeadingCollapsed": true
   },
   "source": [
    "##### Menangani Inaccurate Value pada data Changping_df_cleaned"
   ]
  },
  {
   "cell_type": "code",
   "execution_count": 101,
   "metadata": {},
   "outputs": [
    {
     "data": {
      "text/html": [
       "<div>\n",
       "<style scoped>\n",
       "    .dataframe tbody tr th:only-of-type {\n",
       "        vertical-align: middle;\n",
       "    }\n",
       "\n",
       "    .dataframe tbody tr th {\n",
       "        vertical-align: top;\n",
       "    }\n",
       "\n",
       "    .dataframe thead th {\n",
       "        text-align: right;\n",
       "    }\n",
       "</style>\n",
       "<table border=\"1\" class=\"dataframe\">\n",
       "  <thead>\n",
       "    <tr style=\"text-align: right;\">\n",
       "      <th></th>\n",
       "      <th>No</th>\n",
       "      <th>year</th>\n",
       "      <th>month</th>\n",
       "      <th>day</th>\n",
       "      <th>hour</th>\n",
       "      <th>PM2.5</th>\n",
       "      <th>PM10</th>\n",
       "      <th>SO2</th>\n",
       "      <th>NO2</th>\n",
       "      <th>CO</th>\n",
       "      <th>O3</th>\n",
       "      <th>TEMP</th>\n",
       "      <th>PRES</th>\n",
       "      <th>DEWP</th>\n",
       "      <th>RAIN</th>\n",
       "      <th>WSPM</th>\n",
       "    </tr>\n",
       "  </thead>\n",
       "  <tbody>\n",
       "    <tr>\n",
       "      <th>count</th>\n",
       "      <td>34913.000000</td>\n",
       "      <td>34913.00000</td>\n",
       "      <td>34913.000000</td>\n",
       "      <td>34913.000000</td>\n",
       "      <td>34913.000000</td>\n",
       "      <td>34913.000000</td>\n",
       "      <td>34913.000000</td>\n",
       "      <td>34913.000000</td>\n",
       "      <td>34913.000000</td>\n",
       "      <td>34913.000000</td>\n",
       "      <td>34913.000000</td>\n",
       "      <td>34913.000000</td>\n",
       "      <td>34913.000000</td>\n",
       "      <td>34913.000000</td>\n",
       "      <td>34913.000000</td>\n",
       "      <td>34913.000000</td>\n",
       "    </tr>\n",
       "    <tr>\n",
       "      <th>mean</th>\n",
       "      <td>17496.125226</td>\n",
       "      <td>2014.65815</td>\n",
       "      <td>6.526423</td>\n",
       "      <td>15.720734</td>\n",
       "      <td>11.505714</td>\n",
       "      <td>70.435517</td>\n",
       "      <td>94.180154</td>\n",
       "      <td>14.823345</td>\n",
       "      <td>43.989375</td>\n",
       "      <td>1134.601552</td>\n",
       "      <td>57.856860</td>\n",
       "      <td>13.705645</td>\n",
       "      <td>1007.745621</td>\n",
       "      <td>1.505307</td>\n",
       "      <td>0.060276</td>\n",
       "      <td>1.858305</td>\n",
       "    </tr>\n",
       "    <tr>\n",
       "      <th>std</th>\n",
       "      <td>10116.725012</td>\n",
       "      <td>1.17625</td>\n",
       "      <td>3.444274</td>\n",
       "      <td>8.802981</td>\n",
       "      <td>6.919758</td>\n",
       "      <td>71.575890</td>\n",
       "      <td>82.630717</td>\n",
       "      <td>20.831965</td>\n",
       "      <td>29.243205</td>\n",
       "      <td>1078.594380</td>\n",
       "      <td>53.914693</td>\n",
       "      <td>11.363939</td>\n",
       "      <td>10.226803</td>\n",
       "      <td>13.827593</td>\n",
       "      <td>0.753713</td>\n",
       "      <td>1.308341</td>\n",
       "    </tr>\n",
       "    <tr>\n",
       "      <th>min</th>\n",
       "      <td>1.000000</td>\n",
       "      <td>2013.00000</td>\n",
       "      <td>1.000000</td>\n",
       "      <td>1.000000</td>\n",
       "      <td>0.000000</td>\n",
       "      <td>2.000000</td>\n",
       "      <td>2.000000</td>\n",
       "      <td>0.285600</td>\n",
       "      <td>1.847700</td>\n",
       "      <td>100.000000</td>\n",
       "      <td>0.214200</td>\n",
       "      <td>-16.600000</td>\n",
       "      <td>982.400000</td>\n",
       "      <td>-35.100000</td>\n",
       "      <td>0.000000</td>\n",
       "      <td>0.000000</td>\n",
       "    </tr>\n",
       "    <tr>\n",
       "      <th>25%</th>\n",
       "      <td>8734.000000</td>\n",
       "      <td>2014.00000</td>\n",
       "      <td>4.000000</td>\n",
       "      <td>8.000000</td>\n",
       "      <td>6.000000</td>\n",
       "      <td>18.000000</td>\n",
       "      <td>34.000000</td>\n",
       "      <td>2.000000</td>\n",
       "      <td>22.000000</td>\n",
       "      <td>500.000000</td>\n",
       "      <td>16.000000</td>\n",
       "      <td>3.400000</td>\n",
       "      <td>999.200000</td>\n",
       "      <td>-10.200000</td>\n",
       "      <td>0.000000</td>\n",
       "      <td>1.000000</td>\n",
       "    </tr>\n",
       "    <tr>\n",
       "      <th>50%</th>\n",
       "      <td>17493.000000</td>\n",
       "      <td>2015.00000</td>\n",
       "      <td>7.000000</td>\n",
       "      <td>16.000000</td>\n",
       "      <td>12.000000</td>\n",
       "      <td>46.000000</td>\n",
       "      <td>72.000000</td>\n",
       "      <td>7.000000</td>\n",
       "      <td>36.000000</td>\n",
       "      <td>800.000000</td>\n",
       "      <td>46.000000</td>\n",
       "      <td>14.700000</td>\n",
       "      <td>1007.400000</td>\n",
       "      <td>1.800000</td>\n",
       "      <td>0.000000</td>\n",
       "      <td>1.500000</td>\n",
       "    </tr>\n",
       "    <tr>\n",
       "      <th>75%</th>\n",
       "      <td>26261.000000</td>\n",
       "      <td>2016.00000</td>\n",
       "      <td>10.000000</td>\n",
       "      <td>23.000000</td>\n",
       "      <td>17.000000</td>\n",
       "      <td>98.000000</td>\n",
       "      <td>129.000000</td>\n",
       "      <td>18.000000</td>\n",
       "      <td>60.000000</td>\n",
       "      <td>1400.000000</td>\n",
       "      <td>79.000000</td>\n",
       "      <td>23.300000</td>\n",
       "      <td>1016.000000</td>\n",
       "      <td>14.200000</td>\n",
       "      <td>0.000000</td>\n",
       "      <td>2.300000</td>\n",
       "    </tr>\n",
       "    <tr>\n",
       "      <th>max</th>\n",
       "      <td>35064.000000</td>\n",
       "      <td>2017.00000</td>\n",
       "      <td>12.000000</td>\n",
       "      <td>31.000000</td>\n",
       "      <td>23.000000</td>\n",
       "      <td>882.000000</td>\n",
       "      <td>999.000000</td>\n",
       "      <td>310.000000</td>\n",
       "      <td>226.000000</td>\n",
       "      <td>10000.000000</td>\n",
       "      <td>429.000000</td>\n",
       "      <td>41.400000</td>\n",
       "      <td>1036.500000</td>\n",
       "      <td>27.200000</td>\n",
       "      <td>52.100000</td>\n",
       "      <td>10.000000</td>\n",
       "    </tr>\n",
       "  </tbody>\n",
       "</table>\n",
       "</div>"
      ],
      "text/plain": [
       "                 No         year         month           day          hour  \\\n",
       "count  34913.000000  34913.00000  34913.000000  34913.000000  34913.000000   \n",
       "mean   17496.125226   2014.65815      6.526423     15.720734     11.505714   \n",
       "std    10116.725012      1.17625      3.444274      8.802981      6.919758   \n",
       "min        1.000000   2013.00000      1.000000      1.000000      0.000000   \n",
       "25%     8734.000000   2014.00000      4.000000      8.000000      6.000000   \n",
       "50%    17493.000000   2015.00000      7.000000     16.000000     12.000000   \n",
       "75%    26261.000000   2016.00000     10.000000     23.000000     17.000000   \n",
       "max    35064.000000   2017.00000     12.000000     31.000000     23.000000   \n",
       "\n",
       "              PM2.5          PM10           SO2           NO2            CO  \\\n",
       "count  34913.000000  34913.000000  34913.000000  34913.000000  34913.000000   \n",
       "mean      70.435517     94.180154     14.823345     43.989375   1134.601552   \n",
       "std       71.575890     82.630717     20.831965     29.243205   1078.594380   \n",
       "min        2.000000      2.000000      0.285600      1.847700    100.000000   \n",
       "25%       18.000000     34.000000      2.000000     22.000000    500.000000   \n",
       "50%       46.000000     72.000000      7.000000     36.000000    800.000000   \n",
       "75%       98.000000    129.000000     18.000000     60.000000   1400.000000   \n",
       "max      882.000000    999.000000    310.000000    226.000000  10000.000000   \n",
       "\n",
       "                 O3          TEMP          PRES          DEWP          RAIN  \\\n",
       "count  34913.000000  34913.000000  34913.000000  34913.000000  34913.000000   \n",
       "mean      57.856860     13.705645   1007.745621      1.505307      0.060276   \n",
       "std       53.914693     11.363939     10.226803     13.827593      0.753713   \n",
       "min        0.214200    -16.600000    982.400000    -35.100000      0.000000   \n",
       "25%       16.000000      3.400000    999.200000    -10.200000      0.000000   \n",
       "50%       46.000000     14.700000   1007.400000      1.800000      0.000000   \n",
       "75%       79.000000     23.300000   1016.000000     14.200000      0.000000   \n",
       "max      429.000000     41.400000   1036.500000     27.200000     52.100000   \n",
       "\n",
       "               WSPM  \n",
       "count  34913.000000  \n",
       "mean       1.858305  \n",
       "std        1.308341  \n",
       "min        0.000000  \n",
       "25%        1.000000  \n",
       "50%        1.500000  \n",
       "75%        2.300000  \n",
       "max       10.000000  "
      ]
     },
     "execution_count": 101,
     "metadata": {},
     "output_type": "execute_result"
    }
   ],
   "source": [
    "Changping_df_cleaned.describe()"
   ]
  },
  {
   "cell_type": "markdown",
   "metadata": {
    "jp-MarkdownHeadingCollapsed": true
   },
   "source": [
    "###### Inaccurate value data Changping_df_cleaned kolom PM2.5"
   ]
  },
  {
   "cell_type": "code",
   "execution_count": 102,
   "metadata": {},
   "outputs": [
    {
     "name": "stdout",
     "output_type": "stream",
     "text": [
      "          No  year  month  day  hour  PM2.5  PM10    SO2   NO2      CO   O3  \\\n",
      "25778  25779  2016      2    8     2  882.0  72.0  215.0  81.0  2900.0  4.0   \n",
      "\n",
      "       TEMP    PRES  DEWP  RAIN   wd  WSPM    station  \n",
      "25778  -2.4  1004.5 -15.5   0.0  ESE   0.7  Changping  \n"
     ]
    }
   ],
   "source": [
    "# Mengambil baris data yang mengandung nilai maksimum pada kolom PM2.5\n",
    "max_pm25_row_changping = Changping_df_cleaned[Changping_df_cleaned['PM2.5'] == Changping_df_cleaned['PM2.5'].max()]\n",
    "print(max_pm25_row_changping)"
   ]
  },
  {
   "cell_type": "code",
   "execution_count": 103,
   "metadata": {},
   "outputs": [
    {
     "name": "stdout",
     "output_type": "stream",
     "text": [
      "Jumlah baris yang dihapus pada Changping_df_cleaned: 19\n",
      "Jumlah baris tersisa setelah penghapusan pada Changping_df_cleaned: 34894\n"
     ]
    }
   ],
   "source": [
    "# Menentukan batas maksimum untuk PM2.5\n",
    "batas_maksimum_pm25 = 500\n",
    "\n",
    "# Menghitung jumlah baris yang akan dihapus\n",
    "jumlah_baris_hilang_changping = Changping_df_cleaned[Changping_df_cleaned['PM2.5'] > batas_maksimum_pm25].shape[0]\n",
    "\n",
    "# Menghapus baris yang memiliki nilai PM2.5 lebih dari batas maksimum\n",
    "Changping_df_cleaned = Changping_df_cleaned[Changping_df_cleaned['PM2.5'] <= batas_maksimum_pm25]\n",
    "\n",
    "# Memeriksa jumlah baris dan kolom setelah proses pembersihan\n",
    "jumlah_baris_tersisa_changping = Changping_df_cleaned.shape[0]\n",
    "\n",
    "# Menampilkan informasi\n",
    "print(f\"Jumlah baris yang dihapus pada Changping_df_cleaned: {jumlah_baris_hilang_changping}\")\n",
    "print(f\"Jumlah baris tersisa setelah penghapusan pada Changping_df_cleaned: {jumlah_baris_tersisa_changping}\")"
   ]
  },
  {
   "cell_type": "markdown",
   "metadata": {},
   "source": [
    "*temporary insight*\n",
    "\n",
    "Dilakukan penetapan batas maksimum untuk PM2.5, dengan nilai 500 seperti yang telah dilakukan pada dataset sebelumnya juga. Atas dasar karena dalam banyak studi, nilai PM2.5 yang lebih dari 500 bisa dianggap tidak wajar. kemudian menghitung jumlah baris data yang akan dihapus pada Changping_df_cleaned. Dengan menggunakan kondisi untuk menghitung jumlah baris yang memiliki nilai PM2.5 lebih dari batas maksimum. Lalu menghapus baris dan memeriksa ukuran dataset saat ini. Dalam hal ini dapat dilihat, bahwa jumlah baris data yang dihapus atau memiliki nilai PM2.5 lebih dari 500 hanya terhitung 19 baris data. Dan setelah dilakukan dropping values, tersisa 34894 baris data pada Changping_df_cleaned."
   ]
  },
  {
   "cell_type": "markdown",
   "metadata": {
    "jp-MarkdownHeadingCollapsed": true
   },
   "source": [
    "###### Inaccurate value pada Changping_df_cleaned kolom PM10"
   ]
  },
  {
   "cell_type": "code",
   "execution_count": 104,
   "metadata": {},
   "outputs": [
    {
     "name": "stdout",
     "output_type": "stream",
     "text": [
      "        No  year  month  day  hour  PM2.5   PM10    SO2    NO2      CO    O3  \\\n",
      "7887  7888  2014      1   23    15   46.0  999.0  137.0  122.0  3800.0  10.0   \n",
      "\n",
      "      TEMP    PRES  DEWP  RAIN  wd  WSPM    station  \n",
      "7887   3.2  1004.1 -13.2   0.0  SE   1.5  Changping  \n"
     ]
    }
   ],
   "source": [
    "# Mengambil baris data yang mengandung nilai maksimum pada kolom PM10\n",
    "max_pm10_row_changping = Changping_df_cleaned[Changping_df_cleaned['PM10'] == Changping_df_cleaned['PM10'].max()]\n",
    "print(max_pm10_row_changping)"
   ]
  },
  {
   "cell_type": "code",
   "execution_count": 105,
   "metadata": {},
   "outputs": [
    {
     "name": "stdout",
     "output_type": "stream",
     "text": [
      "Jumlah baris yang akan dihapus dari PM10: 906\n"
     ]
    }
   ],
   "source": [
    "# Menentukan batas maksimum untuk PM10\n",
    "batas_maksimum_pm10 = 300.0 \n",
    "\n",
    "# Menghitung jumlah baris yang akan dihapus\n",
    "jumlah_baris_hilang_pm10_changping = Changping_df_cleaned[Changping_df_cleaned['PM10'] > batas_maksimum_pm10].shape[0]\n",
    "print(f\"Jumlah baris yang akan dihapus dari PM10: {jumlah_baris_hilang_pm10_changping}\")"
   ]
  },
  {
   "cell_type": "code",
   "execution_count": 106,
   "metadata": {},
   "outputs": [
    {
     "name": "stdout",
     "output_type": "stream",
     "text": [
      "Jumlah baris tersisa setelah penghapusan PM10: 33988\n"
     ]
    }
   ],
   "source": [
    "# Menghapus baris yang memiliki nilai PM10 lebih dari batas maksimum\n",
    "Changping_df_cleaned = Changping_df_cleaned[Changping_df_cleaned['PM10'] <= batas_maksimum_pm10]\n",
    "\n",
    "# Memeriksa jumlah baris dan kolom setelah proses pembersihan\n",
    "jumlah_baris_tersisa_pm10_changping = Changping_df_cleaned.shape[0]\n",
    "\n",
    "print(f\"Jumlah baris tersisa setelah penghapusan PM10: {jumlah_baris_tersisa_pm10_changping}\")"
   ]
  },
  {
   "cell_type": "markdown",
   "metadata": {},
   "source": [
    "*temporary value*\n",
    "\n",
    "Dilakukan juga pembersihan inaccurate value pada data Changping_df_cleaned dengan melakukan dropping. atau menghapus (drop) data pada kolom PM10 yang melebihi ambang batas yang telah ditentukan. Yakni nilai yang ditentukan tidak wajar, denagn pemilihan batas maksimum 300.0 adalah berdasarkan pemahaman tentang kualitas udara dan standar yang umum digunakan. Nilai ini didasarkan pada standar kualitas udara, di mana nilai PM10 di atas 300.0 bisa dianggap sebagai tidak wajar dan mungkin menunjukkan kesalahan pengukuran atau data yang tidak konsisten. Karena berdasarkan analisah yang telah dilakuan, batas maksimum yang wajar untuk PM10 bisa disarankan antara 150.0 hingga 300.0 untuk kualitas udara yang baik, dan nilai di atas 300.0 bisa dianggap sebagai data tidak wajar dalam konteks tertentu. Setelah penghapusan, diberikan informasi yang jelas tentang berapa banyak data yang hilang dan berapa banyak data yang tersisa, memastikan bahwa analisis selanjutnya didasarkan pada data yang valid."
   ]
  },
  {
   "cell_type": "markdown",
   "metadata": {
    "jp-MarkdownHeadingCollapsed": true
   },
   "source": [
    "###### Inaccurate value pada Changping_df_cleaned kolom CO"
   ]
  },
  {
   "cell_type": "code",
   "execution_count": 107,
   "metadata": {},
   "outputs": [
    {
     "name": "stdout",
     "output_type": "stream",
     "text": [
      "          No  year  month  day  hour  PM2.5  PM10   SO2   NO2     CO    O3  \\\n",
      "0          1  2013      3    1     0    3.0   6.0  13.0   7.0  300.0  85.0   \n",
      "1          2  2013      3    1     1    3.0   3.0   6.0   6.0  300.0  85.0   \n",
      "2          3  2013      3    1     2    3.0   3.0  22.0  13.0  400.0  74.0   \n",
      "3          4  2013      3    1     3    3.0   6.0  12.0   8.0  300.0  81.0   \n",
      "4          5  2013      3    1     4    3.0   3.0  14.0   8.0  300.0  81.0   \n",
      "...      ...   ...    ...  ...   ...    ...   ...   ...   ...    ...   ...   \n",
      "35059  35060  2017      2   28    19   28.0  47.0   4.0  14.0  300.0  46.0   \n",
      "35060  35061  2017      2   28    20   12.0  12.0   3.0  23.0  500.0  64.0   \n",
      "35061  35062  2017      2   28    21    7.0  23.0   5.0  17.0  500.0  68.0   \n",
      "35062  35063  2017      2   28    22   11.0  20.0   3.0  15.0  500.0  72.0   \n",
      "35063  35064  2017      2   28    23   20.0  25.0   6.0  28.0  900.0  54.0   \n",
      "\n",
      "       TEMP    PRES  DEWP  RAIN   wd  WSPM    station  \n",
      "0      -2.3  1020.8 -19.7   0.0    E   0.5  Changping  \n",
      "1      -2.5  1021.3 -19.0   0.0  ENE   0.7  Changping  \n",
      "2      -3.0  1021.3 -19.9   0.0  ENE   0.2  Changping  \n",
      "3      -3.6  1021.8 -19.1   0.0  NNE   1.0  Changping  \n",
      "4      -3.5  1022.3 -19.4   0.0    N   2.1  Changping  \n",
      "...     ...     ...   ...   ...  ...   ...        ...  \n",
      "35059  11.7  1008.9 -13.3   0.0  NNE   1.3  Changping  \n",
      "35060  10.9  1009.0 -14.0   0.0    N   2.1  Changping  \n",
      "35061   9.5  1009.4 -13.0   0.0    N   1.5  Changping  \n",
      "35062   7.8  1009.6 -12.6   0.0   NW   1.4  Changping  \n",
      "35063   7.0  1009.4 -12.2   0.0    N   1.9  Changping  \n",
      "\n",
      "[33988 rows x 18 columns]\n"
     ]
    }
   ],
   "source": [
    "# Identifikasi nilai CO yang tidak realistis (di atas 50 mg/m³ dan di bawah 0 mg/m³)\n",
    "unrealistic_co_changping = Changping_df_cleaned[(Changping_df_cleaned['CO'] > 50) | (Changping_df_cleaned['CO'] < 0)]\n",
    "print(unrealistic_co_changping)"
   ]
  },
  {
   "cell_type": "code",
   "execution_count": 108,
   "metadata": {},
   "outputs": [
    {
     "data": {
      "text/plain": [
       "count    33988.000000\n",
       "mean       106.859650\n",
       "std         92.923923\n",
       "min         10.000000\n",
       "25%         50.000000\n",
       "50%         80.000000\n",
       "75%        130.000000\n",
       "max       1000.000000\n",
       "Name: CO, dtype: float64"
      ]
     },
     "execution_count": 108,
     "metadata": {},
     "output_type": "execute_result"
    }
   ],
   "source": [
    "# Mengonversi nilai CO dari ratusan ke puluhan (mg/m³)\n",
    "Changping_df_cleaned['CO'] = Changping_df_cleaned['CO'] / 10\n",
    "\n",
    "# Memvalidasi hasil konversi\n",
    "Changping_df_cleaned['CO'].describe()"
   ]
  },
  {
   "cell_type": "code",
   "execution_count": 109,
   "metadata": {},
   "outputs": [
    {
     "name": "stdout",
     "output_type": "stream",
     "text": [
      "          No  year  month  day  hour  PM2.5  PM10   SO2   NO2     CO    O3  \\\n",
      "7          8  2013      3    1     7    3.0   6.0  25.0  39.0   60.0  48.0   \n",
      "8          9  2013      3    1     8    9.0  25.0  13.0  42.0   70.0  46.0   \n",
      "18        19  2013      3    1    18    4.0  17.0  40.0  22.0   60.0  77.0   \n",
      "19        20  2013      3    1    19    7.0  19.0  37.0  22.0   60.0  75.0   \n",
      "26        27  2013      3    2     2   13.0   9.0   7.0  56.0   80.0  33.0   \n",
      "...      ...   ...    ...  ...   ...    ...   ...   ...   ...    ...   ...   \n",
      "35047  35048  2017      2   28     7   21.0  31.0  16.0  49.0   90.0  28.0   \n",
      "35048  35049  2017      2   28     8   24.0  53.0  18.0  71.0  130.0  14.0   \n",
      "35049  35050  2017      2   28     9   20.0  35.0  13.0  44.0   90.0  35.0   \n",
      "35058  35059  2017      2   28    18   18.0  57.0   7.0   2.0   80.0   2.0   \n",
      "35063  35064  2017      2   28    23   20.0  25.0   6.0  28.0   90.0  54.0   \n",
      "\n",
      "       TEMP    PRES  DEWP  RAIN   wd  WSPM    station  \n",
      "7      -2.1  1024.6 -20.0   0.0   NW   2.5  Changping  \n",
      "8      -0.2  1025.2 -20.5   0.0  NNW   2.8  Changping  \n",
      "18      2.7  1024.2 -20.0   0.0   NE   3.6  Changping  \n",
      "19      2.0  1025.1 -19.3   0.0  ENE   1.7  Changping  \n",
      "26     -1.7  1027.7 -17.4   0.0  SSW   1.5  Changping  \n",
      "...     ...     ...   ...   ...  ...   ...        ...  \n",
      "35047   4.0  1011.7 -10.1   0.0   NW   0.9  Changping  \n",
      "35048   4.7  1012.1  -9.1   0.0   NW   1.2  Changping  \n",
      "35049  10.0  1012.1 -10.2   0.0    E   1.2  Changping  \n",
      "35058  13.4  1008.1 -13.6   0.0  WNW   3.0  Changping  \n",
      "35063   7.0  1009.4 -12.2   0.0    N   1.9  Changping  \n",
      "\n",
      "[23326 rows x 18 columns]\n"
     ]
    }
   ],
   "source": [
    "# Cek data CO yang masih tidak realistis (lebih dari 50 mg/m³ atau kurang dari 0 mg/m³).\n",
    "unrealistic_co_after_conversion_changping = Changping_df_cleaned[(Changping_df_cleaned['CO'] > 50) | (Changping_df_cleaned['CO'] < 0)]\n",
    "print(unrealistic_co_after_conversion_changping)"
   ]
  },
  {
   "cell_type": "code",
   "execution_count": 110,
   "metadata": {},
   "outputs": [
    {
     "name": "stdout",
     "output_type": "stream",
     "text": [
      "                 No          year         month           day          hour  \\\n",
      "count  33988.000000  33988.000000  33988.000000  33988.000000  33988.000000   \n",
      "mean   17470.039455   2014.654113      6.540308     15.689273     11.481964   \n",
      "std    10133.193220      1.179579      3.416282      8.798927      6.918458   \n",
      "min        1.000000   2013.000000      1.000000      1.000000      0.000000   \n",
      "25%     8646.750000   2014.000000      4.000000      8.000000      5.000000   \n",
      "50%    17514.500000   2015.000000      7.000000     16.000000     11.000000   \n",
      "75%    26271.250000   2016.000000      9.000000     23.000000     17.000000   \n",
      "max    35064.000000   2017.000000     12.000000     31.000000     23.000000   \n",
      "\n",
      "              PM2.5          PM10           SO2           NO2            CO  \\\n",
      "count  33988.000000  33988.000000  33988.000000  33988.000000  33988.000000   \n",
      "mean      64.876345     86.229307     14.221538     42.571093     39.073791   \n",
      "std       60.752973     65.880331     19.713763     27.218722      6.368974   \n",
      "min        2.000000      2.000000      0.285600      1.847700     10.000000   \n",
      "25%       18.000000     33.000000      2.000000     22.000000     40.000000   \n",
      "50%       46.000000     71.000000      7.000000     36.000000     40.000000   \n",
      "75%       93.000000    123.000000     17.000000     58.000000     40.000000   \n",
      "max      444.000000    300.000000    310.000000    208.000000     50.000000   \n",
      "\n",
      "                 O3          TEMP          PRES          DEWP          RAIN  \\\n",
      "count  33988.000000  33988.000000  33988.000000  33988.000000  33988.000000   \n",
      "mean      58.514878     13.872313   1007.675084      1.594998      0.061207   \n",
      "std       54.060717     11.368509     10.272393     13.922356      0.758424   \n",
      "min        0.214200    -16.600000    982.400000    -35.100000      0.000000   \n",
      "25%       17.000000      3.700000    999.100000    -10.400000      0.000000   \n",
      "50%       46.000000     14.900000   1007.200000      2.100000      0.000000   \n",
      "75%       80.000000     23.500000   1016.000000     14.400000      0.000000   \n",
      "max      429.000000     41.400000   1036.500000     27.200000     52.100000   \n",
      "\n",
      "               WSPM  \n",
      "count  33988.000000  \n",
      "mean       1.859836  \n",
      "std        1.299604  \n",
      "min        0.000000  \n",
      "25%        1.000000  \n",
      "50%        1.500000  \n",
      "75%        2.300000  \n",
      "max        9.600000  \n"
     ]
    }
   ],
   "source": [
    "# Imputasi nilai CO yang masih tidak realistis dengan nilai median\n",
    "median_co_after_conversion_changping = Changping_df_cleaned[(Changping_df_cleaned['CO'] >= 0) & (Changping_df_cleaned['CO'] <= 50)]['CO'].median()\n",
    "Changping_df_cleaned['CO'] = Changping_df_cleaned['CO'].apply(lambda x: median_co_after_conversion_changping if x > 50 or x < 0 else x)\n",
    "\n",
    "# Cek deskripsi dataset yang sudah dilakukan proses konversi dan imputasi\n",
    "print(Changping_df_cleaned.describe())"
   ]
  },
  {
   "cell_type": "markdown",
   "metadata": {},
   "source": [
    "*temporary insight*\n",
    "\n",
    "Proses ini mengonversi nilai CO menjadi lebih realistis dengan membaginya dengan 10, sesuai asumsi bahwa alat pengukuran mungkin salah mendeteksi dalam kelipatan tersebut. Karena nilai CO yang realistis (nilai CO antara 0 hingga 50 mg/m³). Setelah konversi, dilakukan validasi lebih lanjut untuk memastikan bahwa semua nilai CO berada dalam rentang yang wajar. Jika ada nilai yang masih tidak realistis, digunakan metode imputasi dengan nilai median CO yang sudah bersih. Hal ini dilakukan karena kurangnya informasi dari dataset tesebut mengenai satuan ukur apa yang digunakan pada tiap-tiap kolomnya, sehingga dibuat asusmsi berdasarkan nilai satuan yang umum digunakan di publik, berdasarkan riset yang telah dilakukan. Dengan cara ini, dataset Changping_df_cleaned sudah lebih akurat untuk analisis selanjutnya."
   ]
  },
  {
   "cell_type": "markdown",
   "metadata": {},
   "source": [
    "*temporary insight*\n",
    "\n",
    "1. Menangani Missing Values:\n",
    "   Kolom dengan missing values yang banyak seperti CO, PM2.5, NO2, SO2, O3, dan PM10 telah ditangani menggunakan metode imputasi median. Hal ini dilakukan agar tidak kehilangan terlalu banyak data penting, sambil tetap mengisi nilai yang realistis dan representatif.\n",
    "\n",
    "\n",
    "   Untuk kolom dengan jumlah missing values yang relatif sedikit seperti TEMP, PRES, DEWP, RAIN, wd, dan WSPM, dilakukan dropping values. Ini dipilih karena menghapus sedikit data tidak akan mempengaruhi keseluruhan dataset secara signifikan.\n",
    "\n",
    "\n",
    "3. Menangani Inaccurate Values:\n",
    "\n",
    "   Seperti yang telah dilakukan pada dataset sebelumnya (Aotizhongxin_df_cleaned), kolom CO, PM2.5, dan PM10 pada Changping_df_cleaned diperiksa untuk nilai yang tidak realistis.\n",
    "\n",
    "   Nilai-nilai yang dianggap tidak realistis di luar rentang normal pada masing-masing kolom telah diubah atau difilter sesuai dengan rentang realistis, seperti CO dengan nilai realistis di rentang 0–50 mg/m³. PM2.5 dan PM10 ditetapkan pada rentang realistis berdasarkan pedoman kualitas udara.\n",
    "\n",
    "\n",
    "\n",
    "Dengan semua missing values dan inaccurate values telah ditangani. Ini memastikan bahwa data siap digunakan untuk analisis lebih lanjut tanpa bias atau error yang berasal dari data yang hilang atau nilai yang tidak realistis. Dengan memilih metode imputasi untuk kolom dengan banyak missing values dan dropping untuk yang sedikit, diharapkan dapat mengoptimalkan jumlah data yang tetap relevan tanpa mengorbankan integritas dataset. Serta melakukan filter atau transformasi terhadap nilai yang tidak realistis pada kolom penting (seperti CO, PM2.5, dan PM10) memastikan hasil analisis yang lebih akurat dan representatif terhadap kondisi nyata."
   ]
  },
  {
   "cell_type": "markdown",
   "metadata": {
    "jp-MarkdownHeadingCollapsed": true
   },
   "source": [
    "#### Membersihkan Data Dingling_df"
   ]
  },
  {
   "cell_type": "markdown",
   "metadata": {
    "jp-MarkdownHeadingCollapsed": true
   },
   "source": [
    "##### Menangani Missing Value pada data Dingling_df"
   ]
  },
  {
   "cell_type": "markdown",
   "metadata": {
    "jp-MarkdownHeadingCollapsed": true
   },
   "source": [
    "###### Missing value pada Dingling_df kolom CO"
   ]
  },
  {
   "cell_type": "code",
   "execution_count": 111,
   "metadata": {},
   "outputs": [
    {
     "name": "stdout",
     "output_type": "stream",
     "text": [
      "No            0\n",
      "year          0\n",
      "month         0\n",
      "day           0\n",
      "hour          0\n",
      "PM2.5       779\n",
      "PM10        656\n",
      "SO2         730\n",
      "NO2        1234\n",
      "CO         2012\n",
      "O3         1214\n",
      "TEMP         53\n",
      "PRES         50\n",
      "DEWP         53\n",
      "RAIN         51\n",
      "wd          140\n",
      "WSPM         43\n",
      "station       0\n",
      "dtype: int64\n",
      "Persentase missing values di kolom CO Dingling_df: 5.738078941364362%\n"
     ]
    }
   ],
   "source": [
    "# Mengecek jumlah missing values di setiap kolom\n",
    "missing_values = Dingling_df.isnull().sum()\n",
    "print(missing_values)\n",
    "\n",
    "# Mengecek persentase missing values di kolom CO\n",
    "co_missing_percentage_dingling = Dingling_df['CO'].isnull().mean() * 100\n",
    "print(f\"Persentase missing values di kolom CO Dingling_df: {co_missing_percentage_dingling}%\")"
   ]
  },
  {
   "cell_type": "code",
   "execution_count": 112,
   "metadata": {},
   "outputs": [
    {
     "name": "stdout",
     "output_type": "stream",
     "text": [
      "Median CO: 600.0\n",
      "No            0\n",
      "year          0\n",
      "month         0\n",
      "day           0\n",
      "hour          0\n",
      "PM2.5       779\n",
      "PM10        656\n",
      "SO2         730\n",
      "NO2        1234\n",
      "CO            0\n",
      "O3         1214\n",
      "TEMP         53\n",
      "PRES         50\n",
      "DEWP         53\n",
      "RAIN         51\n",
      "wd          140\n",
      "WSPM         43\n",
      "station       0\n",
      "dtype: int64\n"
     ]
    }
   ],
   "source": [
    "# Menggunakan nilai median dari kolom CO untuk mengisikan missing value colom CO\n",
    "co_median_dingling = Dingling_df['CO'].median()\n",
    "print(f\"Median CO: {co_median_dingling}\")\n",
    "\n",
    "# Melakukan imputasi nilai median pada kolom CO yang mengandung missing value\n",
    "Dingling_df_cleaned = Dingling_df.copy()  \n",
    "Dingling_df_cleaned['CO'] = Dingling_df_cleaned['CO'].fillna(co_median)\n",
    "\n",
    "# Cek apakah missing values saat ini pada data Dingling_df_cleaned\n",
    "print(Dingling_df_cleaned.isna().sum())"
   ]
  },
  {
   "cell_type": "markdown",
   "metadata": {},
   "source": [
    "*temporary insight*\n",
    "\n",
    "Dipilih kolom CO terlebih dahulu yang dilakukan penanganan missing values, karena kolom CO memiliki jumlah missing values paling banyak diantara kolom yang lainnya pada Dingling_df, sehingga diharapkan meminimalisir penggunaan metode dropping values dalam cleaning data ini. Pertama, dilakukan identifikasi missing values pada kolom CO untuk mengetahui besaran masalah. Selanjutnya, memilih memutuskan menggunakan nilai median untuk mengisi missing values karena lebik cocok jika terdapat outlier. Kemudian menyimpan dataset yang telah diberikan pada variabel Dingling_df_cleaned dan menampilkan jumlah missing values pada data tersebut saat ini. Dapat dilihat jumlah missing values paling banyak saat ini adalah pada kolom NO2 sehingga selanjutnya yakni menangani missing values pada kolom tersebut."
   ]
  },
  {
   "cell_type": "markdown",
   "metadata": {
    "jp-MarkdownHeadingCollapsed": true
   },
   "source": [
    "###### Missing value pada Dingling_df_cleaned kolom NO2"
   ]
  },
  {
   "cell_type": "code",
   "execution_count": 113,
   "metadata": {},
   "outputs": [
    {
     "name": "stdout",
     "output_type": "stream",
     "text": [
      "Persentase missing values di kolom NO2: 3.5192790326260557%\n"
     ]
    }
   ],
   "source": [
    "# Mengecek persentase missing values di kolom NO2\n",
    "NO2_missing_percentage_dingling = Dingling_df_cleaned['NO2'].isnull().mean() * 100\n",
    "print(f\"Persentase missing values di kolom NO2: {NO2_missing_percentage_dingling}%\")"
   ]
  },
  {
   "cell_type": "code",
   "execution_count": 114,
   "metadata": {},
   "outputs": [
    {
     "name": "stdout",
     "output_type": "stream",
     "text": [
      "Median NO2: 19.0\n",
      "No            0\n",
      "year          0\n",
      "month         0\n",
      "day           0\n",
      "hour          0\n",
      "PM2.5       779\n",
      "PM10        656\n",
      "SO2         730\n",
      "NO2           0\n",
      "CO            0\n",
      "O3         1214\n",
      "TEMP         53\n",
      "PRES         50\n",
      "DEWP         53\n",
      "RAIN         51\n",
      "wd          140\n",
      "WSPM         43\n",
      "station       0\n",
      "dtype: int64\n"
     ]
    }
   ],
   "source": [
    "# Menggunakan nilai median dari kolom NO2 untuk mengisikan missing value kolom NO2\n",
    "NO2_median_dingling = Dingling_df_cleaned['NO2'].median()\n",
    "print(f\"Median NO2: {NO2_median_dingling}\")\n",
    "\n",
    "# Melakukan imputasi nilai median pada kolom NO2 yang mengandung missing value\n",
    "Dingling_df_cleaned['NO2'] = Dingling_df_cleaned['NO2'].fillna(NO2_median_dingling)\n",
    "\n",
    "# Cek apakah missing values saat ini pada data Dingling_df_cleaned\n",
    "print(Dingling_df_cleaned.isna().sum())"
   ]
  },
  {
   "cell_type": "markdown",
   "metadata": {},
   "source": [
    "*temporary insight*\n",
    "\n",
    "Sama seperti penanganan missing values pada kolom CO. Dilakukan juga identifikasi missing values pada kolom NO2 ini untuk mengetahui besaran masalah. Selanjutnya, memilih memutuskan menggunakan nilai median untuk mengisi missing values karena lebik cocok jika terdapat outlier. Kemudian menyimpan dataset yang telah diberikan pada variabel Dingling_df_cleaned dan menampilkan jumlah missing values pada data tersebut saat ini. Dapat dilihat jumlah missing values paling banyak saat ini adalah pada kolom O3 sehingga selanjutnya yakni menangani missing values pada kolom tersebut."
   ]
  },
  {
   "cell_type": "markdown",
   "metadata": {
    "jp-MarkdownHeadingCollapsed": true
   },
   "source": [
    "###### Missing value pada Dingling_df_cleaned kolom O3"
   ]
  },
  {
   "cell_type": "code",
   "execution_count": 115,
   "metadata": {},
   "outputs": [
    {
     "name": "stdout",
     "output_type": "stream",
     "text": [
      "Persentase missing values di kolom O3: 3.462240474560803%\n"
     ]
    }
   ],
   "source": [
    "# Mengecek persentase missing values di kolom O3\n",
    "O3_missing_percentage_dingling = Dingling_df_cleaned['O3'].isnull().mean() * 100\n",
    "print(f\"Persentase missing values di kolom O3: {O3_missing_percentage_dingling}%\")"
   ]
  },
  {
   "cell_type": "code",
   "execution_count": 116,
   "metadata": {},
   "outputs": [
    {
     "name": "stdout",
     "output_type": "stream",
     "text": [
      "Median O3: 61.0\n",
      "Missing value pada Dingling_df_cleaned saat ini :\n",
      " No           0\n",
      "year         0\n",
      "month        0\n",
      "day          0\n",
      "hour         0\n",
      "PM2.5      779\n",
      "PM10       656\n",
      "SO2        730\n",
      "NO2          0\n",
      "CO           0\n",
      "O3           0\n",
      "TEMP        53\n",
      "PRES        50\n",
      "DEWP        53\n",
      "RAIN        51\n",
      "wd         140\n",
      "WSPM        43\n",
      "station      0\n",
      "dtype: int64\n"
     ]
    }
   ],
   "source": [
    "# Menggunakan nilai median dari kolom O3 untuk mengisikan missing value kolom O3\n",
    "O3_median_dingling = Dingling_df_cleaned['O3'].median()\n",
    "print(f\"Median O3: {O3_median_dingling}\")\n",
    "\n",
    "# Melakukan imputasi nilai median pada kolom O3 yang mengandung missing value\n",
    "Dingling_df_cleaned['O3'] = Dingling_df_cleaned['O3'].fillna(O3_median_dingling)\n",
    "\n",
    "# Cek apakah missing values saat ini pada data Dingling_df_cleaned\n",
    "print(\"Missing value pada Dingling_df_cleaned saat ini :\\n\", Dingling_df_cleaned.isna().sum())"
   ]
  },
  {
   "cell_type": "markdown",
   "metadata": {},
   "source": [
    "*temporary insight*\n",
    "\n",
    "Melakukan penanganan missing values pada kolom O3 ini sama seperti kolom-kolom sebelumnya pada dataset Dingling_df_cleaned ini. Dengan melakukan metode imputasi nilai median dari kolom O3. Setelah dilakukan penanganan missing values pada kolom ini, didapatkan kolom selanjutnya yang masih memiliki jumlah missing values yang banyak yakni kolom PM2.5. Sehingga selanjutnya yakni menangani missing values pada kolom tersebut."
   ]
  },
  {
   "cell_type": "markdown",
   "metadata": {
    "jp-MarkdownHeadingCollapsed": true
   },
   "source": [
    "###### Missing value pada Dingling_df_cleaned kolom PM.25"
   ]
  },
  {
   "cell_type": "code",
   "execution_count": 117,
   "metadata": {},
   "outputs": [
    {
     "name": "stdout",
     "output_type": "stream",
     "text": [
      "Persentase missing values di kolom PM2.5: 2.22165183664157%\n"
     ]
    }
   ],
   "source": [
    "# Mengecek persentase missing values di kolom PM2.5\n",
    "PM25_missing_percentage_dingling = Dingling_df_cleaned['PM2.5'].isnull().mean() * 100\n",
    "print(f\"Persentase missing values di kolom PM2.5: {PM25_missing_percentage_dingling}%\")"
   ]
  },
  {
   "cell_type": "code",
   "execution_count": 118,
   "metadata": {},
   "outputs": [
    {
     "name": "stdout",
     "output_type": "stream",
     "text": [
      "Median PM2.5: 41.0\n",
      "Missing value pada Dingling_df_cleaned saat ini :\n",
      " No           0\n",
      "year         0\n",
      "month        0\n",
      "day          0\n",
      "hour         0\n",
      "PM2.5        0\n",
      "PM10       656\n",
      "SO2        730\n",
      "NO2          0\n",
      "CO           0\n",
      "O3           0\n",
      "TEMP        53\n",
      "PRES        50\n",
      "DEWP        53\n",
      "RAIN        51\n",
      "wd         140\n",
      "WSPM        43\n",
      "station      0\n",
      "dtype: int64\n"
     ]
    }
   ],
   "source": [
    "# Menggunakan nilai median dari kolom PM2.5 untuk mengisikan missing value kolom PM2.5\n",
    "PM25_median_dingling = Dingling_df_cleaned['PM2.5'].median()\n",
    "print(f\"Median PM2.5: {PM25_median_dingling}\")\n",
    "\n",
    "# Melakukan imputasi nilai median pada kolom PM2.5 yang mengandung missing value\n",
    "Dingling_df_cleaned['PM2.5'] = Dingling_df_cleaned['PM2.5'].fillna(PM25_median_dingling)\n",
    "\n",
    "# Cek apakah missing values saat ini pada data Dingling_df_cleaned\n",
    "print(\"Missing value pada Dingling_df_cleaned saat ini :\\n\", Dingling_df_cleaned.isna().sum())"
   ]
  },
  {
   "cell_type": "markdown",
   "metadata": {},
   "source": [
    "*temporary insight*\n",
    "\n",
    "Melakukan penanganan missing values pada kolom PM2.5 ini sama seperti kolom-kolom sebelumnya pada dataset Dingling_df_cleaned ini. Dengan melakukan metode imputasi nilai median dari kolom PM2.5. Setelah dilakukan penanganan missing values pada kolom ini, didapatkan kolom selanjutnya yang masih memiliki jumlah missing values yang banyak yakni kolom SO2. Sehingga selanjutnya yakni menangani missing values pada kolom tersebut."
   ]
  },
  {
   "cell_type": "markdown",
   "metadata": {
    "jp-MarkdownHeadingCollapsed": true
   },
   "source": [
    "###### Missing value pada Dingling_df_cleaned kolom SO2"
   ]
  },
  {
   "cell_type": "code",
   "execution_count": 119,
   "metadata": {},
   "outputs": [
    {
     "name": "stdout",
     "output_type": "stream",
     "text": [
      "Persentase missing values di kolom SO2: 2.0819073693817023%\n"
     ]
    }
   ],
   "source": [
    "# Mengecek persentase missing values di kolom SO2\n",
    "SO2_missing_percentage_dingling = Dingling_df_cleaned['SO2'].isnull().mean() * 100\n",
    "print(f\"Persentase missing values di kolom SO2: {SO2_missing_percentage_dingling}%\")"
   ]
  },
  {
   "cell_type": "code",
   "execution_count": 120,
   "metadata": {},
   "outputs": [
    {
     "name": "stdout",
     "output_type": "stream",
     "text": [
      "Median SO2: 5.0\n",
      "Missing value pada Dingling_df_cleaned saat ini :\n",
      " No           0\n",
      "year         0\n",
      "month        0\n",
      "day          0\n",
      "hour         0\n",
      "PM2.5        0\n",
      "PM10       656\n",
      "SO2          0\n",
      "NO2          0\n",
      "CO           0\n",
      "O3           0\n",
      "TEMP        53\n",
      "PRES        50\n",
      "DEWP        53\n",
      "RAIN        51\n",
      "wd         140\n",
      "WSPM        43\n",
      "station      0\n",
      "dtype: int64\n"
     ]
    }
   ],
   "source": [
    "# Menggunakan nilai median dari kolom SO2 untuk mengisikan missing value kolom SO2\n",
    "SO2_median_dingling = Dingling_df_cleaned['SO2'].median()\n",
    "print(f\"Median SO2: {SO2_median_dingling}\")\n",
    "\n",
    "# Melakukan imputasi nilai median pada kolom SO2 yang mengandung missing value\n",
    "Dingling_df_cleaned['SO2'] = Dingling_df_cleaned['SO2'].fillna(SO2_median_dingling)\n",
    "\n",
    "# Cek apakah missing values saat ini pada data Dingling_df_cleaned\n",
    "print(\"Missing value pada Dingling_df_cleaned saat ini :\\n\", Dingling_df_cleaned.isna().sum())"
   ]
  },
  {
   "cell_type": "markdown",
   "metadata": {},
   "source": [
    "*temporary insight*\n",
    "\n",
    "Melakukan penanganan missing values pada kolom SO2 ini sama seperti kolom-kolom sebelumnya pada dataset Dingling_df_cleaned ini. Dengan melakukan metode imputasi nilai median dari kolom SO2. Setelah dilakukan penanganan missing values pada kolom ini, didapatkan kolom selanjutnya yang masih memiliki jumlah missing values yang banyak yakni kolom PM10. Sehingga selanjutnya yakni menangani missing values pada kolom tersebut."
   ]
  },
  {
   "cell_type": "markdown",
   "metadata": {
    "jp-MarkdownHeadingCollapsed": true
   },
   "source": [
    "###### Missing value pada Dingling_df_cleaned kolom PM10"
   ]
  },
  {
   "cell_type": "code",
   "execution_count": 121,
   "metadata": {},
   "outputs": [
    {
     "name": "stdout",
     "output_type": "stream",
     "text": [
      "Persentase missing values di kolom PM10: 1.8708647045402693%\n"
     ]
    }
   ],
   "source": [
    "# Mengecek persentase missing values di kolom PM10\n",
    "PM10_missing_percentage_dingling = Dingling_df_cleaned['PM10'].isnull().mean() * 100\n",
    "print(f\"Persentase missing values di kolom PM10: {PM10_missing_percentage_dingling}%\")"
   ]
  },
  {
   "cell_type": "code",
   "execution_count": 122,
   "metadata": {},
   "outputs": [
    {
     "name": "stdout",
     "output_type": "stream",
     "text": [
      "Median PM10: 60.0\n",
      "Missing value pada Dingling_df_cleaned saat ini :\n",
      " No           0\n",
      "year         0\n",
      "month        0\n",
      "day          0\n",
      "hour         0\n",
      "PM2.5        0\n",
      "PM10         0\n",
      "SO2          0\n",
      "NO2          0\n",
      "CO           0\n",
      "O3           0\n",
      "TEMP        53\n",
      "PRES        50\n",
      "DEWP        53\n",
      "RAIN        51\n",
      "wd         140\n",
      "WSPM        43\n",
      "station      0\n",
      "dtype: int64\n"
     ]
    }
   ],
   "source": [
    "# Menggunakan nilai median dari kolom PM10 untuk mengisikan missing value kolom PM10\n",
    "PM10_median_dingling = Dingling_df_cleaned['PM10'].median()\n",
    "print(f\"Median PM10: {PM10_median_dingling}\")\n",
    "\n",
    "# Melakukan imputasi nilai median pada kolom PM10 yang mengandung missing value\n",
    "Dingling_df_cleaned['PM10'] = Dingling_df_cleaned['PM10'].fillna(PM10_median_dingling)\n",
    "\n",
    "# Cek apakah missing values saat ini pada data Dingling_df_cleaned\n",
    "print(\"Missing value pada Dingling_df_cleaned saat ini :\\n\", Dingling_df_cleaned.isna().sum())"
   ]
  },
  {
   "cell_type": "markdown",
   "metadata": {},
   "source": [
    "*temporary insight*\n",
    "\n",
    "Telah dilakukan penanganan missing values pada kolom PM10. Dengan melakukan metode imputasi nilai median pada setiap baris kolom tersebut yang terdapat missing values. Dari informasi yang telah ditampilkan saat ini hanya beberapa kolom saja yang memiliki missing values dengan jumlah yang tidak begitu banyak juga. Sehingga akan ditangani selanjutnya."
   ]
  },
  {
   "cell_type": "markdown",
   "metadata": {
    "jp-MarkdownHeadingCollapsed": true
   },
   "source": [
    "###### Missing values pada data Changping_df_cleaned kolom TEMP, PRES, DEWP, RAIN, wd, dan WSPM"
   ]
  },
  {
   "cell_type": "code",
   "execution_count": 123,
   "metadata": {},
   "outputs": [
    {
     "name": "stdout",
     "output_type": "stream",
     "text": [
      "Jumlah missing values saat ini:\n",
      "No           0\n",
      "year         0\n",
      "month        0\n",
      "day          0\n",
      "hour         0\n",
      "PM2.5        0\n",
      "PM10         0\n",
      "SO2          0\n",
      "NO2          0\n",
      "CO           0\n",
      "O3           0\n",
      "TEMP        53\n",
      "PRES        50\n",
      "DEWP        53\n",
      "RAIN        51\n",
      "wd         140\n",
      "WSPM        43\n",
      "station      0\n",
      "dtype: int64\n"
     ]
    }
   ],
   "source": [
    "# Menampilkan jumlah missing values saat ini pada data Dingling_df_cleaned\n",
    "print(\"Jumlah missing values saat ini:\")\n",
    "print(Dingling_df_cleaned.isna().sum())"
   ]
  },
  {
   "cell_type": "code",
   "execution_count": 124,
   "metadata": {},
   "outputs": [
    {
     "name": "stdout",
     "output_type": "stream",
     "text": [
      "Jumlah missing values sekarang:\n",
      "No         0\n",
      "year       0\n",
      "month      0\n",
      "day        0\n",
      "hour       0\n",
      "PM2.5      0\n",
      "PM10       0\n",
      "SO2        0\n",
      "NO2        0\n",
      "CO         0\n",
      "O3         0\n",
      "TEMP       0\n",
      "PRES       0\n",
      "DEWP       0\n",
      "RAIN       0\n",
      "wd         0\n",
      "WSPM       0\n",
      "station    0\n",
      "dtype: int64\n"
     ]
    }
   ],
   "source": [
    "# Menghapus baris yang memiliki missing values pada kolom TEMP, PRES, DEWP, RAIN, wd, dan WSPM\n",
    "Dingling_df_cleaned.dropna(subset=['TEMP', 'PRES', 'DEWP', 'RAIN', 'wd', 'WSPM'], inplace=True)\n",
    "\n",
    "# Verifikasi penghapusan missing values\n",
    "print(\"Jumlah missing values sekarang:\")\n",
    "print(Dingling_df_cleaned.isna().sum())"
   ]
  },
  {
   "cell_type": "markdown",
   "metadata": {},
   "source": [
    "*temporary insight*\n",
    "\n",
    "Dilakukan periksa ulang jumlah missing values setelah imputasi pada kolom yang tersisa. Kemudian melakukan dropping missing values dengan menggunakan metode `dropna()` untuk menghapus baris yang memiliki missing values pada kolom-kolom tersebut. Dan juga telah dilakukan verifikasi hasil dropping missing values sudah dihilangkan dengan memeriksa ulang dataset. Sehingga saat ini data Dingling_df_cleaned sudah bersih dari missing values"
   ]
  },
  {
   "cell_type": "markdown",
   "metadata": {
    "jp-MarkdownHeadingCollapsed": true
   },
   "source": [
    "##### Menangani Inaccurate Value pada data Dingling_df_cleaned"
   ]
  },
  {
   "cell_type": "code",
   "execution_count": 125,
   "metadata": {},
   "outputs": [
    {
     "data": {
      "text/html": [
       "<div>\n",
       "<style scoped>\n",
       "    .dataframe tbody tr th:only-of-type {\n",
       "        vertical-align: middle;\n",
       "    }\n",
       "\n",
       "    .dataframe tbody tr th {\n",
       "        vertical-align: top;\n",
       "    }\n",
       "\n",
       "    .dataframe thead th {\n",
       "        text-align: right;\n",
       "    }\n",
       "</style>\n",
       "<table border=\"1\" class=\"dataframe\">\n",
       "  <thead>\n",
       "    <tr style=\"text-align: right;\">\n",
       "      <th></th>\n",
       "      <th>No</th>\n",
       "      <th>year</th>\n",
       "      <th>month</th>\n",
       "      <th>day</th>\n",
       "      <th>hour</th>\n",
       "      <th>PM2.5</th>\n",
       "      <th>PM10</th>\n",
       "      <th>SO2</th>\n",
       "      <th>NO2</th>\n",
       "      <th>CO</th>\n",
       "      <th>O3</th>\n",
       "      <th>TEMP</th>\n",
       "      <th>PRES</th>\n",
       "      <th>DEWP</th>\n",
       "      <th>RAIN</th>\n",
       "      <th>WSPM</th>\n",
       "    </tr>\n",
       "  </thead>\n",
       "  <tbody>\n",
       "    <tr>\n",
       "      <th>count</th>\n",
       "      <td>34913.000000</td>\n",
       "      <td>34913.00000</td>\n",
       "      <td>34913.000000</td>\n",
       "      <td>34913.000000</td>\n",
       "      <td>34913.000000</td>\n",
       "      <td>34913.000000</td>\n",
       "      <td>34913.000000</td>\n",
       "      <td>34913.000000</td>\n",
       "      <td>34913.000000</td>\n",
       "      <td>34913.000000</td>\n",
       "      <td>34913.000000</td>\n",
       "      <td>34913.000000</td>\n",
       "      <td>34913.000000</td>\n",
       "      <td>34913.000000</td>\n",
       "      <td>34913.000000</td>\n",
       "      <td>34913.000000</td>\n",
       "    </tr>\n",
       "    <tr>\n",
       "      <th>mean</th>\n",
       "      <td>17496.125226</td>\n",
       "      <td>2014.65815</td>\n",
       "      <td>6.526423</td>\n",
       "      <td>15.720734</td>\n",
       "      <td>11.505714</td>\n",
       "      <td>65.327984</td>\n",
       "      <td>83.222135</td>\n",
       "      <td>11.604115</td>\n",
       "      <td>27.251693</td>\n",
       "      <td>896.755507</td>\n",
       "      <td>68.403274</td>\n",
       "      <td>13.705645</td>\n",
       "      <td>1007.745621</td>\n",
       "      <td>1.505307</td>\n",
       "      <td>0.060276</td>\n",
       "      <td>1.858305</td>\n",
       "    </tr>\n",
       "    <tr>\n",
       "      <th>std</th>\n",
       "      <td>10116.725012</td>\n",
       "      <td>1.17625</td>\n",
       "      <td>3.444274</td>\n",
       "      <td>8.802981</td>\n",
       "      <td>6.919758</td>\n",
       "      <td>71.512256</td>\n",
       "      <td>78.820535</td>\n",
       "      <td>15.391788</td>\n",
       "      <td>25.945733</td>\n",
       "      <td>874.547792</td>\n",
       "      <td>52.872638</td>\n",
       "      <td>11.363939</td>\n",
       "      <td>10.226803</td>\n",
       "      <td>13.827593</td>\n",
       "      <td>0.753713</td>\n",
       "      <td>1.308341</td>\n",
       "    </tr>\n",
       "    <tr>\n",
       "      <th>min</th>\n",
       "      <td>1.000000</td>\n",
       "      <td>2013.00000</td>\n",
       "      <td>1.000000</td>\n",
       "      <td>1.000000</td>\n",
       "      <td>0.000000</td>\n",
       "      <td>3.000000</td>\n",
       "      <td>2.000000</td>\n",
       "      <td>0.285600</td>\n",
       "      <td>1.026500</td>\n",
       "      <td>100.000000</td>\n",
       "      <td>0.214200</td>\n",
       "      <td>-16.600000</td>\n",
       "      <td>982.400000</td>\n",
       "      <td>-35.100000</td>\n",
       "      <td>0.000000</td>\n",
       "      <td>0.000000</td>\n",
       "    </tr>\n",
       "    <tr>\n",
       "      <th>25%</th>\n",
       "      <td>8734.000000</td>\n",
       "      <td>2014.00000</td>\n",
       "      <td>4.000000</td>\n",
       "      <td>8.000000</td>\n",
       "      <td>6.000000</td>\n",
       "      <td>14.000000</td>\n",
       "      <td>26.000000</td>\n",
       "      <td>2.000000</td>\n",
       "      <td>9.000000</td>\n",
       "      <td>300.000000</td>\n",
       "      <td>32.000000</td>\n",
       "      <td>3.400000</td>\n",
       "      <td>999.200000</td>\n",
       "      <td>-10.200000</td>\n",
       "      <td>0.000000</td>\n",
       "      <td>1.000000</td>\n",
       "    </tr>\n",
       "    <tr>\n",
       "      <th>50%</th>\n",
       "      <td>17493.000000</td>\n",
       "      <td>2015.00000</td>\n",
       "      <td>7.000000</td>\n",
       "      <td>16.000000</td>\n",
       "      <td>12.000000</td>\n",
       "      <td>41.000000</td>\n",
       "      <td>60.000000</td>\n",
       "      <td>5.000000</td>\n",
       "      <td>19.000000</td>\n",
       "      <td>700.000000</td>\n",
       "      <td>61.000000</td>\n",
       "      <td>14.700000</td>\n",
       "      <td>1007.400000</td>\n",
       "      <td>1.800000</td>\n",
       "      <td>0.000000</td>\n",
       "      <td>1.500000</td>\n",
       "    </tr>\n",
       "    <tr>\n",
       "      <th>75%</th>\n",
       "      <td>26261.000000</td>\n",
       "      <td>2016.00000</td>\n",
       "      <td>10.000000</td>\n",
       "      <td>23.000000</td>\n",
       "      <td>17.000000</td>\n",
       "      <td>91.000000</td>\n",
       "      <td>116.000000</td>\n",
       "      <td>14.000000</td>\n",
       "      <td>37.000000</td>\n",
       "      <td>1100.000000</td>\n",
       "      <td>89.000000</td>\n",
       "      <td>23.300000</td>\n",
       "      <td>1016.000000</td>\n",
       "      <td>14.200000</td>\n",
       "      <td>0.000000</td>\n",
       "      <td>2.300000</td>\n",
       "    </tr>\n",
       "    <tr>\n",
       "      <th>max</th>\n",
       "      <td>35064.000000</td>\n",
       "      <td>2017.00000</td>\n",
       "      <td>12.000000</td>\n",
       "      <td>31.000000</td>\n",
       "      <td>23.000000</td>\n",
       "      <td>881.000000</td>\n",
       "      <td>905.000000</td>\n",
       "      <td>156.000000</td>\n",
       "      <td>205.000000</td>\n",
       "      <td>10000.000000</td>\n",
       "      <td>500.000000</td>\n",
       "      <td>41.400000</td>\n",
       "      <td>1036.500000</td>\n",
       "      <td>27.200000</td>\n",
       "      <td>52.100000</td>\n",
       "      <td>10.000000</td>\n",
       "    </tr>\n",
       "  </tbody>\n",
       "</table>\n",
       "</div>"
      ],
      "text/plain": [
       "                 No         year         month           day          hour  \\\n",
       "count  34913.000000  34913.00000  34913.000000  34913.000000  34913.000000   \n",
       "mean   17496.125226   2014.65815      6.526423     15.720734     11.505714   \n",
       "std    10116.725012      1.17625      3.444274      8.802981      6.919758   \n",
       "min        1.000000   2013.00000      1.000000      1.000000      0.000000   \n",
       "25%     8734.000000   2014.00000      4.000000      8.000000      6.000000   \n",
       "50%    17493.000000   2015.00000      7.000000     16.000000     12.000000   \n",
       "75%    26261.000000   2016.00000     10.000000     23.000000     17.000000   \n",
       "max    35064.000000   2017.00000     12.000000     31.000000     23.000000   \n",
       "\n",
       "              PM2.5          PM10           SO2           NO2            CO  \\\n",
       "count  34913.000000  34913.000000  34913.000000  34913.000000  34913.000000   \n",
       "mean      65.327984     83.222135     11.604115     27.251693    896.755507   \n",
       "std       71.512256     78.820535     15.391788     25.945733    874.547792   \n",
       "min        3.000000      2.000000      0.285600      1.026500    100.000000   \n",
       "25%       14.000000     26.000000      2.000000      9.000000    300.000000   \n",
       "50%       41.000000     60.000000      5.000000     19.000000    700.000000   \n",
       "75%       91.000000    116.000000     14.000000     37.000000   1100.000000   \n",
       "max      881.000000    905.000000    156.000000    205.000000  10000.000000   \n",
       "\n",
       "                 O3          TEMP          PRES          DEWP          RAIN  \\\n",
       "count  34913.000000  34913.000000  34913.000000  34913.000000  34913.000000   \n",
       "mean      68.403274     13.705645   1007.745621      1.505307      0.060276   \n",
       "std       52.872638     11.363939     10.226803     13.827593      0.753713   \n",
       "min        0.214200    -16.600000    982.400000    -35.100000      0.000000   \n",
       "25%       32.000000      3.400000    999.200000    -10.200000      0.000000   \n",
       "50%       61.000000     14.700000   1007.400000      1.800000      0.000000   \n",
       "75%       89.000000     23.300000   1016.000000     14.200000      0.000000   \n",
       "max      500.000000     41.400000   1036.500000     27.200000     52.100000   \n",
       "\n",
       "               WSPM  \n",
       "count  34913.000000  \n",
       "mean       1.858305  \n",
       "std        1.308341  \n",
       "min        0.000000  \n",
       "25%        1.000000  \n",
       "50%        1.500000  \n",
       "75%        2.300000  \n",
       "max       10.000000  "
      ]
     },
     "execution_count": 125,
     "metadata": {},
     "output_type": "execute_result"
    }
   ],
   "source": [
    "Dingling_df_cleaned.describe()"
   ]
  },
  {
   "cell_type": "markdown",
   "metadata": {
    "jp-MarkdownHeadingCollapsed": true
   },
   "source": [
    "###### Inaccurate value data Changping_df_cleaned kolom PM2.5"
   ]
  },
  {
   "cell_type": "code",
   "execution_count": 126,
   "metadata": {},
   "outputs": [
    {
     "name": "stdout",
     "output_type": "stream",
     "text": [
      "          No  year  month  day  hour  PM2.5  PM10    SO2   NO2      CO    O3  \\\n",
      "25777  25778  2016      2    8     1  881.0  60.0  156.0  49.0  1100.0  20.0   \n",
      "\n",
      "       TEMP    PRES  DEWP  RAIN   wd  WSPM   station  \n",
      "25777  -1.5  1005.4 -16.1   0.0  NNE   1.3  Dingling  \n"
     ]
    }
   ],
   "source": [
    "# Mengambil baris data yang mengandung nilai maksimum pada kolom PM2.5\n",
    "max_pm25_row_dingling = Dingling_df_cleaned[Dingling_df_cleaned['PM2.5'] == Dingling_df_cleaned['PM2.5'].max()]\n",
    "print(max_pm25_row_dingling)"
   ]
  },
  {
   "cell_type": "code",
   "execution_count": 127,
   "metadata": {},
   "outputs": [
    {
     "name": "stdout",
     "output_type": "stream",
     "text": [
      "Jumlah baris yang dihapus pada Dingling_df_cleaned: 23\n"
     ]
    }
   ],
   "source": [
    "# Menentukan batas maksimum untuk PM2.5\n",
    "batas_maksimum_pm25 = 500\n",
    "\n",
    "# Menghitung jumlah baris yang akan dihapus\n",
    "jumlah_baris_hilang_dingling = Dingling_df_cleaned[Dingling_df_cleaned['PM2.5'] > batas_maksimum_pm25].shape[0]\n",
    "\n",
    "# Menampilkan informasi\n",
    "print(f\"Jumlah baris yang dihapus pada Dingling_df_cleaned: {jumlah_baris_hilang_dingling}\")"
   ]
  },
  {
   "cell_type": "code",
   "execution_count": 128,
   "metadata": {},
   "outputs": [
    {
     "name": "stdout",
     "output_type": "stream",
     "text": [
      "Jumlah baris tersisa setelah penghapusan pada Dingling_df_cleaned: 34890\n"
     ]
    }
   ],
   "source": [
    "# Menghapus baris yang memiliki nilai PM2.5 lebih dari batas maksimum\n",
    "Dingling_df_cleaned = Dingling_df_cleaned[Dingling_df_cleaned['PM2.5'] <= batas_maksimum_pm25]\n",
    "\n",
    "# Memeriksa jumlah baris dan kolom setelah proses pembersihan\n",
    "jumlah_baris_tersisa_dingling = Dingling_df_cleaned.shape[0]\n",
    "\n",
    "# Menampilkan informasi\n",
    "print(f\"Jumlah baris tersisa setelah penghapusan pada Dingling_df_cleaned: {jumlah_baris_tersisa_dingling}\")"
   ]
  },
  {
   "cell_type": "markdown",
   "metadata": {},
   "source": [
    "*temporary insight*\n",
    "\n",
    "Dilakukan penetapan batas maksimum untuk PM2.5, dengan nilai 500 seperti yang telah dilakukan pada dataset sebelumnya juga. Atas dasar karena dalam banyak studi, nilai PM2.5 yang lebih dari 500 bisa dianggap tidak wajar. kemudian menghitung jumlah baris data yang akan dihapus pada Dingling_df_cleaned. Dengan menggunakan kondisi untuk menghitung jumlah baris yang memiliki nilai PM2.5 lebih dari batas maksimum. Lalu menghapus baris dan memeriksa ukuran dataset saat ini. Dalam hal ini dapat dilihat, bahwa jumlah baris data yang dihapus atau memiliki nilai PM2.5 lebih dari 500 hanya terhitung 23 baris data. Dan setelah dilakukan dropping values, tersisa 34890 baris data pada Dingling_df_cleaned."
   ]
  },
  {
   "cell_type": "markdown",
   "metadata": {
    "jp-MarkdownHeadingCollapsed": true
   },
   "source": [
    "###### Inaccurate value pada Dingling_df_cleaned kolom PM10"
   ]
  },
  {
   "cell_type": "code",
   "execution_count": 129,
   "metadata": {},
   "outputs": [
    {
     "name": "stdout",
     "output_type": "stream",
     "text": [
      "          No  year  month  day  hour  PM2.5   PM10  SO2  NO2      CO    O3  \\\n",
      "17355  17356  2015      2   22     3  144.0  905.0  2.0  2.0  1800.0  81.0   \n",
      "\n",
      "       TEMP    PRES  DEWP  RAIN   wd  WSPM   station  \n",
      "17355  -5.0  1017.0 -25.7   0.0  WNW   7.0  Dingling  \n"
     ]
    }
   ],
   "source": [
    "# Mengambil baris data yang mengandung nilai maksimum pada kolom PM10\n",
    "max_pm10_row_dingling = Dingling_df_cleaned[Dingling_df_cleaned['PM10'] == Dingling_df_cleaned['PM10'].max()]\n",
    "print(max_pm10_row_dingling)"
   ]
  },
  {
   "cell_type": "code",
   "execution_count": 130,
   "metadata": {},
   "outputs": [
    {
     "name": "stdout",
     "output_type": "stream",
     "text": [
      "Jumlah baris yang akan dihapus dari PM10: 710\n"
     ]
    }
   ],
   "source": [
    "# Menentukan batas maksimum untuk PM10\n",
    "batas_maksimum_pm10 = 300.0 \n",
    "\n",
    "# Menghitung jumlah baris yang akan dihapus\n",
    "jumlah_baris_hilang_pm10_dingling = Dingling_df_cleaned[Dingling_df_cleaned['PM10'] > batas_maksimum_pm10].shape[0]\n",
    "print(f\"Jumlah baris yang akan dihapus dari PM10: {jumlah_baris_hilang_pm10_dingling}\")"
   ]
  },
  {
   "cell_type": "code",
   "execution_count": 131,
   "metadata": {},
   "outputs": [
    {
     "name": "stdout",
     "output_type": "stream",
     "text": [
      "Jumlah baris tersisa setelah penghapusan PM10: 34180\n"
     ]
    }
   ],
   "source": [
    "# Menghapus baris yang memiliki nilai PM10 lebih dari batas maksimum\n",
    "Dingling_df_cleaned = Dingling_df_cleaned[Dingling_df_cleaned['PM10'] <= batas_maksimum_pm10]\n",
    "\n",
    "# Memeriksa jumlah baris dan kolom setelah proses pembersihan\n",
    "jumlah_baris_tersisa_pm10_dingling = Dingling_df_cleaned.shape[0]\n",
    "\n",
    "print(f\"Jumlah baris tersisa setelah penghapusan PM10: {jumlah_baris_tersisa_pm10_dingling}\")"
   ]
  },
  {
   "cell_type": "markdown",
   "metadata": {},
   "source": [
    "*temporary value*\n",
    "\n",
    "Dilakukan juga pembersihan inaccurate value pada data Dingling_df_cleaned dengan melakukan dropping. atau menghapus (drop) data pada kolom PM10 yang melebihi ambang batas yang telah ditentukan. Yakni nilai yang ditentukan tidak wajar, denagn pemilihan batas maksimum 300.0 adalah berdasarkan pemahaman tentang kualitas udara dan standar yang umum digunakan. Nilai ini didasarkan pada standar kualitas udara, di mana nilai PM10 di atas 300.0 bisa dianggap sebagai tidak wajar dan mungkin menunjukkan kesalahan pengukuran atau data yang tidak konsisten. Karena berdasarkan analisah yang telah dilakuan, batas maksimum yang wajar untuk PM10 bisa disarankan antara 150.0 hingga 300.0 untuk kualitas udara yang baik, dan nilai di atas 300.0 bisa dianggap sebagai data tidak wajar dalam konteks tertentu. Setelah penghapusan, diberikan informasi yang jelas tentang berapa banyak data yang hilang dan berapa banyak data yang tersisa, memastikan bahwa analisis selanjutnya didasarkan pada data yang valid."
   ]
  },
  {
   "cell_type": "markdown",
   "metadata": {
    "jp-MarkdownHeadingCollapsed": true
   },
   "source": [
    "###### Inaccurate value pada Dingling_df_cleaned kolom CO"
   ]
  },
  {
   "cell_type": "code",
   "execution_count": 132,
   "metadata": {},
   "outputs": [
    {
     "name": "stdout",
     "output_type": "stream",
     "text": [
      "          No  year  month  day  hour  PM2.5  PM10  SO2   NO2     CO     O3  \\\n",
      "0          1  2013      3    1     0    4.0   4.0  3.0  19.0  200.0   82.0   \n",
      "1          2  2013      3    1     1    7.0   7.0  3.0  19.0  200.0   80.0   \n",
      "2          3  2013      3    1     2    5.0   5.0  3.0   2.0  200.0   79.0   \n",
      "3          4  2013      3    1     3    6.0   6.0  3.0  19.0  200.0   79.0   \n",
      "4          5  2013      3    1     4    5.0   5.0  3.0  19.0  200.0   81.0   \n",
      "...      ...   ...    ...  ...   ...    ...   ...  ...   ...    ...    ...   \n",
      "35059  35060  2017      2   28    19   11.0  11.0  2.0   2.0  200.0   99.0   \n",
      "35060  35061  2017      2   28    20   13.0  13.0  2.0   2.0  200.0  101.0   \n",
      "35061  35062  2017      2   28    21    9.0  14.0  2.0   2.0  200.0  102.0   \n",
      "35062  35063  2017      2   28    22   10.0  12.0  2.0   2.0  200.0   97.0   \n",
      "35063  35064  2017      2   28    23   13.0  16.0  4.0   9.0  500.0   74.0   \n",
      "\n",
      "       TEMP    PRES  DEWP  RAIN   wd  WSPM   station  \n",
      "0      -2.3  1020.8 -19.7   0.0    E   0.5  Dingling  \n",
      "1      -2.5  1021.3 -19.0   0.0  ENE   0.7  Dingling  \n",
      "2      -3.0  1021.3 -19.9   0.0  ENE   0.2  Dingling  \n",
      "3      -3.6  1021.8 -19.1   0.0  NNE   1.0  Dingling  \n",
      "4      -3.5  1022.3 -19.4   0.0    N   2.1  Dingling  \n",
      "...     ...     ...   ...   ...  ...   ...       ...  \n",
      "35059  11.7  1008.9 -13.3   0.0  NNE   1.3  Dingling  \n",
      "35060  10.9  1009.0 -14.0   0.0    N   2.1  Dingling  \n",
      "35061   9.5  1009.4 -13.0   0.0    N   1.5  Dingling  \n",
      "35062   7.8  1009.6 -12.6   0.0   NW   1.4  Dingling  \n",
      "35063   7.0  1009.4 -12.2   0.0    N   1.9  Dingling  \n",
      "\n",
      "[34180 rows x 18 columns]\n"
     ]
    }
   ],
   "source": [
    "# Identifikasi nilai CO yang tidak realistis (di atas 50 mg/m³ dan di bawah 0 mg/m³)\n",
    "unrealistic_co_dingling = Dingling_df_cleaned[(Dingling_df_cleaned['CO'] > 50) | (Dingling_df_cleaned['CO'] < 0)]\n",
    "print(unrealistic_co_dingling)"
   ]
  },
  {
   "cell_type": "code",
   "execution_count": 133,
   "metadata": {},
   "outputs": [
    {
     "data": {
      "text/plain": [
       "count    34180.000000\n",
       "mean        85.006829\n",
       "std         75.599982\n",
       "min         10.000000\n",
       "25%         30.000000\n",
       "50%         60.000000\n",
       "75%        110.000000\n",
       "max        730.000000\n",
       "Name: CO, dtype: float64"
      ]
     },
     "execution_count": 133,
     "metadata": {},
     "output_type": "execute_result"
    }
   ],
   "source": [
    "# Mengonversi nilai CO dari ratusan ke puluhan (mg/m³)\n",
    "Dingling_df_cleaned['CO'] = Dingling_df_cleaned['CO'] / 10\n",
    "\n",
    "# Memvalidasi hasil konversi\n",
    "Dingling_df_cleaned['CO'].describe()"
   ]
  },
  {
   "cell_type": "code",
   "execution_count": 134,
   "metadata": {},
   "outputs": [
    {
     "name": "stdout",
     "output_type": "stream",
     "text": [
      "          No  year  month  day  hour  PM2.5  PM10   SO2   NO2     CO    O3  \\\n",
      "26        27  2013      3    2     2    7.0   2.0  13.0  39.0   80.0  36.0   \n",
      "27        28  2013      3    2     3   28.0  47.0  21.0  71.0  120.0   6.0   \n",
      "28        29  2013      3    2     4   31.0  65.0  25.0  71.0  120.0   5.0   \n",
      "29        30  2013      3    2     5   39.0  55.0  22.0  70.0  120.0   2.0   \n",
      "30        31  2013      3    2     6   41.0  45.0  16.0  65.0  100.0   4.0   \n",
      "...      ...   ...    ...  ...   ...    ...   ...   ...   ...    ...   ...   \n",
      "35046  35047  2017      2   28     6   13.0  23.0  12.0  15.0   60.0  62.0   \n",
      "35047  35048  2017      2   28     7   18.0  30.0  13.0  30.0   70.0  37.0   \n",
      "35048  35049  2017      2   28     8   25.0  49.0  11.0  29.0   80.0  42.0   \n",
      "35049  35050  2017      2   28     9   37.0  37.0   9.0  23.0   60.0  59.0   \n",
      "35056  35057  2017      2   28    16   14.0  30.0   5.0   6.0   80.0  93.0   \n",
      "\n",
      "       TEMP    PRES  DEWP  RAIN   wd  WSPM   station  \n",
      "26     -1.7  1027.7 -17.4   0.0  SSW   1.5  Dingling  \n",
      "27     -2.5  1027.7 -17.4   0.0   SW   1.7  Dingling  \n",
      "28     -3.4  1027.5 -17.0   0.0   NW   0.8  Dingling  \n",
      "29     -3.5  1026.9 -16.8   0.0    N   0.5  Dingling  \n",
      "30     -3.5  1026.1 -15.8   0.0  NNE   0.9  Dingling  \n",
      "...     ...     ...   ...   ...  ...   ...       ...  \n",
      "35046   5.3  1011.5 -10.1   0.0   NW   1.1  Dingling  \n",
      "35047   4.0  1011.7 -10.1   0.0   NW   0.9  Dingling  \n",
      "35048   4.7  1012.1  -9.1   0.0   NW   1.2  Dingling  \n",
      "35049  10.0  1012.1 -10.2   0.0    E   1.2  Dingling  \n",
      "35056  15.4  1007.2 -12.9   0.0  WNW   4.4  Dingling  \n",
      "\n",
      "[19189 rows x 18 columns]\n"
     ]
    }
   ],
   "source": [
    "# Cek data CO yang masih tidak realistis (lebih dari 50 mg/m³ atau kurang dari 0 mg/m³).\n",
    "unrealistic_co_after_conversion_dingling = Dingling_df_cleaned[(Dingling_df_cleaned['CO'] > 50) | (Dingling_df_cleaned['CO'] < 0)]\n",
    "print(unrealistic_co_after_conversion_dingling)"
   ]
  },
  {
   "cell_type": "code",
   "execution_count": 135,
   "metadata": {},
   "outputs": [
    {
     "name": "stdout",
     "output_type": "stream",
     "text": [
      "                 No          year         month           day          hour  \\\n",
      "count  34180.000000  34180.000000  34180.000000  34180.000000  34180.000000   \n",
      "mean   17478.297659   2014.654535      6.545904     15.708631     11.480222   \n",
      "std    10132.182582      1.178883      3.426392      8.804038      6.919493   \n",
      "min        1.000000   2013.000000      1.000000      1.000000      0.000000   \n",
      "25%     8716.750000   2014.000000      4.000000      8.000000      5.000000   \n",
      "50%    17495.500000   2015.000000      7.000000     16.000000     11.000000   \n",
      "75%    26237.250000   2016.000000      9.000000     23.000000     17.000000   \n",
      "max    35064.000000   2017.000000     12.000000     31.000000     23.000000   \n",
      "\n",
      "              PM2.5          PM10           SO2           NO2            CO  \\\n",
      "count  34180.000000  34180.000000  34180.000000  34180.000000  34180.000000   \n",
      "mean      60.548212     76.784359     11.210890     26.178836     30.442949   \n",
      "std       61.331283     64.397990     14.782676     24.152589      8.314532   \n",
      "min        3.000000      2.000000      0.285600      1.026500     10.000000   \n",
      "25%       14.000000     26.000000      2.000000      9.000000     30.000000   \n",
      "50%       41.000000     60.000000      5.000000     19.000000     30.000000   \n",
      "75%       87.000000    111.000000     14.000000     35.000000     30.000000   \n",
      "max      368.000000    300.000000    150.000000    187.028300     50.000000   \n",
      "\n",
      "                 O3          TEMP          PRES          DEWP          RAIN  \\\n",
      "count  34180.000000  34180.000000  34180.000000  34180.000000  34180.000000   \n",
      "mean      68.832536     13.813007   1007.708612      1.554962      0.060995   \n",
      "std       52.853037     11.386267     10.267635     13.910969      0.756686   \n",
      "min        0.214200    -16.600000    982.400000    -35.100000      0.000000   \n",
      "25%       33.000000      3.600000    999.200000    -10.400000      0.000000   \n",
      "50%       61.000000     14.900000   1007.300000      2.000000      0.000000   \n",
      "75%       89.000000     23.400000   1016.000000     14.400000      0.000000   \n",
      "max      500.000000     41.400000   1036.500000     27.200000     52.100000   \n",
      "\n",
      "               WSPM  \n",
      "count  34180.000000  \n",
      "mean       1.859792  \n",
      "std        1.303290  \n",
      "min        0.000000  \n",
      "25%        1.000000  \n",
      "50%        1.500000  \n",
      "75%        2.300000  \n",
      "max        9.600000  \n"
     ]
    }
   ],
   "source": [
    "# Imputasi nilai CO yang masih tidak realistis dengan nilai median\n",
    "median_co_after_conversion_dingling = Dingling_df_cleaned[(Dingling_df_cleaned['CO'] >= 0) & (Dingling_df_cleaned['CO'] <= 50)]['CO'].median()\n",
    "Dingling_df_cleaned['CO'] = Dingling_df_cleaned['CO'].apply(lambda x: median_co_after_conversion_dingling if x > 50 or x < 0 else x)\n",
    "\n",
    "# Cek deskripsi dataset yang sudah dilakukan proses konversi dan imputasi\n",
    "print(Dingling_df_cleaned.describe())"
   ]
  },
  {
   "cell_type": "markdown",
   "metadata": {},
   "source": [
    "*temporary insight*\n",
    "\n",
    "Proses ini mengonversi nilai CO menjadi lebih realistis dengan membaginya dengan 10, sesuai asumsi bahwa alat pengukuran mungkin salah mendeteksi dalam kelipatan tersebut. Karena nilai CO yang realistis (nilai CO antara 0 hingga 50 mg/m³). Setelah konversi, dilakukan validasi lebih lanjut untuk memastikan bahwa semua nilai CO berada dalam rentang yang wajar. Jika ada nilai yang masih tidak realistis, digunakan metode imputasi dengan nilai median CO yang sudah bersih. Hal ini dilakukan karena kurangnya informasi dari dataset tesebut mengenai satuan ukur apa yang digunakan pada tiap-tiap kolomnya, sehingga dibuat asusmsi berdasarkan nilai satuan yang umum digunakan di publik, berdasarkan riset yang telah dilakukan. Dengan cara ini, dataset Dingling_df_cleaned sudah lebih akurat untuk analisis selanjutnya."
   ]
  },
  {
   "cell_type": "markdown",
   "metadata": {},
   "source": [
    "*temporary insight*\n",
    "\n",
    "1. Menangani Missing Values:\n",
    "\n",
    "   Kolom dengan missing values yang banyak seperti CO, PM2.5, NO2, SO2, O3, dan PM10 telah ditangani menggunakan metode imputasi median. Hal ini dilakukan agar tidak kehilangan terlalu banyak data penting, sambil tetap mengisi nilai yang realistis dan representatif.\n",
    "\n",
    "   Untuk kolom dengan jumlah missing values yang relatif sedikit seperti TEMP, PRES, DEWP, RAIN, wd, dan WSPM, dilakukan dropping values. Ini dipilih karena menghapus sedikit data tidak akan mempengaruhi keseluruhan dataset secara signifikan.\n",
    "\n",
    "\n",
    "2. Menangani Inaccurate Values:\n",
    "\n",
    "   Seperti yang telah dilakukan pada dataset sebelumnya-sebelumnya, kolom CO, PM2.5, dan PM10 pada Dingling_df_cleaned ini juga diperiksa untuk nilai yang tidak realistis.\n",
    "\n",
    "   Nilai-nilai yang dianggap tidak realistis di luar rentang normal pada masing-masing kolom telah diubah atau difilter sesuai dengan rentang realistis, seperti CO dengan nilai realistis di rentang 0–50 mg/m³. PM2.5 dan PM10 ditetapkan pada rentang realistis berdasarkan pedoman kualitas udara.\n",
    "\n",
    "\n",
    "\n",
    "Dengan semua missing values dan inaccurate values telah ditangani. Ini memastikan bahwa data siap digunakan untuk analisis lebih lanjut tanpa bias atau error yang berasal dari data yang hilang atau nilai yang tidak realistis. Dengan memilih metode imputasi untuk kolom dengan banyak missing values dan dropping untuk yang sedikit, diharapkan dapat mengoptimalkan jumlah data yang tetap relevan tanpa mengorbankan integritas dataset. Serta melakukan filter atau transformasi terhadap nilai yang tidak realistis pada kolom penting (seperti CO, PM2.5, dan PM10) memastikan hasil analisis yang lebih akurat dan representatif terhadap kondisi nyata."
   ]
  },
  {
   "cell_type": "markdown",
   "metadata": {
    "jp-MarkdownHeadingCollapsed": true
   },
   "source": [
    "#### Membersihkan Data Dongsi_df"
   ]
  },
  {
   "cell_type": "markdown",
   "metadata": {
    "jp-MarkdownHeadingCollapsed": true
   },
   "source": [
    "##### Menangani Missing Value pada Dongsi_df"
   ]
  },
  {
   "cell_type": "markdown",
   "metadata": {
    "jp-MarkdownHeadingCollapsed": true
   },
   "source": [
    "###### Missing value pada Dongsi_df kolom CO"
   ]
  },
  {
   "cell_type": "code",
   "execution_count": 136,
   "metadata": {},
   "outputs": [
    {
     "name": "stdout",
     "output_type": "stream",
     "text": [
      "No            0\n",
      "year          0\n",
      "month         0\n",
      "day           0\n",
      "hour          0\n",
      "PM2.5       779\n",
      "PM10        656\n",
      "SO2         730\n",
      "NO2        1234\n",
      "CO         2012\n",
      "O3         1214\n",
      "TEMP         53\n",
      "PRES         50\n",
      "DEWP         53\n",
      "RAIN         51\n",
      "wd          140\n",
      "WSPM         43\n",
      "station       0\n",
      "dtype: int64\n",
      "Persentase missing values di kolom CO Dongsi_df: 9.11761350673055%\n"
     ]
    }
   ],
   "source": [
    "# Mengecek jumlah missing values di setiap kolom\n",
    "missing_values_dongsi = Dongsi_df.isnull().sum()\n",
    "print(missing_values)\n",
    "\n",
    "# Mengecek persentase missing values di kolom CO\n",
    "co_missing_percentage_dongsi = Dongsi_df['CO'].isnull().mean() * 100\n",
    "print(f\"Persentase missing values di kolom CO Dongsi_df: {co_missing_percentage_dongsi}%\")"
   ]
  },
  {
   "cell_type": "code",
   "execution_count": 137,
   "metadata": {},
   "outputs": [
    {
     "name": "stdout",
     "output_type": "stream",
     "text": [
      "Median CO: 1000.0\n",
      "No            0\n",
      "year          0\n",
      "month         0\n",
      "day           0\n",
      "hour          0\n",
      "PM2.5       750\n",
      "PM10        553\n",
      "SO2         663\n",
      "NO2        1601\n",
      "CO            0\n",
      "O3          664\n",
      "TEMP         20\n",
      "PRES         20\n",
      "DEWP         20\n",
      "RAIN         20\n",
      "wd           78\n",
      "WSPM         14\n",
      "station       0\n",
      "dtype: int64\n"
     ]
    }
   ],
   "source": [
    "# Menggunakan nilai median dari kolom CO untuk mengisikan missing value colom CO\n",
    "co_median_dongsi = Dongsi_df['CO'].median()\n",
    "print(f\"Median CO: {co_median_dongsi}\")\n",
    "\n",
    "# Melakukan imputasi nilai median pada kolom CO yang mengandung missing value\n",
    "Dongsi_df_cleaned = Dongsi_df.copy()  \n",
    "Dongsi_df_cleaned['CO'] = Dongsi_df_cleaned['CO'].fillna(co_median_dongsi)\n",
    "\n",
    "# Cek apakah missing values saat ini pada data Dongsi_df_cleaned\n",
    "print(Dongsi_df_cleaned.isna().sum())"
   ]
  },
  {
   "cell_type": "markdown",
   "metadata": {},
   "source": [
    "*temporary insight*\n",
    "\n",
    "Dipilih kolom CO terlebih dahulu yang dilakukan penanganan missing values, karena kolom CO memiliki jumlah missing values paling banyak diantara kolom yang lainnya pada Dongsi_df, sehingga diharapkan meminimalisir penggunaan metode dropping values dalam cleaning data ini. Pertama, dilakukan identifikasi missing values pada kolom CO untuk mengetahui besaran masalah. Selanjutnya, memilih memutuskan menggunakan nilai median untuk mengisi missing values karena lebik cocok jika terdapat outlier. Kemudian menyimpan dataset yang telah diberikan pada variabel Dongsi_df_cleaned dan menampilkan jumlah missing values pada data tersebut saat ini. Dapat dilihat jumlah missing values paling banyak saat ini adalah pada kolom NO2 sehingga selanjutnya yakni menangani missing values pada kolom tersebut."
   ]
  },
  {
   "cell_type": "markdown",
   "metadata": {
    "jp-MarkdownHeadingCollapsed": true
   },
   "source": [
    "###### Missing value pada Dongsi_df_cleaned kolom NO2"
   ]
  },
  {
   "cell_type": "code",
   "execution_count": 138,
   "metadata": {},
   "outputs": [
    {
     "name": "stdout",
     "output_type": "stream",
     "text": [
      "Persentase missing values di kolom NO2: 3.5192790326260557%\n"
     ]
    }
   ],
   "source": [
    "# Mengecek persentase missing values di kolom NO2\n",
    "NO2_missing_percentage_dongsi = Dongsi_df_cleaned['NO2'].isnull().mean() * 100\n",
    "print(f\"Persentase missing values di kolom NO2: {NO2_missing_percentage_dingling}%\")"
   ]
  },
  {
   "cell_type": "code",
   "execution_count": 139,
   "metadata": {},
   "outputs": [
    {
     "name": "stdout",
     "output_type": "stream",
     "text": [
      "Median NO2: 47.0\n",
      "No           0\n",
      "year         0\n",
      "month        0\n",
      "day          0\n",
      "hour         0\n",
      "PM2.5      750\n",
      "PM10       553\n",
      "SO2        663\n",
      "NO2          0\n",
      "CO           0\n",
      "O3         664\n",
      "TEMP        20\n",
      "PRES        20\n",
      "DEWP        20\n",
      "RAIN        20\n",
      "wd          78\n",
      "WSPM        14\n",
      "station      0\n",
      "dtype: int64\n"
     ]
    }
   ],
   "source": [
    "# Menggunakan nilai median dari kolom NO2 untuk mengisikan missing value kolom NO2\n",
    "NO2_median_dongsi = Dongsi_df_cleaned['NO2'].median()\n",
    "print(f\"Median NO2: {NO2_median_dongsi}\")\n",
    "\n",
    "# Melakukan imputasi nilai median pada kolom NO2 yang mengandung missing value\n",
    "Dongsi_df_cleaned['NO2'] = Dongsi_df_cleaned['NO2'].fillna(NO2_median_dongsi)\n",
    "\n",
    "# Cek apakah missing values saat ini pada data Dongsi_df_cleaned\n",
    "print(Dongsi_df_cleaned.isna().sum())"
   ]
  },
  {
   "cell_type": "markdown",
   "metadata": {},
   "source": [
    "*temporary insight*\n",
    "\n",
    "Sama seperti penanganan missing values pada kolom CO. Dilakukan juga identifikasi missing values pada kolom NO2 ini untuk mengetahui besaran masalah. Selanjutnya, memilih memutuskan menggunakan nilai median untuk mengisi missing values karena lebik cocok jika terdapat outlier. Kemudian menyimpan dataset yang telah diberikan pada variabel Dongsi_df_cleaned dan menampilkan jumlah missing values pada data tersebut saat ini. Dapat dilihat jumlah missing values paling banyak saat ini adalah pada kolom PM2.5 sehingga selanjutnya yakni menangani missing values pada kolom tersebut."
   ]
  },
  {
   "cell_type": "markdown",
   "metadata": {
    "jp-MarkdownHeadingCollapsed": true
   },
   "source": [
    "###### Missing value pada Dongsi_df_cleaned kolom PM.25"
   ]
  },
  {
   "cell_type": "code",
   "execution_count": 140,
   "metadata": {},
   "outputs": [
    {
     "name": "stdout",
     "output_type": "stream",
     "text": [
      "Persentase missing values di kolom PM2.5: 2.138945927446954%\n"
     ]
    }
   ],
   "source": [
    "# Mengecek persentase missing values di kolom PM2.5\n",
    "PM25_missing_percentage_dongsi = Dongsi_df_cleaned['PM2.5'].isnull().mean() * 100\n",
    "print(f\"Persentase missing values di kolom PM2.5: {PM25_missing_percentage_dongsi}%\")"
   ]
  },
  {
   "cell_type": "code",
   "execution_count": 141,
   "metadata": {},
   "outputs": [
    {
     "name": "stdout",
     "output_type": "stream",
     "text": [
      "Median PM2.5: 61.0\n",
      "Missing value pada Dongsi_df_cleaned saat ini :\n",
      " No           0\n",
      "year         0\n",
      "month        0\n",
      "day          0\n",
      "hour         0\n",
      "PM2.5        0\n",
      "PM10       553\n",
      "SO2        663\n",
      "NO2          0\n",
      "CO           0\n",
      "O3         664\n",
      "TEMP        20\n",
      "PRES        20\n",
      "DEWP        20\n",
      "RAIN        20\n",
      "wd          78\n",
      "WSPM        14\n",
      "station      0\n",
      "dtype: int64\n"
     ]
    }
   ],
   "source": [
    "# Menggunakan nilai median dari kolom PM2.5 untuk mengisikan missing value kolom PM2.5\n",
    "PM25_median_dongsi = Dongsi_df_cleaned['PM2.5'].median()\n",
    "print(f\"Median PM2.5: {PM25_median_dongsi}\")\n",
    "\n",
    "# Melakukan imputasi nilai median pada kolom PM2.5 yang mengandung missing value\n",
    "Dongsi_df_cleaned['PM2.5'] = Dongsi_df_cleaned['PM2.5'].fillna(PM25_median_dongsi)\n",
    "\n",
    "# Cek apakah missing values saat ini pada data Dingling_df_cleaned\n",
    "print(\"Missing value pada Dongsi_df_cleaned saat ini :\\n\", Dongsi_df_cleaned.isna().sum())"
   ]
  },
  {
   "cell_type": "markdown",
   "metadata": {},
   "source": [
    "*temporary insight*\n",
    "\n",
    "Melakukan penanganan missing values pada kolom PM2.5 ini sama seperti kolom-kolom sebelumnya pada dataset Dongsi_df_cleaned ini. Dengan melakukan metode imputasi nilai median dari kolom PM2.5. Setelah dilakukan penanganan missing values pada kolom ini, didapatkan kolom selanjutnya yang masih memiliki jumlah missing values yang banyak yakni kolom O3. Sehingga selanjutnya yakni menangani missing values pada kolom tersebut."
   ]
  },
  {
   "cell_type": "markdown",
   "metadata": {
    "jp-MarkdownHeadingCollapsed": true
   },
   "source": [
    "###### Missing value pada Dongsi_df_cleaned kolom O3"
   ]
  },
  {
   "cell_type": "code",
   "execution_count": 142,
   "metadata": {},
   "outputs": [
    {
     "name": "stdout",
     "output_type": "stream",
     "text": [
      "Persentase missing values di kolom O3: 1.8936801277663702%\n"
     ]
    }
   ],
   "source": [
    "# Mengecek persentase missing values di kolom O3\n",
    "O3_missing_percentage_dongsi = Dongsi_df_cleaned['O3'].isnull().mean() * 100\n",
    "print(f\"Persentase missing values di kolom O3: {O3_missing_percentage_dongsi}%\")"
   ]
  },
  {
   "cell_type": "code",
   "execution_count": 143,
   "metadata": {},
   "outputs": [
    {
     "name": "stdout",
     "output_type": "stream",
     "text": [
      "Median O3: 44.1252\n",
      "Missing value pada Dongsi_df_cleaned saat ini :\n",
      " No           0\n",
      "year         0\n",
      "month        0\n",
      "day          0\n",
      "hour         0\n",
      "PM2.5        0\n",
      "PM10       553\n",
      "SO2        663\n",
      "NO2          0\n",
      "CO           0\n",
      "O3           0\n",
      "TEMP        20\n",
      "PRES        20\n",
      "DEWP        20\n",
      "RAIN        20\n",
      "wd          78\n",
      "WSPM        14\n",
      "station      0\n",
      "dtype: int64\n"
     ]
    }
   ],
   "source": [
    "# Menggunakan nilai median dari kolom O3 untuk mengisikan missing value kolom O3\n",
    "O3_median_dongsi = Dongsi_df_cleaned['O3'].median()\n",
    "print(f\"Median O3: {O3_median_dongsi}\")\n",
    "\n",
    "# Melakukan imputasi nilai median pada kolom O3 yang mengandung missing value\n",
    "Dongsi_df_cleaned['O3'] = Dongsi_df_cleaned['O3'].fillna(O3_median_dongsi)\n",
    "\n",
    "# Cek apakah missing values saat ini pada data Dongsi_df_cleaned\n",
    "print(\"Missing value pada Dongsi_df_cleaned saat ini :\\n\", Dongsi_df_cleaned.isna().sum())"
   ]
  },
  {
   "cell_type": "markdown",
   "metadata": {},
   "source": [
    "*temporary insight*\n",
    "\n",
    "Melakukan penanganan missing values pada kolom O3 ini sama seperti kolom-kolom sebelumnya pada dataset Dongsi_df_cleaned ini. Dengan melakukan metode imputasi nilai median dari kolom O3. Setelah dilakukan penanganan missing values pada kolom ini, didapatkan kolom selanjutnya yang masih memiliki jumlah missing values yang banyak yakni kolom SO2. Sehingga selanjutnya yakni menangani missing values pada kolom tersebut."
   ]
  },
  {
   "cell_type": "markdown",
   "metadata": {
    "jp-MarkdownHeadingCollapsed": true
   },
   "source": [
    "###### Missing value pada Dongsi_df_cleaned kolom SO2"
   ]
  },
  {
   "cell_type": "code",
   "execution_count": 144,
   "metadata": {},
   "outputs": [
    {
     "name": "stdout",
     "output_type": "stream",
     "text": [
      "Persentase missing values di kolom SO2: 1.8908281998631076%\n"
     ]
    }
   ],
   "source": [
    "# Mengecek persentase missing values di kolom SO2\n",
    "SO2_missing_percentage_dongsi = Dongsi_df_cleaned['SO2'].isnull().mean() * 100\n",
    "print(f\"Persentase missing values di kolom SO2: {SO2_missing_percentage_dongsi}%\")"
   ]
  },
  {
   "cell_type": "code",
   "execution_count": 145,
   "metadata": {},
   "outputs": [
    {
     "name": "stdout",
     "output_type": "stream",
     "text": [
      "Median SO2: 10.0\n",
      "Missing value pada Dongsi_df_cleaned saat ini :\n",
      " No           0\n",
      "year         0\n",
      "month        0\n",
      "day          0\n",
      "hour         0\n",
      "PM2.5        0\n",
      "PM10       553\n",
      "SO2          0\n",
      "NO2          0\n",
      "CO           0\n",
      "O3           0\n",
      "TEMP        20\n",
      "PRES        20\n",
      "DEWP        20\n",
      "RAIN        20\n",
      "wd          78\n",
      "WSPM        14\n",
      "station      0\n",
      "dtype: int64\n"
     ]
    }
   ],
   "source": [
    "# Menggunakan nilai median dari kolom SO2 untuk mengisikan missing value kolom SO2\n",
    "SO2_median_dongsi = Dongsi_df_cleaned['SO2'].median()\n",
    "print(f\"Median SO2: {SO2_median_dongsi}\")\n",
    "\n",
    "# Melakukan imputasi nilai median pada kolom SO2 yang mengandung missing value\n",
    "Dongsi_df_cleaned['SO2'] = Dongsi_df_cleaned['SO2'].fillna(SO2_median_dongsi)\n",
    "\n",
    "# Cek apakah missing values saat ini pada data Dongsi_df_cleaned\n",
    "print(\"Missing value pada Dongsi_df_cleaned saat ini :\\n\", Dongsi_df_cleaned.isna().sum())"
   ]
  },
  {
   "cell_type": "markdown",
   "metadata": {},
   "source": [
    "*temporary insight*\n",
    "\n",
    "Melakukan penanganan missing values pada kolom SO2 ini sama seperti kolom-kolom sebelumnya pada dataset Dingling_df_cleaned ini. Dengan melakukan metode imputasi nilai median dari kolom SO2. Setelah dilakukan penanganan missing values pada kolom ini, didapatkan kolom selanjutnya yang masih memiliki jumlah missing values yang banyak yakni kolom PM10. Sehingga selanjutnya yakni menangani missing values pada kolom tersebut."
   ]
  },
  {
   "cell_type": "markdown",
   "metadata": {
    "jp-MarkdownHeadingCollapsed": true
   },
   "source": [
    "###### Missing value pada Dongsi_df_cleaned kolom PM10"
   ]
  },
  {
   "cell_type": "code",
   "execution_count": 146,
   "metadata": {},
   "outputs": [
    {
     "name": "stdout",
     "output_type": "stream",
     "text": [
      "Persentase missing values di kolom PM10: 1.577116130504221%\n"
     ]
    }
   ],
   "source": [
    "# Mengecek persentase missing values di kolom PM10\n",
    "PM10_missing_percentage_dongsi = Dongsi_df_cleaned['PM10'].isnull().mean() * 100\n",
    "print(f\"Persentase missing values di kolom PM10: {PM10_missing_percentage_dongsi}%\")"
   ]
  },
  {
   "cell_type": "code",
   "execution_count": 147,
   "metadata": {},
   "outputs": [
    {
     "name": "stdout",
     "output_type": "stream",
     "text": [
      "Median PM10: 86.0\n",
      "Missing value pada Dongsi_df_cleaned saat ini :\n",
      " No          0\n",
      "year        0\n",
      "month       0\n",
      "day         0\n",
      "hour        0\n",
      "PM2.5       0\n",
      "PM10        0\n",
      "SO2         0\n",
      "NO2         0\n",
      "CO          0\n",
      "O3          0\n",
      "TEMP       20\n",
      "PRES       20\n",
      "DEWP       20\n",
      "RAIN       20\n",
      "wd         78\n",
      "WSPM       14\n",
      "station     0\n",
      "dtype: int64\n"
     ]
    }
   ],
   "source": [
    "# Menggunakan nilai median dari kolom PM10 untuk mengisikan missing value kolom PM10\n",
    "PM10_median_dongsi = Dongsi_df_cleaned['PM10'].median()\n",
    "print(f\"Median PM10: {PM10_median_dongsi}\")\n",
    "\n",
    "# Melakukan imputasi nilai median pada kolom PM10 yang mengandung missing value\n",
    "Dongsi_df_cleaned['PM10'] = Dongsi_df_cleaned['PM10'].fillna(PM10_median_dongsi)\n",
    "\n",
    "# Cek apakah missing values saat ini pada data Dongsi_df_cleaned\n",
    "print(\"Missing value pada Dongsi_df_cleaned saat ini :\\n\", Dongsi_df_cleaned.isna().sum())"
   ]
  },
  {
   "cell_type": "markdown",
   "metadata": {},
   "source": [
    "*temporary insight*\n",
    "\n",
    "Telah dilakukan penanganan missing values pada kolom PM10. Dengan melakukan metode imputasi nilai median pada setiap baris kolom tersebut yang terdapat missing values. Dari informasi yang telah ditampilkan saat ini hanya beberapa kolom saja yang memiliki missing values dengan jumlah yang tidak begitu banyak juga. Sehingga akan ditangani selanjutnya."
   ]
  },
  {
   "cell_type": "markdown",
   "metadata": {
    "jp-MarkdownHeadingCollapsed": true
   },
   "source": [
    "###### Missing values pada data Dongsi_df_cleaned kolom TEMP, PRES, DEWP, RAIN, wd, dan WSPM"
   ]
  },
  {
   "cell_type": "code",
   "execution_count": 148,
   "metadata": {},
   "outputs": [
    {
     "name": "stdout",
     "output_type": "stream",
     "text": [
      "Jumlah missing values saat ini:\n",
      "No          0\n",
      "year        0\n",
      "month       0\n",
      "day         0\n",
      "hour        0\n",
      "PM2.5       0\n",
      "PM10        0\n",
      "SO2         0\n",
      "NO2         0\n",
      "CO          0\n",
      "O3          0\n",
      "TEMP       20\n",
      "PRES       20\n",
      "DEWP       20\n",
      "RAIN       20\n",
      "wd         78\n",
      "WSPM       14\n",
      "station     0\n",
      "dtype: int64\n"
     ]
    }
   ],
   "source": [
    "# Menampilkan jumlah missing values saat ini pada data Dongsi_df_cleaned\n",
    "print(\"Jumlah missing values saat ini:\")\n",
    "print(Dongsi_df_cleaned.isna().sum())"
   ]
  },
  {
   "cell_type": "code",
   "execution_count": 150,
   "metadata": {},
   "outputs": [
    {
     "name": "stdout",
     "output_type": "stream",
     "text": [
      "Jumlah missing values sekarang:\n",
      "No         0\n",
      "year       0\n",
      "month      0\n",
      "day        0\n",
      "hour       0\n",
      "PM2.5      0\n",
      "PM10       0\n",
      "SO2        0\n",
      "NO2        0\n",
      "CO         0\n",
      "O3         0\n",
      "TEMP       0\n",
      "PRES       0\n",
      "DEWP       0\n",
      "RAIN       0\n",
      "wd         0\n",
      "WSPM       0\n",
      "station    0\n",
      "dtype: int64\n"
     ]
    }
   ],
   "source": [
    "# Menghapus baris yang memiliki missing values pada kolom TEMP, PRES, DEWP, RAIN, wd, dan WSPM\n",
    "Dongsi_df_cleaned.dropna(subset=['TEMP', 'PRES', 'DEWP', 'RAIN', 'wd', 'WSPM'], inplace=True)\n",
    "\n",
    "# Verifikasi penghapusan missing values\n",
    "print(\"Jumlah missing values sekarang:\")\n",
    "print(Dongsi_df_cleaned.isna().sum())"
   ]
  },
  {
   "cell_type": "markdown",
   "metadata": {},
   "source": [
    "*temporary insight*\n",
    "\n",
    "Dilakukan periksa ulang jumlah missing values setelah imputasi pada kolom yang tersisa. Kemudian melakukan dropping missing values dengan menggunakan metode `dropna()` untuk menghapus baris yang memiliki missing values pada kolom-kolom tersebut. Dan juga telah dilakukan verifikasi hasil dropping missing values sudah dihilangkan dengan memeriksa ulang dataset. Sehingga saat ini data Dongsi_df_cleaned sudah bersih dari missing values"
   ]
  },
  {
   "cell_type": "markdown",
   "metadata": {
    "jp-MarkdownHeadingCollapsed": true
   },
   "source": [
    "##### Menangani Inaccurate Value pada Dongsi_df_cleaned"
   ]
  },
  {
   "cell_type": "code",
   "execution_count": 152,
   "metadata": {},
   "outputs": [
    {
     "data": {
      "text/html": [
       "<div>\n",
       "<style scoped>\n",
       "    .dataframe tbody tr th:only-of-type {\n",
       "        vertical-align: middle;\n",
       "    }\n",
       "\n",
       "    .dataframe tbody tr th {\n",
       "        vertical-align: top;\n",
       "    }\n",
       "\n",
       "    .dataframe thead th {\n",
       "        text-align: right;\n",
       "    }\n",
       "</style>\n",
       "<table border=\"1\" class=\"dataframe\">\n",
       "  <thead>\n",
       "    <tr style=\"text-align: right;\">\n",
       "      <th></th>\n",
       "      <th>No</th>\n",
       "      <th>year</th>\n",
       "      <th>month</th>\n",
       "      <th>day</th>\n",
       "      <th>hour</th>\n",
       "      <th>PM2.5</th>\n",
       "      <th>PM10</th>\n",
       "      <th>SO2</th>\n",
       "      <th>NO2</th>\n",
       "      <th>CO</th>\n",
       "      <th>O3</th>\n",
       "      <th>TEMP</th>\n",
       "      <th>PRES</th>\n",
       "      <th>DEWP</th>\n",
       "      <th>RAIN</th>\n",
       "      <th>WSPM</th>\n",
       "    </tr>\n",
       "  </thead>\n",
       "  <tbody>\n",
       "    <tr>\n",
       "      <th>count</th>\n",
       "      <td>34980.000000</td>\n",
       "      <td>34980.000000</td>\n",
       "      <td>34980.000000</td>\n",
       "      <td>34980.000000</td>\n",
       "      <td>34980.000000</td>\n",
       "      <td>34980.000000</td>\n",
       "      <td>34980.000000</td>\n",
       "      <td>34980.000000</td>\n",
       "      <td>34980.000000</td>\n",
       "      <td>34980.000000</td>\n",
       "      <td>34980.000000</td>\n",
       "      <td>34980.000000</td>\n",
       "      <td>34980.000000</td>\n",
       "      <td>34980.000000</td>\n",
       "      <td>34980.000000</td>\n",
       "      <td>34980.000000</td>\n",
       "    </tr>\n",
       "    <tr>\n",
       "      <th>mean</th>\n",
       "      <td>17498.477015</td>\n",
       "      <td>2014.658519</td>\n",
       "      <td>6.525100</td>\n",
       "      <td>15.723613</td>\n",
       "      <td>11.501715</td>\n",
       "      <td>85.616898</td>\n",
       "      <td>109.903897</td>\n",
       "      <td>18.376890</td>\n",
       "      <td>53.344467</td>\n",
       "      <td>1299.119868</td>\n",
       "      <td>57.041053</td>\n",
       "      <td>13.687112</td>\n",
       "      <td>1012.537433</td>\n",
       "      <td>2.453548</td>\n",
       "      <td>0.064137</td>\n",
       "      <td>1.863310</td>\n",
       "    </tr>\n",
       "    <tr>\n",
       "      <th>std</th>\n",
       "      <td>10108.987731</td>\n",
       "      <td>1.175354</td>\n",
       "      <td>3.446217</td>\n",
       "      <td>8.801764</td>\n",
       "      <td>6.918894</td>\n",
       "      <td>85.723283</td>\n",
       "      <td>97.499453</td>\n",
       "      <td>22.732897</td>\n",
       "      <td>33.184544</td>\n",
       "      <td>1139.555963</td>\n",
       "      <td>57.532974</td>\n",
       "      <td>11.456090</td>\n",
       "      <td>10.266518</td>\n",
       "      <td>13.813296</td>\n",
       "      <td>0.786996</td>\n",
       "      <td>1.279225</td>\n",
       "    </tr>\n",
       "    <tr>\n",
       "      <th>min</th>\n",
       "      <td>1.000000</td>\n",
       "      <td>2013.000000</td>\n",
       "      <td>1.000000</td>\n",
       "      <td>1.000000</td>\n",
       "      <td>0.000000</td>\n",
       "      <td>3.000000</td>\n",
       "      <td>2.000000</td>\n",
       "      <td>0.285600</td>\n",
       "      <td>2.000000</td>\n",
       "      <td>100.000000</td>\n",
       "      <td>0.642600</td>\n",
       "      <td>-16.800000</td>\n",
       "      <td>987.100000</td>\n",
       "      <td>-35.300000</td>\n",
       "      <td>0.000000</td>\n",
       "      <td>0.000000</td>\n",
       "    </tr>\n",
       "    <tr>\n",
       "      <th>25%</th>\n",
       "      <td>8745.750000</td>\n",
       "      <td>2014.000000</td>\n",
       "      <td>4.000000</td>\n",
       "      <td>8.000000</td>\n",
       "      <td>6.000000</td>\n",
       "      <td>23.000000</td>\n",
       "      <td>38.000000</td>\n",
       "      <td>4.000000</td>\n",
       "      <td>28.000000</td>\n",
       "      <td>600.000000</td>\n",
       "      <td>13.000000</td>\n",
       "      <td>3.100000</td>\n",
       "      <td>1004.000000</td>\n",
       "      <td>-8.800000</td>\n",
       "      <td>0.000000</td>\n",
       "      <td>1.000000</td>\n",
       "    </tr>\n",
       "    <tr>\n",
       "      <th>50%</th>\n",
       "      <td>17492.500000</td>\n",
       "      <td>2015.000000</td>\n",
       "      <td>7.000000</td>\n",
       "      <td>16.000000</td>\n",
       "      <td>12.000000</td>\n",
       "      <td>61.000000</td>\n",
       "      <td>86.000000</td>\n",
       "      <td>10.000000</td>\n",
       "      <td>47.000000</td>\n",
       "      <td>1000.000000</td>\n",
       "      <td>44.125200</td>\n",
       "      <td>14.600000</td>\n",
       "      <td>1012.200000</td>\n",
       "      <td>3.100000</td>\n",
       "      <td>0.000000</td>\n",
       "      <td>1.500000</td>\n",
       "    </tr>\n",
       "    <tr>\n",
       "      <th>75%</th>\n",
       "      <td>26242.250000</td>\n",
       "      <td>2016.000000</td>\n",
       "      <td>10.000000</td>\n",
       "      <td>23.000000</td>\n",
       "      <td>17.000000</td>\n",
       "      <td>117.000000</td>\n",
       "      <td>150.000000</td>\n",
       "      <td>24.000000</td>\n",
       "      <td>72.000000</td>\n",
       "      <td>1600.000000</td>\n",
       "      <td>80.000000</td>\n",
       "      <td>23.500000</td>\n",
       "      <td>1020.900000</td>\n",
       "      <td>15.000000</td>\n",
       "      <td>0.000000</td>\n",
       "      <td>2.400000</td>\n",
       "    </tr>\n",
       "    <tr>\n",
       "      <th>max</th>\n",
       "      <td>35064.000000</td>\n",
       "      <td>2017.000000</td>\n",
       "      <td>12.000000</td>\n",
       "      <td>31.000000</td>\n",
       "      <td>23.000000</td>\n",
       "      <td>737.000000</td>\n",
       "      <td>955.000000</td>\n",
       "      <td>300.000000</td>\n",
       "      <td>258.000000</td>\n",
       "      <td>10000.000000</td>\n",
       "      <td>1071.000000</td>\n",
       "      <td>41.100000</td>\n",
       "      <td>1042.000000</td>\n",
       "      <td>28.800000</td>\n",
       "      <td>46.400000</td>\n",
       "      <td>10.500000</td>\n",
       "    </tr>\n",
       "  </tbody>\n",
       "</table>\n",
       "</div>"
      ],
      "text/plain": [
       "                 No          year         month           day          hour  \\\n",
       "count  34980.000000  34980.000000  34980.000000  34980.000000  34980.000000   \n",
       "mean   17498.477015   2014.658519      6.525100     15.723613     11.501715   \n",
       "std    10108.987731      1.175354      3.446217      8.801764      6.918894   \n",
       "min        1.000000   2013.000000      1.000000      1.000000      0.000000   \n",
       "25%     8745.750000   2014.000000      4.000000      8.000000      6.000000   \n",
       "50%    17492.500000   2015.000000      7.000000     16.000000     12.000000   \n",
       "75%    26242.250000   2016.000000     10.000000     23.000000     17.000000   \n",
       "max    35064.000000   2017.000000     12.000000     31.000000     23.000000   \n",
       "\n",
       "              PM2.5          PM10           SO2           NO2            CO  \\\n",
       "count  34980.000000  34980.000000  34980.000000  34980.000000  34980.000000   \n",
       "mean      85.616898    109.903897     18.376890     53.344467   1299.119868   \n",
       "std       85.723283     97.499453     22.732897     33.184544   1139.555963   \n",
       "min        3.000000      2.000000      0.285600      2.000000    100.000000   \n",
       "25%       23.000000     38.000000      4.000000     28.000000    600.000000   \n",
       "50%       61.000000     86.000000     10.000000     47.000000   1000.000000   \n",
       "75%      117.000000    150.000000     24.000000     72.000000   1600.000000   \n",
       "max      737.000000    955.000000    300.000000    258.000000  10000.000000   \n",
       "\n",
       "                 O3          TEMP          PRES          DEWP          RAIN  \\\n",
       "count  34980.000000  34980.000000  34980.000000  34980.000000  34980.000000   \n",
       "mean      57.041053     13.687112   1012.537433      2.453548      0.064137   \n",
       "std       57.532974     11.456090     10.266518     13.813296      0.786996   \n",
       "min        0.642600    -16.800000    987.100000    -35.300000      0.000000   \n",
       "25%       13.000000      3.100000   1004.000000     -8.800000      0.000000   \n",
       "50%       44.125200     14.600000   1012.200000      3.100000      0.000000   \n",
       "75%       80.000000     23.500000   1020.900000     15.000000      0.000000   \n",
       "max     1071.000000     41.100000   1042.000000     28.800000     46.400000   \n",
       "\n",
       "               WSPM  \n",
       "count  34980.000000  \n",
       "mean       1.863310  \n",
       "std        1.279225  \n",
       "min        0.000000  \n",
       "25%        1.000000  \n",
       "50%        1.500000  \n",
       "75%        2.400000  \n",
       "max       10.500000  "
      ]
     },
     "execution_count": 152,
     "metadata": {},
     "output_type": "execute_result"
    }
   ],
   "source": [
    "Dongsi_df_cleaned.describe()"
   ]
  },
  {
   "cell_type": "markdown",
   "metadata": {
    "jp-MarkdownHeadingCollapsed": true
   },
   "source": [
    "###### Inaccurate value data Dongsi_df_cleaned kolom PM2.5"
   ]
  },
  {
   "cell_type": "code",
   "execution_count": 153,
   "metadata": {},
   "outputs": [
    {
     "name": "stdout",
     "output_type": "stream",
     "text": [
      "        No  year  month  day  hour  PM2.5   PM10    SO2   NO2      CO    O3  \\\n",
      "8423  8424  2014      2   14    23  737.0  734.0  200.0  47.0  4800.0  59.0   \n",
      "\n",
      "      TEMP    PRES  DEWP  RAIN  wd  WSPM station  \n",
      "8423  -4.5  1020.5  -6.8   0.0  NE   0.8  Dongsi  \n"
     ]
    }
   ],
   "source": [
    "# Mengambil baris data yang mengandung nilai maksimum pada kolom PM2.5\n",
    "max_pm25_row_dongsi = Dongsi_df_cleaned[Dongsi_df_cleaned['PM2.5'] == Dongsi_df_cleaned['PM2.5'].max()]\n",
    "print(max_pm25_row_dongsi)"
   ]
  },
  {
   "cell_type": "code",
   "execution_count": 154,
   "metadata": {},
   "outputs": [
    {
     "name": "stdout",
     "output_type": "stream",
     "text": [
      "Jumlah baris yang dihapus pada Dongsi_df_cleaned: 112\n"
     ]
    }
   ],
   "source": [
    "# Menentukan batas maksimum untuk PM2.5\n",
    "batas_maksimum_pm25 = 500\n",
    "\n",
    "# Menghitung jumlah baris yang akan dihapus\n",
    "jumlah_baris_hilang_dongsi = Dongsi_df_cleaned[Dongsi_df_cleaned['PM2.5'] > batas_maksimum_pm25].shape[0]\n",
    "\n",
    "# Menampilkan informasi\n",
    "print(f\"Jumlah baris yang dihapus pada Dongsi_df_cleaned: {jumlah_baris_hilang_dongsi}\")"
   ]
  },
  {
   "cell_type": "code",
   "execution_count": 155,
   "metadata": {},
   "outputs": [
    {
     "name": "stdout",
     "output_type": "stream",
     "text": [
      "Jumlah baris tersisa setelah penghapusan pada Dongsi_df_cleaned: 34868\n"
     ]
    }
   ],
   "source": [
    "# Menghapus baris yang memiliki nilai PM2.5 lebih dari batas maksimum\n",
    "Dongsi_df_cleaned = Dongsi_df_cleaned[Dongsi_df_cleaned['PM2.5'] <= batas_maksimum_pm25]\n",
    "\n",
    "# Memeriksa jumlah baris dan kolom setelah proses pembersihan\n",
    "jumlah_baris_tersisa_dongsi = Dongsi_df_cleaned.shape[0]\n",
    "\n",
    "# Menampilkan informasi\n",
    "print(f\"Jumlah baris tersisa setelah penghapusan pada Dongsi_df_cleaned: {jumlah_baris_tersisa_dongsi}\")"
   ]
  },
  {
   "cell_type": "markdown",
   "metadata": {},
   "source": [
    "*temporary insight*\n",
    "\n",
    "Dilakukan penetapan batas maksimum untuk PM2.5, dengan nilai 500 seperti yang telah dilakukan pada dataset sebelumnya juga. Atas dasar karena dalam banyak studi, nilai PM2.5 yang lebih dari 500 bisa dianggap tidak wajar. kemudian menghitung jumlah baris data yang akan dihapus pada Dongsi_df_cleaned. Dengan menggunakan kondisi untuk menghitung jumlah baris yang memiliki nilai PM2.5 lebih dari batas maksimum. Lalu menghapus baris dan memeriksa ukuran dataset saat ini. Dalam hal ini dapat dilihat, bahwa jumlah baris data yang dihapus atau memiliki nilai PM2.5 lebih dari 500 terhitung sebanyak 112 baris data. Dan setelah dilakukan dropping values, tersisa 34868 baris data pada Dongsi_df_cleaned."
   ]
  },
  {
   "cell_type": "markdown",
   "metadata": {
    "jp-MarkdownHeadingCollapsed": true
   },
   "source": [
    "###### Inaccurate value pada Dongsi_df_cleaned kolom PM10"
   ]
  },
  {
   "cell_type": "code",
   "execution_count": 156,
   "metadata": {},
   "outputs": [
    {
     "name": "stdout",
     "output_type": "stream",
     "text": [
      "          No  year  month  day  hour  PM2.5   PM10  SO2   NO2     CO    O3  \\\n",
      "26973  26974  2016      3   28    21   60.0  891.0  2.0  14.0  200.0  79.0   \n",
      "\n",
      "       TEMP    PRES  DEWP  RAIN  wd  WSPM station  \n",
      "26973  19.0  1008.5  -5.2   0.0  NW   4.3  Dongsi  \n"
     ]
    }
   ],
   "source": [
    "# Mengambil baris data yang mengandung nilai maksimum pada kolom PM10\n",
    "max_pm10_row_dongsi = Dongsi_df_cleaned[Dongsi_df_cleaned['PM10'] == Dongsi_df_cleaned['PM10'].max()]\n",
    "print(max_pm10_row_dongsi)"
   ]
  },
  {
   "cell_type": "code",
   "execution_count": 157,
   "metadata": {},
   "outputs": [
    {
     "name": "stdout",
     "output_type": "stream",
     "text": [
      "Jumlah baris yang akan dihapus dari PM10: 1530\n"
     ]
    }
   ],
   "source": [
    "# Menentukan batas maksimum untuk PM10\n",
    "batas_maksimum_pm10 = 300.0 \n",
    "\n",
    "# Menghitung jumlah baris yang akan dihapus\n",
    "jumlah_baris_hilang_pm10_dongsi = Dongsi_df_cleaned[Dongsi_df_cleaned['PM10'] > batas_maksimum_pm10].shape[0]\n",
    "print(f\"Jumlah baris yang akan dihapus dari PM10: {jumlah_baris_hilang_pm10_dongsi}\")"
   ]
  },
  {
   "cell_type": "code",
   "execution_count": 158,
   "metadata": {},
   "outputs": [
    {
     "name": "stdout",
     "output_type": "stream",
     "text": [
      "Jumlah baris tersisa setelah penghapusan PM10: 33338\n"
     ]
    }
   ],
   "source": [
    "# Menghapus baris yang memiliki nilai PM10 lebih dari batas maksimum\n",
    "Dongsi_df_cleaned = Dongsi_df_cleaned[Dongsi_df_cleaned['PM10'] <= batas_maksimum_pm10]\n",
    "\n",
    "# Memeriksa jumlah baris dan kolom setelah proses pembersihan\n",
    "jumlah_baris_tersisa_pm10_dongsi = Dongsi_df_cleaned.shape[0]\n",
    "\n",
    "print(f\"Jumlah baris tersisa setelah penghapusan PM10: {jumlah_baris_tersisa_pm10_dongsi}\")"
   ]
  },
  {
   "cell_type": "markdown",
   "metadata": {},
   "source": [
    "*temporary value*\n",
    "\n",
    "Dilakukan juga pembersihan inaccurate value pada data Dongsi_df_cleaned dengan melakukan dropping. atau menghapus (drop) data pada kolom PM10 yang melebihi ambang batas yang telah ditentukan. Yakni nilai yang ditentukan tidak wajar, denagn pemilihan batas maksimum 300.0 adalah berdasarkan pemahaman tentang kualitas udara dan standar yang umum digunakan. Nilai ini didasarkan pada standar kualitas udara, di mana nilai PM10 di atas 300.0 bisa dianggap sebagai tidak wajar dan mungkin menunjukkan kesalahan pengukuran atau data yang tidak konsisten. Karena berdasarkan analisah yang telah dilakuan, batas maksimum yang wajar untuk PM10 bisa disarankan antara 150.0 hingga 300.0 untuk kualitas udara yang baik, dan nilai di atas 300.0 bisa dianggap sebagai data tidak wajar dalam konteks tertentu. Setelah penghapusan, diberikan informasi yang jelas tentang berapa banyak data yang hilang dan berapa banyak data yang tersisa, memastikan bahwa analisis selanjutnya didasarkan pada data yang valid."
   ]
  },
  {
   "cell_type": "markdown",
   "metadata": {
    "jp-MarkdownHeadingCollapsed": true
   },
   "source": [
    "###### Inaccurate value pada Dongsi_df_cleaned kolom CO"
   ]
  },
  {
   "cell_type": "code",
   "execution_count": 159,
   "metadata": {},
   "outputs": [
    {
     "name": "stdout",
     "output_type": "stream",
     "text": [
      "          No  year  month  day  hour  PM2.5  PM10   SO2   NO2      CO  \\\n",
      "0          1  2013      3    1     0    9.0   9.0   3.0  17.0   300.0   \n",
      "1          2  2013      3    1     1    4.0   4.0   3.0  16.0   300.0   \n",
      "2          3  2013      3    1     2    7.0   7.0  10.0  17.0   300.0   \n",
      "3          4  2013      3    1     3    3.0   3.0   5.0  18.0  1000.0   \n",
      "4          5  2013      3    1     4    3.0   3.0   7.0  47.0   200.0   \n",
      "...      ...   ...    ...  ...   ...    ...   ...   ...   ...     ...   \n",
      "35059  35060  2017      2   28    19   16.0  51.0   3.0  29.0   400.0   \n",
      "35060  35061  2017      2   28    20   18.0  45.0   3.0  43.0   500.0   \n",
      "35061  35062  2017      2   28    21   23.0  58.0   5.0  61.0   700.0   \n",
      "35062  35063  2017      2   28    22   23.0  53.0   9.0  75.0   900.0   \n",
      "35063  35064  2017      2   28    23   30.0  71.0  11.0  87.0  1200.0   \n",
      "\n",
      "            O3  TEMP    PRES  DEWP  RAIN   wd  WSPM station  \n",
      "0      89.0000  -0.5  1024.5 -21.4   0.0  NNW   5.7  Dongsi  \n",
      "1      88.0000  -0.7  1025.1 -22.1   0.0   NW   3.9  Dongsi  \n",
      "2      60.0000  -1.2  1025.3 -24.6   0.0  NNW   5.3  Dongsi  \n",
      "3      44.1252  -1.4  1026.2 -25.5   0.0    N   4.9  Dongsi  \n",
      "4      84.0000  -1.9  1027.1 -24.5   0.0  NNW   3.2  Dongsi  \n",
      "...        ...   ...     ...   ...   ...  ...   ...     ...  \n",
      "35059  73.0000  12.5  1013.5 -16.2   0.0   NW   2.4  Dongsi  \n",
      "35060  54.0000  11.6  1013.6 -15.1   0.0  WNW   0.9  Dongsi  \n",
      "35061  28.0000  10.8  1014.2 -13.3   0.0   NW   1.1  Dongsi  \n",
      "35062  15.0000  10.5  1014.4 -12.9   0.0  NNW   1.2  Dongsi  \n",
      "35063   4.0000   8.6  1014.1 -15.9   0.0  NNE   1.3  Dongsi  \n",
      "\n",
      "[33338 rows x 18 columns]\n"
     ]
    }
   ],
   "source": [
    "# Identifikasi nilai CO yang tidak realistis (di atas 50 mg/m³ dan di bawah 0 mg/m³)\n",
    "unrealistic_co_dongsi = Dongsi_df_cleaned[(Dongsi_df_cleaned['CO'] > 50) | (Dongsi_df_cleaned['CO'] < 0)]\n",
    "print(unrealistic_co_dongsi)"
   ]
  },
  {
   "cell_type": "code",
   "execution_count": 160,
   "metadata": {},
   "outputs": [
    {
     "data": {
      "text/plain": [
       "count    33338.000000\n",
       "mean       117.467254\n",
       "std         88.722977\n",
       "min         10.000000\n",
       "25%         60.000000\n",
       "50%        100.000000\n",
       "75%        140.000000\n",
       "max       1000.000000\n",
       "Name: CO, dtype: float64"
      ]
     },
     "execution_count": 160,
     "metadata": {},
     "output_type": "execute_result"
    }
   ],
   "source": [
    "# Mengonversi nilai CO dari ratusan ke puluhan (mg/m³)\n",
    "Dongsi_df_cleaned['CO'] = Dongsi_df_cleaned['CO'] / 10\n",
    "\n",
    "# Memvalidasi hasil konversi\n",
    "Dongsi_df_cleaned['CO'].describe()"
   ]
  },
  {
   "cell_type": "code",
   "execution_count": 161,
   "metadata": {},
   "outputs": [
    {
     "name": "stdout",
     "output_type": "stream",
     "text": [
      "          No  year  month  day  hour  PM2.5  PM10   SO2   NO2     CO       O3  \\\n",
      "3          4  2013      3    1     3    3.0   3.0   5.0  18.0  100.0  44.1252   \n",
      "19        20  2013      3    1    19   13.0  17.0  12.0  42.0   60.0  63.0000   \n",
      "21        22  2013      3    1    21   15.0  17.0  13.0  51.0   60.0  48.0000   \n",
      "22        23  2013      3    1    22   19.0  21.0  17.0  60.0   70.0  36.0000   \n",
      "23        24  2013      3    1    23    8.0  14.0  16.0  58.0   60.0  39.0000   \n",
      "...      ...   ...    ...  ...   ...    ...   ...   ...   ...    ...      ...   \n",
      "35047  35048  2017      2   28     7   10.0  30.0  11.0  36.0   60.0  47.0000   \n",
      "35048  35049  2017      2   28     8   13.0  39.0  13.0  46.0   60.0  40.0000   \n",
      "35061  35062  2017      2   28    21   23.0  58.0   5.0  61.0   70.0  28.0000   \n",
      "35062  35063  2017      2   28    22   23.0  53.0   9.0  75.0   90.0  15.0000   \n",
      "35063  35064  2017      2   28    23   30.0  71.0  11.0  87.0  120.0   4.0000   \n",
      "\n",
      "       TEMP    PRES  DEWP  RAIN   wd  WSPM station  \n",
      "3      -1.4  1026.2 -25.5   0.0    N   4.9  Dongsi  \n",
      "19      3.0  1030.1 -19.7   0.0    N   1.1  Dongsi  \n",
      "21      0.8  1032.4 -19.7   0.0   NE   1.0  Dongsi  \n",
      "22      0.1  1032.9 -19.2   0.0  ENE   1.8  Dongsi  \n",
      "23     -0.5  1032.8 -19.7   0.0   NE   2.1  Dongsi  \n",
      "...     ...     ...   ...   ...  ...   ...     ...  \n",
      "35047   8.4  1016.2 -12.1   0.0   NW   2.3  Dongsi  \n",
      "35048   9.2  1016.6 -11.5   0.0   NW   1.3  Dongsi  \n",
      "35061  10.8  1014.2 -13.3   0.0   NW   1.1  Dongsi  \n",
      "35062  10.5  1014.4 -12.9   0.0  NNW   1.2  Dongsi  \n",
      "35063   8.6  1014.1 -15.9   0.0  NNE   1.3  Dongsi  \n",
      "\n",
      "[25669 rows x 18 columns]\n"
     ]
    }
   ],
   "source": [
    "# Cek data CO yang masih tidak realistis (lebih dari 50 mg/m³ atau kurang dari 0 mg/m³).\n",
    "unrealistic_co_after_conversion_dongsi = Dongsi_df_cleaned[(Dongsi_df_cleaned['CO'] > 50) | (Dongsi_df_cleaned['CO'] < 0)]\n",
    "print(unrealistic_co_after_conversion_dongsi)"
   ]
  },
  {
   "cell_type": "code",
   "execution_count": 162,
   "metadata": {},
   "outputs": [
    {
     "name": "stdout",
     "output_type": "stream",
     "text": [
      "                 No          year         month           day          hour  \\\n",
      "count  33338.000000  33338.000000  33338.000000  33338.000000  33338.000000   \n",
      "mean   17392.141430   2014.648119      6.505639     15.692843     11.469944   \n",
      "std    10100.731548      1.175985      3.388961      8.790661      6.875097   \n",
      "min        1.000000   2013.000000      1.000000      1.000000      0.000000   \n",
      "25%     8600.250000   2014.000000      4.000000      8.000000      6.000000   \n",
      "50%    17442.500000   2015.000000      7.000000     16.000000     11.000000   \n",
      "75%    26171.750000   2016.000000      9.000000     23.000000     17.000000   \n",
      "max    35064.000000   2017.000000     12.000000     31.000000     23.000000   \n",
      "\n",
      "              PM2.5          PM10           SO2           NO2            CO  \\\n",
      "count  33338.000000  33338.000000  33338.000000  33338.000000  33338.000000   \n",
      "mean      74.315361     95.418186     17.046844     50.491152     39.067431   \n",
      "std       64.630467     70.322637     20.729969     29.609303      5.545792   \n",
      "min        3.000000      2.000000      0.285600      2.000000     10.000000   \n",
      "25%       22.000000     37.000000      3.000000     28.000000     40.000000   \n",
      "50%       59.000000     83.000000     10.000000     47.000000     40.000000   \n",
      "75%      107.000000    138.000000     22.000000     68.000000     40.000000   \n",
      "max      370.000000    300.000000    300.000000    221.000000     50.000000   \n",
      "\n",
      "                 O3          TEMP          PRES          DEWP          RAIN  \\\n",
      "count  33338.000000  33338.000000  33338.000000  33338.000000  33338.000000   \n",
      "mean      58.506475     14.075864   1012.398472      2.611170      0.067164   \n",
      "std       57.639819     11.426428     10.367612     14.000413      0.805954   \n",
      "min        0.642600    -16.800000    987.100000    -35.300000      0.000000   \n",
      "25%       15.000000      3.800000   1003.700000     -9.100000      0.000000   \n",
      "50%       45.000000     15.300000   1012.000000      3.700000      0.000000   \n",
      "75%       82.000000     23.800000   1020.900000     15.400000      0.000000   \n",
      "max     1071.000000     41.100000   1042.000000     28.800000     46.400000   \n",
      "\n",
      "               WSPM  \n",
      "count  33338.000000  \n",
      "mean       1.884996  \n",
      "std        1.272987  \n",
      "min        0.000000  \n",
      "25%        1.000000  \n",
      "50%        1.500000  \n",
      "75%        2.400000  \n",
      "max       10.500000  \n"
     ]
    }
   ],
   "source": [
    "# Imputasi nilai CO yang masih tidak realistis dengan nilai median\n",
    "median_co_after_conversion_dongsi = Dongsi_df_cleaned[(Dongsi_df_cleaned['CO'] >= 0) & (Dongsi_df_cleaned['CO'] <= 50)]['CO'].median()\n",
    "Dongsi_df_cleaned['CO'] = Dongsi_df_cleaned['CO'].apply(lambda x: median_co_after_conversion_dongsi if x > 50 or x < 0 else x)\n",
    "\n",
    "# Cek deskripsi dataset yang sudah dilakukan proses konversi dan imputasi\n",
    "print(Dongsi_df_cleaned.describe())"
   ]
  },
  {
   "cell_type": "markdown",
   "metadata": {},
   "source": [
    "*temporary insight*\n",
    "\n",
    "Proses ini mengonversi nilai CO menjadi lebih realistis dengan membaginya dengan 10, sesuai asumsi bahwa alat pengukuran mungkin salah mendeteksi dalam kelipatan tersebut. Karena nilai CO yang realistis (nilai CO antara 0 hingga 50 mg/m³). Setelah konversi, dilakukan validasi lebih lanjut untuk memastikan bahwa semua nilai CO berada dalam rentang yang wajar. Jika ada nilai yang masih tidak realistis, digunakan metode imputasi dengan nilai median CO yang sudah bersih. Hal ini dilakukan karena kurangnya informasi dari dataset tesebut mengenai satuan ukur apa yang digunakan pada tiap-tiap kolomnya, sehingga dibuat asusmsi berdasarkan nilai satuan yang umum digunakan di publik, berdasarkan riset yang telah dilakukan. Dengan cara ini, dataset Dongsi_df_cleaned sudah lebih akurat untuk analisis selanjutnya."
   ]
  },
  {
   "cell_type": "markdown",
   "metadata": {},
   "source": [
    "*temporary insight*\n",
    "\n",
    "1. Menangani Missing Values:\n",
    "\n",
    "   Kolom dengan missing values yang banyak seperti CO, PM2.5, NO2, SO2, O3, dan PM10 telah ditangani menggunakan metode imputasi median. Hal ini dilakukan agar tidak kehilangan terlalu banyak data penting, sambil tetap mengisi nilai yang realistis dan representatif.\n",
    "\n",
    "   Untuk kolom dengan jumlah missing values yang relatif sedikit seperti TEMP, PRES, DEWP, RAIN, wd, dan WSPM, dilakukan dropping values. Ini dipilih karena menghapus sedikit data tidak akan mempengaruhi keseluruhan dataset secara signifikan.\n",
    "\n",
    "\n",
    "\n",
    "2. Menangani Inaccurate Values:\n",
    "\n",
    "   Seperti yang telah dilakukan pada dataset sebelumnya-sebelumnya, kolom CO, PM2.5, dan PM10 pada Dongsi_df_cleaned ini juga diperiksa untuk nilai yang tidak realistis.\n",
    "\n",
    "   Nilai-nilai yang dianggap tidak realistis di luar rentang normal pada masing-masing kolom telah diubah atau difilter sesuai dengan rentang realistis, seperti CO dengan nilai realistis di rentang 0–50 mg/m³. PM2.5 dan PM10 ditetapkan pada rentang realistis berdasarkan pedoman kualitas udara.\n",
    "\n",
    "\n",
    "\n",
    "Dengan semua missing values dan inaccurate values telah ditangani. Ini memastikan bahwa data siap digunakan untuk analisis lebih lanjut tanpa bias atau error yang berasal dari data yang hilang atau nilai yang tidak realistis. Dengan memilih metode imputasi untuk kolom dengan banyak missing values dan dropping untuk yang sedikit, diharapkan dapat mengoptimalkan jumlah data yang tetap relevan tanpa mengorbankan integritas dataset. Serta melakukan filter atau transformasi terhadap nilai yang tidak realistis pada kolom penting (seperti CO, PM2.5, dan PM10) memastikan hasil analisis yang lebih akurat dan representatif terhadap kondisi nyata."
   ]
  },
  {
   "cell_type": "markdown",
   "metadata": {
    "jp-MarkdownHeadingCollapsed": true
   },
   "source": [
    "#### Membersihakan Data Guanyuan_df"
   ]
  },
  {
   "cell_type": "markdown",
   "metadata": {
    "jp-MarkdownHeadingCollapsed": true
   },
   "source": [
    "##### Menangani Missing value pada Guanyuan_df"
   ]
  },
  {
   "cell_type": "markdown",
   "metadata": {
    "jp-MarkdownHeadingCollapsed": true
   },
   "source": [
    "###### Missing value pada Guanyuan_df kolom CO"
   ]
  },
  {
   "cell_type": "code",
   "execution_count": 163,
   "metadata": {},
   "outputs": [
    {
     "name": "stdout",
     "output_type": "stream",
     "text": [
      "No            0\n",
      "year          0\n",
      "month         0\n",
      "day           0\n",
      "hour          0\n",
      "PM2.5       779\n",
      "PM10        656\n",
      "SO2         730\n",
      "NO2        1234\n",
      "CO         2012\n",
      "O3         1214\n",
      "TEMP         53\n",
      "PRES         50\n",
      "DEWP         53\n",
      "RAIN         51\n",
      "wd          140\n",
      "WSPM         43\n",
      "station       0\n",
      "dtype: int64\n",
      "Persentase missing values di kolom CO Guanyuan_df: 4.9994296144193475%\n"
     ]
    }
   ],
   "source": [
    "# Mengecek jumlah missing values di setiap kolom\n",
    "missing_values_guanyuan = Guanyuan_df.isnull().sum()\n",
    "print(missing_values)\n",
    "\n",
    "# Mengecek persentase missing values di kolom CO\n",
    "co_missing_percentage_guanyuan = Guanyuan_df['CO'].isnull().mean() * 100\n",
    "print(f\"Persentase missing values di kolom CO Guanyuan_df: {co_missing_percentage_guanyuan}%\")"
   ]
  },
  {
   "cell_type": "code",
   "execution_count": 164,
   "metadata": {},
   "outputs": [
    {
     "name": "stdout",
     "output_type": "stream",
     "text": [
      "Median CO: 900.0\n",
      "No            0\n",
      "year          0\n",
      "month         0\n",
      "day           0\n",
      "hour          0\n",
      "PM2.5       616\n",
      "PM10        429\n",
      "SO2         474\n",
      "NO2         659\n",
      "CO            0\n",
      "O3         1173\n",
      "TEMP         20\n",
      "PRES         20\n",
      "DEWP         20\n",
      "RAIN         20\n",
      "wd           81\n",
      "WSPM         14\n",
      "station       0\n",
      "dtype: int64\n"
     ]
    }
   ],
   "source": [
    "# Menggunakan nilai median dari kolom CO untuk mengisikan missing value colom CO\n",
    "co_median_guanyuan = Guanyuan_df['CO'].median()\n",
    "print(f\"Median CO: {co_median_guanyuan}\")\n",
    "\n",
    "# Melakukan imputasi nilai median pada kolom CO yang mengandung missing value\n",
    "Guanyuan_df_cleaned = Guanyuan_df.copy()  \n",
    "Guanyuan_df_cleaned['CO'] = Guanyuan_df_cleaned['CO'].fillna(co_median_guanyuan)\n",
    "\n",
    "# Cek apakah missing values saat ini pada data Guanyuan_df_cleaned\n",
    "print(Guanyuan_df_cleaned.isna().sum())"
   ]
  },
  {
   "cell_type": "markdown",
   "metadata": {},
   "source": [
    "*temporary insight*\n",
    "\n",
    "Dipilih kolom CO terlebih dahulu yang dilakukan penanganan missing values, karena kolom CO memiliki jumlah missing values paling banyak diantara kolom yang lainnya pada Dongsi_df, sehingga diharapkan meminimalisir penggunaan metode dropping values dalam cleaning data ini. Pertama, dilakukan identifikasi missing values pada kolom CO untuk mengetahui besaran masalah. Selanjutnya, memilih memutuskan menggunakan nilai median untuk mengisi missing values karena lebik cocok jika terdapat outlier. Kemudian menyimpan dataset yang telah diberikan pada variabel Guanyuan_df_cleaned dan menampilkan jumlah missing values pada data tersebut saat ini. Dapat dilihat jumlah missing values paling banyak saat ini adalah pada kolom O3 sehingga selanjutnya yakni menangani missing values pada kolom tersebut."
   ]
  },
  {
   "cell_type": "markdown",
   "metadata": {
    "jp-MarkdownHeadingCollapsed": true
   },
   "source": [
    "###### Missing value pada Guanyuan_df_cleaned kolom O3"
   ]
  },
  {
   "cell_type": "code",
   "execution_count": 165,
   "metadata": {},
   "outputs": [
    {
     "name": "stdout",
     "output_type": "stream",
     "text": [
      "Persentase missing values di kolom O3: 3.3453114305270364%\n"
     ]
    }
   ],
   "source": [
    "# Mengecek persentase missing values di kolom O3\n",
    "O3_missing_percentage_guanyuan = Guanyuan_df_cleaned['O3'].isnull().mean() * 100\n",
    "print(f\"Persentase missing values di kolom O3: {O3_missing_percentage_guanyuan}%\")"
   ]
  },
  {
   "cell_type": "code",
   "execution_count": 166,
   "metadata": {},
   "outputs": [
    {
     "name": "stdout",
     "output_type": "stream",
     "text": [
      "Median O3: 41.0\n",
      "Missing value pada Guanyuan_df_cleaned saat ini :\n",
      " No           0\n",
      "year         0\n",
      "month        0\n",
      "day          0\n",
      "hour         0\n",
      "PM2.5      616\n",
      "PM10       429\n",
      "SO2        474\n",
      "NO2        659\n",
      "CO           0\n",
      "O3           0\n",
      "TEMP        20\n",
      "PRES        20\n",
      "DEWP        20\n",
      "RAIN        20\n",
      "wd          81\n",
      "WSPM        14\n",
      "station      0\n",
      "dtype: int64\n"
     ]
    }
   ],
   "source": [
    "# Menggunakan nilai median dari kolom O3 untuk mengisikan missing value kolom O3\n",
    "O3_median_guanyuan = Guanyuan_df_cleaned['O3'].median()\n",
    "print(f\"Median O3: {O3_median_guanyuan}\")\n",
    "\n",
    "# Melakukan imputasi nilai median pada kolom O3 yang mengandung missing value\n",
    "Guanyuan_df_cleaned['O3'] = Guanyuan_df_cleaned['O3'].fillna(O3_median_guanyuan)\n",
    "\n",
    "# Cek apakah missing values saat ini pada data Dongsi_df_cleaned\n",
    "print(\"Missing value pada Guanyuan_df_cleaned saat ini :\\n\", Guanyuan_df_cleaned.isna().sum())"
   ]
  },
  {
   "cell_type": "markdown",
   "metadata": {},
   "source": [
    "*temporary insight*\n",
    "\n",
    "Melakukan penanganan missing values pada kolom O3 ini sama seperti kolom-kolom sebelumnya pada dataset Guanyuan_df_cleaned ini. Dengan melakukan metode imputasi nilai median dari kolom O3. Setelah dilakukan penanganan missing values pada kolom ini, didapatkan kolom selanjutnya yang masih memiliki jumlah missing values yang banyak yakni kolom NO2. Sehingga selanjutnya yakni menangani missing values pada kolom tersebut."
   ]
  },
  {
   "cell_type": "markdown",
   "metadata": {
    "jp-MarkdownHeadingCollapsed": true
   },
   "source": [
    "###### Missing value pada Guanyuan_df_cleaned kolom NO2"
   ]
  },
  {
   "cell_type": "code",
   "execution_count": 167,
   "metadata": {},
   "outputs": [
    {
     "name": "stdout",
     "output_type": "stream",
     "text": [
      "Persentase missing values di kolom NO2: 1.8794204882500571%\n"
     ]
    }
   ],
   "source": [
    "# Mengecek persentase missing values di kolom NO2\n",
    "NO2_missing_percentage_guanyuan = Guanyuan_df_cleaned['NO2'].isnull().mean() * 100\n",
    "print(f\"Persentase missing values di kolom NO2: {NO2_missing_percentage_guanyuan}%\")"
   ]
  },
  {
   "cell_type": "code",
   "execution_count": 169,
   "metadata": {},
   "outputs": [
    {
     "name": "stdout",
     "output_type": "stream",
     "text": [
      "Median NO2: 51.0\n",
      "No           0\n",
      "year         0\n",
      "month        0\n",
      "day          0\n",
      "hour         0\n",
      "PM2.5      616\n",
      "PM10       429\n",
      "SO2        474\n",
      "NO2          0\n",
      "CO           0\n",
      "O3           0\n",
      "TEMP        20\n",
      "PRES        20\n",
      "DEWP        20\n",
      "RAIN        20\n",
      "wd          81\n",
      "WSPM        14\n",
      "station      0\n",
      "dtype: int64\n"
     ]
    }
   ],
   "source": [
    "# Menggunakan nilai median dari kolom NO2 untuk mengisikan missing value kolom NO2\n",
    "NO2_median_guanyuan = Guanyuan_df_cleaned['NO2'].median()\n",
    "print(f\"Median NO2: {NO2_median_guanyuan}\")\n",
    "\n",
    "# Melakukan imputasi nilai median pada kolom NO2 yang mengandung missing value\n",
    "Guanyuan_df_cleaned['NO2'] = Guanyuan_df_cleaned['NO2'].fillna(NO2_median_guanyuan)\n",
    "\n",
    "# Cek apakah missing values saat ini pada data Guanyuan_df_cleaned\n",
    "print(Guanyuan_df_cleaned.isna().sum())"
   ]
  },
  {
   "cell_type": "markdown",
   "metadata": {},
   "source": [
    "*temporary insight*\n",
    "\n",
    "Dilakukan juga identifikasi missing values pada kolom NO2 ini untuk mengetahui besaran masalah. Selanjutnya, memilih memutuskan menggunakan nilai median untuk mengisi missing values karena lebik cocok jika terdapat outlier. Kemudian menyimpan dataset yang telah diberikan pada variabel Guanyuan_df_cleaned dan menampilkan jumlah missing values pada data tersebut saat ini. Dapat dilihat jumlah missing values paling banyak saat ini adalah pada kolom PM2.5 sehingga selanjutnya yakni menangani missing values pada kolom tersebut."
   ]
  },
  {
   "cell_type": "markdown",
   "metadata": {
    "jp-MarkdownHeadingCollapsed": true
   },
   "source": [
    "###### Missing value pada Guanyuan_df_cleaned kolom PM.25"
   ]
  },
  {
   "cell_type": "code",
   "execution_count": 170,
   "metadata": {},
   "outputs": [
    {
     "name": "stdout",
     "output_type": "stream",
     "text": [
      "Persentase missing values di kolom PM2.5: 1.756787588409765%\n"
     ]
    }
   ],
   "source": [
    "# Mengecek persentase missing values di kolom PM2.5\n",
    "PM25_missing_percentage_guanyuan = Guanyuan_df_cleaned['PM2.5'].isnull().mean() * 100\n",
    "print(f\"Persentase missing values di kolom PM2.5: {PM25_missing_percentage_guanyuan}%\")"
   ]
  },
  {
   "cell_type": "code",
   "execution_count": 171,
   "metadata": {},
   "outputs": [
    {
     "name": "stdout",
     "output_type": "stream",
     "text": [
      "Median PM2.5: 59.0\n",
      "Missing value pada Guanyuan_df_cleaned saat ini :\n",
      " No           0\n",
      "year         0\n",
      "month        0\n",
      "day          0\n",
      "hour         0\n",
      "PM2.5        0\n",
      "PM10       429\n",
      "SO2        474\n",
      "NO2          0\n",
      "CO           0\n",
      "O3           0\n",
      "TEMP        20\n",
      "PRES        20\n",
      "DEWP        20\n",
      "RAIN        20\n",
      "wd          81\n",
      "WSPM        14\n",
      "station      0\n",
      "dtype: int64\n"
     ]
    }
   ],
   "source": [
    "# Menggunakan nilai median dari kolom PM2.5 untuk mengisikan missing value kolom PM2.5\n",
    "PM25_median_guanyuan = Guanyuan_df_cleaned['PM2.5'].median()\n",
    "print(f\"Median PM2.5: {PM25_median_guanyuan}\")\n",
    "\n",
    "# Melakukan imputasi nilai median pada kolom PM2.5 yang mengandung missing value\n",
    "Guanyuan_df_cleaned['PM2.5'] = Guanyuan_df_cleaned['PM2.5'].fillna(PM25_median_guanyuan)\n",
    "\n",
    "# Cek apakah missing values saat ini pada data Guanyuan_df_cleaned\n",
    "print(\"Missing value pada Guanyuan_df_cleaned saat ini :\\n\", Guanyuan_df_cleaned.isna().sum())"
   ]
  },
  {
   "cell_type": "markdown",
   "metadata": {},
   "source": [
    "*temporary insight*\n",
    "\n",
    "Melakukan penanganan missing values pada kolom PM2.5 ini sama seperti kolom-kolom sebelumnya pada dataset Dongsi_df_cleaned ini. Dengan melakukan metode imputasi nilai median dari kolom PM2.5. Setelah dilakukan penanganan missing values pada kolom ini, didapatkan kolom selanjutnya yang masih memiliki jumlah missing values yang banyak yakni kolom SO2. Sehingga selanjutnya yakni menangani missing values pada kolom tersebut."
   ]
  },
  {
   "cell_type": "markdown",
   "metadata": {
    "jp-MarkdownHeadingCollapsed": true
   },
   "source": [
    "###### Missing value pada Guanyuan_df_cleaned kolom SO2"
   ]
  },
  {
   "cell_type": "code",
   "execution_count": 174,
   "metadata": {},
   "outputs": [
    {
     "name": "stdout",
     "output_type": "stream",
     "text": [
      "Persentase missing values di kolom SO2: 1.351813826146475%\n"
     ]
    }
   ],
   "source": [
    "# Mengecek persentase missing values di kolom SO2\n",
    "SO2_missing_percentage_guanyuan = Guanyuan_df_cleaned['SO2'].isnull().mean() * 100\n",
    "print(f\"Persentase missing values di kolom SO2: {SO2_missing_percentage_guanyuan}%\")"
   ]
  },
  {
   "cell_type": "code",
   "execution_count": 175,
   "metadata": {},
   "outputs": [
    {
     "name": "stdout",
     "output_type": "stream",
     "text": [
      "Median SO2: 8.0\n",
      "Missing value pada Guanyuan_df_cleaned saat ini :\n",
      " No           0\n",
      "year         0\n",
      "month        0\n",
      "day          0\n",
      "hour         0\n",
      "PM2.5        0\n",
      "PM10       429\n",
      "SO2          0\n",
      "NO2          0\n",
      "CO           0\n",
      "O3           0\n",
      "TEMP        20\n",
      "PRES        20\n",
      "DEWP        20\n",
      "RAIN        20\n",
      "wd          81\n",
      "WSPM        14\n",
      "station      0\n",
      "dtype: int64\n"
     ]
    }
   ],
   "source": [
    "# Menggunakan nilai median dari kolom SO2 untuk mengisikan missing value kolom SO2\n",
    "SO2_median_guanyuan = Guanyuan_df_cleaned['SO2'].median()\n",
    "print(f\"Median SO2: {SO2_median_guanyuan}\")\n",
    "\n",
    "# Melakukan imputasi nilai median pada kolom SO2 yang mengandung missing value\n",
    "Guanyuan_df_cleaned['SO2'] = Guanyuan_df_cleaned['SO2'].fillna(SO2_median_guanyuan)\n",
    "\n",
    "# Cek apakah missing values saat ini pada data Guanyuan_df_cleaned\n",
    "print(\"Missing value pada Guanyuan_df_cleaned saat ini :\\n\", Guanyuan_df_cleaned.isna().sum())"
   ]
  },
  {
   "cell_type": "markdown",
   "metadata": {},
   "source": [
    "*temporary insight*\n",
    "\n",
    "Melakukan penanganan missing values pada kolom SO2 ini sama seperti kolom-kolom sebelumnya pada dataset Guanyuan_df_cleaned ini. Dengan melakukan metode imputasi nilai median dari kolom SO2. Setelah dilakukan penanganan missing values pada kolom ini, didapatkan kolom selanjutnya yang masih memiliki jumlah missing values yang banyak yakni kolom PM10. Sehingga selanjutnya yakni menangani missing values pada kolom tersebut."
   ]
  },
  {
   "cell_type": "markdown",
   "metadata": {
    "jp-MarkdownHeadingCollapsed": true
   },
   "source": [
    "###### Missing value pada Guanyuan_df_cleaned kolom PM10"
   ]
  },
  {
   "cell_type": "code",
   "execution_count": 176,
   "metadata": {},
   "outputs": [
    {
     "name": "stdout",
     "output_type": "stream",
     "text": [
      "Persentase missing values di kolom PM10: 1.2234770704996578%\n"
     ]
    }
   ],
   "source": [
    "# Mengecek persentase missing values di kolom PM10\n",
    "PM10_missing_percentage_guanyuan = Guanyuan_df_cleaned['PM10'].isnull().mean() * 100\n",
    "print(f\"Persentase missing values di kolom PM10: {PM10_missing_percentage_guanyuan}%\")"
   ]
  },
  {
   "cell_type": "code",
   "execution_count": 177,
   "metadata": {},
   "outputs": [
    {
     "name": "stdout",
     "output_type": "stream",
     "text": [
      "Median PM10: 89.0\n",
      "Missing value pada Guanyuan_df_cleaned saat ini :\n",
      " No          0\n",
      "year        0\n",
      "month       0\n",
      "day         0\n",
      "hour        0\n",
      "PM2.5       0\n",
      "PM10        0\n",
      "SO2         0\n",
      "NO2         0\n",
      "CO          0\n",
      "O3          0\n",
      "TEMP       20\n",
      "PRES       20\n",
      "DEWP       20\n",
      "RAIN       20\n",
      "wd         81\n",
      "WSPM       14\n",
      "station     0\n",
      "dtype: int64\n"
     ]
    }
   ],
   "source": [
    "# Menggunakan nilai median dari kolom PM10 untuk mengisikan missing value kolom PM10\n",
    "PM10_median_guanyuan = Guanyuan_df_cleaned['PM10'].median()\n",
    "print(f\"Median PM10: {PM10_median_guanyuan}\")\n",
    "\n",
    "# Melakukan imputasi nilai median pada kolom PM10 yang mengandung missing value\n",
    "Guanyuan_df_cleaned['PM10'] = Guanyuan_df_cleaned['PM10'].fillna(PM10_median_guanyuan)\n",
    "\n",
    "# Cek apakah missing values saat ini pada data Guanyuan_df_cleaned\n",
    "print(\"Missing value pada Guanyuan_df_cleaned saat ini :\\n\", Guanyuan_df_cleaned.isna().sum())"
   ]
  },
  {
   "cell_type": "markdown",
   "metadata": {},
   "source": [
    "*temporary insight*\n",
    "\n",
    "Telah dilakukan penanganan missing values pada kolom PM10. Dengan melakukan metode imputasi nilai median pada setiap baris kolom tersebut yang terdapat missing values. Dari informasi yang telah ditampilkan saat ini hanya beberapa kolom saja yang memiliki missing values dengan jumlah yang tidak begitu banyak juga. Sehingga akan ditangani selanjutnya."
   ]
  },
  {
   "cell_type": "markdown",
   "metadata": {
    "jp-MarkdownHeadingCollapsed": true
   },
   "source": [
    "###### Missing values pada data Guanyuan_df_cleaned kolom TEMP, PRES, DEWP, RAIN, wd, dan WSPM"
   ]
  },
  {
   "cell_type": "code",
   "execution_count": 178,
   "metadata": {},
   "outputs": [
    {
     "name": "stdout",
     "output_type": "stream",
     "text": [
      "Jumlah missing values saat ini:\n",
      "No          0\n",
      "year        0\n",
      "month       0\n",
      "day         0\n",
      "hour        0\n",
      "PM2.5       0\n",
      "PM10        0\n",
      "SO2         0\n",
      "NO2         0\n",
      "CO          0\n",
      "O3          0\n",
      "TEMP       20\n",
      "PRES       20\n",
      "DEWP       20\n",
      "RAIN       20\n",
      "wd         81\n",
      "WSPM       14\n",
      "station     0\n",
      "dtype: int64\n"
     ]
    }
   ],
   "source": [
    "# Menampilkan jumlah missing values saat ini pada data Guanyuan_df_cleaned\n",
    "print(\"Jumlah missing values saat ini:\")\n",
    "print(Guanyuan_df_cleaned.isna().sum())"
   ]
  },
  {
   "cell_type": "code",
   "execution_count": 179,
   "metadata": {},
   "outputs": [
    {
     "name": "stdout",
     "output_type": "stream",
     "text": [
      "Jumlah missing values sekarang:\n",
      "No         0\n",
      "year       0\n",
      "month      0\n",
      "day        0\n",
      "hour       0\n",
      "PM2.5      0\n",
      "PM10       0\n",
      "SO2        0\n",
      "NO2        0\n",
      "CO         0\n",
      "O3         0\n",
      "TEMP       0\n",
      "PRES       0\n",
      "DEWP       0\n",
      "RAIN       0\n",
      "wd         0\n",
      "WSPM       0\n",
      "station    0\n",
      "dtype: int64\n"
     ]
    }
   ],
   "source": [
    "# Menghapus baris yang memiliki missing values pada kolom TEMP, PRES, DEWP, RAIN, wd, dan WSPM\n",
    "Guanyuan_df_cleaned.dropna(subset=['TEMP', 'PRES', 'DEWP', 'RAIN', 'wd', 'WSPM'], inplace=True)\n",
    "\n",
    "# Verifikasi penghapusan missing values\n",
    "print(\"Jumlah missing values sekarang:\")\n",
    "print(Guanyuan_df_cleaned.isna().sum())"
   ]
  },
  {
   "cell_type": "markdown",
   "metadata": {},
   "source": [
    "*temporary insight*\n",
    "\n",
    "Dilakukan periksa ulang jumlah missing values setelah imputasi pada kolom yang tersisa. Kemudian melakukan dropping missing values dengan menggunakan metode `dropna()` untuk menghapus baris yang memiliki missing values pada kolom-kolom tersebut. Dan juga telah dilakukan verifikasi hasil dropping missing values sudah dihilangkan dengan memeriksa ulang dataset. Sehingga saat ini data Dongsi_df_cleaned sudah bersih dari missing values"
   ]
  },
  {
   "cell_type": "markdown",
   "metadata": {
    "jp-MarkdownHeadingCollapsed": true
   },
   "source": [
    "##### Menangani Inaccurate Value pada Guanyuan_df_cleaned"
   ]
  },
  {
   "cell_type": "code",
   "execution_count": 180,
   "metadata": {},
   "outputs": [
    {
     "data": {
      "text/html": [
       "<div>\n",
       "<style scoped>\n",
       "    .dataframe tbody tr th:only-of-type {\n",
       "        vertical-align: middle;\n",
       "    }\n",
       "\n",
       "    .dataframe tbody tr th {\n",
       "        vertical-align: top;\n",
       "    }\n",
       "\n",
       "    .dataframe thead th {\n",
       "        text-align: right;\n",
       "    }\n",
       "</style>\n",
       "<table border=\"1\" class=\"dataframe\">\n",
       "  <thead>\n",
       "    <tr style=\"text-align: right;\">\n",
       "      <th></th>\n",
       "      <th>No</th>\n",
       "      <th>year</th>\n",
       "      <th>month</th>\n",
       "      <th>day</th>\n",
       "      <th>hour</th>\n",
       "      <th>PM2.5</th>\n",
       "      <th>PM10</th>\n",
       "      <th>SO2</th>\n",
       "      <th>NO2</th>\n",
       "      <th>CO</th>\n",
       "      <th>O3</th>\n",
       "      <th>TEMP</th>\n",
       "      <th>PRES</th>\n",
       "      <th>DEWP</th>\n",
       "      <th>RAIN</th>\n",
       "      <th>WSPM</th>\n",
       "    </tr>\n",
       "  </thead>\n",
       "  <tbody>\n",
       "    <tr>\n",
       "      <th>count</th>\n",
       "      <td>34977.000000</td>\n",
       "      <td>34977.000000</td>\n",
       "      <td>34977.000000</td>\n",
       "      <td>34977.000000</td>\n",
       "      <td>34977.000000</td>\n",
       "      <td>34977.000000</td>\n",
       "      <td>34977.000000</td>\n",
       "      <td>34977.000000</td>\n",
       "      <td>34977.000000</td>\n",
       "      <td>34977.000000</td>\n",
       "      <td>34977.000000</td>\n",
       "      <td>34977.000000</td>\n",
       "      <td>34977.000000</td>\n",
       "      <td>34977.000000</td>\n",
       "      <td>34977.000000</td>\n",
       "      <td>34977.000000</td>\n",
       "    </tr>\n",
       "    <tr>\n",
       "      <th>mean</th>\n",
       "      <td>17499.076679</td>\n",
       "      <td>2014.658604</td>\n",
       "      <td>6.524888</td>\n",
       "      <td>15.723990</td>\n",
       "      <td>11.501844</td>\n",
       "      <td>82.489973</td>\n",
       "      <td>108.745493</td>\n",
       "      <td>17.459978</td>\n",
       "      <td>57.732939</td>\n",
       "      <td>1252.153901</td>\n",
       "      <td>55.342878</td>\n",
       "      <td>13.600094</td>\n",
       "      <td>1011.835904</td>\n",
       "      <td>3.129628</td>\n",
       "      <td>0.067547</td>\n",
       "      <td>1.710856</td>\n",
       "    </tr>\n",
       "    <tr>\n",
       "      <th>std</th>\n",
       "      <td>10109.175878</td>\n",
       "      <td>1.175361</td>\n",
       "      <td>3.446255</td>\n",
       "      <td>8.801718</td>\n",
       "      <td>6.918862</td>\n",
       "      <td>80.290212</td>\n",
       "      <td>91.058026</td>\n",
       "      <td>23.455103</td>\n",
       "      <td>34.828226</td>\n",
       "      <td>1138.300142</td>\n",
       "      <td>56.542512</td>\n",
       "      <td>11.396741</td>\n",
       "      <td>10.404101</td>\n",
       "      <td>13.690982</td>\n",
       "      <td>0.910922</td>\n",
       "      <td>1.202957</td>\n",
       "    </tr>\n",
       "    <tr>\n",
       "      <th>min</th>\n",
       "      <td>1.000000</td>\n",
       "      <td>2013.000000</td>\n",
       "      <td>1.000000</td>\n",
       "      <td>1.000000</td>\n",
       "      <td>0.000000</td>\n",
       "      <td>2.000000</td>\n",
       "      <td>2.000000</td>\n",
       "      <td>1.000000</td>\n",
       "      <td>2.000000</td>\n",
       "      <td>100.000000</td>\n",
       "      <td>0.214200</td>\n",
       "      <td>-16.800000</td>\n",
       "      <td>985.900000</td>\n",
       "      <td>-35.300000</td>\n",
       "      <td>0.000000</td>\n",
       "      <td>0.000000</td>\n",
       "    </tr>\n",
       "    <tr>\n",
       "      <th>25%</th>\n",
       "      <td>8746.000000</td>\n",
       "      <td>2014.000000</td>\n",
       "      <td>4.000000</td>\n",
       "      <td>8.000000</td>\n",
       "      <td>6.000000</td>\n",
       "      <td>24.000000</td>\n",
       "      <td>41.000000</td>\n",
       "      <td>3.000000</td>\n",
       "      <td>31.000000</td>\n",
       "      <td>600.000000</td>\n",
       "      <td>8.000000</td>\n",
       "      <td>3.200000</td>\n",
       "      <td>1003.200000</td>\n",
       "      <td>-8.100000</td>\n",
       "      <td>0.000000</td>\n",
       "      <td>0.900000</td>\n",
       "    </tr>\n",
       "    <tr>\n",
       "      <th>50%</th>\n",
       "      <td>17494.000000</td>\n",
       "      <td>2015.000000</td>\n",
       "      <td>7.000000</td>\n",
       "      <td>16.000000</td>\n",
       "      <td>12.000000</td>\n",
       "      <td>59.000000</td>\n",
       "      <td>89.000000</td>\n",
       "      <td>8.000000</td>\n",
       "      <td>51.000000</td>\n",
       "      <td>900.000000</td>\n",
       "      <td>41.000000</td>\n",
       "      <td>14.600000</td>\n",
       "      <td>1011.400000</td>\n",
       "      <td>3.800000</td>\n",
       "      <td>0.000000</td>\n",
       "      <td>1.400000</td>\n",
       "    </tr>\n",
       "    <tr>\n",
       "      <th>75%</th>\n",
       "      <td>26243.000000</td>\n",
       "      <td>2016.000000</td>\n",
       "      <td>10.000000</td>\n",
       "      <td>23.000000</td>\n",
       "      <td>17.000000</td>\n",
       "      <td>113.000000</td>\n",
       "      <td>148.000000</td>\n",
       "      <td>21.000000</td>\n",
       "      <td>78.000000</td>\n",
       "      <td>1500.000000</td>\n",
       "      <td>79.254000</td>\n",
       "      <td>23.300000</td>\n",
       "      <td>1020.100000</td>\n",
       "      <td>15.600000</td>\n",
       "      <td>0.000000</td>\n",
       "      <td>2.200000</td>\n",
       "    </tr>\n",
       "    <tr>\n",
       "      <th>max</th>\n",
       "      <td>35064.000000</td>\n",
       "      <td>2017.000000</td>\n",
       "      <td>12.000000</td>\n",
       "      <td>31.000000</td>\n",
       "      <td>23.000000</td>\n",
       "      <td>680.000000</td>\n",
       "      <td>999.000000</td>\n",
       "      <td>293.000000</td>\n",
       "      <td>270.000000</td>\n",
       "      <td>10000.000000</td>\n",
       "      <td>415.000000</td>\n",
       "      <td>40.500000</td>\n",
       "      <td>1042.000000</td>\n",
       "      <td>28.500000</td>\n",
       "      <td>72.500000</td>\n",
       "      <td>11.200000</td>\n",
       "    </tr>\n",
       "  </tbody>\n",
       "</table>\n",
       "</div>"
      ],
      "text/plain": [
       "                 No          year         month           day          hour  \\\n",
       "count  34977.000000  34977.000000  34977.000000  34977.000000  34977.000000   \n",
       "mean   17499.076679   2014.658604      6.524888     15.723990     11.501844   \n",
       "std    10109.175878      1.175361      3.446255      8.801718      6.918862   \n",
       "min        1.000000   2013.000000      1.000000      1.000000      0.000000   \n",
       "25%     8746.000000   2014.000000      4.000000      8.000000      6.000000   \n",
       "50%    17494.000000   2015.000000      7.000000     16.000000     12.000000   \n",
       "75%    26243.000000   2016.000000     10.000000     23.000000     17.000000   \n",
       "max    35064.000000   2017.000000     12.000000     31.000000     23.000000   \n",
       "\n",
       "              PM2.5          PM10           SO2           NO2            CO  \\\n",
       "count  34977.000000  34977.000000  34977.000000  34977.000000  34977.000000   \n",
       "mean      82.489973    108.745493     17.459978     57.732939   1252.153901   \n",
       "std       80.290212     91.058026     23.455103     34.828226   1138.300142   \n",
       "min        2.000000      2.000000      1.000000      2.000000    100.000000   \n",
       "25%       24.000000     41.000000      3.000000     31.000000    600.000000   \n",
       "50%       59.000000     89.000000      8.000000     51.000000    900.000000   \n",
       "75%      113.000000    148.000000     21.000000     78.000000   1500.000000   \n",
       "max      680.000000    999.000000    293.000000    270.000000  10000.000000   \n",
       "\n",
       "                 O3          TEMP          PRES          DEWP          RAIN  \\\n",
       "count  34977.000000  34977.000000  34977.000000  34977.000000  34977.000000   \n",
       "mean      55.342878     13.600094   1011.835904      3.129628      0.067547   \n",
       "std       56.542512     11.396741     10.404101     13.690982      0.910922   \n",
       "min        0.214200    -16.800000    985.900000    -35.300000      0.000000   \n",
       "25%        8.000000      3.200000   1003.200000     -8.100000      0.000000   \n",
       "50%       41.000000     14.600000   1011.400000      3.800000      0.000000   \n",
       "75%       79.254000     23.300000   1020.100000     15.600000      0.000000   \n",
       "max      415.000000     40.500000   1042.000000     28.500000     72.500000   \n",
       "\n",
       "               WSPM  \n",
       "count  34977.000000  \n",
       "mean       1.710856  \n",
       "std        1.202957  \n",
       "min        0.000000  \n",
       "25%        0.900000  \n",
       "50%        1.400000  \n",
       "75%        2.200000  \n",
       "max       11.200000  "
      ]
     },
     "execution_count": 180,
     "metadata": {},
     "output_type": "execute_result"
    }
   ],
   "source": [
    "Guanyuan_df_cleaned.describe()"
   ]
  },
  {
   "cell_type": "markdown",
   "metadata": {
    "jp-MarkdownHeadingCollapsed": true
   },
   "source": [
    "###### Inaccurate value data Guanyuan_df_cleaned kolom PM2.5"
   ]
  },
  {
   "cell_type": "code",
   "execution_count": 181,
   "metadata": {},
   "outputs": [
    {
     "name": "stdout",
     "output_type": "stream",
     "text": [
      "          No  year  month  day  hour  PM2.5   PM10   SO2    NO2      CO   O3  \\\n",
      "24134  24135  2015     12    1    14  680.0  680.0  36.0  170.0  9700.0  2.0   \n",
      "\n",
      "       TEMP    PRES  DEWP  RAIN wd  WSPM   station  \n",
      "24134   0.3  1013.4   0.2   0.0  E   1.2  Guanyuan  \n"
     ]
    }
   ],
   "source": [
    "# Mengambil baris data yang mengandung nilai maksimum pada kolom PM2.5\n",
    "max_pm25_row_guanyuan = Guanyuan_df_cleaned[Guanyuan_df_cleaned['PM2.5'] == Guanyuan_df_cleaned['PM2.5'].max()]\n",
    "print(max_pm25_row_guanyuan)"
   ]
  },
  {
   "cell_type": "code",
   "execution_count": 182,
   "metadata": {},
   "outputs": [
    {
     "name": "stdout",
     "output_type": "stream",
     "text": [
      "Jumlah baris yang dihapus pada Guanyuan_df_cleaned: 88\n"
     ]
    }
   ],
   "source": [
    "# Menentukan batas maksimum untuk PM2.5\n",
    "batas_maksimum_pm25 = 500\n",
    "\n",
    "# Menghitung jumlah baris yang akan dihapus\n",
    "jumlah_baris_hilang_guanyuan = Guanyuan_df_cleaned[Guanyuan_df_cleaned['PM2.5'] > batas_maksimum_pm25].shape[0]\n",
    "\n",
    "# Menampilkan informasi\n",
    "print(f\"Jumlah baris yang dihapus pada Guanyuan_df_cleaned: {jumlah_baris_hilang_guanyuan}\")"
   ]
  },
  {
   "cell_type": "code",
   "execution_count": 185,
   "metadata": {},
   "outputs": [
    {
     "name": "stdout",
     "output_type": "stream",
     "text": [
      "Jumlah baris tersisa setelah penghapusan pada Guanyuan_df_cleaned: 34889\n"
     ]
    }
   ],
   "source": [
    "# Menghapus baris yang memiliki nilai PM2.5 lebih dari batas maksimum\n",
    "Guanyuan_df_cleaned = Guanyuan_df_cleaned[Guanyuan_df_cleaned['PM2.5'] <= batas_maksimum_pm25]\n",
    "\n",
    "# Memeriksa jumlah baris dan kolom setelah proses pembersihan\n",
    "jumlah_baris_tersisa_guanyuan = Guanyuan_df_cleaned.shape[0]\n",
    "\n",
    "# Menampilkan informasi\n",
    "print(f\"Jumlah baris tersisa setelah penghapusan pada Guanyuan_df_cleaned: {jumlah_baris_tersisa_guanyuan}\")"
   ]
  },
  {
   "cell_type": "markdown",
   "metadata": {},
   "source": [
    "*temporary insight*\n",
    "\n",
    "Dilakukan penetapan batas maksimum untuk PM2.5, dengan nilai 500 seperti yang telah dilakukan pada dataset sebelumnya juga. Atas dasar karena dalam banyak studi, nilai PM2.5 yang lebih dari 500 bisa dianggap tidak wajar. kemudian menghitung jumlah baris data yang akan dihapus pada Dongsi_df_cleaned. Dengan menggunakan kondisi untuk menghitung jumlah baris yang memiliki nilai PM2.5 lebih dari batas maksimum. Lalu menghapus baris dan memeriksa ukuran dataset saat ini. Dalam hal ini dapat dilihat, bahwa jumlah baris data yang dihapus atau memiliki nilai PM2.5 lebih dari 500 terhitung sebanyak 88 baris data. Dan setelah dilakukan dropping values, tersisa 34889 baris data pada Dongsi_df_cleaned."
   ]
  },
  {
   "cell_type": "markdown",
   "metadata": {
    "jp-MarkdownHeadingCollapsed": true
   },
   "source": [
    "###### Inaccurate value pada Guanyuan_df_cleaned kolom PM10"
   ]
  },
  {
   "cell_type": "code",
   "execution_count": 186,
   "metadata": {},
   "outputs": [
    {
     "name": "stdout",
     "output_type": "stream",
     "text": [
      "        No  year  month  day  hour  PM2.5   PM10  SO2   NO2     CO    O3  \\\n",
      "5819  5820  2013     10   29    11   59.0  999.0  9.0  25.0  700.0  43.0   \n",
      "\n",
      "      TEMP    PRES  DEWP  RAIN wd  WSPM   station  \n",
      "5819  15.3  1022.8  -3.1   0.0  N   3.7  Guanyuan  \n"
     ]
    }
   ],
   "source": [
    "# Mengambil baris data yang mengandung nilai maksimum pada kolom PM10\n",
    "max_pm10_row_guanyuan = Guanyuan_df_cleaned[Guanyuan_df_cleaned['PM10'] == Guanyuan_df_cleaned['PM10'].max()]\n",
    "print(max_pm10_row_guanyuan)"
   ]
  },
  {
   "cell_type": "code",
   "execution_count": 187,
   "metadata": {},
   "outputs": [
    {
     "name": "stdout",
     "output_type": "stream",
     "text": [
      "Jumlah baris yang akan dihapus dari PM10: 1268\n"
     ]
    }
   ],
   "source": [
    "# Menentukan batas maksimum untuk PM10\n",
    "batas_maksimum_pm10 = 300.0 \n",
    "\n",
    "# Menghitung jumlah baris yang akan dihapus\n",
    "jumlah_baris_hilang_pm10_guanyuan = Guanyuan_df_cleaned[Guanyuan_df_cleaned['PM10'] > batas_maksimum_pm10].shape[0]\n",
    "print(f\"Jumlah baris yang akan dihapus dari PM10: {jumlah_baris_hilang_pm10_guanyuan}\")"
   ]
  },
  {
   "cell_type": "code",
   "execution_count": 188,
   "metadata": {},
   "outputs": [
    {
     "name": "stdout",
     "output_type": "stream",
     "text": [
      "Jumlah baris tersisa setelah penghapusan PM10: 33621\n"
     ]
    }
   ],
   "source": [
    "# Menghapus baris yang memiliki nilai PM10 lebih dari batas maksimum\n",
    "Guanyuan_df_cleaned = Guanyuan_df_cleaned[Guanyuan_df_cleaned['PM10'] <= batas_maksimum_pm10]\n",
    "\n",
    "# Memeriksa jumlah baris dan kolom setelah proses pembersihan\n",
    "jumlah_baris_tersisa_pm10_guanyuan = Guanyuan_df_cleaned.shape[0]\n",
    "\n",
    "print(f\"Jumlah baris tersisa setelah penghapusan PM10: {jumlah_baris_tersisa_pm10_guanyuan}\")"
   ]
  },
  {
   "cell_type": "markdown",
   "metadata": {},
   "source": [
    "*temporary value*\n",
    "\n",
    "Dilakukan juga pembersihan inaccurate value pada data Guanyuan_df_cleaned dengan melakukan dropping. atau menghapus (drop) data pada kolom PM10 yang melebihi ambang batas yang telah ditentukan. Yakni nilai yang ditentukan tidak wajar, denagn pemilihan batas maksimum 300.0 adalah berdasarkan pemahaman tentang kualitas udara dan standar yang umum digunakan. Nilai ini didasarkan pada standar kualitas udara, di mana nilai PM10 di atas 300.0 bisa dianggap sebagai tidak wajar dan mungkin menunjukkan kesalahan pengukuran atau data yang tidak konsisten. Karena berdasarkan analisah yang telah dilakuan, batas maksimum yang wajar untuk PM10 bisa disarankan antara 150.0 hingga 300.0 untuk kualitas udara yang baik, dan nilai di atas 300.0 bisa dianggap sebagai data tidak wajar dalam konteks tertentu. Setelah penghapusan, diberikan informasi yang jelas tentang berapa banyak data yang hilang dan berapa banyak data yang tersisa, memastikan bahwa analisis selanjutnya didasarkan pada data yang valid."
   ]
  },
  {
   "cell_type": "markdown",
   "metadata": {
    "jp-MarkdownHeadingCollapsed": true
   },
   "source": [
    "###### Inaccurate value pada Guanyuan_df_cleaned kolom CO"
   ]
  },
  {
   "cell_type": "code",
   "execution_count": 189,
   "metadata": {},
   "outputs": [
    {
     "name": "stdout",
     "output_type": "stream",
     "text": [
      "          No  year  month  day  hour  PM2.5  PM10   SO2   NO2     CO    O3  \\\n",
      "0          1  2013      3    1     0    4.0   4.0  14.0  20.0  300.0  69.0   \n",
      "1          2  2013      3    1     1    4.0   4.0  13.0  17.0  300.0  72.0   \n",
      "2          3  2013      3    1     2    3.0   3.0  10.0  19.0  300.0  69.0   \n",
      "3          4  2013      3    1     3    3.0   6.0   7.0  24.0  400.0  62.0   \n",
      "4          5  2013      3    1     4    3.0   6.0   5.0  14.0  400.0  71.0   \n",
      "...      ...   ...    ...  ...   ...    ...   ...   ...   ...    ...   ...   \n",
      "35059  35060  2017      2   28    19   13.0  37.0   3.0  36.0  400.0  60.0   \n",
      "35060  35061  2017      2   28    20   20.0  43.0   4.0  48.0  500.0  43.0   \n",
      "35061  35062  2017      2   28    21   16.0  33.0   5.0  39.0  500.0  50.0   \n",
      "35062  35063  2017      2   28    22   11.0  24.0   5.0  47.0  500.0  41.0   \n",
      "35063  35064  2017      2   28    23   15.0  27.0   5.0  53.0  600.0  33.0   \n",
      "\n",
      "       TEMP    PRES  DEWP  RAIN   wd  WSPM   station  \n",
      "0      -0.7  1023.0 -18.8   0.0  NNW   4.4  Guanyuan  \n",
      "1      -1.1  1023.2 -18.2   0.0    N   4.7  Guanyuan  \n",
      "2      -1.1  1023.5 -18.2   0.0  NNW   5.6  Guanyuan  \n",
      "3      -1.4  1024.5 -19.4   0.0   NW   3.1  Guanyuan  \n",
      "4      -2.0  1025.2 -19.5   0.0    N   2.0  Guanyuan  \n",
      "...     ...     ...   ...   ...  ...   ...       ...  \n",
      "35059  12.5  1013.5 -16.2   0.0   NW   2.4  Guanyuan  \n",
      "35060  11.6  1013.6 -15.1   0.0  WNW   0.9  Guanyuan  \n",
      "35061  10.8  1014.2 -13.3   0.0   NW   1.1  Guanyuan  \n",
      "35062  10.5  1014.4 -12.9   0.0  NNW   1.2  Guanyuan  \n",
      "35063   8.6  1014.1 -15.9   0.0  NNE   1.3  Guanyuan  \n",
      "\n",
      "[33621 rows x 18 columns]\n"
     ]
    }
   ],
   "source": [
    "# Identifikasi nilai CO yang tidak realistis (di atas 50 mg/m³ dan di bawah 0 mg/m³)\n",
    "unrealistic_co_guanyuan = Guanyuan_df_cleaned[(Guanyuan_df_cleaned['CO'] > 50) | (Guanyuan_df_cleaned['CO'] < 0)]\n",
    "print(unrealistic_co_guanyuan)"
   ]
  },
  {
   "cell_type": "code",
   "execution_count": 190,
   "metadata": {},
   "outputs": [
    {
     "data": {
      "text/plain": [
       "count    33621.000000\n",
       "mean       114.769370\n",
       "std         92.395845\n",
       "min         10.000000\n",
       "25%         50.000000\n",
       "50%         90.000000\n",
       "75%        140.000000\n",
       "max       1000.000000\n",
       "Name: CO, dtype: float64"
      ]
     },
     "execution_count": 190,
     "metadata": {},
     "output_type": "execute_result"
    }
   ],
   "source": [
    "# Mengonversi nilai CO dari ratusan ke puluhan (mg/m³)\n",
    "Guanyuan_df_cleaned['CO'] = Guanyuan_df_cleaned['CO'] / 10\n",
    "\n",
    "# Memvalidasi hasil konversi\n",
    "Guanyuan_df_cleaned['CO'].describe()"
   ]
  },
  {
   "cell_type": "code",
   "execution_count": 191,
   "metadata": {},
   "outputs": [
    {
     "name": "stdout",
     "output_type": "stream",
     "text": [
      "          No  year  month  day  hour  PM2.5  PM10   SO2   NO2    CO    O3  \\\n",
      "22        23  2013      3    1    22   10.0  15.0  11.0  60.0  60.0  31.0   \n",
      "23        24  2013      3    1    23   13.0  15.0  11.0  51.0  60.0  37.0   \n",
      "27        28  2013      3    2     3    3.0   6.0  12.0  32.0  90.0  79.0   \n",
      "31        32  2013      3    2     7    3.0   6.0  27.0  72.0  60.0  17.0   \n",
      "32        33  2013      3    2     8    3.0   6.0  27.0  70.0  60.0  21.0   \n",
      "...      ...   ...    ...  ...   ...    ...   ...   ...   ...   ...   ...   \n",
      "35044  35045  2017      2   28     4   59.0  89.0   8.0  51.0  90.0  41.0   \n",
      "35045  35046  2017      2   28     5   59.0  89.0   8.0  51.0  90.0  41.0   \n",
      "35046  35047  2017      2   28     6   59.0  89.0   8.0  51.0  90.0  41.0   \n",
      "35047  35048  2017      2   28     7   59.0  89.0   8.0  51.0  90.0  41.0   \n",
      "35063  35064  2017      2   28    23   15.0  27.0   5.0  53.0  60.0  33.0   \n",
      "\n",
      "       TEMP    PRES  DEWP  RAIN   wd  WSPM   station  \n",
      "22      0.9  1030.5 -17.4   0.0  ENE   1.8  Guanyuan  \n",
      "23     -0.2  1030.5 -17.4   0.0  ENE   1.4  Guanyuan  \n",
      "27     -1.4  1030.6 -17.6   0.0  NNE   1.4  Guanyuan  \n",
      "31     -1.7  1029.8 -17.0   0.0   NE   1.2  Guanyuan  \n",
      "32     -0.4  1029.6 -17.6   0.0   NE   1.8  Guanyuan  \n",
      "...     ...     ...   ...   ...  ...   ...       ...  \n",
      "35044   7.0  1016.0  -9.4   0.0  ENE   1.9  Guanyuan  \n",
      "35045   5.3  1015.9  -9.0   0.0    E   1.4  Guanyuan  \n",
      "35046   9.5  1015.9 -11.2   0.0  NNW   3.1  Guanyuan  \n",
      "35047   8.4  1016.2 -12.1   0.0   NW   2.3  Guanyuan  \n",
      "35063   8.6  1014.1 -15.9   0.0  NNE   1.3  Guanyuan  \n",
      "\n",
      "[25028 rows x 18 columns]\n"
     ]
    }
   ],
   "source": [
    "# Cek data CO yang masih tidak realistis (lebih dari 50 mg/m³ atau kurang dari 0 mg/m³).\n",
    "unrealistic_co_after_conversion_guanyuan = Guanyuan_df_cleaned[(Guanyuan_df_cleaned['CO'] > 50) | (Guanyuan_df_cleaned['CO'] < 0)]\n",
    "print(unrealistic_co_after_conversion_guanyuan)"
   ]
  },
  {
   "cell_type": "code",
   "execution_count": 192,
   "metadata": {},
   "outputs": [
    {
     "name": "stdout",
     "output_type": "stream",
     "text": [
      "                 No          year         month           day          hour  \\\n",
      "count  33621.000000  33621.000000  33621.000000  33621.000000  33621.000000   \n",
      "mean   17441.588412   2014.653312      6.511496     15.677255     11.464472   \n",
      "std    10101.045715      1.176321      3.402587      8.787458      6.887238   \n",
      "min        1.000000   2013.000000      1.000000      1.000000      0.000000   \n",
      "25%     8730.000000   2014.000000      4.000000      8.000000      6.000000   \n",
      "50%    17476.000000   2015.000000      7.000000     16.000000     11.000000   \n",
      "75%    26201.000000   2016.000000      9.000000     23.000000     17.000000   \n",
      "max    35064.000000   2017.000000     12.000000     31.000000     23.000000   \n",
      "\n",
      "              PM2.5          PM10           SO2           NO2            CO  \\\n",
      "count  33621.000000  33621.000000  33621.000000  33621.000000  33621.000000   \n",
      "mean      73.278305     97.194271     16.400049     55.072782     38.902472   \n",
      "std       62.271421     69.157817     21.545198     31.362344      6.198437   \n",
      "min        2.000000      2.000000      1.000000      2.000000     10.000000   \n",
      "25%       23.000000     39.000000      3.000000     30.000000     40.000000   \n",
      "50%       57.000000     86.000000      8.000000     50.000000     40.000000   \n",
      "75%      106.000000    139.000000     20.000000     74.000000     40.000000   \n",
      "max      331.000000    300.000000    293.000000    233.000000     50.000000   \n",
      "\n",
      "                 O3          TEMP          PRES          DEWP          RAIN  \\\n",
      "count  33621.000000  33621.000000  33621.000000  33621.000000  33621.000000   \n",
      "mean      56.537629     13.876681   1011.737133      3.239187      0.069531   \n",
      "std       56.734036     11.394960     10.480659     13.841218      0.924543   \n",
      "min        0.214200    -16.800000    985.900000    -35.300000      0.000000   \n",
      "25%       10.000000      3.500000   1003.100000     -8.400000      0.000000   \n",
      "50%       41.000000     15.000000   1011.200000      4.200000      0.000000   \n",
      "75%       81.000000     23.500000   1020.100000     15.900000      0.000000   \n",
      "max      415.000000     40.500000   1042.000000     28.500000     72.500000   \n",
      "\n",
      "               WSPM  \n",
      "count  33621.000000  \n",
      "mean       1.724898  \n",
      "std        1.204390  \n",
      "min        0.000000  \n",
      "25%        0.900000  \n",
      "50%        1.400000  \n",
      "75%        2.300000  \n",
      "max       11.200000  \n"
     ]
    }
   ],
   "source": [
    "# Imputasi nilai CO yang masih tidak realistis dengan nilai median\n",
    "median_co_after_conversion_guanyuan = Guanyuan_df_cleaned[(Guanyuan_df_cleaned['CO'] >= 0) & (Guanyuan_df_cleaned['CO'] <= 50)]['CO'].median()\n",
    "Guanyuan_df_cleaned['CO'] = Guanyuan_df_cleaned['CO'].apply(lambda x: median_co_after_conversion_guanyuan if x > 50 or x < 0 else x)\n",
    "\n",
    "# Cek deskripsi dataset yang sudah dilakukan proses konversi dan imputasi\n",
    "print(Guanyuan_df_cleaned.describe())"
   ]
  },
  {
   "cell_type": "markdown",
   "metadata": {},
   "source": [
    "*temporary insight*\n",
    "\n",
    "Proses ini mengonversi nilai CO menjadi lebih realistis dengan membaginya dengan 10, sesuai asumsi bahwa alat pengukuran mungkin salah mendeteksi dalam kelipatan tersebut. Karena nilai CO yang realistis (nilai CO antara 0 hingga 50 mg/m³). Setelah konversi, dilakukan validasi lebih lanjut untuk memastikan bahwa semua nilai CO berada dalam rentang yang wajar. Jika ada nilai yang masih tidak realistis, digunakan metode imputasi dengan nilai median CO yang sudah bersih. Hal ini dilakukan karena kurangnya informasi dari dataset tesebut mengenai satuan ukur apa yang digunakan pada tiap-tiap kolomnya, sehingga dibuat asusmsi berdasarkan nilai satuan yang umum digunakan di publik, berdasarkan riset yang telah dilakukan. Dengan cara ini, dataset Guanyuan_df_cleaned sudah lebih akurat untuk analisis selanjutnya."
   ]
  },
  {
   "cell_type": "markdown",
   "metadata": {},
   "source": [
    "*temporary insight*\n",
    "\n",
    "\n",
    "1. Menangani Missing Values:\n",
    "\n",
    "   Kolom dengan missing values yang banyak seperti CO, PM2.5, NO2, SO2, O3, dan PM10 telah ditangani menggunakan metode imputasi median. Hal ini dilakukan agar tidak kehilangan terlalu banyak data penting, sambil tetap mengisi nilai yang realistis dan representatif.\n",
    "\n",
    "   Untuk kolom dengan jumlah missing values yang relatif sedikit seperti TEMP, PRES, DEWP, RAIN, wd, dan WSPM, dilakukan dropping values. Ini dipilih karena menghapus sedikit data tidak akan mempengaruhi keseluruhan dataset secara signifikan.\n",
    "\n",
    "\n",
    "\n",
    "2. Menangani Inaccurate Values:\n",
    "\n",
    "   Seperti yang telah dilakukan pada dataset sebelumnya-sebelumnya, kolom CO, PM2.5, dan PM10 pada Guanyuan_df_cleaned ini juga diperiksa untuk nilai yang tidak realistis.\n",
    "\n",
    "   Nilai-nilai yang dianggap tidak realistis di luar rentang normal pada masing-masing kolom telah diubah atau difilter sesuai dengan rentang realistis, seperti CO dengan nilai realistis di rentang 0–50 mg/m³. PM2.5 dan PM10 ditetapkan pada rentang realistis berdasarkan pedoman kualitas udara.\n",
    "\n",
    "\n",
    "\n",
    "Dengan semua missing values dan inaccurate values telah ditangani. Ini memastikan bahwa data siap digunakan untuk analisis lebih lanjut tanpa bias atau error yang berasal dari data yang hilang atau nilai yang tidak realistis. Dengan memilih metode imputasi untuk kolom dengan banyak missing values dan dropping untuk yang sedikit, diharapkan dapat mengoptimalkan jumlah data yang tetap relevan tanpa mengorbankan integritas dataset. Serta melakukan filter atau transformasi terhadap nilai yang tidak realistis pada kolom penting (seperti CO, PM2.5, dan PM10) memastikan hasil analisis yang lebih akurat dan representatif terhadap kondisi nyata."
   ]
  },
  {
   "cell_type": "markdown",
   "metadata": {
    "jp-MarkdownHeadingCollapsed": true
   },
   "source": [
    "#### Membersihkan Data Gucheng_df"
   ]
  },
  {
   "cell_type": "markdown",
   "metadata": {
    "jp-MarkdownHeadingCollapsed": true
   },
   "source": [
    "##### Menangani Missing value pada Gucheng_df"
   ]
  },
  {
   "cell_type": "markdown",
   "metadata": {
    "jp-MarkdownHeadingCollapsed": true
   },
   "source": [
    "###### Missing value pada Guanyuan_df kolom CO"
   ]
  },
  {
   "cell_type": "code",
   "execution_count": 193,
   "metadata": {},
   "outputs": [
    {
     "name": "stdout",
     "output_type": "stream",
     "text": [
      "No            0\n",
      "year          0\n",
      "month         0\n",
      "day           0\n",
      "hour          0\n",
      "PM2.5       779\n",
      "PM10        656\n",
      "SO2         730\n",
      "NO2        1234\n",
      "CO         2012\n",
      "O3         1214\n",
      "TEMP         53\n",
      "PRES         50\n",
      "DEWP         53\n",
      "RAIN         51\n",
      "wd          140\n",
      "WSPM         43\n",
      "station       0\n",
      "dtype: int64\n",
      "Persentase missing values di kolom CO Gucheng_df: 3.99555099247091%\n"
     ]
    }
   ],
   "source": [
    "# Mengecek jumlah missing values di setiap kolom\n",
    "missing_values_gucheng = Gucheng_df.isnull().sum()\n",
    "print(missing_values)\n",
    "\n",
    "# Mengecek persentase missing values di kolom CO\n",
    "co_missing_percentage_gucheng = Gucheng_df['CO'].isnull().mean() * 100\n",
    "print(f\"Persentase missing values di kolom CO Gucheng_df: {co_missing_percentage_gucheng}%\")"
   ]
  },
  {
   "cell_type": "code",
   "execution_count": 194,
   "metadata": {},
   "outputs": [
    {
     "name": "stdout",
     "output_type": "stream",
     "text": [
      "Median CO: 900.0\n",
      "No           0\n",
      "year         0\n",
      "month        0\n",
      "day          0\n",
      "hour         0\n",
      "PM2.5      646\n",
      "PM10       381\n",
      "SO2        507\n",
      "NO2        668\n",
      "CO           0\n",
      "O3         729\n",
      "TEMP        51\n",
      "PRES        50\n",
      "DEWP        51\n",
      "RAIN        43\n",
      "wd         159\n",
      "WSPM        42\n",
      "station      0\n",
      "dtype: int64\n"
     ]
    }
   ],
   "source": [
    "# Menggunakan nilai median dari kolom CO untuk mengisikan missing value colom CO\n",
    "co_median_gucheng = Gucheng_df['CO'].median()\n",
    "print(f\"Median CO: {co_median_gucheng}\")\n",
    "\n",
    "# Melakukan imputasi nilai median pada kolom CO yang mengandung missing value\n",
    "Gucheng_df_cleaned = Gucheng_df.copy()  \n",
    "Gucheng_df_cleaned['CO'] = Gucheng_df_cleaned['CO'].fillna(co_median_gucheng)\n",
    "\n",
    "# Cek apakah missing values saat ini pada data Gucheng_df_cleaned\n",
    "print(Gucheng_df_cleaned.isna().sum())"
   ]
  },
  {
   "cell_type": "markdown",
   "metadata": {},
   "source": [
    "*temporary insight*\n",
    "\n",
    "Dipilih kolom CO terlebih dahulu yang dilakukan penanganan missing values, karena kolom CO memiliki jumlah missing values paling banyak diantara kolom yang lainnya pada Gucheng_df, sehingga diharapkan meminimalisir penggunaan metode dropping values dalam cleaning data ini. Pertama, dilakukan identifikasi missing values pada kolom CO untuk mengetahui besaran masalah. Selanjutnya, memilih memutuskan menggunakan nilai median untuk mengisi missing values karena lebik cocok jika terdapat outlier. Kemudian menyimpan dataset yang telah diberikan pada variabel Guanyuan_df_cleaned dan menampilkan jumlah missing values pada data tersebut saat ini. Dapat dilihat jumlah missing values paling banyak saat ini adalah pada kolom O3 sehingga selanjutnya yakni menangani missing values pada kolom tersebut."
   ]
  },
  {
   "cell_type": "markdown",
   "metadata": {
    "jp-MarkdownHeadingCollapsed": true
   },
   "source": [
    "###### Missing value pada Gucheng_df_cleaned kolom O3"
   ]
  },
  {
   "cell_type": "code",
   "execution_count": 195,
   "metadata": {},
   "outputs": [
    {
     "name": "stdout",
     "output_type": "stream",
     "text": [
      "Persentase missing values di kolom O3: 2.0790554414784395%\n"
     ]
    }
   ],
   "source": [
    "# Mengecek persentase missing values di kolom O3\n",
    "O3_missing_percentage_gucheng = Gucheng_df_cleaned['O3'].isnull().mean() * 100\n",
    "print(f\"Persentase missing values di kolom O3: {O3_missing_percentage_gucheng}%\")"
   ]
  },
  {
   "cell_type": "code",
   "execution_count": 196,
   "metadata": {},
   "outputs": [
    {
     "name": "stdout",
     "output_type": "stream",
     "text": [
      "Median O3: 45.0\n",
      "Missing value pada Gucheng_df_cleaned saat ini :\n",
      " No           0\n",
      "year         0\n",
      "month        0\n",
      "day          0\n",
      "hour         0\n",
      "PM2.5      646\n",
      "PM10       381\n",
      "SO2        507\n",
      "NO2        668\n",
      "CO           0\n",
      "O3           0\n",
      "TEMP        51\n",
      "PRES        50\n",
      "DEWP        51\n",
      "RAIN        43\n",
      "wd         159\n",
      "WSPM        42\n",
      "station      0\n",
      "dtype: int64\n"
     ]
    }
   ],
   "source": [
    "# Menggunakan nilai median dari kolom O3 untuk mengisikan missing value kolom O3\n",
    "O3_median_gucheng = Gucheng_df_cleaned['O3'].median()\n",
    "print(f\"Median O3: {O3_median_gucheng}\")\n",
    "\n",
    "# Melakukan imputasi nilai median pada kolom O3 yang mengandung missing value\n",
    "Gucheng_df_cleaned['O3'] = Gucheng_df_cleaned['O3'].fillna(O3_median_gucheng)\n",
    "\n",
    "# Cek apakah missing values saat ini pada data Gucheng_df_cleaned\n",
    "print(\"Missing value pada Gucheng_df_cleaned saat ini :\\n\", Gucheng_df_cleaned.isna().sum())"
   ]
  },
  {
   "cell_type": "markdown",
   "metadata": {},
   "source": [
    "*temporary insight*\n",
    "\n",
    "Melakukan penanganan missing values pada kolom O3 ini sama seperti kolom-kolom sebelumnya pada dataset Gucheng_df_cleaned ini. Dengan melakukan metode imputasi nilai median dari kolom O3. Setelah dilakukan penanganan missing values pada kolom ini, didapatkan kolom selanjutnya yang masih memiliki jumlah missing values yang banyak yakni kolom NO2. Sehingga selanjutnya yakni menangani missing values pada kolom tersebut."
   ]
  },
  {
   "cell_type": "markdown",
   "metadata": {
    "jp-MarkdownHeadingCollapsed": true
   },
   "source": [
    "###### Missing value pada Gucheng_df_cleaned kolom NO2"
   ]
  },
  {
   "cell_type": "code",
   "execution_count": 197,
   "metadata": {},
   "outputs": [
    {
     "name": "stdout",
     "output_type": "stream",
     "text": [
      "Persentase missing values di kolom NO2: 1.9050878393794206%\n"
     ]
    }
   ],
   "source": [
    "# Mengecek persentase missing values di kolom NO2\n",
    "NO2_missing_percentage_gucheng = Gucheng_df_cleaned['NO2'].isnull().mean() * 100\n",
    "print(f\"Persentase missing values di kolom NO2: {NO2_missing_percentage_gucheng}%\")"
   ]
  },
  {
   "cell_type": "code",
   "execution_count": 198,
   "metadata": {},
   "outputs": [
    {
     "name": "stdout",
     "output_type": "stream",
     "text": [
      "Median NO2: 50.0\n",
      "No           0\n",
      "year         0\n",
      "month        0\n",
      "day          0\n",
      "hour         0\n",
      "PM2.5      646\n",
      "PM10       381\n",
      "SO2        507\n",
      "NO2          0\n",
      "CO           0\n",
      "O3           0\n",
      "TEMP        51\n",
      "PRES        50\n",
      "DEWP        51\n",
      "RAIN        43\n",
      "wd         159\n",
      "WSPM        42\n",
      "station      0\n",
      "dtype: int64\n"
     ]
    }
   ],
   "source": [
    "# Menggunakan nilai median dari kolom NO2 untuk mengisikan missing value kolom NO2\n",
    "NO2_median_gucheng = Gucheng_df_cleaned['NO2'].median()\n",
    "print(f\"Median NO2: {NO2_median_gucheng}\")\n",
    "\n",
    "# Melakukan imputasi nilai median pada kolom NO2 yang mengandung missing value\n",
    "Gucheng_df_cleaned['NO2'] = Gucheng_df_cleaned['NO2'].fillna(NO2_median_gucheng)\n",
    "\n",
    "# Cek apakah missing values saat ini pada data Gucheng_df_cleaned\n",
    "print(Gucheng_df_cleaned.isna().sum())"
   ]
  },
  {
   "cell_type": "markdown",
   "metadata": {},
   "source": [
    "*temporary insight*\n",
    "\n",
    "Dilakukan juga identifikasi missing values pada kolom NO2 ini untuk mengetahui besaran masalah. Selanjutnya, memilih memutuskan menggunakan nilai median untuk mengisi missing values karena lebik cocok jika terdapat outlier. Kemudian menyimpan dataset yang telah diberikan pada variabel Gucheng_df_cleaned dan menampilkan jumlah missing values pada data tersebut saat ini. Dapat dilihat jumlah missing values paling banyak saat ini adalah pada kolom PM2.5 sehingga selanjutnya yakni menangani missing values pada kolom tersebut."
   ]
  },
  {
   "cell_type": "markdown",
   "metadata": {
    "jp-MarkdownHeadingCollapsed": true
   },
   "source": [
    "###### Missing value pada Gucheng_df_cleaned kolom PM.25"
   ]
  },
  {
   "cell_type": "code",
   "execution_count": 199,
   "metadata": {},
   "outputs": [
    {
     "name": "stdout",
     "output_type": "stream",
     "text": [
      "Persentase missing values di kolom PM2.5: 1.842345425507643%\n"
     ]
    }
   ],
   "source": [
    "# Mengecek persentase missing values di kolom PM2.5\n",
    "PM25_missing_percentage_gucheng = Gucheng_df_cleaned['PM2.5'].isnull().mean() * 100\n",
    "print(f\"Persentase missing values di kolom PM2.5: {PM25_missing_percentage_gucheng}%\")"
   ]
  },
  {
   "cell_type": "code",
   "execution_count": 200,
   "metadata": {},
   "outputs": [
    {
     "name": "stdout",
     "output_type": "stream",
     "text": [
      "Median PM2.5: 60.0\n",
      "Missing value pada Gucheng_df_cleaned saat ini :\n",
      " No           0\n",
      "year         0\n",
      "month        0\n",
      "day          0\n",
      "hour         0\n",
      "PM2.5        0\n",
      "PM10       381\n",
      "SO2        507\n",
      "NO2          0\n",
      "CO           0\n",
      "O3           0\n",
      "TEMP        51\n",
      "PRES        50\n",
      "DEWP        51\n",
      "RAIN        43\n",
      "wd         159\n",
      "WSPM        42\n",
      "station      0\n",
      "dtype: int64\n"
     ]
    }
   ],
   "source": [
    "# Menggunakan nilai median dari kolom PM2.5 untuk mengisikan missing value kolom PM2.5\n",
    "PM25_median_gucheng = Gucheng_df_cleaned['PM2.5'].median()\n",
    "print(f\"Median PM2.5: {PM25_median_gucheng}\")\n",
    "\n",
    "# Melakukan imputasi nilai median pada kolom PM2.5 yang mengandung missing value\n",
    "Gucheng_df_cleaned['PM2.5'] = Gucheng_df_cleaned['PM2.5'].fillna(PM25_median_gucheng)\n",
    "\n",
    "# Cek apakah missing values saat ini pada data Gucheng_df_cleaned\n",
    "print(\"Missing value pada Gucheng_df_cleaned saat ini :\\n\", Gucheng_df_cleaned.isna().sum())"
   ]
  },
  {
   "cell_type": "markdown",
   "metadata": {},
   "source": [
    "*temporary insight*\n",
    "\n",
    "Melakukan penanganan missing values pada kolom PM2.5 ini sama seperti kolom-kolom sebelumnya pada dataset Gucheng_df_cleaned ini. Dengan melakukan metode imputasi nilai median dari kolom PM2.5. Setelah dilakukan penanganan missing values pada kolom ini, didapatkan kolom selanjutnya yang masih memiliki jumlah missing values yang banyak yakni kolom SO2. Sehingga selanjutnya yakni menangani missing values pada kolom tersebut."
   ]
  },
  {
   "cell_type": "markdown",
   "metadata": {
    "jp-MarkdownHeadingCollapsed": true
   },
   "source": [
    "###### Missing value pada Gucheng_df_cleaned kolom SO2"
   ]
  },
  {
   "cell_type": "code",
   "execution_count": 201,
   "metadata": {},
   "outputs": [
    {
     "name": "stdout",
     "output_type": "stream",
     "text": [
      "Persentase missing values di kolom SO2: 1.445927446954141%\n"
     ]
    }
   ],
   "source": [
    "# Mengecek persentase missing values di kolom SO2\n",
    "SO2_missing_percentage_gucheng = Gucheng_df_cleaned['SO2'].isnull().mean() * 100\n",
    "print(f\"Persentase missing values di kolom SO2: {SO2_missing_percentage_gucheng}%\")"
   ]
  },
  {
   "cell_type": "code",
   "execution_count": 202,
   "metadata": {},
   "outputs": [
    {
     "name": "stdout",
     "output_type": "stream",
     "text": [
      "Median SO2: 7.0\n",
      "Missing value pada Gucheng_df_cleaned saat ini :\n",
      " No           0\n",
      "year         0\n",
      "month        0\n",
      "day          0\n",
      "hour         0\n",
      "PM2.5        0\n",
      "PM10       381\n",
      "SO2          0\n",
      "NO2          0\n",
      "CO           0\n",
      "O3           0\n",
      "TEMP        51\n",
      "PRES        50\n",
      "DEWP        51\n",
      "RAIN        43\n",
      "wd         159\n",
      "WSPM        42\n",
      "station      0\n",
      "dtype: int64\n"
     ]
    }
   ],
   "source": [
    "# Menggunakan nilai median dari kolom SO2 untuk mengisikan missing value kolom SO2\n",
    "SO2_median_gucheng = Gucheng_df_cleaned['SO2'].median()\n",
    "print(f\"Median SO2: {SO2_median_gucheng}\")\n",
    "\n",
    "# Melakukan imputasi nilai median pada kolom SO2 yang mengandung missing value\n",
    "Gucheng_df_cleaned['SO2'] = Gucheng_df_cleaned['SO2'].fillna(SO2_median_gucheng)\n",
    "\n",
    "# Cek apakah missing values saat ini pada data Gucheng_df_cleaned\n",
    "print(\"Missing value pada Gucheng_df_cleaned saat ini :\\n\", Gucheng_df_cleaned.isna().sum())"
   ]
  },
  {
   "cell_type": "markdown",
   "metadata": {},
   "source": [
    "*temporary insight*\n",
    "\n",
    "Melakukan penanganan missing values pada kolom SO2 ini sama seperti kolom-kolom sebelumnya pada dataset Gucheng_df_cleaned ini. Dengan melakukan metode imputasi nilai median dari kolom SO2. Setelah dilakukan penanganan missing values pada kolom ini, didapatkan kolom selanjutnya yang masih memiliki jumlah missing values yang banyak yakni kolom PM10. Sehingga selanjutnya yakni menangani missing values pada kolom tersebut."
   ]
  },
  {
   "cell_type": "markdown",
   "metadata": {
    "jp-MarkdownHeadingCollapsed": true
   },
   "source": [
    "###### Missing value pada Guanyuan_df_cleaned kolom PM10"
   ]
  },
  {
   "cell_type": "code",
   "execution_count": 203,
   "metadata": {},
   "outputs": [
    {
     "name": "stdout",
     "output_type": "stream",
     "text": [
      "Persentase missing values di kolom PM10: 1.0865845311430526%\n"
     ]
    }
   ],
   "source": [
    "# Mengecek persentase missing values di kolom PM10\n",
    "PM10_missing_percentage_gucheng = Gucheng_df_cleaned['PM10'].isnull().mean() * 100\n",
    "print(f\"Persentase missing values di kolom PM10: {PM10_missing_percentage_gucheng}%\")"
   ]
  },
  {
   "cell_type": "code",
   "execution_count": 204,
   "metadata": {},
   "outputs": [
    {
     "name": "stdout",
     "output_type": "stream",
     "text": [
      "Median PM10: 99.0\n",
      "Missing value pada Gucheng_df_cleaned saat ini :\n",
      " No           0\n",
      "year         0\n",
      "month        0\n",
      "day          0\n",
      "hour         0\n",
      "PM2.5        0\n",
      "PM10         0\n",
      "SO2          0\n",
      "NO2          0\n",
      "CO           0\n",
      "O3           0\n",
      "TEMP        51\n",
      "PRES        50\n",
      "DEWP        51\n",
      "RAIN        43\n",
      "wd         159\n",
      "WSPM        42\n",
      "station      0\n",
      "dtype: int64\n"
     ]
    }
   ],
   "source": [
    "# Menggunakan nilai median dari kolom PM10 untuk mengisikan missing value kolom PM10\n",
    "PM10_median_gucheng = Gucheng_df_cleaned['PM10'].median()\n",
    "print(f\"Median PM10: {PM10_median_gucheng}\")\n",
    "\n",
    "# Melakukan imputasi nilai median pada kolom PM10 yang mengandung missing value\n",
    "Gucheng_df_cleaned['PM10'] = Gucheng_df_cleaned['PM10'].fillna(PM10_median_gucheng)\n",
    "\n",
    "# Cek apakah missing values saat ini pada data Gucheng_df_cleaned\n",
    "print(\"Missing value pada Gucheng_df_cleaned saat ini :\\n\", Gucheng_df_cleaned.isna().sum())"
   ]
  },
  {
   "cell_type": "markdown",
   "metadata": {},
   "source": [
    "*temporary insight*\n",
    "\n",
    "Telah dilakukan penanganan missing values pada kolom PM10. Dengan melakukan metode imputasi nilai median pada setiap baris kolom tersebut yang terdapat missing values. Dari informasi yang telah ditampilkan saat ini hanya beberapa kolom saja yang memiliki missing values dengan jumlah yang tidak begitu banyak juga. Sehingga akan ditangani selanjutnya."
   ]
  },
  {
   "cell_type": "markdown",
   "metadata": {
    "jp-MarkdownHeadingCollapsed": true
   },
   "source": [
    "###### Missing values pada data Gucheng_df_cleaned kolom TEMP, PRES, DEWP, RAIN, wd, dan WSPM"
   ]
  },
  {
   "cell_type": "code",
   "execution_count": 205,
   "metadata": {},
   "outputs": [
    {
     "name": "stdout",
     "output_type": "stream",
     "text": [
      "Jumlah missing values saat ini:\n",
      "No           0\n",
      "year         0\n",
      "month        0\n",
      "day          0\n",
      "hour         0\n",
      "PM2.5        0\n",
      "PM10         0\n",
      "SO2          0\n",
      "NO2          0\n",
      "CO           0\n",
      "O3           0\n",
      "TEMP        51\n",
      "PRES        50\n",
      "DEWP        51\n",
      "RAIN        43\n",
      "wd         159\n",
      "WSPM        42\n",
      "station      0\n",
      "dtype: int64\n"
     ]
    }
   ],
   "source": [
    "# Menampilkan jumlah missing values saat ini pada data Gucheng_df_cleaned\n",
    "print(\"Jumlah missing values saat ini:\")\n",
    "print(Gucheng_df_cleaned.isna().sum())"
   ]
  },
  {
   "cell_type": "code",
   "execution_count": 206,
   "metadata": {},
   "outputs": [
    {
     "name": "stdout",
     "output_type": "stream",
     "text": [
      "Jumlah missing values sekarang:\n",
      "No         0\n",
      "year       0\n",
      "month      0\n",
      "day        0\n",
      "hour       0\n",
      "PM2.5      0\n",
      "PM10       0\n",
      "SO2        0\n",
      "NO2        0\n",
      "CO         0\n",
      "O3         0\n",
      "TEMP       0\n",
      "PRES       0\n",
      "DEWP       0\n",
      "RAIN       0\n",
      "wd         0\n",
      "WSPM       0\n",
      "station    0\n",
      "dtype: int64\n"
     ]
    }
   ],
   "source": [
    "# Menghapus baris yang memiliki missing values pada kolom TEMP, PRES, DEWP, RAIN, wd, dan WSPM\n",
    "Gucheng_df_cleaned.dropna(subset=['TEMP', 'PRES', 'DEWP', 'RAIN', 'wd', 'WSPM'], inplace=True)\n",
    "\n",
    "# Verifikasi penghapusan missing values\n",
    "print(\"Jumlah missing values sekarang:\")\n",
    "print(Gucheng_df_cleaned.isna().sum())"
   ]
  },
  {
   "cell_type": "markdown",
   "metadata": {},
   "source": [
    "*temporary insight*\n",
    "\n",
    "Dilakukan periksa ulang jumlah missing values setelah imputasi pada kolom yang tersisa. Kemudian melakukan dropping missing values dengan menggunakan metode `dropna()` untuk menghapus baris yang memiliki missing values pada kolom-kolom tersebut. Dan juga telah dilakukan verifikasi hasil dropping missing values sudah dihilangkan dengan memeriksa ulang dataset. Sehingga saat ini data Gucheng_df_cleaned sudah bersih dari missing values"
   ]
  },
  {
   "cell_type": "markdown",
   "metadata": {
    "jp-MarkdownHeadingCollapsed": true
   },
   "source": [
    "##### Menangani Inaccurate Value pada Gucheng_df_cleaned"
   ]
  },
  {
   "cell_type": "code",
   "execution_count": 207,
   "metadata": {},
   "outputs": [
    {
     "data": {
      "text/html": [
       "<div>\n",
       "<style scoped>\n",
       "    .dataframe tbody tr th:only-of-type {\n",
       "        vertical-align: middle;\n",
       "    }\n",
       "\n",
       "    .dataframe tbody tr th {\n",
       "        vertical-align: top;\n",
       "    }\n",
       "\n",
       "    .dataframe thead th {\n",
       "        text-align: right;\n",
       "    }\n",
       "</style>\n",
       "<table border=\"1\" class=\"dataframe\">\n",
       "  <thead>\n",
       "    <tr style=\"text-align: right;\">\n",
       "      <th></th>\n",
       "      <th>No</th>\n",
       "      <th>year</th>\n",
       "      <th>month</th>\n",
       "      <th>day</th>\n",
       "      <th>hour</th>\n",
       "      <th>PM2.5</th>\n",
       "      <th>PM10</th>\n",
       "      <th>SO2</th>\n",
       "      <th>NO2</th>\n",
       "      <th>CO</th>\n",
       "      <th>O3</th>\n",
       "      <th>TEMP</th>\n",
       "      <th>PRES</th>\n",
       "      <th>DEWP</th>\n",
       "      <th>RAIN</th>\n",
       "      <th>WSPM</th>\n",
       "    </tr>\n",
       "  </thead>\n",
       "  <tbody>\n",
       "    <tr>\n",
       "      <th>count</th>\n",
       "      <td>34898.000000</td>\n",
       "      <td>34898.000000</td>\n",
       "      <td>34898.000000</td>\n",
       "      <td>34898.000000</td>\n",
       "      <td>34898.000000</td>\n",
       "      <td>34898.000000</td>\n",
       "      <td>34898.000000</td>\n",
       "      <td>34898.000000</td>\n",
       "      <td>34898.000000</td>\n",
       "      <td>34898.000000</td>\n",
       "      <td>34898.000000</td>\n",
       "      <td>34898.000000</td>\n",
       "      <td>34898.000000</td>\n",
       "      <td>34898.000000</td>\n",
       "      <td>34898.000000</td>\n",
       "      <td>34898.000000</td>\n",
       "    </tr>\n",
       "    <tr>\n",
       "      <th>mean</th>\n",
       "      <td>17513.522752</td>\n",
       "      <td>2014.660009</td>\n",
       "      <td>6.527795</td>\n",
       "      <td>15.723996</td>\n",
       "      <td>11.509972</td>\n",
       "      <td>83.321887</td>\n",
       "      <td>118.585850</td>\n",
       "      <td>15.244325</td>\n",
       "      <td>55.711860</td>\n",
       "      <td>1305.603502</td>\n",
       "      <td>57.556085</td>\n",
       "      <td>13.875923</td>\n",
       "      <td>1008.830782</td>\n",
       "      <td>2.602476</td>\n",
       "      <td>0.064637</td>\n",
       "      <td>1.347026</td>\n",
       "    </tr>\n",
       "    <tr>\n",
       "      <th>std</th>\n",
       "      <td>10126.209915</td>\n",
       "      <td>1.177331</td>\n",
       "      <td>3.446984</td>\n",
       "      <td>8.804102</td>\n",
       "      <td>6.918889</td>\n",
       "      <td>82.104211</td>\n",
       "      <td>96.283598</td>\n",
       "      <td>21.091019</td>\n",
       "      <td>36.135416</td>\n",
       "      <td>1187.489249</td>\n",
       "      <td>56.487853</td>\n",
       "      <td>11.295401</td>\n",
       "      <td>10.109430</td>\n",
       "      <td>13.788843</td>\n",
       "      <td>0.840109</td>\n",
       "      <td>1.150319</td>\n",
       "    </tr>\n",
       "    <tr>\n",
       "      <th>min</th>\n",
       "      <td>1.000000</td>\n",
       "      <td>2013.000000</td>\n",
       "      <td>1.000000</td>\n",
       "      <td>1.000000</td>\n",
       "      <td>0.000000</td>\n",
       "      <td>2.000000</td>\n",
       "      <td>2.000000</td>\n",
       "      <td>0.285600</td>\n",
       "      <td>2.000000</td>\n",
       "      <td>100.000000</td>\n",
       "      <td>0.214200</td>\n",
       "      <td>-15.600000</td>\n",
       "      <td>984.000000</td>\n",
       "      <td>-34.600000</td>\n",
       "      <td>0.000000</td>\n",
       "      <td>0.000000</td>\n",
       "    </tr>\n",
       "    <tr>\n",
       "      <th>25%</th>\n",
       "      <td>8741.250000</td>\n",
       "      <td>2014.000000</td>\n",
       "      <td>4.000000</td>\n",
       "      <td>8.000000</td>\n",
       "      <td>6.000000</td>\n",
       "      <td>24.000000</td>\n",
       "      <td>46.000000</td>\n",
       "      <td>2.000000</td>\n",
       "      <td>26.000000</td>\n",
       "      <td>600.000000</td>\n",
       "      <td>10.000000</td>\n",
       "      <td>3.700000</td>\n",
       "      <td>1000.400000</td>\n",
       "      <td>-9.000000</td>\n",
       "      <td>0.000000</td>\n",
       "      <td>0.600000</td>\n",
       "    </tr>\n",
       "    <tr>\n",
       "      <th>50%</th>\n",
       "      <td>17514.500000</td>\n",
       "      <td>2015.000000</td>\n",
       "      <td>7.000000</td>\n",
       "      <td>16.000000</td>\n",
       "      <td>12.000000</td>\n",
       "      <td>60.000000</td>\n",
       "      <td>99.000000</td>\n",
       "      <td>7.000000</td>\n",
       "      <td>50.000000</td>\n",
       "      <td>900.000000</td>\n",
       "      <td>45.000000</td>\n",
       "      <td>14.800000</td>\n",
       "      <td>1008.500000</td>\n",
       "      <td>3.000000</td>\n",
       "      <td>0.000000</td>\n",
       "      <td>1.000000</td>\n",
       "    </tr>\n",
       "    <tr>\n",
       "      <th>75%</th>\n",
       "      <td>26293.750000</td>\n",
       "      <td>2016.000000</td>\n",
       "      <td>10.000000</td>\n",
       "      <td>23.000000</td>\n",
       "      <td>18.000000</td>\n",
       "      <td>114.000000</td>\n",
       "      <td>166.000000</td>\n",
       "      <td>19.000000</td>\n",
       "      <td>78.000000</td>\n",
       "      <td>1600.000000</td>\n",
       "      <td>83.000000</td>\n",
       "      <td>23.500000</td>\n",
       "      <td>1017.000000</td>\n",
       "      <td>15.300000</td>\n",
       "      <td>0.000000</td>\n",
       "      <td>1.800000</td>\n",
       "    </tr>\n",
       "    <tr>\n",
       "      <th>max</th>\n",
       "      <td>35064.000000</td>\n",
       "      <td>2017.000000</td>\n",
       "      <td>12.000000</td>\n",
       "      <td>31.000000</td>\n",
       "      <td>23.000000</td>\n",
       "      <td>770.000000</td>\n",
       "      <td>994.000000</td>\n",
       "      <td>500.000000</td>\n",
       "      <td>276.000000</td>\n",
       "      <td>10000.000000</td>\n",
       "      <td>450.000000</td>\n",
       "      <td>41.600000</td>\n",
       "      <td>1038.100000</td>\n",
       "      <td>27.400000</td>\n",
       "      <td>41.900000</td>\n",
       "      <td>12.000000</td>\n",
       "    </tr>\n",
       "  </tbody>\n",
       "</table>\n",
       "</div>"
      ],
      "text/plain": [
       "                 No          year         month           day          hour  \\\n",
       "count  34898.000000  34898.000000  34898.000000  34898.000000  34898.000000   \n",
       "mean   17513.522752   2014.660009      6.527795     15.723996     11.509972   \n",
       "std    10126.209915      1.177331      3.446984      8.804102      6.918889   \n",
       "min        1.000000   2013.000000      1.000000      1.000000      0.000000   \n",
       "25%     8741.250000   2014.000000      4.000000      8.000000      6.000000   \n",
       "50%    17514.500000   2015.000000      7.000000     16.000000     12.000000   \n",
       "75%    26293.750000   2016.000000     10.000000     23.000000     18.000000   \n",
       "max    35064.000000   2017.000000     12.000000     31.000000     23.000000   \n",
       "\n",
       "              PM2.5          PM10           SO2           NO2            CO  \\\n",
       "count  34898.000000  34898.000000  34898.000000  34898.000000  34898.000000   \n",
       "mean      83.321887    118.585850     15.244325     55.711860   1305.603502   \n",
       "std       82.104211     96.283598     21.091019     36.135416   1187.489249   \n",
       "min        2.000000      2.000000      0.285600      2.000000    100.000000   \n",
       "25%       24.000000     46.000000      2.000000     26.000000    600.000000   \n",
       "50%       60.000000     99.000000      7.000000     50.000000    900.000000   \n",
       "75%      114.000000    166.000000     19.000000     78.000000   1600.000000   \n",
       "max      770.000000    994.000000    500.000000    276.000000  10000.000000   \n",
       "\n",
       "                 O3          TEMP          PRES          DEWP          RAIN  \\\n",
       "count  34898.000000  34898.000000  34898.000000  34898.000000  34898.000000   \n",
       "mean      57.556085     13.875923   1008.830782      2.602476      0.064637   \n",
       "std       56.487853     11.295401     10.109430     13.788843      0.840109   \n",
       "min        0.214200    -15.600000    984.000000    -34.600000      0.000000   \n",
       "25%       10.000000      3.700000   1000.400000     -9.000000      0.000000   \n",
       "50%       45.000000     14.800000   1008.500000      3.000000      0.000000   \n",
       "75%       83.000000     23.500000   1017.000000     15.300000      0.000000   \n",
       "max      450.000000     41.600000   1038.100000     27.400000     41.900000   \n",
       "\n",
       "               WSPM  \n",
       "count  34898.000000  \n",
       "mean       1.347026  \n",
       "std        1.150319  \n",
       "min        0.000000  \n",
       "25%        0.600000  \n",
       "50%        1.000000  \n",
       "75%        1.800000  \n",
       "max       12.000000  "
      ]
     },
     "execution_count": 207,
     "metadata": {},
     "output_type": "execute_result"
    }
   ],
   "source": [
    "Gucheng_df_cleaned.describe()"
   ]
  },
  {
   "cell_type": "markdown",
   "metadata": {
    "jp-MarkdownHeadingCollapsed": true
   },
   "source": [
    "###### Inaccurate value data Gucheng_df_cleaned kolom PM2.5"
   ]
  },
  {
   "cell_type": "code",
   "execution_count": 208,
   "metadata": {},
   "outputs": [
    {
     "name": "stdout",
     "output_type": "stream",
     "text": [
      "        No  year  month  day  hour  PM2.5   PM10    SO2    NO2      CO    O3  \\\n",
      "8422  8423  2014      2   14    22  770.0  777.0  123.0  142.0  5100.0  11.0   \n",
      "\n",
      "      TEMP    PRES  DEWP  RAIN wd  WSPM  station  \n",
      "8422  -3.6  1016.9  -6.1   0.0  W   0.6  Gucheng  \n"
     ]
    }
   ],
   "source": [
    "# Mengambil baris data yang mengandung nilai maksimum pada kolom PM2.5\n",
    "max_pm25_row_gucheng = Gucheng_df_cleaned[Gucheng_df_cleaned['PM2.5'] == Gucheng_df_cleaned['PM2.5'].max()]\n",
    "print(max_pm25_row_gucheng)"
   ]
  },
  {
   "cell_type": "code",
   "execution_count": 209,
   "metadata": {},
   "outputs": [
    {
     "name": "stdout",
     "output_type": "stream",
     "text": [
      "Jumlah baris yang dihapus pada Gucheng_df_cleaned: 125\n"
     ]
    }
   ],
   "source": [
    "# Menentukan batas maksimum untuk PM2.5\n",
    "batas_maksimum_pm25 = 500\n",
    "\n",
    "# Menghitung jumlah baris yang akan dihapus\n",
    "jumlah_baris_hilang_gucheng = Gucheng_df_cleaned[Gucheng_df_cleaned['PM2.5'] > batas_maksimum_pm25].shape[0]\n",
    "\n",
    "# Menampilkan informasi\n",
    "print(f\"Jumlah baris yang dihapus pada Gucheng_df_cleaned: {jumlah_baris_hilang_gucheng}\")"
   ]
  },
  {
   "cell_type": "code",
   "execution_count": 210,
   "metadata": {},
   "outputs": [
    {
     "name": "stdout",
     "output_type": "stream",
     "text": [
      "Jumlah baris tersisa setelah penghapusan pada Gucheng_df_cleaned: 34773\n"
     ]
    }
   ],
   "source": [
    "# Menghapus baris yang memiliki nilai PM2.5 lebih dari batas maksimum\n",
    "Gucheng_df_cleaned = Gucheng_df_cleaned[Gucheng_df_cleaned['PM2.5'] <= batas_maksimum_pm25]\n",
    "\n",
    "# Memeriksa jumlah baris dan kolom setelah proses pembersihan\n",
    "jumlah_baris_tersisa_gucheng = Gucheng_df_cleaned.shape[0]\n",
    "\n",
    "# Menampilkan informasi\n",
    "print(f\"Jumlah baris tersisa setelah penghapusan pada Gucheng_df_cleaned: {jumlah_baris_tersisa_gucheng}\")"
   ]
  },
  {
   "cell_type": "markdown",
   "metadata": {},
   "source": [
    "*temporary insight*\n",
    "\n",
    "Dilakukan penetapan batas maksimum untuk PM2.5, dengan nilai 500 seperti yang telah dilakukan pada dataset sebelumnya juga. Atas dasar karena dalam banyak studi, nilai PM2.5 yang lebih dari 500 bisa dianggap tidak wajar. kemudian menghitung jumlah baris data yang akan dihapus pada Dongsi_df_cleaned. Dengan menggunakan kondisi untuk menghitung jumlah baris yang memiliki nilai PM2.5 lebih dari batas maksimum. Lalu menghapus baris dan memeriksa ukuran dataset saat ini. Dalam hal ini dapat dilihat, bahwa jumlah baris data yang dihapus atau memiliki nilai PM2.5 lebih dari 500 terhitung sebanyak 125 baris data. Dan setelah dilakukan dropping values, tersisa 34773 baris data pada Dongsi_df_cleaned."
   ]
  },
  {
   "cell_type": "markdown",
   "metadata": {
    "jp-MarkdownHeadingCollapsed": true
   },
   "source": [
    "###### Inaccurate value pada Gucheng_df_cleaned kolom PM10"
   ]
  },
  {
   "cell_type": "code",
   "execution_count": 212,
   "metadata": {},
   "outputs": [
    {
     "name": "stdout",
     "output_type": "stream",
     "text": [
      "          No  year  month  day  hour  PM2.5   PM10  SO2  NO2     CO    O3  \\\n",
      "27888  27889  2016      5    6     0  222.0  986.0  2.0  3.0  200.0  95.0   \n",
      "\n",
      "       TEMP    PRES  DEWP  RAIN  wd  WSPM  station  \n",
      "27888  18.4  1002.5 -10.6   0.0  NW   5.1  Gucheng  \n"
     ]
    }
   ],
   "source": [
    "# Mengambil baris data yang mengandung nilai maksimum pada kolom PM10\n",
    "max_pm10_row_gucheng = Gucheng_df_cleaned[Gucheng_df_cleaned['PM10'] == Gucheng_df_cleaned['PM10'].max()]\n",
    "print(max_pm10_row_gucheng)"
   ]
  },
  {
   "cell_type": "code",
   "execution_count": 213,
   "metadata": {},
   "outputs": [
    {
     "name": "stdout",
     "output_type": "stream",
     "text": [
      "Jumlah baris yang akan dihapus dari PM10: 1496\n"
     ]
    }
   ],
   "source": [
    "# Menentukan batas maksimum untuk PM10\n",
    "batas_maksimum_pm10 = 300.0 \n",
    "\n",
    "# Menghitung jumlah baris yang akan dihapus\n",
    "jumlah_baris_hilang_pm10_gucheng = Gucheng_df_cleaned[Gucheng_df_cleaned['PM10'] > batas_maksimum_pm10].shape[0]\n",
    "print(f\"Jumlah baris yang akan dihapus dari PM10: {jumlah_baris_hilang_pm10_gucheng}\")"
   ]
  },
  {
   "cell_type": "code",
   "execution_count": 214,
   "metadata": {},
   "outputs": [
    {
     "name": "stdout",
     "output_type": "stream",
     "text": [
      "Jumlah baris tersisa setelah penghapusan PM10: 33277\n"
     ]
    }
   ],
   "source": [
    "# Menghapus baris yang memiliki nilai PM10 lebih dari batas maksimum\n",
    "Gucheng_df_cleaned = Gucheng_df_cleaned[Gucheng_df_cleaned['PM10'] <= batas_maksimum_pm10]\n",
    "\n",
    "# Memeriksa jumlah baris dan kolom setelah proses pembersihan\n",
    "jumlah_baris_tersisa_pm10_gucheng = Gucheng_df_cleaned.shape[0]\n",
    "\n",
    "print(f\"Jumlah baris tersisa setelah penghapusan PM10: {jumlah_baris_tersisa_pm10_gucheng}\")"
   ]
  },
  {
   "cell_type": "markdown",
   "metadata": {},
   "source": [
    "*temporary value*\n",
    "\n",
    "Dilakukan juga pembersihan inaccurate value pada data Guacheng_df_cleaned dengan melakukan dropping. atau menghapus (drop) data pada kolom PM10 yang melebihi ambang batas yang telah ditentukan. Yakni nilai yang ditentukan tidak wajar, denagn pemilihan batas maksimum 300.0 adalah berdasarkan pemahaman tentang kualitas udara dan standar yang umum digunakan. Nilai ini didasarkan pada standar kualitas udara, di mana nilai PM10 di atas 300.0 bisa dianggap sebagai tidak wajar dan mungkin menunjukkan kesalahan pengukuran atau data yang tidak konsisten. Karena berdasarkan analisah yang telah dilakuan, batas maksimum yang wajar untuk PM10 bisa disarankan antara 150.0 hingga 300.0 untuk kualitas udara yang baik, dan nilai di atas 300.0 bisa dianggap sebagai data tidak wajar dalam konteks tertentu. Setelah penghapusan, diberikan informasi yang jelas tentang berapa banyak data yang hilang dan berapa banyak data yang tersisa, memastikan bahwa analisis selanjutnya didasarkan pada data yang valid."
   ]
  },
  {
   "cell_type": "markdown",
   "metadata": {
    "jp-MarkdownHeadingCollapsed": true
   },
   "source": [
    "###### Inaccurate value pada Gucheng_df_cleaned kolom CO"
   ]
  },
  {
   "cell_type": "code",
   "execution_count": 215,
   "metadata": {},
   "outputs": [
    {
     "name": "stdout",
     "output_type": "stream",
     "text": [
      "          No  year  month  day  hour  PM2.5  PM10  SO2   NO2     CO    O3  \\\n",
      "0          1  2013      3    1     0    6.0  18.0  5.0  50.0  800.0  88.0   \n",
      "1          2  2013      3    1     1    6.0  15.0  5.0  50.0  800.0  88.0   \n",
      "2          3  2013      3    1     2    5.0  18.0  7.0  50.0  700.0  52.0   \n",
      "3          4  2013      3    1     3    6.0  20.0  6.0  50.0  900.0  45.0   \n",
      "4          5  2013      3    1     4    5.0  17.0  5.0  50.0  600.0  73.0   \n",
      "...      ...   ...    ...  ...   ...    ...   ...  ...   ...    ...   ...   \n",
      "35059  35060  2017      2   28    19   14.0  58.0  4.0  19.0  500.0  56.0   \n",
      "35060  35061  2017      2   28    20   27.0  83.0  6.0  60.0  700.0  26.0   \n",
      "35061  35062  2017      2   28    21   22.0  37.0  7.0  52.0  600.0  27.0   \n",
      "35062  35063  2017      2   28    22    9.0  23.0  3.0  13.0  400.0  57.0   \n",
      "35063  35064  2017      2   28    23   12.0  48.0  5.0  48.0  600.0  28.0   \n",
      "\n",
      "       TEMP    PRES  DEWP  RAIN   wd  WSPM  station  \n",
      "0       0.1  1021.1 -18.6   0.0   NW   4.4  Gucheng  \n",
      "1      -0.3  1021.5 -19.0   0.0   NW   4.0  Gucheng  \n",
      "2      -0.7  1021.5 -19.8   0.0  WNW   4.6  Gucheng  \n",
      "3      -1.0  1022.7 -21.2   0.0    W   2.8  Gucheng  \n",
      "4      -1.3  1023.0 -21.4   0.0  WNW   3.6  Gucheng  \n",
      "...     ...     ...   ...   ...  ...   ...      ...  \n",
      "35059  12.8  1009.9 -17.0   0.0  NNW   3.1  Gucheng  \n",
      "35060  11.1  1010.4 -15.5   0.0   NW   1.9  Gucheng  \n",
      "35061  10.5  1010.8 -15.9   0.0    N   2.3  Gucheng  \n",
      "35062   8.9  1010.9 -14.9   0.0   NE   1.6  Gucheng  \n",
      "35063   6.2  1010.5 -13.4   0.0  NNE   0.7  Gucheng  \n",
      "\n",
      "[33277 rows x 18 columns]\n"
     ]
    }
   ],
   "source": [
    "# Identifikasi nilai CO yang tidak realistis (di atas 50 mg/m³ dan di bawah 0 mg/m³)\n",
    "unrealistic_co_gucheng = Gucheng_df_cleaned[(Gucheng_df_cleaned['CO'] > 50) | (Gucheng_df_cleaned['CO'] < 0)]\n",
    "print(unrealistic_co_gucheng)"
   ]
  },
  {
   "cell_type": "code",
   "execution_count": 216,
   "metadata": {},
   "outputs": [
    {
     "data": {
      "text/plain": [
       "count    33277.000000\n",
       "mean       119.429910\n",
       "std         97.478098\n",
       "min         10.000000\n",
       "25%         60.000000\n",
       "50%         90.000000\n",
       "75%        150.000000\n",
       "max        980.000000\n",
       "Name: CO, dtype: float64"
      ]
     },
     "execution_count": 216,
     "metadata": {},
     "output_type": "execute_result"
    }
   ],
   "source": [
    "# Mengonversi nilai CO dari ratusan ke puluhan (mg/m³)\n",
    "Gucheng_df_cleaned['CO'] = Gucheng_df_cleaned['CO'] / 10\n",
    "\n",
    "# Memvalidasi hasil konversi\n",
    "Gucheng_df_cleaned['CO'].describe()"
   ]
  },
  {
   "cell_type": "code",
   "execution_count": 217,
   "metadata": {},
   "outputs": [
    {
     "name": "stdout",
     "output_type": "stream",
     "text": [
      "          No  year  month  day  hour  PM2.5  PM10   SO2   NO2     CO    O3  \\\n",
      "0          1  2013      3    1     0    6.0  18.0   5.0  50.0   80.0  88.0   \n",
      "1          2  2013      3    1     1    6.0  15.0   5.0  50.0   80.0  88.0   \n",
      "2          3  2013      3    1     2    5.0  18.0   7.0  50.0   70.0  52.0   \n",
      "3          4  2013      3    1     3    6.0  20.0   6.0  50.0   90.0  45.0   \n",
      "4          5  2013      3    1     4    5.0  17.0   5.0  50.0   60.0  73.0   \n",
      "...      ...   ...    ...  ...   ...    ...   ...   ...   ...    ...   ...   \n",
      "35045  35046  2017      2   28     5   18.0  49.0  17.0  79.0  140.0   2.0   \n",
      "35046  35047  2017      2   28     6   15.0  31.0  13.0  72.0  110.0   4.0   \n",
      "35060  35061  2017      2   28    20   27.0  83.0   6.0  60.0   70.0  26.0   \n",
      "35061  35062  2017      2   28    21   22.0  37.0   7.0  52.0   60.0  27.0   \n",
      "35063  35064  2017      2   28    23   12.0  48.0   5.0  48.0   60.0  28.0   \n",
      "\n",
      "       TEMP    PRES  DEWP  RAIN   wd  WSPM  station  \n",
      "0       0.1  1021.1 -18.6   0.0   NW   4.4  Gucheng  \n",
      "1      -0.3  1021.5 -19.0   0.0   NW   4.0  Gucheng  \n",
      "2      -0.7  1021.5 -19.8   0.0  WNW   4.6  Gucheng  \n",
      "3      -1.0  1022.7 -21.2   0.0    W   2.8  Gucheng  \n",
      "4      -1.3  1023.0 -21.4   0.0  WNW   3.6  Gucheng  \n",
      "...     ...     ...   ...   ...  ...   ...      ...  \n",
      "35045   3.0  1012.4  -8.7   0.0  ENE   0.6  Gucheng  \n",
      "35046   3.5  1012.5  -9.2   0.0  ESE   0.8  Gucheng  \n",
      "35060  11.1  1010.4 -15.5   0.0   NW   1.9  Gucheng  \n",
      "35061  10.5  1010.8 -15.9   0.0    N   2.3  Gucheng  \n",
      "35063   6.2  1010.5 -13.4   0.0  NNE   0.7  Gucheng  \n",
      "\n",
      "[25085 rows x 18 columns]\n"
     ]
    }
   ],
   "source": [
    "# Cek data CO yang masih tidak realistis (lebih dari 50 mg/m³ atau kurang dari 0 mg/m³).\n",
    "unrealistic_co_after_conversion_gucheng = Gucheng_df_cleaned[(Gucheng_df_cleaned['CO'] > 50) | (Gucheng_df_cleaned['CO'] < 0)]\n",
    "print(unrealistic_co_after_conversion_gucheng)"
   ]
  },
  {
   "cell_type": "code",
   "execution_count": 218,
   "metadata": {},
   "outputs": [
    {
     "name": "stdout",
     "output_type": "stream",
     "text": [
      "                 No          year         month           day          hour  \\\n",
      "count  33277.000000  33277.000000  33277.000000  33277.000000  33277.000000   \n",
      "mean   17461.494816   2014.654356      6.526039     15.680831     11.415873   \n",
      "std    10124.026452      1.179477      3.406694      8.791246      6.868949   \n",
      "min        1.000000   2013.000000      1.000000      1.000000      0.000000   \n",
      "25%     8629.000000   2014.000000      4.000000      8.000000      5.000000   \n",
      "50%    17508.000000   2015.000000      7.000000     16.000000     11.000000   \n",
      "75%    26256.000000   2016.000000      9.000000     23.000000     17.000000   \n",
      "max    35064.000000   2017.000000     12.000000     31.000000     23.000000   \n",
      "\n",
      "              PM2.5          PM10           SO2           NO2            CO  \\\n",
      "count  33277.000000  33277.000000  33277.000000  33277.000000  33277.000000   \n",
      "mean      72.954329    105.136337     14.181011     52.695622     39.210265   \n",
      "std       62.129078     72.611667     19.479240     32.529249      5.456793   \n",
      "min        2.000000      2.000000      0.285600      2.000000     10.000000   \n",
      "25%       23.000000     43.000000      2.000000     26.000000     40.000000   \n",
      "50%       57.000000     95.000000      6.000000     49.000000     40.000000   \n",
      "75%      105.000000    154.000000     18.000000     75.000000     40.000000   \n",
      "max      435.000000    300.000000    500.000000    222.000000     50.000000   \n",
      "\n",
      "                 O3          TEMP          PRES          DEWP          RAIN  \\\n",
      "count  33277.000000  33277.000000  33277.000000  33277.000000  33277.000000   \n",
      "mean      58.746258     14.124870   1008.757725      2.690236      0.066764   \n",
      "std       56.558588     11.323937     10.209462     13.967331      0.855985   \n",
      "min        0.214200    -15.600000    984.000000    -34.600000      0.000000   \n",
      "25%       12.000000      4.000000   1000.300000     -9.300000      0.000000   \n",
      "50%       45.000000     15.200000   1008.300000      3.500000      0.000000   \n",
      "75%       84.000000     23.700000   1017.000000     15.600000      0.000000   \n",
      "max      450.000000     41.600000   1038.100000     27.400000     41.900000   \n",
      "\n",
      "               WSPM  \n",
      "count  33277.000000  \n",
      "mean       1.361514  \n",
      "std        1.154667  \n",
      "min        0.000000  \n",
      "25%        0.600000  \n",
      "50%        1.100000  \n",
      "75%        1.800000  \n",
      "max       12.000000  \n"
     ]
    }
   ],
   "source": [
    "# Imputasi nilai CO yang masih tidak realistis dengan nilai median\n",
    "median_co_after_conversion_gucheng = Gucheng_df_cleaned[(Gucheng_df_cleaned['CO'] >= 0) & (Gucheng_df_cleaned['CO'] <= 50)]['CO'].median()\n",
    "Gucheng_df_cleaned['CO'] = Gucheng_df_cleaned['CO'].apply(lambda x: median_co_after_conversion_gucheng if x > 50 or x < 0 else x)\n",
    "\n",
    "# Cek deskripsi dataset yang sudah dilakukan proses konversi dan imputasi\n",
    "print(Gucheng_df_cleaned.describe())"
   ]
  },
  {
   "cell_type": "markdown",
   "metadata": {},
   "source": [
    "*temporary insight*\n",
    "\n",
    "Proses ini mengonversi nilai CO menjadi lebih realistis dengan membaginya dengan 10, sesuai asumsi bahwa alat pengukuran mungkin salah mendeteksi dalam kelipatan tersebut. Karena nilai CO yang realistis (nilai CO antara 0 hingga 50 mg/m³). Setelah konversi, dilakukan validasi lebih lanjut untuk memastikan bahwa semua nilai CO berada dalam rentang yang wajar. Jika ada nilai yang masih tidak realistis, digunakan metode imputasi dengan nilai median CO yang sudah bersih. Hal ini dilakukan karena kurangnya informasi dari dataset tesebut mengenai satuan ukur apa yang digunakan pada tiap-tiap kolomnya, sehingga dibuat asusmsi berdasarkan nilai satuan yang umum digunakan di publik, berdasarkan riset yang telah dilakukan. Dengan cara ini, dataset Guanyuan_df_cleaned sudah lebih akurat untuk analisis selanjutnya."
   ]
  },
  {
   "cell_type": "markdown",
   "metadata": {},
   "source": [
    "temporary insight\n",
    "\n",
    "1. Menangani Missing Values:\n",
    "\n",
    "   Kolom dengan missing values yang banyak seperti CO, PM2.5, NO2, SO2, O3, dan PM10 telah ditangani menggunakan metode imputasi median. Hal ini dilakukan agar tidak kehilangan terlalu banyak data penting, sambil tetap mengisi nilai yang realistis dan representatif.\n",
    "\n",
    "   Untuk kolom dengan jumlah missing values yang relatif sedikit seperti TEMP, PRES, DEWP, RAIN, wd, dan WSPM, dilakukan dropping values. Ini dipilih karena menghapus sedikit data tidak akan mempengaruhi keseluruhan dataset secara signifikan.\n",
    "\n",
    "\n",
    "2. Menangani Inaccurate Values:\n",
    "\n",
    "   Seperti yang telah dilakukan pada dataset sebelumnya-sebelumnya, kolom CO, PM2.5, dan PM10 pada Gucheng_df_cleaned ini juga diperiksa untuk nilai yang tidak realistis.\n",
    "\n",
    "   Nilai-nilai yang dianggap tidak realistis di luar rentang normal pada masing-masing kolom telah diubah atau difilter sesuai dengan rentang realistis, seperti CO dengan nilai realistis di rentang 0–50 mg/m³. PM2.5 dan PM10 ditetapkan pada rentang realistis berdasarkan pedoman kualitas udara.\n",
    "\n",
    "\n",
    "\n",
    "Dengan semua missing values dan inaccurate values telah ditangani. Ini memastikan bahwa data siap digunakan untuk analisis lebih lanjut tanpa bias atau error yang berasal dari data yang hilang atau nilai yang tidak realistis. Dengan memilih metode imputasi untuk kolom dengan banyak missing values dan dropping untuk yang sedikit, diharapkan dapat mengoptimalkan jumlah data yang tetap relevan tanpa mengorbankan integritas dataset. Serta melakukan filter atau transformasi terhadap nilai yang tidak realistis pada kolom penting (seperti CO, PM2.5, dan PM10) memastikan hasil analisis yang lebih akurat dan representatif terhadap kondisi nyata."
   ]
  },
  {
   "cell_type": "markdown",
   "metadata": {},
   "source": [
    "#### Membersihkan Data Huairou_df"
   ]
  },
  {
   "cell_type": "markdown",
   "metadata": {},
   "source": [
    "##### Menangani Missing Value pada Huairou_df"
   ]
  },
  {
   "cell_type": "markdown",
   "metadata": {
    "jp-MarkdownHeadingCollapsed": true
   },
   "source": [
    "###### Missing value pada Huairou_df kolom CO"
   ]
  },
  {
   "cell_type": "code",
   "execution_count": 219,
   "metadata": {},
   "outputs": [
    {
     "name": "stdout",
     "output_type": "stream",
     "text": [
      "No            0\n",
      "year          0\n",
      "month         0\n",
      "day           0\n",
      "hour          0\n",
      "PM2.5       779\n",
      "PM10        656\n",
      "SO2         730\n",
      "NO2        1234\n",
      "CO         2012\n",
      "O3         1214\n",
      "TEMP         53\n",
      "PRES         50\n",
      "DEWP         53\n",
      "RAIN         51\n",
      "wd          140\n",
      "WSPM         43\n",
      "station       0\n",
      "dtype: int64\n",
      "Persentase missing values di kolom CO Huairou_df: 4.055441478439425%\n"
     ]
    }
   ],
   "source": [
    "# Mengecek jumlah missing values di setiap kolom\n",
    "missing_values_huairou = Huairou_df.isnull().sum()\n",
    "print(missing_values)\n",
    "\n",
    "# Mengecek persentase missing values di kolom CO\n",
    "co_missing_percentage_huairou = Huairou_df['CO'].isnull().mean() * 100\n",
    "print(f\"Persentase missing values di kolom CO Huairou_df: {co_missing_percentage_huairou}%\")"
   ]
  },
  {
   "cell_type": "code",
   "execution_count": 221,
   "metadata": {},
   "outputs": [
    {
     "name": "stdout",
     "output_type": "stream",
     "text": [
      "Median CO: 800.0\n",
      "No            0\n",
      "year          0\n",
      "month         0\n",
      "day           0\n",
      "hour          0\n",
      "PM2.5       953\n",
      "PM10        777\n",
      "SO2         980\n",
      "NO2        1639\n",
      "CO            0\n",
      "O3         1151\n",
      "TEMP         51\n",
      "PRES         53\n",
      "DEWP         53\n",
      "RAIN         55\n",
      "wd          302\n",
      "WSPM         49\n",
      "station       0\n",
      "dtype: int64\n"
     ]
    }
   ],
   "source": [
    "# Menggunakan nilai median dari kolom CO untuk mengisikan missing value colom CO\n",
    "co_median_huairou = Huairou_df['CO'].median()\n",
    "print(f\"Median CO: {co_median_huairou}\")\n",
    "\n",
    "# Melakukan imputasi nilai median pada kolom CO yang mengandung missing value\n",
    "Huairou_df_cleaned = Huairou_df.copy()  \n",
    "Huairou_df_cleaned['CO'] = Huairou_df_cleaned['CO'].fillna(co_median_huairou)\n",
    "\n",
    "# Cek apakah missing values saat ini pada data Huairou_df_cleaned\n",
    "print(Huairou_df_cleaned.isna().sum())"
   ]
  },
  {
   "cell_type": "markdown",
   "metadata": {
    "jp-MarkdownHeadingCollapsed": true
   },
   "source": [
    "###### Missing value pada Huairou_df_cleaned kolom NO2"
   ]
  },
  {
   "cell_type": "code",
   "execution_count": 222,
   "metadata": {},
   "outputs": [
    {
     "name": "stdout",
     "output_type": "stream",
     "text": [
      "Persentase missing values di kolom NO2: 4.674309833447411%\n"
     ]
    }
   ],
   "source": [
    "# Mengecek persentase missing values di kolom NO2\n",
    "NO2_missing_percentage_huairou = Huairou_df_cleaned['NO2'].isnull().mean() * 100\n",
    "print(f\"Persentase missing values di kolom NO2: {NO2_missing_percentage_huairou}%\")"
   ]
  },
  {
   "cell_type": "code",
   "execution_count": 223,
   "metadata": {},
   "outputs": [
    {
     "name": "stdout",
     "output_type": "stream",
     "text": [
      "Median NO2: 25.0\n",
      "No            0\n",
      "year          0\n",
      "month         0\n",
      "day           0\n",
      "hour          0\n",
      "PM2.5       953\n",
      "PM10        777\n",
      "SO2         980\n",
      "NO2           0\n",
      "CO            0\n",
      "O3         1151\n",
      "TEMP         51\n",
      "PRES         53\n",
      "DEWP         53\n",
      "RAIN         55\n",
      "wd          302\n",
      "WSPM         49\n",
      "station       0\n",
      "dtype: int64\n"
     ]
    }
   ],
   "source": [
    "# Menggunakan nilai median dari kolom NO2 untuk mengisikan missing value kolom NO2\n",
    "NO2_median_huairou = Huairou_df_cleaned['NO2'].median()\n",
    "print(f\"Median NO2: {NO2_median_huairou}\")\n",
    "\n",
    "# Melakukan imputasi nilai median pada kolom NO2 yang mengandung missing value\n",
    "Huairou_df_cleaned['NO2'] = Huairou_df_cleaned['NO2'].fillna(NO2_median_huairou)\n",
    "\n",
    "# Cek apakah missing values saat ini pada data Huairou_df_cleaned\n",
    "print(Huairou_df_cleaned.isna().sum())"
   ]
  },
  {
   "cell_type": "markdown",
   "metadata": {
    "jp-MarkdownHeadingCollapsed": true
   },
   "source": [
    "###### Missing value pada Huairou_df_cleaned kolom O3"
   ]
  },
  {
   "cell_type": "code",
   "execution_count": 224,
   "metadata": {},
   "outputs": [
    {
     "name": "stdout",
     "output_type": "stream",
     "text": [
      "Persentase missing values di kolom O3: 3.282569016655259%\n"
     ]
    }
   ],
   "source": [
    "# Mengecek persentase missing values di kolom O3\n",
    "O3_missing_percentage_huairou = Huairou_df_cleaned['O3'].isnull().mean() * 100\n",
    "print(f\"Persentase missing values di kolom O3: {O3_missing_percentage_huairou}%\")"
   ]
  },
  {
   "cell_type": "code",
   "execution_count": 225,
   "metadata": {},
   "outputs": [
    {
     "name": "stdout",
     "output_type": "stream",
     "text": [
      "Median O3: 49.0\n",
      "Missing value pada Huairou_df_cleaned saat ini :\n",
      " No           0\n",
      "year         0\n",
      "month        0\n",
      "day          0\n",
      "hour         0\n",
      "PM2.5      953\n",
      "PM10       777\n",
      "SO2        980\n",
      "NO2          0\n",
      "CO           0\n",
      "O3           0\n",
      "TEMP        51\n",
      "PRES        53\n",
      "DEWP        53\n",
      "RAIN        55\n",
      "wd         302\n",
      "WSPM        49\n",
      "station      0\n",
      "dtype: int64\n"
     ]
    }
   ],
   "source": [
    "# Menggunakan nilai median dari kolom O3 untuk mengisikan missing value kolom O3\n",
    "O3_median_huairou = Huairou_df_cleaned['O3'].median()\n",
    "print(f\"Median O3: {O3_median_huairou}\")\n",
    "\n",
    "# Melakukan imputasi nilai median pada kolom O3 yang mengandung missing value\n",
    "Huairou_df_cleaned['O3'] = Huairou_df_cleaned['O3'].fillna(O3_median_huairou)\n",
    "\n",
    "# Cek apakah missing values saat ini pada data Huairou_df_cleaned\n",
    "print(\"Missing value pada Huairou_df_cleaned saat ini :\\n\", Huairou_df_cleaned.isna().sum())"
   ]
  },
  {
   "cell_type": "markdown",
   "metadata": {
    "jp-MarkdownHeadingCollapsed": true
   },
   "source": [
    "###### Missing value pada Huairou_df_cleaned kolom SO2"
   ]
  },
  {
   "cell_type": "code",
   "execution_count": 226,
   "metadata": {},
   "outputs": [
    {
     "name": "stdout",
     "output_type": "stream",
     "text": [
      "Persentase missing values di kolom SO2: 2.7948893451973533%\n"
     ]
    }
   ],
   "source": [
    "# Mengecek persentase missing values di kolom SO2\n",
    "SO2_missing_percentage_huairou = Huairou_df_cleaned['SO2'].isnull().mean() * 100\n",
    "print(f\"Persentase missing values di kolom SO2: {SO2_missing_percentage_huairou}%\")"
   ]
  },
  {
   "cell_type": "code",
   "execution_count": 227,
   "metadata": {},
   "outputs": [
    {
     "name": "stdout",
     "output_type": "stream",
     "text": [
      "Median SO2: 4.0\n",
      "Missing value pada Huairou_df_cleaned saat ini :\n",
      " No           0\n",
      "year         0\n",
      "month        0\n",
      "day          0\n",
      "hour         0\n",
      "PM2.5      953\n",
      "PM10       777\n",
      "SO2          0\n",
      "NO2          0\n",
      "CO           0\n",
      "O3           0\n",
      "TEMP        51\n",
      "PRES        53\n",
      "DEWP        53\n",
      "RAIN        55\n",
      "wd         302\n",
      "WSPM        49\n",
      "station      0\n",
      "dtype: int64\n"
     ]
    }
   ],
   "source": [
    "# Menggunakan nilai median dari kolom SO2 untuk mengisikan missing value kolom SO2\n",
    "SO2_median_huairou = Huairou_df_cleaned['SO2'].median()\n",
    "print(f\"Median SO2: {SO2_median_huairou}\")\n",
    "\n",
    "# Melakukan imputasi nilai median pada kolom SO2 yang mengandung missing value\n",
    "Huairou_df_cleaned['SO2'] = Huairou_df_cleaned['SO2'].fillna(SO2_median_huairou)\n",
    "\n",
    "# Cek apakah missing values saat ini pada data Huairou_df_cleaned\n",
    "print(\"Missing value pada Huairou_df_cleaned saat ini :\\n\", Huairou_df_cleaned.isna().sum())"
   ]
  },
  {
   "cell_type": "markdown",
   "metadata": {
    "jp-MarkdownHeadingCollapsed": true
   },
   "source": [
    "###### Missing value pada Huairou_df_cleaned kolom PM.25"
   ]
  },
  {
   "cell_type": "code",
   "execution_count": 228,
   "metadata": {},
   "outputs": [
    {
     "name": "stdout",
     "output_type": "stream",
     "text": [
      "Persentase missing values di kolom PM2.5: 2.717887291809263%\n"
     ]
    }
   ],
   "source": [
    "# Mengecek persentase missing values di kolom PM2.5\n",
    "PM25_missing_percentage_huairou = Huairou_df_cleaned['PM2.5'].isnull().mean() * 100\n",
    "print(f\"Persentase missing values di kolom PM2.5: {PM25_missing_percentage_huairou}%\")"
   ]
  },
  {
   "cell_type": "code",
   "execution_count": 229,
   "metadata": {},
   "outputs": [
    {
     "name": "stdout",
     "output_type": "stream",
     "text": [
      "Median PM2.5: 47.0\n",
      "Missing value pada Huairou_df_cleaned saat ini :\n",
      " No           0\n",
      "year         0\n",
      "month        0\n",
      "day          0\n",
      "hour         0\n",
      "PM2.5        0\n",
      "PM10       777\n",
      "SO2          0\n",
      "NO2          0\n",
      "CO           0\n",
      "O3           0\n",
      "TEMP        51\n",
      "PRES        53\n",
      "DEWP        53\n",
      "RAIN        55\n",
      "wd         302\n",
      "WSPM        49\n",
      "station      0\n",
      "dtype: int64\n"
     ]
    }
   ],
   "source": [
    "# Menggunakan nilai median dari kolom PM2.5 untuk mengisikan missing value kolom PM2.5\n",
    "PM25_median_huairou = Huairou_df_cleaned['PM2.5'].median()\n",
    "print(f\"Median PM2.5: {PM25_median_huairou}\")\n",
    "\n",
    "# Melakukan imputasi nilai median pada kolom PM2.5 yang mengandung missing value\n",
    "Huairou_df_cleaned['PM2.5'] = Huairou_df_cleaned['PM2.5'].fillna(PM25_median_huairou)\n",
    "\n",
    "# Cek apakah missing values saat ini pada data Huairou_df_cleaned\n",
    "print(\"Missing value pada Huairou_df_cleaned saat ini :\\n\", Huairou_df_cleaned.isna().sum())"
   ]
  },
  {
   "cell_type": "markdown",
   "metadata": {
    "jp-MarkdownHeadingCollapsed": true
   },
   "source": [
    "###### Missing value pada Huairou_df_cleaned kolom PM10"
   ]
  },
  {
   "cell_type": "code",
   "execution_count": 230,
   "metadata": {},
   "outputs": [
    {
     "name": "stdout",
     "output_type": "stream",
     "text": [
      "Persentase missing values di kolom PM10: 2.2159479808350446%\n"
     ]
    }
   ],
   "source": [
    "# Mengecek persentase missing values di kolom PM10\n",
    "PM10_missing_percentage_huairou = Huairou_df_cleaned['PM10'].isnull().mean() * 100\n",
    "print(f\"Persentase missing values di kolom PM10: {PM10_missing_percentage_huairou}%\")"
   ]
  },
  {
   "cell_type": "code",
   "execution_count": 231,
   "metadata": {},
   "outputs": [
    {
     "name": "stdout",
     "output_type": "stream",
     "text": [
      "Median PM10: 69.0\n",
      "Missing value pada Huairou_df_cleaned saat ini :\n",
      " No           0\n",
      "year         0\n",
      "month        0\n",
      "day          0\n",
      "hour         0\n",
      "PM2.5        0\n",
      "PM10         0\n",
      "SO2          0\n",
      "NO2          0\n",
      "CO           0\n",
      "O3           0\n",
      "TEMP        51\n",
      "PRES        53\n",
      "DEWP        53\n",
      "RAIN        55\n",
      "wd         302\n",
      "WSPM        49\n",
      "station      0\n",
      "dtype: int64\n"
     ]
    }
   ],
   "source": [
    "# Menggunakan nilai median dari kolom PM10 untuk mengisikan missing value kolom PM10\n",
    "PM10_median_huairou = Huairou_df_cleaned['PM10'].median()\n",
    "print(f\"Median PM10: {PM10_median_huairou}\")\n",
    "\n",
    "# Melakukan imputasi nilai median pada kolom PM10 yang mengandung missing value\n",
    "Huairou_df_cleaned['PM10'] = Huairou_df_cleaned['PM10'].fillna(PM10_median_huairou)\n",
    "\n",
    "# Cek apakah missing values saat ini pada data Huairou_df_cleaned\n",
    "print(\"Missing value pada Huairou_df_cleaned saat ini :\\n\", Huairou_df_cleaned.isna().sum())"
   ]
  },
  {
   "cell_type": "markdown",
   "metadata": {
    "jp-MarkdownHeadingCollapsed": true
   },
   "source": [
    "###### Missing values pada data Huairou_df_cleaned kolom TEMP, PRES, DEWP, RAIN, wd, dan WSPM"
   ]
  },
  {
   "cell_type": "code",
   "execution_count": 232,
   "metadata": {},
   "outputs": [
    {
     "name": "stdout",
     "output_type": "stream",
     "text": [
      "Jumlah missing values saat ini:\n",
      "No           0\n",
      "year         0\n",
      "month        0\n",
      "day          0\n",
      "hour         0\n",
      "PM2.5        0\n",
      "PM10         0\n",
      "SO2          0\n",
      "NO2          0\n",
      "CO           0\n",
      "O3           0\n",
      "TEMP        51\n",
      "PRES        53\n",
      "DEWP        53\n",
      "RAIN        55\n",
      "wd         302\n",
      "WSPM        49\n",
      "station      0\n",
      "dtype: int64\n"
     ]
    }
   ],
   "source": [
    "# Menampilkan jumlah missing values saat ini pada data Huairou_df_cleaned\n",
    "print(\"Jumlah missing values saat ini:\")\n",
    "print(Huairou_df_cleaned.isna().sum())"
   ]
  },
  {
   "cell_type": "code",
   "execution_count": 233,
   "metadata": {},
   "outputs": [
    {
     "name": "stdout",
     "output_type": "stream",
     "text": [
      "Jumlah missing values sekarang:\n",
      "No         0\n",
      "year       0\n",
      "month      0\n",
      "day        0\n",
      "hour       0\n",
      "PM2.5      0\n",
      "PM10       0\n",
      "SO2        0\n",
      "NO2        0\n",
      "CO         0\n",
      "O3         0\n",
      "TEMP       0\n",
      "PRES       0\n",
      "DEWP       0\n",
      "RAIN       0\n",
      "wd         0\n",
      "WSPM       0\n",
      "station    0\n",
      "dtype: int64\n"
     ]
    }
   ],
   "source": [
    "# Menghapus baris yang memiliki missing values pada kolom TEMP, PRES, DEWP, RAIN, wd, dan WSPM\n",
    "Huairou_df_cleaned.dropna(subset=['TEMP', 'PRES', 'DEWP', 'RAIN', 'wd', 'WSPM'], inplace=True)\n",
    "\n",
    "# Verifikasi penghapusan missing values\n",
    "print(\"Jumlah missing values sekarang:\")\n",
    "print(Huairou_df_cleaned.isna().sum())"
   ]
  },
  {
   "cell_type": "markdown",
   "metadata": {},
   "source": [
    "*temporary insight*\n",
    "\n",
    "Dilakukan periksa ulang jumlah missing values setelah imputasi pada kolom yang tersisa. Kemudian melakukan dropping missing values dengan menggunakan metode `dropna()` untuk menghapus baris yang memiliki missing values pada kolom-kolom tersebut. Dan juga telah dilakukan verifikasi hasil dropping missing values sudah dihilangkan dengan memeriksa ulang dataset. Sehingga saat ini data Huairou_df_cleaned sudah bersih dari missing values"
   ]
  },
  {
   "cell_type": "markdown",
   "metadata": {
    "jp-MarkdownHeadingCollapsed": true
   },
   "source": [
    "##### Menangani Inaccurate Value pada Huairou_df_cleaned"
   ]
  },
  {
   "cell_type": "markdown",
   "metadata": {
    "jp-MarkdownHeadingCollapsed": true
   },
   "source": [
    "###### Inaccurate value data Huairou_df_cleaned kolom PM2.5"
   ]
  },
  {
   "cell_type": "code",
   "execution_count": 235,
   "metadata": {},
   "outputs": [
    {
     "name": "stdout",
     "output_type": "stream",
     "text": [
      "          No  year  month  day  hour  PM2.5  PM10    SO2   NO2      CO   O3  \\\n",
      "17282  17283  2015      2   19     2  762.0  69.0  181.0  46.0  2400.0  2.0   \n",
      "\n",
      "       TEMP    PRES  DEWP  RAIN  wd  WSPM  station  \n",
      "17282  -2.0  1019.0 -10.8   0.0  NW   0.9  Huairou  \n"
     ]
    }
   ],
   "source": [
    "# Mengambil baris data yang mengandung nilai maksimum pada kolom PM2.5\n",
    "max_pm25_row_huairou = Huairou_df_cleaned[Huairou_df_cleaned['PM2.5'] == Huairou_df_cleaned['PM2.5'].max()]\n",
    "print(max_pm25_row_huairou)"
   ]
  },
  {
   "cell_type": "code",
   "execution_count": 236,
   "metadata": {},
   "outputs": [
    {
     "name": "stdout",
     "output_type": "stream",
     "text": [
      "Jumlah baris yang dihapus pada Huairou_df_cleaned: 30\n"
     ]
    }
   ],
   "source": [
    "# Menentukan batas maksimum untuk PM2.5\n",
    "batas_maksimum_pm25 = 500\n",
    "\n",
    "# Menghitung jumlah baris yang akan dihapus\n",
    "jumlah_baris_hilang_huairou = Huairou_df_cleaned[Huairou_df_cleaned['PM2.5'] > batas_maksimum_pm25].shape[0]\n",
    "\n",
    "# Menampilkan informasi\n",
    "print(f\"Jumlah baris yang dihapus pada Huairou_df_cleaned: {jumlah_baris_hilang_huairou}\")"
   ]
  },
  {
   "cell_type": "code",
   "execution_count": 237,
   "metadata": {},
   "outputs": [
    {
     "name": "stdout",
     "output_type": "stream",
     "text": [
      "Jumlah baris tersisa setelah penghapusan pada Huairou_df_cleaned: 34724\n"
     ]
    }
   ],
   "source": [
    "# Menghapus baris yang memiliki nilai PM2.5 lebih dari batas maksimum\n",
    "Huairou_df_cleaned = Huairou_df_cleaned[Huairou_df_cleaned['PM2.5'] <= batas_maksimum_pm25]\n",
    "\n",
    "# Memeriksa jumlah baris dan kolom setelah proses pembersihan\n",
    "jumlah_baris_tersisa_huairou = Huairou_df_cleaned.shape[0]\n",
    "\n",
    "# Menampilkan informasi\n",
    "print(f\"Jumlah baris tersisa setelah penghapusan pada Huairou_df_cleaned: {jumlah_baris_tersisa_huairou}\")"
   ]
  },
  {
   "cell_type": "markdown",
   "metadata": {},
   "source": [
    "*temporary insight*\n",
    "\n",
    "Dilakukan penetapan batas maksimum untuk PM2.5, dengan nilai 500 seperti yang telah dilakukan pada dataset sebelumnya juga. Atas dasar karena dalam banyak studi, nilai PM2.5 yang lebih dari 500 bisa dianggap tidak wajar. kemudian menghitung jumlah baris data yang akan dihapus pada Dongsi_df_cleaned. Dengan menggunakan kondisi untuk menghitung jumlah baris yang memiliki nilai PM2.5 lebih dari batas maksimum. Lalu menghapus baris dan memeriksa ukuran dataset saat ini. Dalam hal ini dapat dilihat, bahwa jumlah baris data yang dihapus atau memiliki nilai PM2.5 lebih dari 500 terhitung sebanyak 30 baris data. Dan setelah dilakukan dropping values, tersisa 34724 baris data pada Dongsi_df_cleaned."
   ]
  },
  {
   "cell_type": "markdown",
   "metadata": {
    "jp-MarkdownHeadingCollapsed": true
   },
   "source": [
    "###### Inaccurate value pada Huairou_df_cleaned kolom PM10"
   ]
  },
  {
   "cell_type": "code",
   "execution_count": 238,
   "metadata": {},
   "outputs": [
    {
     "name": "stdout",
     "output_type": "stream",
     "text": [
      "          No  year  month  day  hour  PM2.5   PM10  SO2  NO2     CO    O3  \\\n",
      "15359  15360  2014     11   30    23   41.0  993.0  2.0  2.0  200.0  63.0   \n",
      "\n",
      "       TEMP    PRES  DEWP  RAIN  wd  WSPM  station  \n",
      "15359  -4.1  1012.0 -27.0   0.0  NW   5.8  Huairou  \n"
     ]
    }
   ],
   "source": [
    "# Mengambil baris data yang mengandung nilai maksimum pada kolom PM10\n",
    "max_pm10_row_huairou = Huairou_df_cleaned[Huairou_df_cleaned['PM10'] == Huairou_df_cleaned['PM10'].max()]\n",
    "print(max_pm10_row_huairou)"
   ]
  },
  {
   "cell_type": "code",
   "execution_count": 239,
   "metadata": {},
   "outputs": [
    {
     "name": "stdout",
     "output_type": "stream",
     "text": [
      "Jumlah baris yang akan dihapus dari PM10: 856\n"
     ]
    }
   ],
   "source": [
    "# Menentukan batas maksimum untuk PM10\n",
    "batas_maksimum_pm10 = 300.0 \n",
    "\n",
    "# Menghitung jumlah baris yang akan dihapus\n",
    "jumlah_baris_hilang_pm10_huairou = Huairou_df_cleaned[Huairou_df_cleaned['PM10'] > batas_maksimum_pm10].shape[0]\n",
    "print(f\"Jumlah baris yang akan dihapus dari PM10: {jumlah_baris_hilang_pm10_huairou}\")"
   ]
  },
  {
   "cell_type": "code",
   "execution_count": 240,
   "metadata": {},
   "outputs": [
    {
     "name": "stdout",
     "output_type": "stream",
     "text": [
      "Jumlah baris tersisa setelah penghapusan PM10: 33868\n"
     ]
    }
   ],
   "source": [
    "# Menghapus baris yang memiliki nilai PM10 lebih dari batas maksimum\n",
    "Huairou_df_cleaned = Huairou_df_cleaned[Huairou_df_cleaned['PM10'] <= batas_maksimum_pm10]\n",
    "\n",
    "# Memeriksa jumlah baris dan kolom setelah proses pembersihan\n",
    "jumlah_baris_tersisa_pm10_huairou = Huairou_df_cleaned.shape[0]\n",
    "\n",
    "print(f\"Jumlah baris tersisa setelah penghapusan PM10: {jumlah_baris_tersisa_pm10_huairou}\")"
   ]
  },
  {
   "cell_type": "markdown",
   "metadata": {},
   "source": [
    "*temporary value*\n",
    "\n",
    "Dilakukan juga pembersihan inaccurate value pada data Huairou_df_cleaned dengan melakukan dropping. atau menghapus (drop) data pada kolom PM10 yang melebihi ambang batas yang telah ditentukan. Yakni nilai yang ditentukan tidak wajar, denagn pemilihan batas maksimum 300.0 adalah berdasarkan pemahaman tentang kualitas udara dan standar yang umum digunakan. Nilai ini didasarkan pada standar kualitas udara, di mana nilai PM10 di atas 300.0 bisa dianggap sebagai tidak wajar dan mungkin menunjukkan kesalahan pengukuran atau data yang tidak konsisten. Karena berdasarkan analisah yang telah dilakuan, batas maksimum yang wajar untuk PM10 bisa disarankan antara 150.0 hingga 300.0 untuk kualitas udara yang baik, dan nilai di atas 300.0 bisa dianggap sebagai data tidak wajar dalam konteks tertentu. Setelah penghapusan, diberikan informasi yang jelas tentang berapa banyak data yang hilang dan berapa banyak data yang tersisa, memastikan bahwa analisis selanjutnya didasarkan pada data yang valid."
   ]
  },
  {
   "cell_type": "markdown",
   "metadata": {
    "jp-MarkdownHeadingCollapsed": true
   },
   "source": [
    "###### Inaccurate value pada Huairou_df_cleaned kolom CO"
   ]
  },
  {
   "cell_type": "code",
   "execution_count": 241,
   "metadata": {},
   "outputs": [
    {
     "name": "stdout",
     "output_type": "stream",
     "text": [
      "          No  year  month  day  hour  PM2.5  PM10  SO2   NO2      CO    O3  \\\n",
      "0          1  2013      3    1     0    7.0   7.0  3.0   2.0   100.0  91.0   \n",
      "1          2  2013      3    1     1    4.0   4.0  3.0  25.0   100.0  92.0   \n",
      "2          3  2013      3    1     2    4.0   4.0  4.0  25.0   100.0  91.0   \n",
      "3          4  2013      3    1     3    3.0   3.0  3.0   2.0   800.0  49.0   \n",
      "4          5  2013      3    1     4    3.0   3.0  7.0  25.0   300.0  86.0   \n",
      "...      ...   ...    ...  ...   ...    ...   ...  ...   ...     ...   ...   \n",
      "35059  35060  2017      2   28    19   16.0  28.0  2.0  19.0   300.0  95.0   \n",
      "35060  35061  2017      2   28    20   21.0  34.0  4.0  24.0   500.0  80.0   \n",
      "35061  35062  2017      2   28    21   17.0  33.0  2.0  39.0   900.0  60.0   \n",
      "35062  35063  2017      2   28    22   11.0  29.0  3.0  32.0  1400.0  69.0   \n",
      "35063  35064  2017      2   28    23   11.0  20.0  2.0  27.0   400.0  77.0   \n",
      "\n",
      "       TEMP    PRES  DEWP  RAIN   wd  WSPM  station  \n",
      "0      -2.3  1020.3 -20.7   0.0  WNW   3.1  Huairou  \n",
      "1      -2.7  1020.8 -20.5   0.0  NNW   1.5  Huairou  \n",
      "2      -3.2  1020.6 -21.4   0.0   NW   1.8  Huairou  \n",
      "3      -3.3  1021.3 -23.7   0.0  NNW   2.4  Huairou  \n",
      "4      -4.1  1022.1 -22.7   0.0  NNW   2.2  Huairou  \n",
      "...     ...     ...   ...   ...  ...   ...      ...  \n",
      "35059   9.9  1008.6 -14.1   0.0  WNW   1.8  Huairou  \n",
      "35060   9.5  1008.9 -14.4   0.0  SSW   1.3  Huairou  \n",
      "35061   8.4  1009.3 -14.6   0.0   SE   1.5  Huairou  \n",
      "35062   8.3  1009.5 -14.7   0.0  ENE   3.2  Huairou  \n",
      "35063   6.7  1009.3 -13.6   0.0   NE   1.9  Huairou  \n",
      "\n",
      "[33868 rows x 18 columns]\n"
     ]
    }
   ],
   "source": [
    "# Identifikasi nilai CO yang tidak realistis (di atas 50 mg/m³ dan di bawah 0 mg/m³)\n",
    "unrealistic_co_huairou = Huairou_df_cleaned[(Huairou_df_cleaned['CO'] > 50) | (Huairou_df_cleaned['CO'] < 0)]\n",
    "print(unrealistic_co_huairou)"
   ]
  },
  {
   "cell_type": "code",
   "execution_count": 242,
   "metadata": {},
   "outputs": [
    {
     "data": {
      "text/plain": [
       "count    33868.000000\n",
       "mean        95.194287\n",
       "std         72.839920\n",
       "min         10.000000\n",
       "25%         40.000000\n",
       "50%         80.000000\n",
       "75%        120.000000\n",
       "max       1000.000000\n",
       "Name: CO, dtype: float64"
      ]
     },
     "execution_count": 242,
     "metadata": {},
     "output_type": "execute_result"
    }
   ],
   "source": [
    "# Mengonversi nilai CO dari ratusan ke puluhan (mg/m³)\n",
    "Huairou_df_cleaned['CO'] = Huairou_df_cleaned['CO'] / 10\n",
    "\n",
    "# Memvalidasi hasil konversi\n",
    "Huairou_df_cleaned['CO'].describe()"
   ]
  },
  {
   "cell_type": "code",
   "execution_count": 243,
   "metadata": {},
   "outputs": [
    {
     "name": "stdout",
     "output_type": "stream",
     "text": [
      "          No  year  month  day  hour  PM2.5  PM10      SO2      NO2     CO  \\\n",
      "3          4  2013      3    1     3    3.0   3.0   3.0000   2.0000   80.0   \n",
      "8          9  2013      3    1     8    3.0  13.0  34.0000  38.0000   80.0   \n",
      "9         10  2013      3    1     9   17.0  36.0  50.0000  28.0000   70.0   \n",
      "29        30  2013      3    2     5   15.0  18.0  42.2688  26.4837   80.0   \n",
      "32        33  2013      3    2     8   14.0  11.0  61.0000  44.0000   60.0   \n",
      "...      ...   ...    ...  ...   ...    ...   ...      ...      ...    ...   \n",
      "35048  35049  2017      2   28     8   29.0  66.0   4.0000  70.0000  190.0   \n",
      "35049  35050  2017      2   28     9   28.0  61.0   6.0000  61.0000   90.0   \n",
      "35050  35051  2017      2   28    10   30.0  76.0   6.0000  55.0000   60.0   \n",
      "35061  35062  2017      2   28    21   17.0  33.0   2.0000  39.0000   90.0   \n",
      "35062  35063  2017      2   28    22   11.0  29.0   3.0000  32.0000  140.0   \n",
      "\n",
      "            O3  TEMP    PRES  DEWP  RAIN   wd  WSPM  station  \n",
      "3      49.0000  -3.3  1021.3 -23.7   0.0  NNW   2.4  Huairou  \n",
      "8      45.0000  -1.6  1025.2 -23.5   0.0  NNE   4.6  Huairou  \n",
      "9      60.0000  -1.1  1025.4 -23.8   0.0   NE   4.9  Huairou  \n",
      "29     56.1204  -4.2  1026.9 -16.4   0.0  WNW   1.4  Huairou  \n",
      "32     28.0000  -2.6  1026.6 -16.7   0.0  ENE   0.8  Huairou  \n",
      "...        ...   ...     ...   ...   ...  ...   ...      ...  \n",
      "35048   2.0000   1.1  1011.6  -7.2   0.0  WNW   1.0  Huairou  \n",
      "35049  24.0000   7.7  1011.9  -7.6   0.0   SE   1.7  Huairou  \n",
      "35050  35.0000   9.9  1011.5  -8.7   0.0  ESE   2.2  Huairou  \n",
      "35061  60.0000   8.4  1009.3 -14.6   0.0   SE   1.5  Huairou  \n",
      "35062  69.0000   8.3  1009.5 -14.7   0.0  ENE   3.2  Huairou  \n",
      "\n",
      "[22198 rows x 18 columns]\n"
     ]
    }
   ],
   "source": [
    "# Cek data CO yang masih tidak realistis (lebih dari 50 mg/m³ atau kurang dari 0 mg/m³).\n",
    "unrealistic_co_after_conversion_huairou= Huairou_df_cleaned[(Huairou_df_cleaned['CO'] > 50) | (Huairou_df_cleaned['CO'] < 0)]\n",
    "print(unrealistic_co_after_conversion_huairou)"
   ]
  },
  {
   "cell_type": "code",
   "execution_count": 244,
   "metadata": {},
   "outputs": [
    {
     "name": "stdout",
     "output_type": "stream",
     "text": [
      "                 No          year         month           day          hour  \\\n",
      "count  33868.000000  33868.000000  33868.000000  33868.000000  33868.000000   \n",
      "mean   17418.057429   2014.648577      6.535343     15.700012     11.454972   \n",
      "std    10093.834803      1.175147      3.420590      8.792672      6.901708   \n",
      "min        1.000000   2013.000000      1.000000      1.000000      0.000000   \n",
      "25%     8688.000000   2014.000000      4.000000      8.000000      5.000000   \n",
      "50%    17393.500000   2015.000000      7.000000     16.000000     11.000000   \n",
      "75%    26150.250000   2016.000000      9.000000     23.000000     17.000000   \n",
      "max    35064.000000   2017.000000     12.000000     31.000000     23.000000   \n",
      "\n",
      "              PM2.5          PM10           SO2           NO2            CO  \\\n",
      "count  33868.000000  33868.000000  33868.000000  33868.000000  33868.000000   \n",
      "mean      63.384020     83.333973     11.440624     30.818237     31.427601   \n",
      "std       59.366344     66.773624     17.652763     23.912216      7.166726   \n",
      "min        2.000000      2.000000      0.285600      1.026500     10.000000   \n",
      "25%       17.000000     28.000000      2.000000     13.000000     30.000000   \n",
      "50%       47.000000     68.000000      4.000000     25.000000     30.000000   \n",
      "75%       90.000000    123.000000     13.000000     43.000000     30.000000   \n",
      "max      384.000000    300.000000    254.000000    199.000000     50.000000   \n",
      "\n",
      "                 O3          TEMP          PRES          DEWP          RAIN  \\\n",
      "count  33868.000000  33868.000000  33868.000000  33868.000000  33868.000000   \n",
      "mean      60.184155     12.612279   1007.544134      2.276769      0.067279   \n",
      "std       53.750531     11.775435     10.072919     14.167827      0.816271   \n",
      "min        0.214200    -19.900000    982.800000    -34.900000      0.000000   \n",
      "25%       20.000000      2.300000    999.200000     -9.900000      0.000000   \n",
      "50%       49.000000     13.800000   1007.200000      3.000000      0.000000   \n",
      "75%       82.000000     22.500000   1015.500000     15.400000      0.000000   \n",
      "max      444.000000     40.300000   1036.500000     29.100000     45.900000   \n",
      "\n",
      "               WSPM  \n",
      "count  33868.000000  \n",
      "mean       1.665687  \n",
      "std        1.192805  \n",
      "min        0.000000  \n",
      "25%        0.900000  \n",
      "50%        1.300000  \n",
      "75%        2.000000  \n",
      "max       11.800000  \n"
     ]
    }
   ],
   "source": [
    "# Imputasi nilai CO yang masih tidak realistis dengan nilai median\n",
    "median_co_after_conversion_huairou = Huairou_df_cleaned[(Huairou_df_cleaned['CO'] >= 0) & (Huairou_df_cleaned['CO'] <= 50)]['CO'].median()\n",
    "Huairou_df_cleaned['CO'] = Huairou_df_cleaned['CO'].apply(lambda x: median_co_after_conversion_huairou if x > 50 or x < 0 else x)\n",
    "\n",
    "# Cek deskripsi dataset yang sudah dilakukan proses konversi dan imputasi\n",
    "print(Huairou_df_cleaned.describe())"
   ]
  },
  {
   "cell_type": "markdown",
   "metadata": {},
   "source": [
    "*temporary insight*\n",
    "\n",
    "Proses ini mengonversi nilai CO menjadi lebih realistis dengan membaginya dengan 10, sesuai asumsi bahwa alat pengukuran mungkin salah mendeteksi dalam kelipatan tersebut. Karena nilai CO yang realistis (nilai CO antara 0 hingga 50 mg/m³). Setelah konversi, dilakukan validasi lebih lanjut untuk memastikan bahwa semua nilai CO berada dalam rentang yang wajar. Jika ada nilai yang masih tidak realistis, digunakan metode imputasi dengan nilai median CO yang sudah bersih. Hal ini dilakukan karena kurangnya informasi dari dataset tesebut mengenai satuan ukur apa yang digunakan pada tiap-tiap kolomnya, sehingga dibuat asusmsi berdasarkan nilai satuan yang umum digunakan di publik, berdasarkan riset yang telah dilakukan. Dengan cara ini, dataset Huairou_df_cleaned sudah lebih akurat untuk analisis selanjutnya."
   ]
  },
  {
   "cell_type": "markdown",
   "metadata": {},
   "source": [
    "temporary insight\n",
    "\n",
    "1. Menangani Missing Values:\n",
    "\n",
    "   Kolom dengan missing values yang banyak seperti CO, PM2.5, NO2, SO2, O3, dan PM10 telah ditangani menggunakan metode imputasi median. Hal ini dilakukan agar tidak kehilangan terlalu banyak data penting, sambil tetap mengisi nilai yang realistis dan representatif.\n",
    "\n",
    "   Untuk kolom dengan jumlah missing values yang relatif sedikit seperti TEMP, PRES, DEWP, RAIN, wd, dan WSPM, dilakukan dropping values. Ini dipilih karena menghapus sedikit data tidak akan mempengaruhi keseluruhan dataset secara signifikan.\n",
    "\n",
    "\n",
    "2. Menangani Inaccurate Values:\n",
    "\n",
    "   Seperti yang telah dilakukan pada dataset sebelumnya-sebelumnya, kolom CO, PM2.5, dan PM10 pada Huairou_df_cleaned ini juga diperiksa untuk nilai yang tidak realistis.\n",
    "\n",
    "   Nilai-nilai yang dianggap tidak realistis di luar rentang normal pada masing-masing kolom telah diubah atau difilter sesuai dengan rentang realistis, seperti CO dengan nilai realistis di rentang 0–50 mg/m³. PM2.5 dan PM10 ditetapkan pada rentang realistis berdasarkan pedoman kualitas udara.\n",
    "\n",
    "\n",
    "\n",
    "Dengan semua missing values dan inaccurate values telah ditangani. Ini memastikan bahwa data siap digunakan untuk analisis lebih lanjut tanpa bias atau error yang berasal dari data yang hilang atau nilai yang tidak realistis. Dengan memilih metode imputasi untuk kolom dengan banyak missing values dan dropping untuk yang sedikit, diharapkan dapat mengoptimalkan jumlah data yang tetap relevan tanpa mengorbankan integritas dataset. Serta melakukan filter atau transformasi terhadap nilai yang tidak realistis pada kolom penting (seperti CO, PM2.5, dan PM10) memastikan hasil analisis yang lebih akurat dan representatif terhadap kondisi nyata."
   ]
  },
  {
   "cell_type": "markdown",
   "metadata": {},
   "source": [
    "#### Membersihkan Data Nongzhanguan_df"
   ]
  },
  {
   "cell_type": "markdown",
   "metadata": {},
   "source": [
    "##### Menangani Missing Value pada Nongzhanguan_df"
   ]
  },
  {
   "cell_type": "code",
   "execution_count": null,
   "metadata": {},
   "outputs": [],
   "source": []
  },
  {
   "cell_type": "code",
   "execution_count": null,
   "metadata": {},
   "outputs": [],
   "source": []
  },
  {
   "cell_type": "code",
   "execution_count": null,
   "metadata": {},
   "outputs": [],
   "source": []
  },
  {
   "cell_type": "markdown",
   "metadata": {
    "jp-MarkdownHeadingCollapsed": true
   },
   "source": [
    "##### Menangani Inaccurate Value pada Nongzhanguan_df_cleaned"
   ]
  },
  {
   "cell_type": "code",
   "execution_count": null,
   "metadata": {},
   "outputs": [],
   "source": []
  },
  {
   "cell_type": "markdown",
   "metadata": {
    "id": "Q_5ejIqckiSP"
   },
   "source": [
    "**Insight:**\n",
    "- xxx\n",
    "- xxx"
   ]
  },
  {
   "cell_type": "markdown",
   "metadata": {
    "id": "gp-Y6wU38DC1",
    "jp-MarkdownHeadingCollapsed": true
   },
   "source": [
    "## Exploratory Data Analysis (EDA)"
   ]
  },
  {
   "cell_type": "markdown",
   "metadata": {
    "id": "MW7WF2kr8DC1"
   },
   "source": [
    "### Explore ..."
   ]
  },
  {
   "cell_type": "code",
   "execution_count": null,
   "metadata": {
    "id": "e9CQCZjk8DC2"
   },
   "outputs": [],
   "source": []
  },
  {
   "cell_type": "markdown",
   "metadata": {
    "id": "th_Lzl2Fkj9O"
   },
   "source": [
    "**Insight:**\n",
    "- xxx\n",
    "- xxx"
   ]
  },
  {
   "cell_type": "markdown",
   "metadata": {
    "id": "zsyZjqak8DC2",
    "jp-MarkdownHeadingCollapsed": true
   },
   "source": [
    "## Visualization & Explanatory Analysis"
   ]
  },
  {
   "cell_type": "markdown",
   "metadata": {
    "id": "HZxOiQ6n8DC2"
   },
   "source": [
    "### Pertanyaan 1:"
   ]
  },
  {
   "cell_type": "code",
   "execution_count": null,
   "metadata": {
    "id": "1swJUdAD8DC2"
   },
   "outputs": [],
   "source": []
  },
  {
   "cell_type": "markdown",
   "metadata": {
    "id": "DgHI7CiU8DC2"
   },
   "source": [
    "### Pertanyaan 2:"
   ]
  },
  {
   "cell_type": "code",
   "execution_count": null,
   "metadata": {
    "id": "Go0lCsvO8DC2"
   },
   "outputs": [],
   "source": []
  },
  {
   "cell_type": "markdown",
   "metadata": {
    "id": "_0-36BDLklRg"
   },
   "source": [
    "**Insight:**\n",
    "- xxx\n",
    "- xxx"
   ]
  },
  {
   "cell_type": "markdown",
   "metadata": {
    "id": "9y4VUsmcYNZ5",
    "jp-MarkdownHeadingCollapsed": true
   },
   "source": [
    "## Analisis Lanjutan (Opsional)"
   ]
  },
  {
   "cell_type": "code",
   "execution_count": null,
   "metadata": {
    "id": "iWhnzsJGYUCO"
   },
   "outputs": [],
   "source": []
  },
  {
   "cell_type": "markdown",
   "metadata": {
    "id": "_WeHlCeX8DC2",
    "jp-MarkdownHeadingCollapsed": true
   },
   "source": [
    "## Conclusion"
   ]
  },
  {
   "cell_type": "markdown",
   "metadata": {
    "id": "ZTcyR48Y8DC2"
   },
   "source": [
    "- Conclution pertanyaan 1\n",
    "- Conclution pertanyaan 2"
   ]
  }
 ],
 "metadata": {
  "colab": {
   "provenance": []
  },
  "kernelspec": {
   "display_name": "Python 3 (ipykernel)",
   "language": "python",
   "name": "python3"
  },
  "language_info": {
   "codemirror_mode": {
    "name": "ipython",
    "version": 3
   },
   "file_extension": ".py",
   "mimetype": "text/x-python",
   "name": "python",
   "nbconvert_exporter": "python",
   "pygments_lexer": "ipython3",
   "version": "3.12.6"
  },
  "vscode": {
   "interpreter": {
    "hash": "972b3bf27e332e87b5379f2791f6ef9dfc79c71018c370b0d7423235e20fe4d7"
   }
  }
 },
 "nbformat": 4,
 "nbformat_minor": 4
}
